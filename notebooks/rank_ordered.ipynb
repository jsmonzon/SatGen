{
 "cells": [
  {
   "cell_type": "code",
   "execution_count": 1,
   "metadata": {},
   "outputs": [],
   "source": [
    "%load_ext autoreload\n",
    "%autoreload 2"
   ]
  },
  {
   "cell_type": "code",
   "execution_count": 2,
   "metadata": {},
   "outputs": [
    {
     "name": "stdout",
     "output_type": "stream",
     "text": [
      ">>> Normalizing primordial power spectrum P(k)=(k/k_0)^n_s ...\n",
      "    such that sigma(R=8Mpc/h) =   0.8000.\n",
      ">>> Tabulating sigma(M,z=0) ...\n",
      "    From now on, sigma(M,z) is computed by interpolation.\n",
      ">>> Tabulating z(W) and z(t_lkbk)...\n",
      ">>> Preparing output redshifts for merger trees ...\n",
      "    Number of output redshifts =  354, up to z = 20.06\n",
      ">>> Tabulating Parkinson+08 J(u_res) ...\n",
      ">>> Building interpolation grid for Green+19 M(<r|f_b,c)...\n",
      ">>> Building interpolation grid for Green+19 sigma(r|f_b,c)...\n",
      ">>> Building interpolation grid for Green+19 d2Phidr2(r|f_b,c)...\n",
      ">>> Building interpolator for Jiang+15 orbit sampler...\n"
     ]
    }
   ],
   "source": [
    "import numpy as np\n",
    "import scipy\n",
    "import matplotlib.pyplot as plt\n",
    "\n",
    "import matplotlib as mpl\n",
    "    \n",
    "import sys  \n",
    "sys.path.insert(0, '../src/')\n",
    "\n",
    "from astropy.table import Table\n",
    "\n",
    "from jsm_routines import SHMF, CSMF, SHMR, scatter_stat\n",
    "import galhalo\n",
    "import os"
   ]
  },
  {
   "cell_type": "code",
   "execution_count": 38,
   "metadata": {},
   "outputs": [],
   "source": [
    "as_data = np.load(\"../../data/12_4_0/numpy/acc_surv_mass.npy\")\n",
    "as_red = np.load(\"../../data/12_4_0/numpy/acc_surv_redshift.npy\")\n",
    "\n",
    "as_data[:, 0] = 0.0  # removing the host mass from the matrix\n",
    "zero_mask = as_data != 0.0 #masking the padding!\n",
    "Mh = np.log10(np.where(zero_mask, as_data, np.nan)) #switching the to nans!\n",
    "\n",
    "max_real = Mh.shape[1] - np.sum(np.isnan(Mh),axis=1) # counting the maximum # of real subhalos in all realizations\n",
    "int = min(max_real)\n",
    "Mh = Mh[:, 1:int]\n",
    "\n",
    "np.save(\"../figures/Mh_clean.npy\", Mh)"
   ]
  },
  {
   "cell_type": "code",
   "execution_count": 39,
   "metadata": {},
   "outputs": [],
   "source": [
    "Mh = np.load(\"../figures/Mh_clean.npy\")"
   ]
  },
  {
   "attachments": {},
   "cell_type": "markdown",
   "metadata": {},
   "source": [
    "### Investigating the rank ordered subhalo mass distribution"
   ]
  },
  {
   "cell_type": "code",
   "execution_count": 40,
   "metadata": {},
   "outputs": [],
   "source": [
    "def mass_rank(mass):\n",
    "\n",
    "    rank = np.flip(np.argsort(mass,axis=1), axis=1) # rank the subhalos from largest to smallest\n",
    "\n",
    "    ranked_mass = np.take_along_axis(mass, rank, axis=1) # this is it!!!\n",
    "\n",
    "    return rank, ranked_mass\n",
    "    "
   ]
  },
  {
   "cell_type": "code",
   "execution_count": 41,
   "metadata": {},
   "outputs": [],
   "source": [
    "rank, sort = mass_rank(Mh)"
   ]
  },
  {
   "cell_type": "code",
   "execution_count": 37,
   "metadata": {},
   "outputs": [
    {
     "data": {
      "text/plain": [
       "3128"
      ]
     },
     "execution_count": 37,
     "metadata": {},
     "output_type": "execute_result"
    }
   ],
   "source": [
    "np.sum(np.isnan(sort[:,0]))"
   ]
  },
  {
   "cell_type": "code",
   "execution_count": 8,
   "metadata": {},
   "outputs": [],
   "source": [
    "ave = np.nanmean(Mh, axis=0) #some standard statistics\n",
    "std = np.nanstd(Mh, axis=0)\n",
    "Nrank = ave.shape[0]"
   ]
  },
  {
   "cell_type": "code",
   "execution_count": 9,
   "metadata": {},
   "outputs": [
    {
     "data": {
      "image/png": "[encoded data removed]",
      "text/plain": [
       "<Figure size 640x480 with 1 Axes>"
      ]
     },
     "metadata": {},
     "output_type": "display_data"
    }
   ],
   "source": [
    "i = 0\n",
    "plt.title(\"rank order \"+str(i+1))\n",
    "plt.axvline(ave[i], color=\"black\")\n",
    "plt.axvline(ave[i]+std[i], ls=\":\", color=\"black\")\n",
    "plt.axvline(ave[i]-std[i], ls=\":\", color=\"black\")\n",
    "plt.hist(Mh[:,i], bins=20, edgecolor=\"white\")\n",
    "plt.xlabel(\"log subhalo mass\")\n",
    "plt.show()"
   ]
  },
  {
   "attachments": {},
   "cell_type": "markdown",
   "metadata": {},
   "source": [
    "### Now working in stellar mass"
   ]
  },
  {
   "cell_type": "code",
   "execution_count": 10,
   "metadata": {},
   "outputs": [
    {
     "name": "stderr",
     "output_type": "stream",
     "text": [
      "/var/folders/91/ygwd64w5659_623tzhx80kbc0000gn/T/ipykernel_29406/4180047193.py:1: RuntimeWarning: divide by zero encountered in log10\n",
      "  as_data_s = galhalo.lgMs_D22_det(np.log10(as_data))\n"
     ]
    }
   ],
   "source": [
    "as_data_s = galhalo.lgMs_D22_det(np.log10(as_data))\n",
    "\n",
    "rank_s, sorted = mass_rank(as_data_s)\n",
    "sorted[:, 0] = -np.inf  # removing the host mass from the matrix\n",
    "zero_mask = ~np.isinf(sorted) #masking the padding!\n",
    "Ms = np.where(zero_mask, sorted, np.nan) #switching the to nans!\n",
    "\n",
    "max_real = Ms.shape[1] - np.sum(np.isnan(Ms),axis=1) # counting the maximum # of real subhalos in all realizations\n",
    "int = max(max_real)\n",
    "Ms = Ms[:, 1:int]"
   ]
  },
  {
   "cell_type": "code",
   "execution_count": 11,
   "metadata": {},
   "outputs": [
    {
     "data": {
      "text/plain": [
       "97"
      ]
     },
     "execution_count": 11,
     "metadata": {},
     "output_type": "execute_result"
    }
   ],
   "source": [
    "np.sum(np.isnan(Ms[0,:]))"
   ]
  },
  {
   "cell_type": "code",
   "execution_count": 12,
   "metadata": {},
   "outputs": [],
   "source": [
    "det_ave = np.nanmean(Ms, axis=0) #some standard statistics\n",
    "det_std = np.nanstd(Ms, axis=0)"
   ]
  },
  {
   "cell_type": "code",
   "execution_count": 13,
   "metadata": {},
   "outputs": [
    {
     "data": {
      "image/png": "[encoded data removed]",
      "text/plain": [
       "<Figure size 640x480 with 1 Axes>"
      ]
     },
     "metadata": {},
     "output_type": "display_data"
    }
   ],
   "source": [
    "i = 0\n",
    "plt.title(\"rank order \"+str(i+1))\n",
    "plt.axvline(det_ave[i], color=\"black\")\n",
    "plt.axvline(det_ave[i]+std[i], ls=\":\", color=\"black\")\n",
    "plt.axvline(det_ave[i]-std[i], ls=\":\", color=\"black\")\n",
    "plt.hist(Ms[:,i], bins=20, edgecolor=\"white\")\n",
    "plt.xlabel(\"log subhalo mass\")\n",
    "plt.show()"
   ]
  },
  {
   "cell_type": "code",
   "execution_count": 14,
   "metadata": {},
   "outputs": [
    {
     "data": {
      "image/png": "[encoded data removed]",
      "text/plain": [
       "<Figure size 640x480 with 1 Axes>"
      ]
     },
     "metadata": {},
     "output_type": "display_data"
    }
   ],
   "source": [
    "plt.plot(rank_h[:,1], rank_s[:,1])\n",
    "plt.show()"
   ]
  },
  {
   "attachments": {},
   "cell_type": "markdown",
   "metadata": {},
   "source": [
    "### now trying an array of scatter values for several samples"
   ]
  },
  {
   "cell_type": "code",
   "execution_count": 15,
   "metadata": {},
   "outputs": [],
   "source": [
    "mat = np.load(\"../figures/4D.npy\")"
   ]
  },
  {
   "cell_type": "code",
   "execution_count": 16,
   "metadata": {},
   "outputs": [],
   "source": [
    "across_samp = np.average(mat, axis=3)"
   ]
  },
  {
   "cell_type": "code",
   "execution_count": 17,
   "metadata": {},
   "outputs": [],
   "source": [
    "example = across_samp[5]"
   ]
  },
  {
   "cell_type": "code",
   "execution_count": 18,
   "metadata": {},
   "outputs": [],
   "source": [
    "yeet, yah = mass_rank(example)"
   ]
  },
  {
   "cell_type": "code",
   "execution_count": 25,
   "metadata": {},
   "outputs": [
    {
     "data": {
      "text/plain": [
       "array([[       nan,        nan,        nan, ..., 3.09454756, 3.07600216,\n",
       "        3.07493248],\n",
       "       [       nan,        nan,        nan, ..., 3.10694562, 3.09515709,\n",
       "        3.0708616 ],\n",
       "       [       nan,        nan,        nan, ..., 3.13401177, 3.11751653,\n",
       "        3.09608146],\n",
       "       ...,\n",
       "       [       nan,        nan,        nan, ..., 3.11991697, 3.09810221,\n",
       "        3.09382571],\n",
       "       [       nan,        nan,        nan, ..., 3.08838978, 3.08249621,\n",
       "        3.08117393],\n",
       "       [       nan,        nan,        nan, ..., 3.14282045, 3.10078049,\n",
       "        3.09998348]])"
      ]
     },
     "execution_count": 25,
     "metadata": {},
     "output_type": "execute_result"
    }
   ],
   "source": [
    "np.flip(np.sort(example, axis=1))"
   ]
  },
  {
   "cell_type": "code",
   "execution_count": 26,
   "metadata": {},
   "outputs": [
    {
     "data": {
      "text/plain": [
       "array([[       nan,        nan,        nan, ..., 3.14282045, 3.10078049,\n",
       "        3.09998348],\n",
       "       [       nan,        nan,        nan, ..., 3.08838978, 3.08249621,\n",
       "        3.08117393],\n",
       "       [       nan,        nan,        nan, ..., 3.11991697, 3.09810221,\n",
       "        3.09382571],\n",
       "       ...,\n",
       "       [       nan,        nan,        nan, ..., 3.13401177, 3.11751653,\n",
       "        3.09608146],\n",
       "       [       nan,        nan,        nan, ..., 3.10694562, 3.09515709,\n",
       "        3.0708616 ],\n",
       "       [       nan,        nan,        nan, ..., 3.09454756, 3.07600216,\n",
       "        3.07493248]])"
      ]
     },
     "execution_count": 26,
     "metadata": {},
     "output_type": "execute_result"
    }
   ],
   "source": [
    "np.flip(np.sort(example, axis=1),axis=1)"
   ]
  },
  {
   "cell_type": "code",
   "execution_count": 27,
   "metadata": {},
   "outputs": [
    {
     "data": {
      "text/plain": [
       "array([[3.20510475, 4.16187379, 4.66061589, ...,        nan,        nan,\n",
       "               nan],\n",
       "       [3.08838978, 3.8952339 , 3.33167339, ...,        nan,        nan,\n",
       "               nan],\n",
       "       [4.71671337, 4.15374583, 4.21429051, ...,        nan,        nan,\n",
       "               nan],\n",
       "       ...,\n",
       "       [6.22405282, 4.39000737, 5.08412873, ...,        nan,        nan,\n",
       "               nan],\n",
       "       [3.200426  , 5.06659721, 3.97065613, ...,        nan,        nan,\n",
       "               nan],\n",
       "       [3.65412199, 3.18093293, 3.17778945, ...,        nan,        nan,\n",
       "               nan]])"
      ]
     },
     "execution_count": 27,
     "metadata": {},
     "output_type": "execute_result"
    }
   ],
   "source": [
    "example"
   ]
  },
  {
   "cell_type": "code",
   "execution_count": null,
   "metadata": {},
   "outputs": [],
   "source": []
  }
 ],
 "metadata": {
  "kernelspec": {
   "display_name": "subhalos",
   "language": "python",
   "name": "python3"
  },
  "language_info": {
   "codemirror_mode": {
    "name": "ipython",
    "version": 3
   },
   "file_extension": ".py",
   "mimetype": "text/x-python",
   "name": "python",
   "nbconvert_exporter": "python",
   "pygments_lexer": "ipython3",
   "version": "3.10.8"
  },
  "orig_nbformat": 4,
  "vscode": {
   "interpreter": {
    "hash": "7b14d2c773473ae08015faca65665db59c3dab030caf8efac6800d3a48ef96e0"
   }
  }
 },
 "nbformat": 4,
 "nbformat_minor": 2
}
