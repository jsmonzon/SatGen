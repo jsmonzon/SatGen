{
 "cells": [
  {
   "cell_type": "code",
   "execution_count": null,
   "metadata": {},
   "outputs": [],
   "source": [
    "%load_ext autoreload\n",
    "%autoreload 2"
   ]
  },
  {
   "cell_type": "code",
   "execution_count": null,
   "metadata": {},
   "outputs": [],
   "source": [
    "import numpy as np\n",
    "import sys \n",
    "sys.path.insert(0, '../src/')\n",
    "import jsm_mcmc\n",
    "import jsm_SHMR\n",
    "\n",
    "import warnings; warnings.simplefilter('ignore')"
   ]
  },
  {
   "cell_type": "markdown",
   "metadata": {},
   "source": [
    "selecting a paramtrization of the SHMR and reading in the data"
   ]
  },
  {
   "cell_type": "code",
   "execution_count": null,
   "metadata": {},
   "outputs": [],
   "source": [
    "fid_theta = [1.8, -0.2, 0.4, 10.1]\n",
    "priors = [[-5, 5],[-3, 1],[0, 5], [9,12]]\n",
    "params = [\"a_1\", \"a_2\", \"a_3\", \"a_4\"]\n",
    "ndim = len(fid_theta)"
   ]
  },
  {
   "cell_type": "code",
   "execution_count": null,
   "metadata": {},
   "outputs": [],
   "source": [
    "datadir = \"../../data/MW-analog/NvM/100/\""
   ]
  },
  {
   "cell_type": "code",
   "execution_count": null,
   "metadata": {},
   "outputs": [],
   "source": [
    "data = jsm_mcmc.test_data(fid_theta, datadir+\"jsm_MCMC.npy\", datadir+\"data.npy\")\n",
    "data.get_stats(min_mass=6.5)"
   ]
  },
  {
   "cell_type": "markdown",
   "metadata": {},
   "source": [
    "defining the foward model(s). They don't include the SAGA index selected as \"data\""
   ]
  },
  {
   "cell_type": "code",
   "execution_count": null,
   "metadata": {},
   "outputs": [],
   "source": [
    "def forward(theta):\n",
    "    models = jsm_mcmc.models(theta, jsm_SHMR.anchor, data.lgMh_models)\n",
    "    models.get_stats(min_mass=6.5)\n",
    "    return models.stat.Pnsat, models.stat.Msmax, models.stat.ecdf_MsMax"
   ]
  },
  {
   "cell_type": "markdown",
   "metadata": {},
   "source": [
    "defining the log likelyhood"
   ]
  },
  {
   "cell_type": "code",
   "execution_count": null,
   "metadata": {},
   "outputs": [],
   "source": [
    "def lnlike(theta):\n",
    "    model_Pnsat, models_Msmax, _ = forward(theta)\n",
    "    lnL_sat = jsm_mcmc.lnL_Pnsat(model_Pnsat, data.stat.satfreq)\n",
    "    lnL_max = jsm_mcmc.lnL_KS(models_Msmax, data.stat.Msmax)\n",
    "    return lnL_sat + lnL_max\n",
    "\n",
    "def lnprior(theta):\n",
    "    if priors[0][0] < theta[0] < priors[0][1] and priors[1][0] < theta[1] < priors[1][1] and priors[2][0] < theta[2] < priors[2][1]:\n",
    "        lp = 0\n",
    "    else:\n",
    "        lp = -np.inf\n",
    "    chi2_pr = ((theta[3] - 10.0) / 0.2) ** 2\n",
    "    lnLPR = -chi2_pr / 2.0\n",
    "    return lnLPR + lp\n",
    "\n",
    "def lnprob(theta):\n",
    "    lp = lnprior(theta)\n",
    "    if not np.isfinite(lp):\n",
    "        return -np.inf\n",
    "    else:\n",
    "        return lp + lnlike(theta)"
   ]
  },
  {
   "cell_type": "markdown",
   "metadata": {},
   "source": [
    "intializing the run!"
   ]
  },
  {
   "cell_type": "code",
   "execution_count": null,
   "metadata": {},
   "outputs": [],
   "source": [
    "nwalk = 100\n",
    "nsteps = 500\n",
    "ndim = len(fid_theta)\n",
    "start_theta = [1.4, -0.3, 1, 10] # a somewhat random starting place"
   ]
  },
  {
   "cell_type": "markdown",
   "metadata": {},
   "source": [
    "RUNNING!"
   ]
  },
  {
   "cell_type": "code",
   "execution_count": null,
   "metadata": {},
   "outputs": [],
   "source": [
    "mcmc_out = jsm_mcmc.RUN(start_theta, lnprob, nwalkers=nwalk, niter=nsteps, ndim=ndim, ncores=8)"
   ]
  },
  {
   "cell_type": "code",
   "execution_count": null,
   "metadata": {},
   "outputs": [],
   "source": [
    "run = jsm_mcmc.inspect_run(mcmc_out, fid_theta=data.fid_theta, labels=params, priors=priors, savedir=datadir, data=data, SHMR=jsm_SHMR.anchor, forward=forward)"
   ]
  }
 ],
 "metadata": {
  "kernelspec": {
   "display_name": "subhalos",
   "language": "python",
   "name": "python3"
  },
  "language_info": {
   "codemirror_mode": {
    "name": "ipython",
    "version": 3
   },
   "file_extension": ".py",
   "mimetype": "text/x-python",
   "name": "python",
   "nbconvert_exporter": "python",
   "pygments_lexer": "ipython3",
   "version": "3.10.9"
  },
  "orig_nbformat": 4
 },
 "nbformat": 4,
 "nbformat_minor": 2
}
