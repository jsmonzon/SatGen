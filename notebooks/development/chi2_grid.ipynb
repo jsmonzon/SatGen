{
 "cells": [
  {
   "cell_type": "code",
   "execution_count": null,
   "metadata": {},
   "outputs": [],
   "source": [
    "%load_ext autoreload\n",
    "%autoreload 2"
   ]
  },
  {
   "cell_type": "code",
   "execution_count": null,
   "metadata": {},
   "outputs": [],
   "source": [
    "import numpy as np\n",
    "import matplotlib.pyplot as plt\n",
    "import matplotlib.image as mpimg\n",
    "import warnings; warnings.simplefilter('ignore')\n",
    "import sys\n",
    "sys.path.insert(0, '/Users/jsmonzon/Research/SatGen/mcmc/src/')\n",
    "import jsm_halopull\n",
    "import jsm_SHMR\n",
    "import jsm_mcmc\n",
    "import jsm_stats\n",
    "import jsm_models"
   ]
  },
  {
   "cell_type": "code",
   "execution_count": null,
   "metadata": {},
   "outputs": [],
   "source": [
    "plt.style.use('../paper/paper.mplstyle')\n",
    "double_textwidth = 7.0 #inches\n",
    "single_textwidth = 3.5 #inches"
   ]
  },
  {
   "cell_type": "code",
   "execution_count": null,
   "metadata": {},
   "outputs": [],
   "source": [
    "# def chisquaregrid(grid_size, calc_chi2):\n",
    "#     alpha_grid = np.linspace(0,5,grid_size)\n",
    "#     sigma_grid = np.linspace(0,4,grid_size)\n",
    "\n",
    "#     alpha_arr,sigma_arr,chi2 = [],[],[]\n",
    "#     for alpha in alpha_grid:\n",
    "#         for sigma in sigma_grid:\n",
    "            \n",
    "#             c = calc_chi2(alpha,sigma)\n",
    "#             chi2.append(c)\n",
    "#             alpha_arr.append(alpha)\n",
    "#             sigma_arr.append(sigma)\n",
    "                \n",
    "#     chi2 = np.array(chi2)\n",
    "#     alpha_arr = np.array(alpha_arr)\n",
    "#     sigma_arr = np.array(sigma_arr)\n",
    "\n",
    "#     fig, ax = plt.subplots()\n",
    "#     ax.set_title(f\"minimum chisquared: {chi2.min()} \\n\"\n",
    "#           f\"best fit alpha: {alpha_arr[np.argmin(chi2)]} \\n\"\n",
    "#           f\"best fit sigma: {sigma_arr[np.argmin(chi2)]}\")\n",
    "    \n",
    "#     ax.axhline(0.2, ls=\"--\", color=\"grey\")\n",
    "#     ax.axhline(sigma_arr[np.argmin(chi2)], ls=\":\", color=\"red\")\n",
    "\n",
    "#     ax.axvline(2.0, ls=\"--\", color=\"grey\")\n",
    "#     ax.axvline(alpha_arr[np.argmin(chi2)], ls=\":\", color=\"red\")\n",
    "\n",
    "#     chi2[np.isinf(chi2)] = np.max(chi2[~np.isinf(chi2)])\n",
    "#     im = ax.scatter(alpha_arr,sigma_arr,c=chi2)\n",
    "#     cb = plt.colorbar(im,ax=ax,shrink=0.945,label = '$\\chi^2$')\n",
    "\n",
    "#     ax.set_xlabel('$\\\\alpha$')\n",
    "#     ax.set_ylabel('$\\\\sigma$')\n",
    "#     plt.show()"
   ]
  },
  {
   "cell_type": "code",
   "execution_count": null,
   "metadata": {},
   "outputs": [],
   "source": [
    "def chisquaregrid(grid_size, calc_chi2):\n",
    "    alpha_grid = np.linspace(0, 5, grid_size)\n",
    "    sigma_grid = np.linspace(0, 4, grid_size)\n",
    "    alpha_arr, sigma_arr = np.meshgrid(alpha_grid, sigma_grid, indexing='ij')\n",
    "\n",
    "    chi2 = np.vectorize(calc_chi2)(alpha_arr, sigma_arr)\n",
    "    \n",
    "    min_chi2 = chi2.min()\n",
    "    min_index = np.argmin(chi2)\n",
    "    best_alpha = alpha_arr.flatten()[min_index]\n",
    "    best_sigma = sigma_arr.flatten()[min_index]\n",
    "\n",
    "    fig, ax = plt.subplots()\n",
    "    ax.set_title(f\"minimum $\\\\chi^2$: {min_chi2:.2f}\\n\"\n",
    "                 f\"best fit alpha: {best_alpha:.2f}\\n\"\n",
    "                 f\"best fit sigma: {best_sigma:.2f}\")\n",
    "    \n",
    "    ax.axhline(0.2, ls=\"--\", color=\"grey\")\n",
    "    ax.axhline(best_sigma, ls=\":\", color=\"red\")\n",
    "\n",
    "    ax.axvline(2.0, ls=\"--\", color=\"grey\")\n",
    "    ax.axvline(best_alpha, ls=\":\", color=\"red\")\n",
    "\n",
    "    chi2[np.isinf(chi2)] = np.max(chi2[~np.isinf(chi2)])\n",
    "    im = ax.scatter(alpha_arr.flatten(), sigma_arr.flatten(), c=chi2.flatten(), cmap='viridis')\n",
    "    cb = plt.colorbar(im, ax=ax, shrink=0.945, label='$\\chi^2$')\n",
    "\n",
    "    ax.set_xlabel('$\\\\alpha$')\n",
    "    ax.set_ylabel('$\\\\sigma$')\n",
    "    plt.show()"
   ]
  },
  {
   "cell_type": "markdown",
   "metadata": {},
   "source": [
    "s15xs0"
   ]
  },
  {
   "cell_type": "code",
   "execution_count": null,
   "metadata": {},
   "outputs": [],
   "source": [
    "data = jsm_models.LOAD_DATA(\"../../mcmc/inference_tests/our_stats/s15_data/mock_1_0/mock_data.npz\")\n",
    "data.get_stats(min_mass=6.5, max_N=700)\n",
    "\n",
    "models = jsm_models.LOAD_MODELS(\"../../mcmc/inference_tests/our_stats/s15_data/mock_1_0/remaining_models.npz\")\n",
    "\n",
    "def calc_chi2(alpha, sigma):\n",
    "    models.get_stats(theta=[10.5, alpha, 0.0, 0.0, sigma, 0.0], min_mass=6.5, max_N=700, Nsigma_samples=1)\n",
    "    lnL = jsm_stats.lnL_PNsat(data, models) + jsm_stats.lnL_KS_max(data, models)\n",
    "    return -2*lnL"
   ]
  },
  {
   "cell_type": "code",
   "execution_count": null,
   "metadata": {},
   "outputs": [],
   "source": [
    "chisquaregrid(30, calc_chi2)"
   ]
  },
  {
   "cell_type": "markdown",
   "metadata": {},
   "source": [
    "s30xs15"
   ]
  },
  {
   "cell_type": "code",
   "execution_count": null,
   "metadata": {},
   "outputs": [],
   "source": [
    "data = jsm_models.LOAD_DATA(\"../../mcmc/inference_tests/our_stats/s30_data/mock_2_1/mock_data.npz\")\n",
    "data.get_stats(min_mass=6.5, max_N=700)\n",
    "\n",
    "models = jsm_models.LOAD_MODELS(\"../../mcmc/inference_tests/our_stats/s30_data/mock_2_1/remaining_models.npz\")\n",
    "\n",
    "def calc_chi2(alpha, sigma):\n",
    "    models.get_stats(theta=[10.5, alpha, 0.0, 0.0, sigma, 0.0], min_mass=6.5, max_N=700, Nsigma_samples=1)\n",
    "    lnL = jsm_stats.lnL_PNsat(data, models) + jsm_stats.lnL_KS_max(data, models)\n",
    "    return -2*lnL"
   ]
  },
  {
   "cell_type": "code",
   "execution_count": null,
   "metadata": {},
   "outputs": [],
   "source": [
    " "
   ]
  },
  {
   "cell_type": "markdown",
   "metadata": {},
   "source": [
    "s30xs0"
   ]
  },
  {
   "cell_type": "code",
   "execution_count": null,
   "metadata": {},
   "outputs": [],
   "source": [
    "data = jsm_models.LOAD_DATA(\"../../mcmc/inference_tests/our_stats/s30_data/mock_2_0/mock_data.npz\")\n",
    "data.get_stats(min_mass=6.5, max_N=700)\n",
    "\n",
    "models = jsm_models.LOAD_MODELS(\"../../mcmc/inference_tests/our_stats/s30_data/mock_2_0/remaining_models.npz\")\n",
    "\n",
    "def calc_chi2(alpha, sigma):\n",
    "    models.get_stats(theta=[10.5, alpha, 0.0, 0.0, sigma, 0.0], min_mass=6.5, max_N=700, Nsigma_samples=1)\n",
    "    lnL = jsm_stats.lnL_PNsat(data, models) + jsm_stats.lnL_KS_max(data, models)\n",
    "    return -2*lnL"
   ]
  },
  {
   "cell_type": "code",
   "execution_count": null,
   "metadata": {},
   "outputs": [],
   "source": [
    "chisquaregrid(30, calc_chi2)"
   ]
  }
 ],
 "metadata": {
  "kernelspec": {
   "display_name": "subhalos",
   "language": "python",
   "name": "python3"
  },
  "language_info": {
   "codemirror_mode": {
    "name": "ipython",
    "version": 3
   },
   "file_extension": ".py",
   "mimetype": "text/x-python",
   "name": "python",
   "nbconvert_exporter": "python",
   "pygments_lexer": "ipython3",
   "version": "3.1.-1"
  }
 },
 "nbformat": 4,
 "nbformat_minor": 2
}
