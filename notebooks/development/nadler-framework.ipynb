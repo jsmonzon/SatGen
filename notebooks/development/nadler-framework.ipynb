{
 "cells": [
  {
   "cell_type": "code",
   "execution_count": 1,
   "metadata": {},
   "outputs": [],
   "source": [
    "%load_ext autoreload\n",
    "%autoreload 2"
   ]
  },
  {
   "cell_type": "code",
   "execution_count": 2,
   "metadata": {},
   "outputs": [],
   "source": [
    "import numpy as np\n",
    "import matplotlib.pyplot as plt\n",
    "import matplotlib.image as mpimg\n",
    "import warnings; warnings.simplefilter('ignore')\n",
    "import sys\n",
    "sys.path.insert(0, '/Users/jsmonzon/Research/SatGen/mcmc/src/')\n",
    "import jsm_halopull\n",
    "import jsm_SHMR\n",
    "import jsm_mcmc\n",
    "import jsm_stats\n",
    "import jsm_models\n",
    "\n",
    "from scipy.special import gamma, loggamma, factorial"
   ]
  },
  {
   "cell_type": "markdown",
   "metadata": {},
   "source": [
    "## load in the merger trees"
   ]
  },
  {
   "cell_type": "code",
   "execution_count": null,
   "metadata": {},
   "outputs": [],
   "source": [
    "lgMh_models = np.load(\"../../../data/MW-analog/meta_data_psi4/models.npz\")[\"mass\"]\n",
    "lgMh_models.shape"
   ]
  },
  {
   "cell_type": "markdown",
   "metadata": {},
   "source": [
    "### create a single mock survey"
   ]
  },
  {
   "cell_type": "code",
   "execution_count": null,
   "metadata": {},
   "outputs": [],
   "source": [
    "theta_fid = [10.5, 2.0, 0.2, 0, 0, 0]\n",
    "lgMs_data = jsm_SHMR.general(theta_fid, lgMh_models[0], 0, 1) # just taking the first index!\n",
    "plt.scatter(lgMh_models[0][0], lgMs_data[0])\n",
    "plt.show()"
   ]
  },
  {
   "cell_type": "code",
   "execution_count": null,
   "metadata": {},
   "outputs": [],
   "source": [
    "lgMh_models = np.delete(lgMh_models, 0, axis=0)\n",
    "lgMh_models.shape # now I only have 99!"
   ]
  },
  {
   "cell_type": "code",
   "execution_count": null,
   "metadata": {},
   "outputs": [],
   "source": [
    "N_bin = 31\n",
    "nad_data = jsm_stats.SatStats_NAD_D(lgMs_data, min_mass=6.5, N_bin=N_bin)\n",
    "nad_data.plot()"
   ]
  },
  {
   "cell_type": "code",
   "execution_count": null,
   "metadata": {},
   "outputs": [],
   "source": [
    "my_data = jsm_stats.SatStats_D(lgMs_data, min_mass=6.5)\n",
    "my_data.Pnsat_plot()\n",
    "my_data.Msmax_plot()"
   ]
  },
  {
   "cell_type": "markdown",
   "metadata": {},
   "source": [
    "## lets start by wokring with \"perfect\" models\n",
    "#### $\\theta_{Model} = \\theta_{Data}$"
   ]
  },
  {
   "cell_type": "code",
   "execution_count": null,
   "metadata": {},
   "outputs": [],
   "source": [
    "lgMs_models = np.apply_along_axis(jsm_SHMR.general, 0, theta_fid, lgMh_models, 0, 1) # converting the data using the same value of theta fid!\n",
    "lgMs_models.shape"
   ]
  },
  {
   "cell_type": "code",
   "execution_count": null,
   "metadata": {},
   "outputs": [],
   "source": [
    "nad_models = jsm_stats.SatStats_NAD_M(lgMs_models, min_mass=6.5, N_bin=N_bin)\n",
    "nad_models.plot()"
   ]
  },
  {
   "cell_type": "code",
   "execution_count": null,
   "metadata": {},
   "outputs": [],
   "source": [
    "my_models = jsm_stats.SatStats_M(np.vstack(lgMs_models), min_mass=6.5)\n",
    "my_models.Pnsat_plot()\n",
    "my_models.Msmax_plot()"
   ]
  },
  {
   "cell_type": "markdown",
   "metadata": {},
   "source": [
    "#### measuring the log likelyhoods for the fiducial model (best case scenario)!"
   ]
  },
  {
   "cell_type": "code",
   "execution_count": null,
   "metadata": {},
   "outputs": [],
   "source": [
    "nadler_best, nadler_lnPs = jsm_stats.lnL_Nadler(nad_data, nad_models)\n",
    "print(nadler_best)"
   ]
  },
  {
   "cell_type": "code",
   "execution_count": null,
   "metadata": {},
   "outputs": [],
   "source": [
    "my_best = -2*jsm_stats.lnL_JSM(my_data, my_models)\n",
    "print(my_best)"
   ]
  },
  {
   "cell_type": "markdown",
   "metadata": {},
   "source": [
    "### Now we can play with $\\theta_{model}$!\n",
    "#### Lets use $\\Delta \\chi^2 = \\chi^2_i - \\chi^2_{best}$   to compare"
   ]
  },
  {
   "cell_type": "code",
   "execution_count": null,
   "metadata": {},
   "outputs": [],
   "source": [
    "def forward_nadler(theta, N_bin):\n",
    "    nad_data = jsm_stats.SatStats_NAD_D(lgMs_data, min_mass=6.5, N_bin=N_bin) # have to redefine the data with new bins!\n",
    "    lgMs_models = np.apply_along_axis(jsm_SHMR.general, 0, theta, lgMh_models, 0, 1) # converting the data using a new value of theta\n",
    "    nad_models = jsm_stats.SatStats_NAD_M(lgMs_models, min_mass=6.5, N_bin=N_bin)\n",
    "    return -2*jsm_stats.lnL_Nadler(nad_data, nad_models)"
   ]
  },
  {
   "cell_type": "code",
   "execution_count": null,
   "metadata": {},
   "outputs": [],
   "source": [
    "def forward_JSM(theta):\n",
    "    lgMs_models = np.apply_along_axis(jsm_SHMR.general, 0, theta, lgMh_models, 0, 1) # converting the data using a new value of theta\n",
    "    my_models = jsm_stats.SatStats_M(np.vstack(lgMs_models), min_mass=6.5)\n",
    "    return -2*jsm_stats.lnL_JSM(my_data, my_models)"
   ]
  },
  {
   "cell_type": "markdown",
   "metadata": {},
   "source": [
    "#### first lets test the slope ($\\alpha$)"
   ]
  },
  {
   "cell_type": "code",
   "execution_count": null,
   "metadata": {},
   "outputs": [],
   "source": [
    "steps = 50\n",
    "alphas = np.linspace(1.5, 3.5, steps)\n",
    "\n",
    "nadler_chis_alpha = []\n",
    "my_chis_alphas = []\n",
    "\n",
    "for alpha in alphas:\n",
    "    nadler_chis_alpha.append(forward_nadler([10.5, alpha, 0.2, 0, 0, 0], N_bin))\n",
    "    my_chis_alphas.append(forward_JSM([10.5, alpha, 0.2, 0, 0, 0]))"
   ]
  },
  {
   "cell_type": "code",
   "execution_count": null,
   "metadata": {},
   "outputs": [],
   "source": [
    "plt.plot(alphas, nadler_chis_alpha-nadler_best, color=\"red\",ls=\"--\", label=\"Nadler stats\")\n",
    "plt.plot(alphas, my_chis_alphas-my_best, color=\"black\", label=\"our stats\")\n",
    "plt.xlabel(\"$\\\\alpha$\", fontsize=15)\n",
    "plt.ylabel(\"$\\\\Delta \\\\chi^2$\")\n",
    "plt.xlim(alphas.min(), alphas.max())\n",
    "plt.axvline(2.0, color=\"grey\", ls=\":\", label=\"truth\")\n",
    "plt.legend()\n",
    "plt.show()"
   ]
  },
  {
   "cell_type": "markdown",
   "metadata": {},
   "source": [
    "#### first lets test the scatter ($\\sigma$)"
   ]
  },
  {
   "cell_type": "code",
   "execution_count": null,
   "metadata": {},
   "outputs": [],
   "source": [
    "sigmas = np.linspace(0.1, 1.5, steps)\n",
    "nadler_chis_sigma = []\n",
    "my_chis_sigma = []\n",
    "\n",
    "for sigma in sigmas:\n",
    "    nadler_chis_sigma.append(forward_nadler([10.5, 2.0, sigma, 0, 0, 0], N_bin))\n",
    "    my_chis_sigma.append(forward_JSM([10.5, 2.0, sigma, 0, 0, 0]))"
   ]
  },
  {
   "cell_type": "code",
   "execution_count": null,
   "metadata": {},
   "outputs": [],
   "source": [
    "plt.plot(sigmas, nadler_chis_sigma-nadler_best, color=\"red\",ls=\"--\", label=\"Nadler stats\")\n",
    "plt.plot(sigmas, my_chis_sigma-my_best, color=\"black\", label=\"our stats\")\n",
    "plt.xlabel(\"$\\\\sigma$\", fontsize=15)\n",
    "plt.ylabel(\"$\\\\Delta \\\\chi^2$\")\n",
    "plt.xlim(sigmas.min(), sigmas.max())\n",
    "plt.axvline(0.2, color=\"grey\", ls=\":\", label=\"truth\")\n",
    "plt.legend()\n",
    "plt.show()"
   ]
  },
  {
   "cell_type": "code",
   "execution_count": 3,
   "metadata": {},
   "outputs": [],
   "source": [
    "N_bin = 31\n",
    "min_mass = 6.5\n",
    "theta_fid = [10.5, 2, 0.2, 0, 0, 0]\n",
    "data = jsm_models.INIT_DATA(theta_fid, \"../../mcmc/Feature_Recovery/alpha_permutations/mock_1_test/mock_data.npy\")\n",
    "data.get_nad_stats(min_mass=min_mass, N_bin=N_bin)"
   ]
  },
  {
   "cell_type": "code",
   "execution_count": 4,
   "metadata": {},
   "outputs": [],
   "source": [
    "models = jsm_models.LOAD_MODELS(\"../../../data/MW-analog/meta_data_psi3/\", Nsamples=1)\n",
    "\n",
    "def lnlike(theta):\n",
    "    models.get_nad_stats(theta, min_mass, N_bin)\n",
    "    return jsm_stats.lnL_Nadler(data, models)"
   ]
  },
  {
   "cell_type": "code",
   "execution_count": 5,
   "metadata": {},
   "outputs": [
    {
     "data": {
      "text/plain": [
       "-86.23986201594451"
      ]
     },
     "execution_count": 5,
     "metadata": {},
     "output_type": "execute_result"
    }
   ],
   "source": [
    "lnlike(theta_fid)"
   ]
  },
  {
   "cell_type": "code",
   "execution_count": null,
   "metadata": {},
   "outputs": [],
   "source": []
  }
 ],
 "metadata": {
  "kernelspec": {
   "display_name": "subhalos",
   "language": "python",
   "name": "python3"
  },
  "language_info": {
   "codemirror_mode": {
    "name": "ipython",
    "version": 3
   },
   "file_extension": ".py",
   "mimetype": "text/x-python",
   "name": "python",
   "nbconvert_exporter": "python",
   "pygments_lexer": "ipython3",
   "version": "3.10.9"
  }
 },
 "nbformat": 4,
 "nbformat_minor": 2
}
