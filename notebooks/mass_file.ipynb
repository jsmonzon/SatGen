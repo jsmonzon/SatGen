{
 "cells": [
  {
   "cell_type": "code",
   "execution_count": 1,
   "metadata": {},
   "outputs": [],
   "source": [
    "import numpy as np\n",
    "from astropy.table import Table\n",
    "import matplotlib.pyplot as plt\n",
    "import sys \n",
    "sys.path.insert(0, '../src/')"
   ]
  },
  {
   "cell_type": "code",
   "execution_count": 2,
   "metadata": {},
   "outputs": [],
   "source": [
    "mass = np.load(\"../../data/perfect-MW-analog/acc_mass_10k.npy\")\n",
    "red = np.load(\"../../data/perfect-MW-analog/acc_redshift_10k.npy\")\n",
    "surv_mask = np.load(\"../../data/perfect-MW-analog/surv_mask_10k.npy\")"
   ]
  },
  {
   "cell_type": "code",
   "execution_count": 3,
   "metadata": {},
   "outputs": [],
   "source": [
    "surv_mass = np.ma.filled(np.ma.masked_array(mass, mask=~surv_mask),fill_value=np.nan)\n",
    "zero_mask = np.argwhere(np.isnan(surv_mass).all(axis=1)).flatten() # to fix the dead runs\n",
    "surv_mass = np.delete(surv_mass, zero_mask, axis=0)\n",
    "red = np.delete(red, zero_mask, axis=0)\n",
    "#np.save(\"../../data/perfect-MW-analog/surv_mass_10k.npy\", surv_mass)"
   ]
  },
  {
   "cell_type": "code",
   "execution_count": 4,
   "metadata": {},
   "outputs": [
    {
     "data": {
      "text/plain": [
       "(10510, 1999)"
      ]
     },
     "execution_count": 4,
     "metadata": {},
     "output_type": "execute_result"
    }
   ],
   "source": [
    "surv_mass = np.log10(surv_mass[:,1:]) # to get rid of the host halo mass\n",
    "red = red[:,1:]\n",
    "surv_mass.shape"
   ]
  },
  {
   "cell_type": "code",
   "execution_count": 5,
   "metadata": {},
   "outputs": [],
   "source": [
    "delete = surv_mass.shape[0] - 10100\n",
    "delete_spill = np.random.choice(range(surv_mass.shape[0]), delete, replace=False)\n",
    "\n",
    "surv_mass = np.delete(surv_mass, delete_spill, axis=0)\n",
    "red = np.delete(red, delete_spill, axis=0)"
   ]
  },
  {
   "cell_type": "code",
   "execution_count": 6,
   "metadata": {},
   "outputs": [],
   "source": [
    "Nsamp = 100\n",
    "Nsaga = int(surv_mass.shape[0]/Nsamp) #dividing by the number of samples to get the number of SAGA surveys"
   ]
  },
  {
   "cell_type": "code",
   "execution_count": 7,
   "metadata": {},
   "outputs": [],
   "source": [
    "SAGA_split_mass = np.split(surv_mass, Nsaga)\n",
    "SAGA_split_red = np.split(red, Nsaga)\n",
    "\n",
    "host_ids = np.arange(surv_mass.shape[0])"
   ]
  },
  {
   "cell_type": "code",
   "execution_count": 8,
   "metadata": {},
   "outputs": [],
   "source": [
    "Nsub = []\n",
    "M_acc = []\n",
    "z_acc = []\n",
    "SAGA_id = []\n",
    "tree_id = []\n",
    "sat_id = []\n",
    "\n",
    "for isaga in range(Nsaga):\n",
    "    for itree in range(Nsamp):\n",
    "        Nsub_i = np.argwhere(~np.isnan(SAGA_split_mass[isaga][itree]))[:,0]\n",
    "        for j, isat in enumerate(Nsub_i):\n",
    "            Nsub.append(len(Nsub_i))\n",
    "            SAGA_id.append(isaga)\n",
    "            tree_id.append(itree+1)\n",
    "            sat_id.append(j+1)\n",
    "            M_acc.append(SAGA_split_mass[isaga][itree][isat])\n",
    "            z_acc.append(SAGA_split_red[isaga][itree][isat])"
   ]
  },
  {
   "cell_type": "code",
   "execution_count": 10,
   "metadata": {},
   "outputs": [
    {
     "data": {
      "text/html": [
       "<div><i>Table length=2092490</i>\n",
       "<table id=\"table4976748640\" class=\"table-striped table-bordered table-condensed\">\n",
       "<thead><tr><th>sat_id</th><th>tree_id</th><th>SAGA_id</th><th>Nsub</th><th>M_acc</th><th>z_acc</th></tr></thead>\n",
       "<thead><tr><th>int64</th><th>int64</th><th>int64</th><th>int64</th><th>float64</th><th>float64</th></tr></thead>\n",
       "<tr><td>1</td><td>1</td><td>0</td><td>238</td><td>8.31288691959396</td><td>0.017398746855025325</td></tr>\n",
       "<tr><td>2</td><td>1</td><td>0</td><td>238</td><td>8.51316413193678</td><td>0.030740407989695993</td></tr>\n",
       "<tr><td>3</td><td>1</td><td>0</td><td>238</td><td>8.958255957142162</td><td>0.035245056648130636</td></tr>\n",
       "<tr><td>4</td><td>1</td><td>0</td><td>238</td><td>8.454606311168527</td><td>0.035245056648130636</td></tr>\n",
       "<tr><td>5</td><td>1</td><td>0</td><td>238</td><td>8.533706417165762</td><td>0.05355973930933444</td></tr>\n",
       "<tr><td>6</td><td>1</td><td>0</td><td>238</td><td>8.162913018984792</td><td>0.05355973930933444</td></tr>\n",
       "<tr><td>7</td><td>1</td><td>0</td><td>238</td><td>8.255860458439095</td><td>0.06289961159998311</td></tr>\n",
       "<tr><td>8</td><td>1</td><td>0</td><td>238</td><td>9.231466385304424</td><td>0.06289961159998311</td></tr>\n",
       "<tr><td>9</td><td>1</td><td>0</td><td>238</td><td>8.608039202046559</td><td>0.07236503277627311</td></tr>\n",
       "<tr><td>10</td><td>1</td><td>0</td><td>238</td><td>8.414889045218132</td><td>0.077145792751988</td></tr>\n",
       "<tr><td>...</td><td>...</td><td>...</td><td>...</td><td>...</td><td>...</td></tr>\n",
       "<tr><td>192</td><td>100</td><td>100</td><td>201</td><td>8.220272404131642</td><td>1.5658040213289794</td></tr>\n",
       "<tr><td>193</td><td>100</td><td>100</td><td>201</td><td>8.469942784367836</td><td>1.5925925169803943</td></tr>\n",
       "<tr><td>194</td><td>100</td><td>100</td><td>201</td><td>8.845226441329109</td><td>1.7666085731881502</td></tr>\n",
       "<tr><td>195</td><td>100</td><td>100</td><td>201</td><td>8.521218355539794</td><td>1.8589756741530148</td></tr>\n",
       "<tr><td>196</td><td>100</td><td>100</td><td>201</td><td>8.497606249969177</td><td>2.515162577113895</td></tr>\n",
       "<tr><td>197</td><td>100</td><td>100</td><td>201</td><td>9.187677892829358</td><td>3.0017355265780603</td></tr>\n",
       "<tr><td>198</td><td>100</td><td>100</td><td>201</td><td>8.46807114932714</td><td>4.292940549564898</td></tr>\n",
       "<tr><td>199</td><td>100</td><td>100</td><td>201</td><td>8.120434843726594</td><td>2.874291330256464</td></tr>\n",
       "<tr><td>200</td><td>100</td><td>100</td><td>201</td><td>8.411263369387562</td><td>4.3500580390005075</td></tr>\n",
       "<tr><td>201</td><td>100</td><td>100</td><td>201</td><td>8.327061897108932</td><td>3.753897868074465</td></tr>\n",
       "</table></div>"
      ],
      "text/plain": [
       "<Table length=2092490>\n",
       "sat_id tree_id SAGA_id  Nsub       M_acc              z_acc        \n",
       "int64   int64   int64  int64      float64            float64       \n",
       "------ ------- ------- ----- ----------------- --------------------\n",
       "     1       1       0   238  8.31288691959396 0.017398746855025325\n",
       "     2       1       0   238  8.51316413193678 0.030740407989695993\n",
       "     3       1       0   238 8.958255957142162 0.035245056648130636\n",
       "     4       1       0   238 8.454606311168527 0.035245056648130636\n",
       "     5       1       0   238 8.533706417165762  0.05355973930933444\n",
       "     6       1       0   238 8.162913018984792  0.05355973930933444\n",
       "     7       1       0   238 8.255860458439095  0.06289961159998311\n",
       "     8       1       0   238 9.231466385304424  0.06289961159998311\n",
       "     9       1       0   238 8.608039202046559  0.07236503277627311\n",
       "    10       1       0   238 8.414889045218132    0.077145792751988\n",
       "   ...     ...     ...   ...               ...                  ...\n",
       "   192     100     100   201 8.220272404131642   1.5658040213289794\n",
       "   193     100     100   201 8.469942784367836   1.5925925169803943\n",
       "   194     100     100   201 8.845226441329109   1.7666085731881502\n",
       "   195     100     100   201 8.521218355539794   1.8589756741530148\n",
       "   196     100     100   201 8.497606249969177    2.515162577113895\n",
       "   197     100     100   201 9.187677892829358   3.0017355265780603\n",
       "   198     100     100   201  8.46807114932714    4.292940549564898\n",
       "   199     100     100   201 8.120434843726594    2.874291330256464\n",
       "   200     100     100   201 8.411263369387562   4.3500580390005075\n",
       "   201     100     100   201 8.327061897108932    3.753897868074465"
      ]
     },
     "execution_count": 10,
     "metadata": {},
     "output_type": "execute_result"
    }
   ],
   "source": [
    "data = Table([sat_id, tree_id, SAGA_id, Nsub, M_acc, z_acc], names=(\"sat_id\", \"tree_id\", \"SAGA_id\", \"Nsub\", \"M_acc\", \"z_acc\"))\n",
    "#data.write(\"../../data/perfect-MW-analog/101_SAGA_samples.dat\")\n",
    "data"
   ]
  },
  {
   "cell_type": "code",
   "execution_count": null,
   "metadata": {},
   "outputs": [],
   "source": []
  }
 ],
 "metadata": {
  "kernelspec": {
   "display_name": "subhalos",
   "language": "python",
   "name": "python3"
  },
  "language_info": {
   "codemirror_mode": {
    "name": "ipython",
    "version": 3
   },
   "file_extension": ".py",
   "mimetype": "text/x-python",
   "name": "python",
   "nbconvert_exporter": "python",
   "pygments_lexer": "ipython3",
   "version": "3.10.9"
  },
  "orig_nbformat": 4
 },
 "nbformat": 4,
 "nbformat_minor": 2
}
