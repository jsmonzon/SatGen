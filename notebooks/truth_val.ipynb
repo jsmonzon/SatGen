{
 "cells": [
  {
   "cell_type": "code",
   "execution_count": 47,
   "metadata": {},
   "outputs": [
    {
     "name": "stdout",
     "output_type": "stream",
     "text": [
      "The autoreload extension is already loaded. To reload it, use:\n",
      "  %reload_ext autoreload\n"
     ]
    }
   ],
   "source": [
    "%load_ext autoreload\n",
    "%autoreload 2"
   ]
  },
  {
   "cell_type": "code",
   "execution_count": 48,
   "metadata": {},
   "outputs": [],
   "source": [
    "import numpy as np\n",
    "import scipy\n",
    "import matplotlib.pyplot as plt\n",
    "\n",
    "import matplotlib.cm as cm\n",
    "    \n",
    "import sys \n",
    "sys.path.insert(0, '../src/')\n",
    "\n",
    "from astropy.table import Table\n",
    "#import galhalo\n",
    "import anaclass\n",
    "import os\n",
    "import warnings; warnings.simplefilter('ignore')\n"
   ]
  },
  {
   "attachments": {},
   "cell_type": "markdown",
   "metadata": {},
   "source": [
    "### setting up the SAGA samples"
   ]
  },
  {
   "cell_type": "code",
   "execution_count": 49,
   "metadata": {},
   "outputs": [],
   "source": [
    "massmat = anaclass.MassMat(\"../../data/3000_12_8/acc_surv_mass.npy\")\n",
    "massmat.prep_data()"
   ]
  },
  {
   "cell_type": "code",
   "execution_count": 50,
   "metadata": {},
   "outputs": [],
   "source": [
    "def cumulative(lgMs_1D):\n",
    "    \"\"\"\n",
    "\n",
    "    Args:\n",
    "        Ms (numpy): 1D mass array\n",
    "        mass_bins (numpy): mass bins\n",
    "\n",
    "    Returns:\n",
    "        CSMF (numpy): counts in each bin\n",
    "    \"\"\"\n",
    "\n",
    "    mass_bins = np.linspace(4,11,45)\n",
    "\n",
    "    N = np.histogram(lgMs_1D, bins=mass_bins)[0]\n",
    "    Nsub = np.sum(N)\n",
    "    stat = Nsub-np.cumsum(N) \n",
    "    return np.insert(stat, 0, Nsub) #to add the missing index\n",
    "\n",
    "def dex_sampler(lgMs_1D, dex, N_samples):\n",
    "    \"\"\"    \n",
    "    returns the stellar mass [M_sun] plus a random sample of a lognormal distribution for a single array\n",
    "    \"\"\"\n",
    "    scatter = np.random.normal(loc=0, scale=dex, size=(N_samples, lgMs_1D.shape[0])) # the standard normal PDF\n",
    "    return lgMs_1D + scatter\n",
    "\n",
    "def SHMR(lgMh_2D, alpha=1.85, delta=0.2, sigma=0.5, N_samples=1000):\n",
    "\n",
    "    \"\"\"\n",
    "    Returns: the log stellar mass array with an added dimension corresponding to the random samples\n",
    "    \"\"\"\n",
    "\n",
    "    M_star_a = 10 # these are the anchor points\n",
    "    M_halo_a = 11.67\n",
    "\n",
    "    #print(\"not normalizing for the upscatter and assuming a 2D input array\")\n",
    "    lgMs_2D = alpha*(lgMh_2D-M_halo_a) - delta*(lgMh_2D-M_halo_a)**2 + M_star_a\n",
    "    lgMs_3D = np.apply_along_axis(dex_sampler, 1, lgMs_2D, dex=sigma, N_samples=N_samples)\n",
    "    return lgMs_3D\n",
    "\n",
    "def MODEL(data):\n",
    "    \n",
    "    #alpha, delta, sigma = theta\n",
    "\n",
    "    #lgMhs_2D = np.load(\"../../../data/3000_12_8/truth_lgMh.npy\")\n",
    "    lgMs_3D = SHMR(data) # will be a 3D array if sigma is non zero\n",
    "\n",
    "    count_mat = np.zeros(shape=(lgMs_3D.shape[1], lgMs_3D.shape[0], 45)) #shouldn't be hard coded in!\n",
    "    for i in range(lgMs_3D.shape[1]): # to measure a cumulative mass function for each random sample\n",
    "        count_mat[i] = np.apply_along_axis(cumulative, 1, lgMs_3D[:,i,:])\n",
    "\n",
    "    counts = np.average(count_mat, axis=0) # to average across all the random samples\n",
    "    quant = np.percentile(counts, np.array([5, 50, 95]), axis=0, method=\"closest_observation\") # median and scatter\n",
    "\n",
    "    S1 = quant[2, 18] - quant[0, 18] #18, 22, 26 corresponds to 6.5, 7, 7.5 Msol\n",
    "    S2 = quant[2, 22] - quant[0, 22]\n",
    "    S3 = quant[2, 26] - quant[0, 26]\n",
    "    N1 = quant[1, 18]\n",
    "    N2 = quant[1, 22]\n",
    "    N3 = quant[1, 26]\n",
    "\n",
    "    model = np.array([N1, N2, N3, S1, S2, S3])\n",
    "\n",
    "    return model"
   ]
  },
  {
   "cell_type": "code",
   "execution_count": 51,
   "metadata": {},
   "outputs": [
    {
     "name": "stdout",
     "output_type": "stream",
     "text": [
      "dividing your sample into 30 sets\n"
     ]
    }
   ],
   "source": [
    "Nsamp = 100\n",
    "Nsets = int(massmat.lgMh.shape[0]/Nsamp) #dividing by the number of samples\n",
    "set_ind = np.arange(0,Nsets)*Nsamp\n",
    "print(\"dividing your sample into\", Nsets-1, \"sets\")\n",
    "\n",
    "real_ind = np.arange(0,Nsets)*100"
   ]
  },
  {
   "cell_type": "code",
   "execution_count": 52,
   "metadata": {},
   "outputs": [],
   "source": [
    "mat = np.zeros(shape=(Nsets-1, 6))\n",
    "for i in range(Nsets-1):\n",
    "    mat[i] = MODEL(massmat.lgMh[real_ind[i]:real_ind[i+1]])"
   ]
  },
  {
   "cell_type": "code",
   "execution_count": 53,
   "metadata": {},
   "outputs": [],
   "source": [
    "sampave = np.average(mat,axis=0)\n",
    "\n",
    "sampstd = np.std(mat, axis=0)\n",
    "#C = np.cov(mat, rowvar=True)"
   ]
  },
  {
   "cell_type": "code",
   "execution_count": 54,
   "metadata": {},
   "outputs": [
    {
     "data": {
      "text/plain": [
       "<ErrorbarContainer object of 3 artists>"
      ]
     },
     "execution_count": 54,
     "metadata": {},
     "output_type": "execute_result"
    },
    {
     "data": {
      "image/png": "[encoded data removed]",
      "text/plain": [
       "<Figure size 640x480 with 1 Axes>"
      ]
     },
     "metadata": {},
     "output_type": "display_data"
    }
   ],
   "source": [
    "i,j = 4,5\n",
    "plt.scatter(mat[:,i], mat[:,j])\n",
    "plt.errorbar(sampave[i], sampave[j], xerr=sampstd[i], yerr=sampstd[j], color=\"red\", fmt=\"*\")\n"
   ]
  },
  {
   "cell_type": "code",
   "execution_count": 55,
   "metadata": {},
   "outputs": [
    {
     "name": "stdout",
     "output_type": "stream",
     "text": [
      "[5.419 2.747 1.228 5.972 4.099 3.003]\n",
      "[0.22681122 0.14130802 0.08656209 0.43580034 0.28146944 0.19810474]\n"
     ]
    }
   ],
   "source": [
    "# now for the truth values!!\n",
    "\n",
    "print(mat[5]) #taken randomly\n",
    "print(sampstd)"
   ]
  },
  {
   "cell_type": "code",
   "execution_count": 57,
   "metadata": {},
   "outputs": [],
   "source": [
    "truth_data = massmat.lgMh[real_ind[5]:real_ind[6]]"
   ]
  },
  {
   "cell_type": "code",
   "execution_count": 59,
   "metadata": {},
   "outputs": [],
   "source": [
    "np.save(\"../../data/3000_12_8/truth_lgMh.npy\",  truth_data)"
   ]
  },
  {
   "cell_type": "code",
   "execution_count": 56,
   "metadata": {},
   "outputs": [],
   "source": [
    "# plt.figure(figsize=(8, 8))\n",
    "# plt.plot(massmat.mass_bins, tmp_quant[1], color=\"black\")\n",
    "# plt.fill_between(massmat.mass_bins, y1=tmp_quant[0], y2=tmp_quant[2], color=\"grey\", alpha=0.2)\n",
    "# plt.scatter(x,10**y, color=\"red\", lw=3, label=\"fitting points\", marker=\".\")\n",
    "# plt.ylim(0.5, 10**(2.5))\n",
    "# plt.plot(xs, ys, color=\"green\", label=\"scatter\")\n",
    "# plt.plot(massmat.mass_bins, 10**(a*massmat.mass_bins + b), color=\"blue\", ls=\"--\", label=\"polyfit\")\n",
    "# plt.xlabel(\"log m$_{stellar}$ (M$_\\odot$)\", fontsize=15)\n",
    "# plt.ylabel(\"log N (> m$_{stellar}$)\", fontsize=15)\n",
    "# plt.yscale(\"log\")\n",
    "# plt.legend(fontsize=12)\n",
    "# plt.xlim(3.5,10)\n",
    "# plt.show()"
   ]
  },
  {
   "cell_type": "code",
   "execution_count": null,
   "metadata": {},
   "outputs": [],
   "source": []
  },
  {
   "cell_type": "code",
   "execution_count": null,
   "metadata": {},
   "outputs": [],
   "source": []
  }
 ],
 "metadata": {
  "kernelspec": {
   "display_name": "subhalos",
   "language": "python",
   "name": "python3"
  },
  "language_info": {
   "codemirror_mode": {
    "name": "ipython",
    "version": 3
   },
   "file_extension": ".py",
   "mimetype": "text/x-python",
   "name": "python",
   "nbconvert_exporter": "python",
   "pygments_lexer": "ipython3",
   "version": "3.10.9"
  },
  "orig_nbformat": 4
 },
 "nbformat": 4,
 "nbformat_minor": 2
}
