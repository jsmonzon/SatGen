{
 "cells": [
  {
   "cell_type": "code",
   "execution_count": 1,
   "metadata": {},
   "outputs": [],
   "source": [
    "%load_ext autoreload\n",
    "%autoreload 2"
   ]
  },
  {
   "cell_type": "code",
   "execution_count": 3,
   "metadata": {},
   "outputs": [],
   "source": [
    "import numpy as np\n",
    "from astropy.table import Table\n",
    "import matplotlib.pyplot as plt\n",
    "import matplotlib.cm as cm\n",
    "import sys \n",
    "sys.path.insert(0, '../src/')\n",
    "import jsm_halopull\n",
    "import jsm_stats\n",
    "import corner\n",
    "import pygtc"
   ]
  },
  {
   "cell_type": "code",
   "execution_count": 22,
   "metadata": {},
   "outputs": [],
   "source": [
    "mass = np.load(\"../../data/perfect-MW-analog/acc_mass_10k.npy\")\n",
    "red = np.load(\"../../data/perfect-MW-analog/acc_redshift_10k.npy\")\n",
    "surv_mask = np.load(\"../../data/perfect-MW-analog/surv_mask_10k.npy\")"
   ]
  },
  {
   "cell_type": "code",
   "execution_count": 23,
   "metadata": {},
   "outputs": [],
   "source": [
    "surv_mass = np.ma.filled(np.ma.masked_array(mass, mask=~surv_mask),fill_value=np.nan)\n",
    "zero_mask = np.argwhere(np.isnan(surv_mass).all(axis=1)).flatten() # to fix the dead runs\n",
    "surv_mass = np.delete(surv_mass, zero_mask, axis=0)\n",
    "red = np.delete(red, zero_mask, axis=0)\n",
    "#np.save(\"../../data/perfect-MW-analog/surv_mass_10k.npy\", surv_mass)"
   ]
  },
  {
   "cell_type": "code",
   "execution_count": 24,
   "metadata": {},
   "outputs": [
    {
     "data": {
      "text/plain": [
       "(10510, 1999)"
      ]
     },
     "execution_count": 24,
     "metadata": {},
     "output_type": "execute_result"
    }
   ],
   "source": [
    "surv_mass = np.log10(surv_mass[:,1:]) # to get rid of the host halo mass\n",
    "red = red[:,1:]\n",
    "surv_mass.shape"
   ]
  },
  {
   "cell_type": "code",
   "execution_count": 5,
   "metadata": {},
   "outputs": [],
   "source": [
    "delete = surv_mass.shape[0] - 10100\n",
    "delete_spill = np.random.choice(range(surv_mass.shape[0]), delete, replace=False)\n",
    "\n",
    "surv_mass = np.delete(surv_mass, delete_spill, axis=0)\n",
    "red = np.delete(red, delete_spill, axis=0)"
   ]
  },
  {
   "cell_type": "code",
   "execution_count": 6,
   "metadata": {},
   "outputs": [],
   "source": [
    "Nsamp = 100\n",
    "Nsaga = int(surv_mass.shape[0]/Nsamp) #dividing by the number of samples to get the number of SAGA surveys"
   ]
  },
  {
   "cell_type": "code",
   "execution_count": 7,
   "metadata": {},
   "outputs": [],
   "source": [
    "SAGA_split_mass = np.split(surv_mass, Nsaga)\n",
    "SAGA_split_red = np.split(red, Nsaga)\n",
    "\n",
    "host_ids = np.arange(surv_mass.shape[0])"
   ]
  },
  {
   "cell_type": "code",
   "execution_count": 8,
   "metadata": {},
   "outputs": [],
   "source": [
    "Nsub = []\n",
    "M_acc = []\n",
    "z_acc = []\n",
    "SAGA_id = []\n",
    "tree_id = []\n",
    "sat_id = []\n",
    "\n",
    "for isaga in range(Nsaga):\n",
    "    for itree in range(Nsamp):\n",
    "        Nsub_i = np.argwhere(~np.isnan(SAGA_split_mass[isaga][itree]))[:,0]\n",
    "        for j, isat in enumerate(Nsub_i):\n",
    "            Nsub.append(len(Nsub_i))\n",
    "            SAGA_id.append(isaga)\n",
    "            tree_id.append(itree+1)\n",
    "            sat_id.append(j+1)\n",
    "            M_acc.append(SAGA_split_mass[isaga][itree][isat])\n",
    "            z_acc.append(SAGA_split_red[isaga][itree][isat])"
   ]
  },
  {
   "cell_type": "code",
   "execution_count": 9,
   "metadata": {},
   "outputs": [
    {
     "data": {
      "text/html": [
       "<div><i>Table length=2090785</i>\n",
       "<table id=\"table4394508656\" class=\"table-striped table-bordered table-condensed\">\n",
       "<thead><tr><th>sat_id</th><th>tree_id</th><th>SAGA_id</th><th>Nsub</th><th>M_acc</th><th>z_acc</th></tr></thead>\n",
       "<thead><tr><th>int64</th><th>int64</th><th>int64</th><th>int64</th><th>float64</th><th>float64</th></tr></thead>\n",
       "<tr><td>1</td><td>1</td><td>0</td><td>238</td><td>8.31288691959396</td><td>0.017398746855025325</td></tr>\n",
       "<tr><td>2</td><td>1</td><td>0</td><td>238</td><td>8.51316413193678</td><td>0.030740407989695993</td></tr>\n",
       "<tr><td>3</td><td>1</td><td>0</td><td>238</td><td>8.958255957142162</td><td>0.035245056648130636</td></tr>\n",
       "<tr><td>4</td><td>1</td><td>0</td><td>238</td><td>8.454606311168527</td><td>0.035245056648130636</td></tr>\n",
       "<tr><td>5</td><td>1</td><td>0</td><td>238</td><td>8.533706417165762</td><td>0.05355973930933444</td></tr>\n",
       "<tr><td>6</td><td>1</td><td>0</td><td>238</td><td>8.162913018984792</td><td>0.05355973930933444</td></tr>\n",
       "<tr><td>7</td><td>1</td><td>0</td><td>238</td><td>8.255860458439095</td><td>0.06289961159998311</td></tr>\n",
       "<tr><td>8</td><td>1</td><td>0</td><td>238</td><td>9.231466385304424</td><td>0.06289961159998311</td></tr>\n",
       "<tr><td>9</td><td>1</td><td>0</td><td>238</td><td>8.608039202046559</td><td>0.07236503277627311</td></tr>\n",
       "<tr><td>10</td><td>1</td><td>0</td><td>238</td><td>8.414889045218132</td><td>0.077145792751988</td></tr>\n",
       "<tr><td>...</td><td>...</td><td>...</td><td>...</td><td>...</td><td>...</td></tr>\n",
       "<tr><td>192</td><td>100</td><td>100</td><td>201</td><td>8.220272404131642</td><td>1.5658040213289794</td></tr>\n",
       "<tr><td>193</td><td>100</td><td>100</td><td>201</td><td>8.469942784367836</td><td>1.5925925169803943</td></tr>\n",
       "<tr><td>194</td><td>100</td><td>100</td><td>201</td><td>8.845226441329109</td><td>1.7666085731881502</td></tr>\n",
       "<tr><td>195</td><td>100</td><td>100</td><td>201</td><td>8.521218355539794</td><td>1.8589756741530148</td></tr>\n",
       "<tr><td>196</td><td>100</td><td>100</td><td>201</td><td>8.497606249969177</td><td>2.515162577113895</td></tr>\n",
       "<tr><td>197</td><td>100</td><td>100</td><td>201</td><td>9.187677892829358</td><td>3.0017355265780603</td></tr>\n",
       "<tr><td>198</td><td>100</td><td>100</td><td>201</td><td>8.46807114932714</td><td>4.292940549564898</td></tr>\n",
       "<tr><td>199</td><td>100</td><td>100</td><td>201</td><td>8.120434843726594</td><td>2.874291330256464</td></tr>\n",
       "<tr><td>200</td><td>100</td><td>100</td><td>201</td><td>8.411263369387562</td><td>4.3500580390005075</td></tr>\n",
       "<tr><td>201</td><td>100</td><td>100</td><td>201</td><td>8.327061897108932</td><td>3.753897868074465</td></tr>\n",
       "</table></div>"
      ],
      "text/plain": [
       "<Table length=2090785>\n",
       "sat_id tree_id SAGA_id  Nsub       M_acc              z_acc        \n",
       "int64   int64   int64  int64      float64            float64       \n",
       "------ ------- ------- ----- ----------------- --------------------\n",
       "     1       1       0   238  8.31288691959396 0.017398746855025325\n",
       "     2       1       0   238  8.51316413193678 0.030740407989695993\n",
       "     3       1       0   238 8.958255957142162 0.035245056648130636\n",
       "     4       1       0   238 8.454606311168527 0.035245056648130636\n",
       "     5       1       0   238 8.533706417165762  0.05355973930933444\n",
       "     6       1       0   238 8.162913018984792  0.05355973930933444\n",
       "     7       1       0   238 8.255860458439095  0.06289961159998311\n",
       "     8       1       0   238 9.231466385304424  0.06289961159998311\n",
       "     9       1       0   238 8.608039202046559  0.07236503277627311\n",
       "    10       1       0   238 8.414889045218132    0.077145792751988\n",
       "   ...     ...     ...   ...               ...                  ...\n",
       "   192     100     100   201 8.220272404131642   1.5658040213289794\n",
       "   193     100     100   201 8.469942784367836   1.5925925169803943\n",
       "   194     100     100   201 8.845226441329109   1.7666085731881502\n",
       "   195     100     100   201 8.521218355539794   1.8589756741530148\n",
       "   196     100     100   201 8.497606249969177    2.515162577113895\n",
       "   197     100     100   201 9.187677892829358   3.0017355265780603\n",
       "   198     100     100   201  8.46807114932714    4.292940549564898\n",
       "   199     100     100   201 8.120434843726594    2.874291330256464\n",
       "   200     100     100   201 8.411263369387562   4.3500580390005075\n",
       "   201     100     100   201 8.327061897108932    3.753897868074465"
      ]
     },
     "execution_count": 9,
     "metadata": {},
     "output_type": "execute_result"
    }
   ],
   "source": [
    "data = Table([sat_id, tree_id, SAGA_id, Nsub, M_acc, z_acc], names=(\"sat_id\", \"tree_id\", \"SAGA_id\", \"Nsub\", \"M_acc\", \"z_acc\"))\n",
    "#data.write(\"../../data/perfect-MW-analog/101_SAGA_samples.dat\")\n",
    "data"
   ]
  },
  {
   "cell_type": "code",
   "execution_count": 10,
   "metadata": {},
   "outputs": [],
   "source": [
    "def plot_single_realization(file, nhalo=100):\n",
    "\n",
    "    tree = np.load(file)\n",
    "\n",
    "    mass = tree[\"mass\"]\n",
    "    time = tree[\"CosmicTime\"]\n",
    "\n",
    "    colors = cm.viridis(np.linspace(0, 1, nhalo))\n",
    "\n",
    "    plt.figure(figsize=(6,6))\n",
    "\n",
    "    for i in range(nhalo):\n",
    "        plt.plot(time, mass[i+100], color=colors[i])\n",
    "\n",
    "    plt.plot(time, mass[0], color=\"red\")\n",
    "    plt.xlabel(\"Gyr\", fontsize=15)\n",
    "    plt.ylabel(\"halo mass (M$_{\\odot}$)\", fontsize=15)\n",
    "    plt.yscale(\"log\")\n",
    "    plt.axhline(10**8, ls=\"--\", color=\"black\")\n",
    "    #plt.ylim(1e6,1e14)\n",
    "    plt.show()"
   ]
  },
  {
   "cell_type": "code",
   "execution_count": 12,
   "metadata": {},
   "outputs": [],
   "source": [
    "#plot_single_realization(\"../../data/test_evo/tree_2257_evo.npz\")"
   ]
  },
  {
   "cell_type": "code",
   "execution_count": null,
   "metadata": {},
   "outputs": [],
   "source": [
    "# jsm_serial.evolve(\"../../data/test_evo/mass_res/\", evo_mode=\"arbres\")"
   ]
  },
  {
   "cell_type": "code",
   "execution_count": 13,
   "metadata": {},
   "outputs": [
    {
     "name": "stdout",
     "output_type": "stream",
     "text": [
      "number of realizations: 5\n",
      "number of branches/subhalos: 1600\n"
     ]
    },
    {
     "data": {
      "text/plain": [
       "['../../data/test_evo/mass_res/tree_og_2257_evo.npz',\n",
       " '../../data/test_evo/mass_res/tree_arbres2_2257_evo.npz',\n",
       " '../../data/test_evo/mass_res/tree_arbres0_2257_evo.npz',\n",
       " '../../data/test_evo/mass_res/tree_arbres1_2257_evo.npz',\n",
       " '../../data/test_evo/mass_res/tree_arbres3_2257evo.npz']"
      ]
     },
     "execution_count": 13,
     "metadata": {},
     "output_type": "execute_result"
    }
   ],
   "source": [
    "well = jsm_halopull.Realizations(\"../../data/test_evo/mass_res/\", 1e8)\n",
    "well.grab_mass()\n",
    "\n",
    "well.files"
   ]
  },
  {
   "cell_type": "code",
   "execution_count": 14,
   "metadata": {},
   "outputs": [],
   "source": [
    "mass = np.load(\"../../data/test_evo/mass_res/acc_mass.npy\")\n",
    "red = np.load(\"../../data/test_evo/mass_res/acc_redshift.npy\")\n",
    "surv_mask = np.load(\"../../data/test_evo/mass_res/surv_mask.npy\")"
   ]
  },
  {
   "cell_type": "code",
   "execution_count": 15,
   "metadata": {},
   "outputs": [],
   "source": [
    "surv_mass = np.ma.filled(np.ma.masked_array(mass, mask=~surv_mask),fill_value=np.nan)\n",
    "zero_mask = np.argwhere(np.isnan(surv_mass).all(axis=1)).flatten() # to fix the dead runs\n",
    "surv_mass = np.delete(surv_mass, zero_mask, axis=0)\n",
    "red = np.delete(red, zero_mask, axis=0)"
   ]
  },
  {
   "cell_type": "code",
   "execution_count": 16,
   "metadata": {},
   "outputs": [
    {
     "data": {
      "text/plain": [
       "array([189, 188, 185, 181, 190])"
      ]
     },
     "execution_count": 16,
     "metadata": {},
     "output_type": "execute_result"
    }
   ],
   "source": [
    "np.sum(~np.isnan(surv_mass),axis=1)"
   ]
  },
  {
   "cell_type": "code",
   "execution_count": 17,
   "metadata": {},
   "outputs": [
    {
     "data": {
      "text/html": [
       "<div><i>Table length=572</i>\n",
       "<table id=\"table4398823888\" class=\"table-striped table-bordered table-condensed\">\n",
       "<thead><tr><th>col1</th><th>col2</th><th>col3</th><th>col4</th><th>col5</th></tr></thead>\n",
       "<thead><tr><th>int64</th><th>int64</th><th>float64</th><th>float64</th><th>float64</th></tr></thead>\n",
       "<tr><td>1</td><td>15</td><td>21784047600.0</td><td>0.196973443</td><td>6.66914654</td></tr>\n",
       "<tr><td>1</td><td>45</td><td>18793547800.0</td><td>0.525610685</td><td>6.62395763</td></tr>\n",
       "<tr><td>1</td><td>61</td><td>12695452700.0</td><td>0.678429186</td><td>7.18635273</td></tr>\n",
       "<tr><td>1</td><td>140</td><td>7825305090.0</td><td>2.05244875</td><td>6.63559484</td></tr>\n",
       "<tr><td>2</td><td>11</td><td>7410935810.0</td><td>0.0868052915</td><td>6.62853861</td></tr>\n",
       "<tr><td>2</td><td>59</td><td>21560848400.0</td><td>0.617736042</td><td>7.28419352</td></tr>\n",
       "<tr><td>2</td><td>78</td><td>22148366300.0</td><td>0.933082521</td><td>8.67235088</td></tr>\n",
       "<tr><td>3</td><td>3</td><td>440961434000.0</td><td>0.0262646861</td><td>9.5215807</td></tr>\n",
       "<tr><td>3</td><td>15</td><td>62666743800.0</td><td>0.237746909</td><td>7.3316803</td></tr>\n",
       "<tr><td>3</td><td>26</td><td>10545738800.0</td><td>0.419810057</td><td>6.55945683</td></tr>\n",
       "<tr><td>...</td><td>...</td><td>...</td><td>...</td><td>...</td></tr>\n",
       "<tr><td>99</td><td>104</td><td>14666082300.0</td><td>0.961645722</td><td>6.92536306</td></tr>\n",
       "<tr><td>99</td><td>112</td><td>23935295500.0</td><td>1.00623417</td><td>7.2201395</td></tr>\n",
       "<tr><td>99</td><td>115</td><td>21142214700.0</td><td>1.05307508</td><td>7.2133894</td></tr>\n",
       "<tr><td>99</td><td>130</td><td>18036891600.0</td><td>1.28754401</td><td>6.99757814</td></tr>\n",
       "<tr><td>99</td><td>155</td><td>13228409900.0</td><td>1.64817309</td><td>6.64659643</td></tr>\n",
       "<tr><td>99</td><td>157</td><td>27385520100.0</td><td>1.70658076</td><td>7.19894266</td></tr>\n",
       "<tr><td>100</td><td>14</td><td>13622126600.0</td><td>0.101545662</td><td>7.1128912</td></tr>\n",
       "<tr><td>100</td><td>47</td><td>6780886020.0</td><td>0.442993253</td><td>6.90495825</td></tr>\n",
       "<tr><td>100</td><td>73</td><td>64611012600.0</td><td>0.814732015</td><td>7.58623838</td></tr>\n",
       "<tr><td>100</td><td>147</td><td>14252861400.0</td><td>2.55341578</td><td>6.62959433</td></tr>\n",
       "</table></div>"
      ],
      "text/plain": [
       "<Table length=572>\n",
       " col1  col2      col3          col4        col5   \n",
       "int64 int64    float64       float64     float64  \n",
       "----- ----- -------------- ------------ ----------\n",
       "    1    15  21784047600.0  0.196973443 6.66914654\n",
       "    1    45  18793547800.0  0.525610685 6.62395763\n",
       "    1    61  12695452700.0  0.678429186 7.18635273\n",
       "    1   140   7825305090.0   2.05244875 6.63559484\n",
       "    2    11   7410935810.0 0.0868052915 6.62853861\n",
       "    2    59  21560848400.0  0.617736042 7.28419352\n",
       "    2    78  22148366300.0  0.933082521 8.67235088\n",
       "    3     3 440961434000.0 0.0262646861  9.5215807\n",
       "    3    15  62666743800.0  0.237746909  7.3316803\n",
       "    3    26  10545738800.0  0.419810057 6.55945683\n",
       "  ...   ...            ...          ...        ...\n",
       "   99   104  14666082300.0  0.961645722 6.92536306\n",
       "   99   112  23935295500.0   1.00623417  7.2201395\n",
       "   99   115  21142214700.0   1.05307508  7.2133894\n",
       "   99   130  18036891600.0   1.28754401 6.99757814\n",
       "   99   155  13228409900.0   1.64817309 6.64659643\n",
       "   99   157  27385520100.0   1.70658076 7.19894266\n",
       "  100    14  13622126600.0  0.101545662  7.1128912\n",
       "  100    47   6780886020.0  0.442993253 6.90495825\n",
       "  100    73  64611012600.0  0.814732015 7.58623838\n",
       "  100   147  14252861400.0   2.55341578 6.62959433"
      ]
     },
     "execution_count": 17,
     "metadata": {},
     "output_type": "execute_result"
    }
   ],
   "source": [
    "wow = Table.read(\"../../../Downloads/Raw_Data.dat\", format=\"ascii\")\n",
    "wow"
   ]
  },
  {
   "cell_type": "code",
   "execution_count": 18,
   "metadata": {},
   "outputs": [
    {
     "data": {
      "text/plain": [
       "<matplotlib.collections.PathCollection at 0x15e26b310>"
      ]
     },
     "execution_count": 18,
     "metadata": {},
     "output_type": "execute_result"
    },
    {
     "data": {
      "image/png": "[encoded data removed]",
      "text/plain": [
       "<Figure size 640x480 with 1 Axes>"
      ]
     },
     "metadata": {},
     "output_type": "display_data"
    }
   ],
   "source": [
    "plt.scatter(np.log10(wow[\"col3\"]), wow[\"col5\"])"
   ]
  },
  {
   "cell_type": "code",
   "execution_count": 19,
   "metadata": {},
   "outputs": [],
   "source": [
    "trees, counts = np.unique(wow[\"col1\"].value, return_counts=True)\n",
    "\n",
    "lists = []\n",
    "for i in range(100):\n",
    "    index = np.where(wow[\"col1\"] == trees[i])[0]\n",
    "    lists.append(index)\n",
    "\n",
    "lgMhs = []\n",
    "lgMss = []\n",
    "for i in lists:\n",
    "    lgMhs.append(np.log10(wow[\"col3\"][i].value))\n",
    "    lgMss.append(wow[\"col5\"][i].value)"
   ]
  },
  {
   "cell_type": "code",
   "execution_count": 20,
   "metadata": {},
   "outputs": [],
   "source": [
    "from itertools import islice, repeat, chain\n",
    "\n",
    "\n",
    "def pad(x):\n",
    "    zeros = repeat(0)\n",
    "    n = max(map(len, x))\n",
    "    return [list(islice(chain(row, zeros), n)) for row in x]"
   ]
  },
  {
   "cell_type": "code",
   "execution_count": 21,
   "metadata": {},
   "outputs": [],
   "source": [
    "lgMh = np.array(pad(lgMhs))\n",
    "lgMs = np.array(pad(lgMss))\n",
    "np.save(\"../../data/MCMC/SAGA_0_lgMh.npy\", lgMh)\n",
    "np.save(\"../../data/MCMC/SAGA_0_lgMs.npy\", lgMs)"
   ]
  },
  {
   "cell_type": "code",
   "execution_count": 22,
   "metadata": {},
   "outputs": [
    {
     "data": {
      "image/png": "[encoded data removed]",
      "text/plain": [
       "<Figure size 640x480 with 1 Axes>"
      ]
     },
     "metadata": {},
     "output_type": "display_data"
    },
    {
     "data": {
      "image/png": "[encoded data removed]",
      "text/plain": [
       "<Figure size 640x480 with 1 Axes>"
      ]
     },
     "metadata": {},
     "output_type": "display_data"
    }
   ],
   "source": [
    "hmm = jsm_stats.SatStats(lgMs)\n",
    "hmm.Nsat(6.5, plot=True)\n",
    "hmm.Maxmass(plot=True)"
   ]
  },
  {
   "cell_type": "code",
   "execution_count": 25,
   "metadata": {},
   "outputs": [],
   "source": [
    "final_step = Table.read(\"../../../Downloads/MCMC_step_1000.dat\", format=\"ascii\")\n",
    "alphas = final_step[\"col1\"].data\n",
    "deltas = final_step[\"col2\"].data\n",
    "sigmas = final_step[\"col3\"].data\n",
    "\n",
    "last_sample_F = np.array([alphas, deltas, sigmas]).T\n",
    "last_sample_F"
   ]
  },
  {
   "cell_type": "code",
   "execution_count": 33,
   "metadata": {},
   "outputs": [],
   "source": [
    "samples = np.load(\"../../data/MCMC/sampler_results_sep17.npy\")\n",
    "last_sample = samples[-1,:,:]\n",
    "fig = corner.corner(last_sample_F, show_titles=True, quantiles=[0.16, 0.5, 0.84], plot_contours=False, range=[(0, 5), (-2, 2), (0, 3)])\n",
    "fig = corner.corner(last_sample, show_titles=True, quantiles=[0.16, 0.5, 0.84], plot_contours=False)\n",
    "figure = corner.corner(last_sample_F, plot_contours=False, range=[(0, 5), (-2, 2), (0, 3)])\n",
    "corner.corner(last_sample, fig=figure, color='red', plot_contours=False, range=[(0, 5), (-2, 2), (0, 3)])\n",
    "plt.show()\n",
    "\n",
    "names = ['alpha', 'delta', 'sigma']\n",
    "\n",
    "# Labels for the different chains\n",
    "chainLabels = [\"JSM results\", \"F vdB results\"]\n",
    "\n",
    "# List of Gaussian curves to plot\n",
    "#(to represent priors): mean, width\n",
    "# Empty () or None if no prior to plot\n",
    "priors = ((1, 3), (-2, 1), (0, 3))\n",
    "\n",
    "truths = [1.9, -0.2, 0.6]\n",
    "\n",
    "GTC = pygtc.plotGTC(chains=[last_sample,last_sample_F], \n",
    "                    paramNames=names,\n",
    "                    chainLabels=chainLabels,\n",
    "                    truths=truths,\n",
    "                    figureSize=8,\n",
    "                    filledPlots=True)\n",
    "\n"
   ]
  },
  {
   "cell_type": "markdown",
   "metadata": {},
   "source": []
  }
 ],
 "metadata": {
  "kernelspec": {
   "display_name": "subhalos",
   "language": "python",
   "name": "python3"
  },
  "language_info": {
   "codemirror_mode": {
    "name": "ipython",
    "version": 3
   },
   "file_extension": ".py",
   "mimetype": "text/x-python",
   "name": "python",
   "nbconvert_exporter": "python",
   "pygments_lexer": "ipython3",
   "version": "3.10.9"
  },
  "orig_nbformat": 4
 },
 "nbformat": 4,
 "nbformat_minor": 2
}
