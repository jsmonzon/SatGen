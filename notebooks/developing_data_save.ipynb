{
 "cells": [
  {
   "cell_type": "code",
   "execution_count": 1,
   "id": "1894c350",
   "metadata": {
    "scrolled": true
   },
   "outputs": [],
   "source": [
    "import numpy as np\n",
    "import scipy\n",
    "import matplotlib.pyplot as plt\n",
    "\n",
    "import matplotlib.cm as cm\n",
    "    \n",
    "import sys  \n",
    "sys.path.insert(0, '../src/')\n",
    "\n",
    "from astropy.table import Table\n",
    "\n",
    "from jsm_routines import accretion_mass, surviving_mass, accretion_surviving_mass, SHMF\n",
    "import os"
   ]
  },
  {
   "cell_type": "code",
<<<<<<< HEAD
   "execution_count": 2,
   "id": "3f0a64fe",
=======
   "execution_count": 14,
   "id": "1a594d21",
>>>>>>> 67b9834aaa77e140cc75a3b6e5dd5b3b53e55cd2
   "metadata": {
    "scrolled": true
   },
   "outputs": [],
   "source": [
    "file = \"../data_test/12_5_0/tree_2.npz\""
   ]
  },
  {
   "cell_type": "code",
<<<<<<< HEAD
   "execution_count": 3,
   "id": "66031b1b",
=======
   "execution_count": 15,
   "id": "28aacb94",
>>>>>>> 67b9834aaa77e140cc75a3b6e5dd5b3b53e55cd2
   "metadata": {},
   "outputs": [],
   "source": [
    "numpy_test = np.load(file)"
   ]
  },
  {
   "cell_type": "code",
<<<<<<< HEAD
   "execution_count": 4,
   "id": "de06fc92",
=======
   "execution_count": 16,
   "id": "2ac109ef",
>>>>>>> 67b9834aaa77e140cc75a3b6e5dd5b3b53e55cd2
   "metadata": {},
   "outputs": [
    {
     "data": {
      "text/plain": [
       "(14024, 354)"
      ]
     },
     "execution_count": 16,
     "metadata": {},
     "output_type": "execute_result"
    }
   ],
   "source": [
    "numpy_test[\"mass\"].shape"
   ]
  },
  {
   "cell_type": "code",
   "execution_count": 20,
   "id": "af53cf33",
   "metadata": {},
   "outputs": [],
   "source": [
    "fiel = \"tree_2123.npz\""
   ]
  },
  {
   "cell_type": "code",
   "execution_count": 21,
   "id": "4f954307",
   "metadata": {},
   "outputs": [
    {
     "data": {
      "text/plain": [
       "'tree_2123'"
      ]
     },
     "execution_count": 21,
     "metadata": {},
     "output_type": "execute_result"
    }
   ],
   "source": [
    "fiel[0:-4]"
   ]
  },
  {
   "cell_type": "code",
   "execution_count": 5,
<<<<<<< HEAD
   "id": "8248f198",
=======
   "id": "23aa517d",
>>>>>>> 67b9834aaa77e140cc75a3b6e5dd5b3b53e55cd2
   "metadata": {},
   "outputs": [],
   "source": [
    "Nreal = 1\n",
    "Nhalo = 1700\n",
    "\n",
    "acc_mass = np.zeros(shape=(Nreal, Nhalo))\n",
    "\n",
    "acc_redshift = np.zeros(shape=(Nreal, Nhalo))"
   ]
  },
  {
   "cell_type": "code",
   "execution_count": 6,
<<<<<<< HEAD
   "id": "43057766",
=======
   "id": "b4407b99",
>>>>>>> 67b9834aaa77e140cc75a3b6e5dd5b3b53e55cd2
   "metadata": {},
   "outputs": [
    {
     "name": "stdout",
     "output_type": "stream",
     "text": [
      "1610\n"
     ]
    }
   ],
   "source": [
    "mass_clean, red_clean = accretion_mass(file)\n",
    "\n",
    "print(len(mass_clean))\n",
    "\n",
    "mass = np.pad(mass_clean, (0,Nhalo-len(mass_clean)), mode=\"constant\", constant_values=0)\n",
    "\n",
    "red = np.pad(red_clean, (0,Nhalo-len(red_clean)), mode=\"constant\", constant_values=np.nan)\n",
    "\n",
    "acc_mass[0,:] = mass\n",
    "\n",
    "acc_redshift[0,:] = red"
   ]
  },
  {
   "cell_type": "code",
   "execution_count": null,
<<<<<<< HEAD
   "id": "e19a196b",
=======
   "id": "6a1ce026",
>>>>>>> 67b9834aaa77e140cc75a3b6e5dd5b3b53e55cd2
   "metadata": {},
   "outputs": [],
   "source": [
    "mass_clean, red_clean = accretion_mass(file, plot_evo=True)"
   ]
  },
  {
   "cell_type": "markdown",
<<<<<<< HEAD
   "id": "7a46859c",
=======
   "id": "a589983c",
>>>>>>> 67b9834aaa77e140cc75a3b6e5dd5b3b53e55cd2
   "metadata": {},
   "source": [
    "### unevolved"
   ]
  },
  {
   "cell_type": "code",
   "execution_count": null,
<<<<<<< HEAD
   "id": "c7f44390",
=======
   "id": "1b2c74dc",
>>>>>>> 67b9834aaa77e140cc75a3b6e5dd5b3b53e55cd2
   "metadata": {
    "scrolled": true
   },
   "outputs": [],
   "source": [
    "datadir = \"../../prelim/output_tree/\""
   ]
  },
  {
   "cell_type": "code",
   "execution_count": null,
<<<<<<< HEAD
   "id": "9d1cf094",
=======
   "id": "ff9fe82e",
>>>>>>> 67b9834aaa77e140cc75a3b6e5dd5b3b53e55cd2
   "metadata": {},
   "outputs": [],
   "source": []
  },
  {
   "cell_type": "code",
   "execution_count": null,
<<<<<<< HEAD
   "id": "22acea07",
=======
   "id": "50fc6447",
>>>>>>> 67b9834aaa77e140cc75a3b6e5dd5b3b53e55cd2
   "metadata": {
    "scrolled": true
   },
   "outputs": [],
   "source": [
    "Nreal = len([entry for entry in os.listdir(datadir)])\n",
    "Nhalo = 200\n",
    "\n",
    "acc_mass = np.zeros(shape=(Nreal, Nhalo))\n",
    "\n",
    "acc_redshift = np.zeros(shape=(Nreal, Nhalo))"
   ]
  },
  {
   "cell_type": "code",
   "execution_count": null,
<<<<<<< HEAD
   "id": "180aeb31",
=======
   "id": "e8f22e35",
>>>>>>> 67b9834aaa77e140cc75a3b6e5dd5b3b53e55cd2
   "metadata": {
    "scrolled": false
   },
   "outputs": [],
   "source": [
    "for i,filename in enumerate(os.listdir(datadir)):\n",
    "        \n",
    "    file = os.path.join(datadir, filename)\n",
    "        \n",
    "    mass_clean, red_clean = accretion_mass(file)\n",
    "    \n",
    "    mass = np.pad(mass_clean, (0,Nhalo-len(mass_clean)), mode=\"constant\", constant_values=0)\n",
    "    \n",
    "    red = np.pad(red_clean, (0,Nhalo-len(red_clean)), mode=\"constant\", constant_values=np.nan)\n",
    "    \n",
    "    acc_mass[i,:] = mass\n",
    "    \n",
    "    acc_redshift[i,:] = red"
   ]
  },
  {
   "cell_type": "code",
   "execution_count": null,
<<<<<<< HEAD
   "id": "472422b0",
=======
   "id": "97edb4c3",
>>>>>>> 67b9834aaa77e140cc75a3b6e5dd5b3b53e55cd2
   "metadata": {
    "scrolled": true
   },
   "outputs": [],
   "source": [
    "SHMF(acc_mass, acc_redshift)"
   ]
  },
  {
   "cell_type": "markdown",
<<<<<<< HEAD
   "id": "62534cdd",
=======
   "id": "7e89bc0e",
>>>>>>> 67b9834aaa77e140cc75a3b6e5dd5b3b53e55cd2
   "metadata": {},
   "source": [
    "### surviving"
   ]
  },
  {
   "cell_type": "code",
   "execution_count": null,
<<<<<<< HEAD
   "id": "6a6bf3cc",
=======
   "id": "7eb3d0b8",
>>>>>>> 67b9834aaa77e140cc75a3b6e5dd5b3b53e55cd2
   "metadata": {
    "scrolled": true
   },
   "outputs": [],
   "source": [
    "datadir = \"../../prelim/output_evolve/\""
   ]
  },
  {
   "cell_type": "code",
   "execution_count": null,
<<<<<<< HEAD
   "id": "ef892e83",
=======
   "id": "9caa071a",
>>>>>>> 67b9834aaa77e140cc75a3b6e5dd5b3b53e55cd2
   "metadata": {
    "scrolled": true
   },
   "outputs": [],
   "source": [
    "Nreal = len([entry for entry in os.listdir(datadir)])\n",
    "Nhalo = 200\n",
    "\n",
    "surv_mass = np.zeros(shape=(Nreal, Nhalo))\n",
    "\n",
    "surv_redshift = np.zeros(shape=(Nreal, Nhalo))"
   ]
  },
  {
   "cell_type": "code",
   "execution_count": null,
<<<<<<< HEAD
   "id": "7650fed2",
=======
   "id": "2ede286c",
>>>>>>> 67b9834aaa77e140cc75a3b6e5dd5b3b53e55cd2
   "metadata": {
    "scrolled": false
   },
   "outputs": [],
   "source": [
    "for i,filename in enumerate(os.listdir(datadir)):\n",
    "        \n",
    "    file = os.path.join(datadir, filename)\n",
    "        \n",
    "    mass_clean = surviving_mass(file, 10**9)\n",
    "    \n",
    "    mass = np.pad(mass_clean, (0,Nhalo-len(mass_clean)), mode=\"constant\", constant_values=0)\n",
    "        \n",
    "    surv_mass[i,:] = mass"
   ]
  },
  {
   "cell_type": "code",
   "execution_count": null,
<<<<<<< HEAD
   "id": "88c0b05a",
=======
   "id": "ec657a30",
>>>>>>> 67b9834aaa77e140cc75a3b6e5dd5b3b53e55cd2
   "metadata": {},
   "outputs": [],
   "source": [
    "SHMF(surv_mass, 0)"
   ]
  },
  {
   "cell_type": "markdown",
<<<<<<< HEAD
   "id": "9bce20e7",
=======
   "id": "731d1230",
>>>>>>> 67b9834aaa77e140cc75a3b6e5dd5b3b53e55cd2
   "metadata": {},
   "source": [
    "### accreation mass of surviving"
   ]
  },
  {
   "cell_type": "code",
   "execution_count": null,
<<<<<<< HEAD
   "id": "f8bc14e5",
=======
   "id": "a057a0ac",
>>>>>>> 67b9834aaa77e140cc75a3b6e5dd5b3b53e55cd2
   "metadata": {},
   "outputs": [],
   "source": [
    "Nreal = len([entry for entry in os.listdir(datadir)])\n",
    "Nhalo = 200\n",
    "\n",
    "surv_acc_mass = np.zeros(shape=(Nreal, Nhalo))\n",
    "\n",
    "surv_acc_redshift = np.zeros(shape=(Nreal, Nhalo))"
   ]
  },
  {
   "cell_type": "code",
   "execution_count": null,
<<<<<<< HEAD
   "id": "f2f7e038",
=======
   "id": "b1a980d2",
>>>>>>> 67b9834aaa77e140cc75a3b6e5dd5b3b53e55cd2
   "metadata": {},
   "outputs": [],
   "source": [
    "for i,filename in enumerate(os.listdir(datadir)):\n",
    "        \n",
    "    file = os.path.join(datadir, filename)\n",
    "        \n",
    "    mass_clean, red_clean = accretion_mass_surv(file, 10**9)\n",
    "    \n",
    "    mass = np.pad(mass_clean, (0,Nhalo-len(mass_clean)), mode=\"constant\", constant_values=0)\n",
    "    \n",
    "    red = np.pad(red_clean, (0,Nhalo-len(red_clean)), mode=\"constant\", constant_values=np.nan)\n",
    "    \n",
    "    surv_acc_mass[i,:] = mass\n",
    "    \n",
    "    surv_acc_redshift[i,:] = red"
   ]
  },
  {
   "cell_type": "code",
   "execution_count": null,
<<<<<<< HEAD
   "id": "b3cc664a",
=======
   "id": "9174e210",
>>>>>>> 67b9834aaa77e140cc75a3b6e5dd5b3b53e55cd2
   "metadata": {},
   "outputs": [],
   "source": [
    "SHMF(surv_acc_mass, 0)"
   ]
  },
  {
   "cell_type": "code",
   "execution_count": null,
<<<<<<< HEAD
   "id": "126e0fc4",
=======
   "id": "2b4c4d41",
>>>>>>> 67b9834aaa77e140cc75a3b6e5dd5b3b53e55cd2
   "metadata": {},
   "outputs": [],
   "source": []
  }
 ],
 "metadata": {
  "kernelspec": {
   "display_name": "Python 3 (ipykernel)",
   "language": "python",
   "name": "python3"
  },
  "language_info": {
   "codemirror_mode": {
    "name": "ipython",
    "version": 3
   },
   "file_extension": ".py",
   "mimetype": "text/x-python",
   "name": "python",
   "nbconvert_exporter": "python",
   "pygments_lexer": "ipython3",
<<<<<<< HEAD
   "version": "3.9.12"
=======
   "version": "3.10.8"
>>>>>>> 67b9834aaa77e140cc75a3b6e5dd5b3b53e55cd2
  }
 },
 "nbformat": 4,
 "nbformat_minor": 5
}
