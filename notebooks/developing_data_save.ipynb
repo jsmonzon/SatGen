{
 "cells": [
  {
   "cell_type": "code",
   "execution_count": 1,
   "id": "b2d364bd",
   "metadata": {
    "scrolled": true
   },
   "outputs": [
    {
     "name": "stdout",
     "output_type": "stream",
     "text": [
      ">>> Normalizing primordial power spectrum P(k)=(k/k_0)^n_s ...\n",
      "    such that sigma(R=8Mpc/h) =   0.8000.\n",
      ">>> Tabulating sigma(M,z=0) ...\n",
      "    From now on, sigma(M,z) is computed by interpolation.\n",
      ">>> Tabulating z(W) and z(t_lkbk)...\n",
      ">>> Preparing output redshifts for merger trees ...\n",
      "    Number of output redshifts =  354, up to z = 20.06\n",
      ">>> Tabulating Parkinson+08 J(u_res) ...\n",
      ">>> Building interpolation grid for Green+19 M(<r|f_b,c)...\n",
      ">>> Building interpolation grid for Green+19 sigma(r|f_b,c)...\n",
      ">>> Building interpolation grid for Green+19 d2Phidr2(r|f_b,c)...\n",
      ">>> Building interpolator for Jiang+15 orbit sampler...\n"
     ]
    }
   ],
   "source": [
    "import numpy as np\n",
    "import scipy\n",
    "import matplotlib.pyplot as plt\n",
    "\n",
    "import matplotlib.cm as cm\n",
    "    \n",
    "import sys  \n",
    "sys.path.insert(0, '../src/')\n",
    "\n",
    "from astropy.table import Table\n",
    "\n",
    "from jsm_routines import accretion_mass, surviving_mass, accretion_mass_surv, SHMF\n",
    "import os"
   ]
  },
  {
   "cell_type": "code",
   "execution_count": null,
   "id": "f49faa6e",
   "metadata": {
    "scrolled": true
   },
   "outputs": [],
   "source": [
    "right = np.load(\"../../old/numpy/accreation_mass.npy\")"
   ]
  },
  {
   "cell_type": "markdown",
   "id": "6ab4db73",
   "metadata": {},
   "source": [
    "### unevolved"
   ]
  },
  {
   "cell_type": "code",
   "execution_count": null,
   "id": "2e819798",
   "metadata": {
    "scrolled": true
   },
   "outputs": [],
   "source": [
    "datadir = \"../../prelim/output_tree/\""
   ]
  },
  {
   "cell_type": "code",
   "execution_count": null,
   "id": "7b0b26c9",
   "metadata": {
    "scrolled": true
   },
   "outputs": [],
   "source": [
    "Nreal = len([entry for entry in os.listdir(datadir)])\n",
    "Nhalo = 200\n",
    "\n",
    "acc_mass = np.zeros(shape=(Nreal, Nhalo))\n",
    "\n",
    "acc_redshift = np.zeros(shape=(Nreal, Nhalo))"
   ]
  },
  {
   "cell_type": "code",
   "execution_count": null,
   "id": "5f40ef86",
   "metadata": {
    "scrolled": false
   },
   "outputs": [],
   "source": [
    "for i,filename in enumerate(os.listdir(datadir)):\n",
    "        \n",
    "    file = os.path.join(datadir, filename)\n",
    "        \n",
    "    mass_clean, red_clean = accretion_mass(file)\n",
    "    \n",
    "    mass = np.pad(mass_clean, (0,Nhalo-len(mass_clean)), mode=\"constant\", constant_values=0)\n",
    "    \n",
    "    red = np.pad(red_clean, (0,Nhalo-len(red_clean)), mode=\"constant\", constant_values=np.nan)\n",
    "    \n",
    "    acc_mass[i,:] = mass\n",
    "    \n",
    "    acc_redshift[i,:] = red"
   ]
  },
  {
   "cell_type": "code",
   "execution_count": null,
   "id": "b16c7c2c",
   "metadata": {
    "scrolled": true
   },
   "outputs": [],
   "source": [
    "SHMF(acc_mass, acc_redshift)"
   ]
  },
  {
   "cell_type": "markdown",
   "id": "689ca7f1",
   "metadata": {},
   "source": [
    "### surviving"
   ]
  },
  {
   "cell_type": "code",
   "execution_count": 2,
   "id": "964647fc",
   "metadata": {
    "scrolled": true
   },
   "outputs": [],
   "source": [
    "datadir = \"../../prelim/output_evolve/\""
   ]
  },
  {
   "cell_type": "code",
   "execution_count": null,
   "id": "8364655f",
   "metadata": {
    "scrolled": true
   },
   "outputs": [],
   "source": [
    "Nreal = len([entry for entry in os.listdir(datadir)])\n",
    "Nhalo = 200\n",
    "\n",
    "surv_mass = np.zeros(shape=(Nreal, Nhalo))\n",
    "\n",
    "surv_redshift = np.zeros(shape=(Nreal, Nhalo))"
   ]
  },
  {
   "cell_type": "code",
   "execution_count": null,
   "id": "7ef70c5f",
   "metadata": {
    "scrolled": false
   },
   "outputs": [],
   "source": [
    "for i,filename in enumerate(os.listdir(datadir)):\n",
    "        \n",
    "    file = os.path.join(datadir, filename)\n",
    "        \n",
    "    mass_clean = surviving_mass(file, 10**9)\n",
    "    \n",
    "    mass = np.pad(mass_clean, (0,Nhalo-len(mass_clean)), mode=\"constant\", constant_values=0)\n",
    "        \n",
    "    surv_mass[i,:] = mass"
   ]
  },
  {
   "cell_type": "code",
   "execution_count": null,
   "id": "83b36502",
   "metadata": {},
   "outputs": [],
   "source": [
    "SHMF(surv_mass, 0)"
   ]
  },
  {
   "cell_type": "markdown",
   "id": "55378714",
   "metadata": {},
   "source": [
    "### accreation mass of surviving"
   ]
  },
  {
   "cell_type": "code",
   "execution_count": 5,
   "id": "5e78f354",
   "metadata": {},
   "outputs": [],
   "source": [
    "Nreal = len([entry for entry in os.listdir(datadir)])\n",
    "Nhalo = 200\n",
    "\n",
    "surv_acc_mass = np.zeros(shape=(Nreal, Nhalo))\n",
    "\n",
    "surv_acc_redshift = np.zeros(shape=(Nreal, Nhalo))"
   ]
  },
  {
   "cell_type": "code",
   "execution_count": 6,
   "id": "59b7149b",
   "metadata": {},
   "outputs": [],
   "source": [
    "for i,filename in enumerate(os.listdir(datadir)):\n",
    "        \n",
    "    file = os.path.join(datadir, filename)\n",
    "        \n",
    "    mass_clean, red_clean = accretion_mass_surv(file, 10**9)\n",
    "    \n",
    "    mass = np.pad(mass_clean, (0,Nhalo-len(mass_clean)), mode=\"constant\", constant_values=0)\n",
    "    \n",
    "    red = np.pad(red_clean, (0,Nhalo-len(red_clean)), mode=\"constant\", constant_values=np.nan)\n",
    "    \n",
    "    surv_acc_mass[i,:] = mass\n",
    "    \n",
    "    surv_acc_redshift[i,:] = red"
   ]
  },
  {
   "cell_type": "code",
   "execution_count": 7,
   "id": "b5f68fce",
   "metadata": {},
   "outputs": [
    {
     "name": "stderr",
     "output_type": "stream",
     "text": [
      "/home/jsmonzon/PycharmProjects/Subhalos/SatGen/notebooks/../src/jsm_routines.py:206: RuntimeWarning: divide by zero encountered in log10\n",
      "  SHMF_quant = np.log10(np.percentile(I, [15, 50, 85], axis=0) / binsize)# this calculates the percentiles for each index\n",
      "/home/jsmonzon/PycharmProjects/Subhalos/SatGen/notebooks/../src/jsm_routines.py:227: RuntimeWarning: divide by zero encountered in log10\n",
      "  plt.plot(bincenters, np.log10(SHMF_ave/binsize), label=\"average\", marker=\"o\", color=\"black\")\n",
      "/home/jsmonzon/PycharmProjects/Subhalos/SatGen/notebooks/../src/jsm_routines.py:228: RuntimeWarning: divide by zero encountered in log10\n",
      "  plt.plot(bincenters, np.log10((SHMF_ave+SHMF_std)/binsize), label=\"1 $\\sigma$\", marker=\".\", ls=\":\", color=\"grey\")\n",
      "/home/jsmonzon/PycharmProjects/Subhalos/SatGen/notebooks/../src/jsm_routines.py:229: RuntimeWarning: divide by zero encountered in log10\n",
      "  plt.plot(bincenters, np.log10((SHMF_ave-SHMF_std)/binsize), marker=\".\", ls=\":\", color=\"grey\")\n",
      "/home/jsmonzon/PycharmProjects/Subhalos/SatGen/notebooks/../src/jsm_routines.py:229: RuntimeWarning: invalid value encountered in log10\n",
      "  plt.plot(bincenters, np.log10((SHMF_ave-SHMF_std)/binsize), marker=\".\", ls=\":\", color=\"grey\")\n"
     ]
    },
    {
     "data": {
      "image/png": "[encoded data removed]",
      "text/plain": [
       "<Figure size 864x720 with 1 Axes>"
      ]
     },
     "metadata": {
      "needs_background": "light"
     },
     "output_type": "display_data"
    },
    {
     "data": {
      "text/plain": [
       "(array([[0, 0, 0, ..., 0, 0, 0],\n",
       "        [0, 0, 0, ..., 0, 0, 0],\n",
       "        [0, 0, 0, ..., 0, 0, 0],\n",
       "        ...,\n",
       "        [0, 0, 0, ..., 0, 0, 0],\n",
       "        [0, 0, 1, ..., 0, 0, 0],\n",
       "        [0, 0, 0, ..., 0, 0, 0]]),\n",
       " array([-2.95, -2.85, -2.75, -2.65, -2.55, -2.45, -2.35, -2.25, -2.15,\n",
       "        -2.05, -1.95, -1.85, -1.75, -1.65, -1.55, -1.45, -1.35, -1.25,\n",
       "        -1.15, -1.05, -0.95, -0.85, -0.75, -0.65, -0.55, -0.45, -0.35,\n",
       "        -0.25, -0.15, -0.05]),\n",
       " array([0.05714286, 0.27142857, 0.31428571, 0.45714286, 0.88571429,\n",
       "        0.88571429, 0.9       , 0.67142857, 0.58571429, 0.51428571,\n",
       "        0.38571429, 0.42857143, 0.31428571, 0.18571429, 0.15714286,\n",
       "        0.25714286, 0.08571429, 0.08571429, 0.08571429, 0.04285714,\n",
       "        0.07142857, 0.01428571, 0.05714286, 0.01428571, 0.02857143,\n",
       "        0.        , 0.02857143, 0.        , 0.        , 0.        ]),\n",
       " array([0.23211538, 0.5048742 , 0.52216191, 0.74996599, 0.83739148,\n",
       "        0.96425926, 0.94339811, 0.76944189, 0.83653806, 0.73178563,\n",
       "        0.59264196, 0.72843136, 0.54883922, 0.42402349, 0.36393541,\n",
       "        0.46860627, 0.32701495, 0.32701495, 0.27994168, 0.20253496,\n",
       "        0.25753938, 0.11866606, 0.23211538, 0.11866606, 0.16659863,\n",
       "        0.        , 0.16659863, 0.        , 0.        , 0.        ]))"
      ]
     },
     "execution_count": 7,
     "metadata": {},
     "output_type": "execute_result"
    }
   ],
   "source": [
    "SHMF(surv_acc_mass, 0)"
   ]
  },
  {
   "cell_type": "code",
   "execution_count": null,
   "id": "56843595",
   "metadata": {},
   "outputs": [],
   "source": []
  }
 ],
 "metadata": {
  "kernelspec": {
   "display_name": "Python 3 (ipykernel)",
   "language": "python",
   "name": "python3"
  },
  "language_info": {
   "codemirror_mode": {
    "name": "ipython",
    "version": 3
   },
   "file_extension": ".py",
   "mimetype": "text/x-python",
   "name": "python",
   "nbconvert_exporter": "python",
   "pygments_lexer": "ipython3",
   "version": "3.9.12"
  }
 },
 "nbformat": 4,
 "nbformat_minor": 5
}
