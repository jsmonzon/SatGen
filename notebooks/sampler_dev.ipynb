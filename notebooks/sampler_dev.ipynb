{
 "cells": [
  {
   "cell_type": "code",
   "execution_count": 2,
   "metadata": {},
   "outputs": [],
   "source": [
    "%load_ext autoreload\n",
    "%autoreload 2"
   ]
  },
  {
   "cell_type": "code",
   "execution_count": 3,
   "metadata": {},
   "outputs": [],
   "source": [
    "import numpy as np\n",
    "import matplotlib.pyplot as plt\n",
    "import matplotlib as mpl\n",
    "import pygtc\n",
    "    \n",
    "import sys \n",
    "sys.path.insert(0, '../src/')\n",
    "\n",
    "import warnings; warnings.simplefilter('ignore')\n",
    "# import emcee\n",
    "# import corner\n",
    "# from multiprocess import Pool\n",
    "# from astropy.table import Table\n",
    "# import pygtc\n",
    "import jsm_SHMR\n",
    "from astropy.table import Table\n"
   ]
  },
  {
   "cell_type": "code",
   "execution_count": 4,
   "metadata": {},
   "outputs": [],
   "source": [
    "# samples = np.load(\"../../data/MCMC/sampler_results_sep20.npy\")\n",
    "# print(\"steps:\", samples.shape[0])\n",
    "# print(\"walkers:\", samples.shape[1])\n",
    "# print(\"dim:\", samples.shape[2])\n",
    "# jsm_last_sample = samples[-1,:,:]\n",
    "# jsm_last_sample\n",
    "# final_step = Table.read(\"../../../Downloads/MCMC_step_1000.dat\", format=\"ascii\")\n",
    "# a1 = final_step[\"col1\"].data\n",
    "# a2 = final_step[\"col2\"].data\n",
    "# a3 = final_step[\"col3\"].data\n",
    "# a4 = final_step[\"col4\"].data\n",
    "\n",
    "# fvdb_last_sample = np.array([a1, a2, a3, a4]).T\n",
    "# fvdb_last_sample\n",
    "# names = ['a1', 'a2', 'a3', 'a4']\n",
    "\n",
    "# # Labels for the different chains\n",
    "# chainLabels = [\"JSM results\", \"FvdB results\"]\n",
    "\n",
    "# # List of Gaussian curves to plot\n",
    "# #(to represent priors): mean, width\n",
    "# # Empty () or None if no prior to plot\n",
    "# priors = ((1, 3), (-2, 1), (0, 3), (9,11))\n",
    "\n",
    "# truths = [1.9, -0.2, 0.6, 10]\n",
    "\n",
    "# GTC = pygtc.plotGTC(chains=[jsm_last_sample,fvdb_last_sample], \n",
    "#                     paramNames=names,\n",
    "#                     chainLabels=chainLabels,\n",
    "#                     truths=truths,\n",
    "#                     figureSize=8,\n",
    "#                     filledPlots=False)"
   ]
  },
  {
   "cell_type": "code",
   "execution_count": 5,
   "metadata": {},
   "outputs": [],
   "source": [
    "s100 = np.load(\"../../data/Nsaga/100/samples.npy\")\n",
    "\n",
    "s500 = np.load(\"../../data/Nsaga/500/samples.npy\")\n",
    "\n",
    "s1000 = np.load(\"../../data/Nsaga/1000/samples.npy\")"
   ]
  },
  {
   "cell_type": "code",
   "execution_count": 6,
   "metadata": {},
   "outputs": [],
   "source": [
    "def stack(samples, stack):    \n",
    "    nsteps = samples.shape[0]\n",
    "    ssteps = nsteps - stack\n",
    "    s = samples[ssteps:nsteps,:,:].shape\n",
    "    return samples[ssteps:nsteps,:,:].reshape(s[0] * s[1], s[2]) "
   ]
  },
  {
   "cell_type": "code",
   "execution_count": 7,
   "metadata": {},
   "outputs": [],
   "source": [
    "stack100 = stack(s100, 450)\n",
    "stack500 = stack(s500, 450)\n",
    "stack1000 = stack(s1000, 450)"
   ]
  },
  {
   "cell_type": "code",
   "execution_count": null,
   "metadata": {},
   "outputs": [],
   "source": []
  },
  {
   "cell_type": "code",
   "execution_count": null,
   "metadata": {},
   "outputs": [],
   "source": [
    "val1000 = []\n",
    "for i in range(4):\n",
    "    mcmc = np.percentile(stack1000[:, i], [16, 50, 84])\n",
    "    q = np.diff(mcmc)\n",
    "    txt = \"\\mathrm{{{3}}} = {0:.3f}_{{-{1:.3f}}}^{{{2:.3f}}}\"\n",
    "    txt = txt.format(mcmc[1], q[0], q[1], labels[i])\n",
    "    display(Math(txt))\n",
    "    val1000.append([mcmc[1], q[0], q[1]])"
   ]
  },
  {
   "cell_type": "code",
   "execution_count": null,
   "metadata": {},
   "outputs": [],
   "source": [
    "val500 = []\n",
    "for i in range(4):\n",
    "    mcmc = np.percentile(stack500[:, i], [16, 50, 84])\n",
    "    q = np.diff(mcmc)\n",
    "    txt = \"\\mathrm{{{3}}} = {0:.3f}_{{-{1:.3f}}}^{{{2:.3f}}}\"\n",
    "    txt = txt.format(mcmc[1], q[0], q[1], labels[i])\n",
    "    display(Math(txt))\n",
    "    val500.append([mcmc[1], q[0], q[1]])"
   ]
  },
  {
   "cell_type": "code",
   "execution_count": null,
   "metadata": {},
   "outputs": [],
   "source": [
    "val100 = []\n",
    "for i in range(4):\n",
    "    mcmc = np.percentile(stack100[:, i], [16, 50, 84])\n",
    "    q = np.diff(mcmc)\n",
    "    txt = \"\\mathrm{{{3}}} = {0:.3f}_{{-{1:.3f}}}^{{{2:.3f}}}\"\n",
    "    txt = txt.format(mcmc[1], q[0], q[1], labels[i])\n",
    "    display(Math(txt))\n",
    "    val100.append([mcmc[1], q[0], q[1]])"
   ]
  },
  {
   "cell_type": "code",
   "execution_count": null,
   "metadata": {},
   "outputs": [],
   "source": [
    "val100[0][0]"
   ]
  },
  {
   "cell_type": "code",
   "execution_count": null,
   "metadata": {},
   "outputs": [],
   "source": [
    "fig, axs = plt.subplots(2, 2, sharex=True, figsize=(6,5))\n",
    "\n",
    "axs[0,0].errorbar(N, [val100[0][0], val500[0][0], val1000[0][0]], yerr=[[val100[0][1], val500[0][1], val1000[0][1]], [val100[0][2], val500[0][2], val1000[0][2]]], fmt=\"o\", color=\"black\")\n",
    "axs[0,0].axhline(1.8, ls=\":\")\n",
    "axs[0,0].set_xticks([100,500,1000])\n",
    "\n",
    "axs[1,0].errorbar(N, [val100[1][0], val500[1][0], val1000[1][0]], yerr=[[val100[1][1], val500[1][1], val1000[1][1]], [val100[1][2], val500[1][2], val1000[1][2]]], fmt=\"o\", color=\"black\")\n",
    "axs[1,0].axhline(-0.2, ls=\":\")\n",
    "\n",
    "axs[0,1].errorbar(N, [val100[2][0], val500[2][0], val1000[2][0]], yerr=[[val100[2][1], val500[2][1], val1000[2][1]], [val100[2][2], val500[2][2], val1000[2][2]]], fmt=\"o\", color=\"black\")\n",
    "axs[0,1].axhline(0.4, ls=\":\")\n",
    "\n",
    "axs[1,1].errorbar(N, [val100[3][0], val500[3][0], val1000[3][0]], yerr=[[val100[3][1], val500[3][1], val1000[3][1]], [val100[3][2], val500[3][2], val1000[3][2]]], fmt=\"o\", color=\"black\")\n",
    "axs[1,1].axhline(10.1, ls=\":\")\n"
   ]
  },
  {
   "cell_type": "code",
   "execution_count": null,
   "metadata": {},
   "outputs": [],
   "source": [
    "ndim = 4\n",
    "labes\n",
    "val = []\n",
    "    mcmc = np.percentile(last_samp[:, i], [16, 50, 84])\n",
    "    q = np.diff(mcmc)\n",
    "    txt = \"\\mathrm{{{3}}} = {0:.3f}_{{-{1:.3f}}}^{{{2:.3f}}}\"\n",
    "    txt = txt.format(mcmc[1], q[0], q[1])\n",
    "    display(Math(txt))\n",
    "    print([mcmc[1], q[0], q[1]])\n"
   ]
  },
  {
   "cell_type": "code",
   "execution_count": null,
   "metadata": {},
   "outputs": [],
   "source": [
    "Table([])"
   ]
  },
  {
   "cell_type": "code",
   "execution_count": null,
   "metadata": {},
   "outputs": [],
   "source": [
    "plt.hist(stack100[:,0], bins=15)"
   ]
  },
  {
   "cell_type": "code",
   "execution_count": null,
   "metadata": {},
   "outputs": [],
   "source": [
    "names = ['a1', 'a2', 'a3', 'a4']\n",
    "\n",
    "# Labels for the different chains\n",
    "chainLabels = [\"N=100\", \"N=500\", \"N=1000\"]\n",
    "\n",
    "# List of Gaussian curves to plot\n",
    "#(to represent priors): mean, width\n",
    "# Empty () or None if no prior to plot\n",
    "priors = ((1, 3), (-2, 1), (0, 3), (9,11))\n",
    "\n",
    "truths = [1.8, -0.2, 0.4, 10.1]\n",
    "\n",
    "\n",
    "GTC = pygtc.plotGTC(chains=[stack100, stack500, stack1000], \n",
    "                    paramNames=names,\n",
    "                    chainLabels=chainLabels,\n",
    "                    truths=truths,\n",
    "                    nContourLevels=2,\n",
    "                    figureSize=12,\n",
    "                    smoothingKernel=1,\n",
    "                    filledPlots=False,\n",
    "                    customTickFont={'family':'Arial', 'size':12},\n",
    "                    customLegendFont={'family':'Arial', 'size':15},\n",
    "                    customLabelFont={'family':'Arial', 'size':12})"
   ]
  },
  {
   "cell_type": "code",
   "execution_count": null,
   "metadata": {},
   "outputs": [],
   "source": [
    "str(truths)"
   ]
  },
  {
   "cell_type": "code",
   "execution_count": null,
   "metadata": {},
   "outputs": [],
   "source": [
    "# samples = np.load(\"../../data/MCMC/sampler_results_sep17.npy\")\n",
    "# last_sample = samples[-1,:,:]\n",
    "# fig = corner.corner(last_sample_F, show_titles=True, quantiles=[0.16, 0.5, 0.84], plot_contours=False, range=[(0, 5), (-2, 2), (0, 3)])\n",
    "# fig = corner.corner(last_sample, show_titles=True, quantiles=[0.16, 0.5, 0.84], plot_contours=False)\n",
    "# figure = corner.corner(last_sample_F, plot_contours=False, range=[(0, 5), (-2, 2), (0, 3)])\n",
    "# corner.corner(last_sample, fig=figure, color='red', plot_contours=False, range=[(0, 5), (-2, 2), (0, 3)])\n",
    "# plt.show()\n",
    "\n",
    "# names = ['alpha', 'delta', 'sigma']\n",
    "\n",
    "# # Labels for the different chains\n",
    "# chainLabels = [\"JSM results\", \"F vdB results\"]\n",
    "\n",
    "# # List of Gaussian curves to plot\n",
    "# #(to represent priors): mean, width\n",
    "# # Empty () or None if no prior to plot\n",
    "# priors = ((1, 3), (-2, 1), (0, 3))\n",
    "\n",
    "# truths = [1.9, -0.2, 0.6]\n",
    "\n",
    "# GTC = pygtc.plotGTC(chains=[last_sample,last_sample_F], \n",
    "#                     paramNames=names,\n",
    "#                     chainLabels=chainLabels,\n",
    "#                     truths=truths,\n",
    "#                     figureSize=8,\n",
    "#                     filledPlots=True)\n",
    "\n"
   ]
  }
 ],
 "metadata": {
  "kernelspec": {
   "display_name": "subhalos",
   "language": "python",
   "name": "python3"
  },
  "language_info": {
   "codemirror_mode": {
    "name": "ipython",
    "version": 3
   },
   "file_extension": ".py",
   "mimetype": "text/x-python",
   "name": "python",
   "nbconvert_exporter": "python",
   "pygments_lexer": "ipython3",
   "version": "3.10.9"
  },
  "orig_nbformat": 4
 },
 "nbformat": 4,
 "nbformat_minor": 2
}
