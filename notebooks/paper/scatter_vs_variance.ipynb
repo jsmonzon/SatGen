{
 "cells": [
  {
   "cell_type": "code",
   "execution_count": 1,
   "metadata": {},
   "outputs": [],
   "source": [
    "%load_ext autoreload\n",
    "%autoreload 2"
   ]
  },
  {
   "cell_type": "code",
   "execution_count": 2,
   "metadata": {},
   "outputs": [],
   "source": [
    "import numpy as np\n",
    "import matplotlib.pyplot as plt\n",
    "import matplotlib.image as mpimg\n",
    "import warnings; warnings.simplefilter('ignore')\n",
    "import sys\n",
    "sys.path.insert(0, '/Users/jsmonzon/Research/SatGen/mcmc/src/')\n",
    "import jsm_halopull\n",
    "import jsm_SHMR\n",
    "import jsm_mcmc\n",
    "import jsm_stats\n",
    "import jsm_models"
   ]
  },
  {
   "cell_type": "code",
   "execution_count": 16,
   "metadata": {},
   "outputs": [],
   "source": [
    "plt.rcParams['axes.facecolor'] = 'white'\n",
    "plt.rcParams['axes.grid'] = False\n",
    "plt.rcParams['axes.labelsize'] = 15\n",
    "plt.rcParams['axes.linewidth'] = 1.5\n",
    "plt.rcParams['axes.edgecolor'] = 'black'\n",
    "plt.rc('legend',fontsize=15)\n",
    "\n",
    "plt.rcParams['xtick.major.size'] = 5\n",
    "plt.rcParams['xtick.major.width'] = 1\n",
    "plt.rcParams['xtick.minor.size'] = 3\n",
    "plt.rcParams['xtick.minor.width'] = 1\n",
    "plt.rcParams['xtick.top'] = True\n",
    "\n",
    "plt.rcParams['ytick.major.size'] = 5\n",
    "plt.rcParams['ytick.major.width'] = 1\n",
    "plt.rcParams['ytick.minor.size'] = 3\n",
    "plt.rcParams['ytick.minor.width'] = 1\n",
    "plt.rcParams['ytick.right'] = True\n",
    "\n",
    "plt.rcParams['font.family'] = 'Times New Roman'"
   ]
  },
  {
   "cell_type": "markdown",
   "metadata": {},
   "source": [
    "### calling in 10k merger tree realizations"
   ]
  },
  {
   "cell_type": "code",
   "execution_count": 4,
   "metadata": {},
   "outputs": [],
   "source": [
    "s0 = np.load(\"../../../data/MW-analog/meta_data_psi3/models.npz\")[\"mass\"]\n",
    "\n",
    "s15 = np.load(\"../../../data/cross_host/lognorm_015_psi3/models.npz\")[\"mass\"]\n",
    "\n",
    "s30 = np.load(\"../../../data/cross_host/lognorm_030_psi3/models.npz\")[\"mass\"]"
   ]
  },
  {
   "cell_type": "code",
   "execution_count": 5,
   "metadata": {},
   "outputs": [],
   "source": [
    "def push_SAGA(lgMh_mat, theta, min_mass):\n",
    "\n",
    "    lgMs_mat = np.apply_along_axis(jsm_SHMR.general, 0, theta, lgMh_mat, 0, 1)\n",
    "\n",
    "    N_std = []\n",
    "    Ms1_std = []\n",
    "    for i in range(lgMs_mat.shape[0]):\n",
    "        stat_i = jsm_stats.SatStats_D(lgMs_mat[i], min_mass=min_mass)\n",
    "        N_std.append(np.std(stat_i.Nsat_perhost))\n",
    "        Ms1_std.append(np.std(stat_i.maxmass))\n",
    "\n",
    "    return np.array(N_std), np.array(Ms1_std)"
   ]
  },
  {
   "cell_type": "code",
   "execution_count": 6,
   "metadata": {},
   "outputs": [],
   "source": [
    "fid_theta = [10.5, 2.0, 0.0, 0, 0, 0] # no scatter in the SHMR!\n",
    "min_mass = 6.5"
   ]
  },
  {
   "cell_type": "code",
   "execution_count": 7,
   "metadata": {},
   "outputs": [],
   "source": [
    "N_std_saga_s0, Ms1_std_saga_s0 = push_SAGA(s0, fid_theta, min_mass)"
   ]
  },
  {
   "cell_type": "code",
   "execution_count": 8,
   "metadata": {},
   "outputs": [],
   "source": [
    "N_std_saga_s15, Ms1_std_saga_s15 = push_SAGA(s15, fid_theta, min_mass)"
   ]
  },
  {
   "cell_type": "code",
   "execution_count": 9,
   "metadata": {},
   "outputs": [],
   "source": [
    "N_std_saga_s30, Ms1_std_saga_s30 = push_SAGA(s30, fid_theta, min_mass)"
   ]
  },
  {
   "cell_type": "code",
   "execution_count": 10,
   "metadata": {},
   "outputs": [],
   "source": [
    "def push_single_realization(lgMh_mat, theta, min_mass):\n",
    "\n",
    "    N_std = []\n",
    "    Ms1_std = []\n",
    "\n",
    "    single_trees = lgMh_mat[:, 0]\n",
    "    for i in range(lgMh_mat.shape[0]):\n",
    "        lgMh_i = np.tile(single_trees[i], (100, 1))\n",
    "        lgMs_i = jsm_SHMR.general(theta, lgMh_i, 0, 1)\n",
    "        stat_i = jsm_stats.SatStats_D(lgMs_i, min_mass=min_mass)\n",
    "\n",
    "        N_std.append(np.std(stat_i.Nsat_perhost))\n",
    "        Ms1_std.append(np.std(stat_i.maxmass))\n",
    "\n",
    "    return np.mean(N_std), np.std(N_std), np.mean(Ms1_std), np.std(Ms1_std)"
   ]
  },
  {
   "cell_type": "markdown",
   "metadata": {},
   "source": [
    "### the paper"
   ]
  },
  {
   "cell_type": "code",
   "execution_count": 11,
   "metadata": {},
   "outputs": [],
   "source": [
    "N_means_s0 = []\n",
    "N_errs_s0 = []\n",
    "\n",
    "N_means_s0_Ms = []\n",
    "N_errs_s0_Ms = []\n",
    "\n",
    "N_means_s15 = []\n",
    "N_errs_s15 = []\n",
    "\n",
    "N_means_s15_Ms = []\n",
    "N_errs_s15_Ms = []\n",
    "\n",
    "N_means_s30 = []\n",
    "N_errs_s30 = []\n",
    "\n",
    "N_means_s30_Ms = []\n",
    "N_errs_s30_Ms = []\n",
    "\n",
    "sigmas = np.linspace(0.1, 2.5, 24)\n",
    "\n",
    "for sigma in sigmas:\n",
    "    mean_i_s0, err_i_s0, mean_i_s0_Ms, err_i_s0_Ms = push_single_realization(s0, [10.5, 2.0, sigma, 0, 0, 0], min_mass)\n",
    "    N_means_s0_Ms.append(mean_i_s0_Ms)\n",
    "    N_errs_s0_Ms.append(err_i_s0_Ms)\n",
    "    N_means_s0.append(mean_i_s0)\n",
    "    N_errs_s0.append(err_i_s0)\n",
    "\n",
    "    mean_i_s15, err_i_s15, mean_i_s15_Ms, err_i_s15_Ms = push_single_realization(s15, [10.5, 2.0, sigma, 0, 0, 0], min_mass)\n",
    "    N_means_s15_Ms.append(mean_i_s15_Ms)\n",
    "    N_errs_s15_Ms.append(err_i_s15_Ms)\n",
    "    N_means_s15.append(mean_i_s15)\n",
    "    N_errs_s15.append(err_i_s15)\n",
    "\n",
    "    mean_i_s30, err_i_s30, mean_i_s30_Ms, err_i_s30_Ms = push_single_realization(s30, [10.5, 2.0, sigma, 0, 0, 0], min_mass)\n",
    "    N_means_s30_Ms.append(mean_i_s30_Ms)\n",
    "    N_errs_s30_Ms.append(err_i_s30_Ms)\n",
    "    N_means_s30.append(mean_i_s30)\n",
    "    N_errs_s30.append(err_i_s30)"
   ]
  },
  {
   "cell_type": "code",
   "execution_count": 23,
   "metadata": {},
   "outputs": [
    {
     "data": {
      "image/png": "[encoded data removed]",
      "text/plain": [
       "<Figure size 600x1000 with 2 Axes>"
      ]
     },
     "metadata": {},
     "output_type": "display_data"
    }
   ],
   "source": [
    "fig, axs = plt.subplots(nrows=2, sharex=True, figsize=(6,10))\n",
    "\n",
    "axs[0].axhline(N_std_saga_s30.mean(), color=\"red\", lw=3, label=\"$S_{30}$\", ls=\"--\")\n",
    "axs[0].axhspan(N_std_saga_s30.mean() - N_std_saga_s30.std(), N_std_saga_s30.mean() + N_std_saga_s30.std(),  color=\"red\", alpha=0.2, zorder=0)\n",
    "\n",
    "axs[0].axhline(N_std_saga_s15.mean(), color=\"darkorange\", lw=3, label=\"$S_{15}$\", ls=\"--\")\n",
    "axs[0].axhspan(N_std_saga_s15.mean() - N_std_saga_s15.std(), N_std_saga_s15.mean() + N_std_saga_s15.std(),  color=\"orange\", alpha=0.2, zorder=0)\n",
    "\n",
    "axs[0].axhline(N_std_saga_s0.mean(), color=\"green\", lw=3, label=\"$S_{0}$\", ls=\"--\")\n",
    "axs[0].axhspan(N_std_saga_s0.mean() - N_std_saga_s0.std(), N_std_saga_s0.mean() + N_std_saga_s0.std(),  color=\"green\", alpha=0.2, zorder=0)\n",
    "\n",
    "axs[0].errorbar(sigmas, N_means_s0, yerr=N_errs_s0, fmt=\".\", capsize=3, color=\"black\")\n",
    "axs[0].legend()\n",
    "\n",
    "axs[0].set_ylabel(\"$\\\\sigma_{n_{sat}}$ \", fontsize=20)\n",
    "axs[0].set_yscale(\"log\")\n",
    "\n",
    "axs[1].axhline(Ms1_std_saga_s30.mean() , color=\"red\", lw=3, label=\"$S_{30}$\", ls=\"--\")\n",
    "axs[1].axhspan(Ms1_std_saga_s30.mean() - Ms1_std_saga_s30.std(), Ms1_std_saga_s30.mean() + Ms1_std_saga_s30.std(),  color=\"red\", alpha=0.2, zorder=0)\n",
    "\n",
    "axs[1].axhline(Ms1_std_saga_s15.mean(), color=\"darkorange\", lw=3, label=\"$S_{15}$\", ls=\"--\")\n",
    "axs[1].axhspan(Ms1_std_saga_s15.mean() - Ms1_std_saga_s15.std(), Ms1_std_saga_s15.mean() + Ms1_std_saga_s15.std(),  color=\"orange\", alpha=0.2, zorder=0)\n",
    "\n",
    "axs[1].axhline(Ms1_std_saga_s0.mean(), color=\"green\", lw=3, label=\"$S_{0}$\", ls=\"--\")\n",
    "axs[1].axhspan(Ms1_std_saga_s0.mean() - Ms1_std_saga_s0.std(), Ms1_std_saga_s0.mean() + Ms1_std_saga_s0.std(),  color=\"green\", alpha=0.2, zorder=0)\n",
    "\n",
    "\n",
    "axs[1].set_xlabel('$\\\\sigma_{*}$ [dex]', fontsize=20)\n",
    "axs[1].set_ylabel(\"$\\\\sigma_{M_{*}^{\\mathrm{max}}}$ [dex]\", fontsize=20)\n",
    "\n",
    "axs[1].errorbar(sigmas, N_means_s0_Ms, yerr=N_errs_s0_Ms, fmt=\".\", capsize=3, color=\"black\")\n",
    "\n",
    "plt.tight_layout()\n",
    "plt.savefig(\"../../../paper_1/figures/updated/scatter_vs_variance.pdf\", bbox_inches=\"tight\")\n",
    "plt.show()"
   ]
  },
  {
   "cell_type": "code",
   "execution_count": 13,
   "metadata": {},
   "outputs": [],
   "source": [
    "# N_means_s0 = []\n",
    "# N_errs_s0 = []\n",
    "\n",
    "# N_means_s15 = []\n",
    "# N_errs_s15 = []\n",
    "\n",
    "# N_means_s30 = []\n",
    "# N_errs_s30 = []\n",
    "\n",
    "# sigmas = np.linspace(0.1, 2.5, 24)\n",
    "\n",
    "# for sigma in sigmas:\n",
    "#     mean_i_s0, err_i_s0, _, _ = push_single_realization(s0, [10.5, 2.0, sigma, 0, 0, 0], min_mass)\n",
    "#     N_means_s0.append(mean_i_s0)\n",
    "#     N_errs_s0.append(err_i_s0)\n",
    "\n",
    "#     mean_i_s15, err_i_s15, _, _ = push_single_realization(s15, [10.5, 2.0, sigma, 0, 0, 0], min_mass)\n",
    "#     N_means_s15.append(mean_i_s15)\n",
    "#     N_errs_s15.append(err_i_s15)\n",
    "\n",
    "#     mean_i_s30, err_i_s30, _, _ = push_single_realization(s30, [10.5, 2.0, sigma, 0, 0, 0], min_mass)\n",
    "#     N_means_s30.append(mean_i_s30)\n",
    "#     N_errs_s30.append(err_i_s30)\n",
    "# plt.figure(figsize=(8,8))\n",
    "\n",
    "# for i in range(100):\n",
    "#     plt.axhline(N_std_saga_s30[i], color=\"red\", alpha=0.04)\n",
    "#     plt.axhline(N_std_saga_s15[i], color=\"darkorange\", alpha=0.04)\n",
    "#     plt.axhline(N_std_saga_s0[i], color=\"green\", alpha=0.04)\n",
    "\n",
    "# plt.axhline(np.mean(N_std_saga_s30), color=\"red\", lw=3, label=\"$\\\\sigma_{M_{*}}=0,  s_{30}$\")\n",
    "# plt.axhline(np.mean(N_std_saga_s15), color=\"darkorange\", lw=3, label=\"$\\\\sigma_{M_{*}}=0,  s_{15}$\")\n",
    "# plt.axhline(np.mean(N_std_saga_s0), color=\"green\", lw=3, label=\"$\\\\sigma_{M_{*}}=0,  s_{0}$\")\n",
    "\n",
    "# #plt.errorbar(sigmas, N_means_s30, yerr=N_errs_s30, fmt=\".\", capsize=3, color=\"red\")\n",
    "# #plt.errorbar(sigmas, N_means_s15, yerr=N_errs_s15, fmt=\".\", capsize=3, color=\"orange\", label=\"single realization\")\n",
    "# plt.errorbar(sigmas, N_means_s0, yerr=N_errs_s0, fmt=\".\", capsize=3, color=\"black\")\n",
    "\n",
    "# plt.legend(fontsize=15)\n",
    "\n",
    "# plt.xlabel('$\\\\sigma_{M_{*}}$', fontsize=20)\n",
    "# plt.ylabel(\"$\\\\sigma_{N_{sat}}$ \", fontsize=20)\n",
    "# plt.yscale(\"log\")\n",
    "# plt.show()"
   ]
  },
  {
   "cell_type": "code",
   "execution_count": 14,
   "metadata": {},
   "outputs": [],
   "source": [
    "# N_means_s0 = []\n",
    "# N_errs_s0 = []\n",
    "\n",
    "# N_means_s15 = []\n",
    "# N_errs_s15 = []\n",
    "\n",
    "# N_means_s30 = []\n",
    "# N_errs_s30 = []\n",
    "\n",
    "# sigmas = np.linspace(0.1, 2.5, 24)\n",
    "\n",
    "# for sigma in sigmas:\n",
    "#     _, _, mean_i_s0, err_i_s0 = push_single_realization(s0, [10.5, 2.0, sigma, 0, 0, 0], min_mass)\n",
    "#     N_means_s0.append(mean_i_s0)\n",
    "#     N_errs_s0.append(err_i_s0)\n",
    "\n",
    "#     _, _, mean_i_s15, err_i_s15 = push_single_realization(s15, [10.5, 2.0, sigma, 0, 0, 0], min_mass)\n",
    "#     N_means_s15.append(mean_i_s15)\n",
    "#     N_errs_s15.append(err_i_s15)\n",
    "\n",
    "#     _, _, mean_i_s30, err_i_s30 = push_single_realization(s30, [10.5, 2.0, sigma, 0, 0, 0], min_mass)\n",
    "#     N_means_s30.append(mean_i_s30)\n",
    "#     N_errs_s30.append(err_i_s30)\n",
    "# plt.figure(figsize=(8,6))\n",
    "\n",
    "# for i in range(100):\n",
    "#     plt.axhline(Ms1_std_saga_s30[i], color=\"red\", alpha=0.04)\n",
    "#     plt.axhline(Ms1_std_saga_s15[i], color=\"darkorange\", alpha=0.04)\n",
    "#     plt.axhline(Ms1_std_saga_s0[i], color=\"green\", alpha=0.04)\n",
    "\n",
    "# plt.axhline(np.mean(Ms1_std_saga_s30), color=\"red\", lw=3, label=\"$\\\\sigma_{M_{*}}=0,  s_{30}$\")\n",
    "# plt.axhline(np.mean(Ms1_std_saga_s15), color=\"darkorange\", lw=3, label=\"$\\\\sigma_{M_{*}}=0,  s_{15}$\")\n",
    "# plt.axhline(np.mean(Ms1_std_saga_s0), color=\"green\", lw=3, label=\"$\\\\sigma_{M_{*}}=0,  s_{0}$\")\n",
    "\n",
    "# #plt.errorbar(sigmas, N_means_s30, yerr=N_errs_s30, fmt=\".\", capsize=3, color=\"red\")\n",
    "# plt.errorbar(sigmas, N_means_s15, yerr=N_errs_s15, fmt=\".\", capsize=3, color=\"black\", label=\"single realization\")\n",
    "# #lt.errorbar(sigmas, N_means_s0, yerr=N_errs_s0, fmt=\".\", capsize=3, color=\"green\")\n",
    "\n",
    "# plt.legend(fontsize=15)\n",
    "\n",
    "# plt.xlabel('$\\\\sigma_{M_{*}}$', fontsize=20)\n",
    "# plt.ylabel(\"$\\\\sigma_{M_{*, 1}}}$ \", fontsize=20)\n",
    "# plt.show()"
   ]
  },
  {
   "cell_type": "code",
   "execution_count": null,
   "metadata": {},
   "outputs": [],
   "source": []
  }
 ],
 "metadata": {
  "kernelspec": {
   "display_name": "subhalos",
   "language": "python",
   "name": "python3"
  },
  "language_info": {
   "codemirror_mode": {
    "name": "ipython",
    "version": 3
   },
   "file_extension": ".py",
   "mimetype": "text/x-python",
   "name": "python",
   "nbconvert_exporter": "python",
   "pygments_lexer": "ipython3",
   "version": "3.10.9"
  }
 },
 "nbformat": 4,
 "nbformat_minor": 2
}
