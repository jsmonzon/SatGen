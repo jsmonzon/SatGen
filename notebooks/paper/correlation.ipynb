{
 "cells": [
  {
   "cell_type": "code",
   "execution_count": 1,
   "metadata": {},
   "outputs": [],
   "source": [
    "%load_ext autoreload\n",
    "%autoreload 2"
   ]
  },
  {
   "cell_type": "code",
   "execution_count": 2,
   "metadata": {},
   "outputs": [],
   "source": [
    "import numpy as np\n",
    "import matplotlib.pyplot as plt\n",
    "import matplotlib.image as mpimg\n",
    "import warnings; warnings.simplefilter('ignore')\n",
    "import sys\n",
    "sys.path.insert(0, '/Users/jsmonzon/Research/SatGen/mcmc/src/')\n",
    "import jsm_halopull\n",
    "import jsm_SHMR\n",
    "import jsm_mcmc\n",
    "import jsm_stats\n",
    "import jsm_models"
   ]
  },
  {
   "cell_type": "code",
   "execution_count": 3,
   "metadata": {},
   "outputs": [],
   "source": [
    "plt.style.use('../../../paper_1/figures/paper_single.mplstyle')\n",
    "double_textwidth = 7.1 #inches\n",
    "single_textwidth = 3.5 #inches"
   ]
  },
  {
   "cell_type": "code",
   "execution_count": 4,
   "metadata": {},
   "outputs": [],
   "source": [
    "lgMh_s0_mat = np.load(\"../../../data/MW-analog/meta_data_psi3/models.npz\")[\"mass\"]\n",
    "\n",
    "lgMh_s15_mat = np.load(\"../../../data/cross_host/lognorm_015_psi3/models.npz\")[\"mass\"]\n",
    "\n",
    "lgMh_s30_mat = np.load(\"../../../data/cross_host/lognorm_030_psi3/models.npz\")[\"mass\"]"
   ]
  },
  {
   "cell_type": "code",
   "execution_count": 5,
   "metadata": {},
   "outputs": [],
   "source": [
    "def correlation_hists(theta, min_mass, savefile=None):\n",
    "\n",
    "    lgMs_s0_mat = np.apply_along_axis(jsm_SHMR.general_old, 0, theta, lgMh_s0_mat, 0, 1)\n",
    "    lgMs_s15_mat = np.apply_along_axis(jsm_SHMR.general_old, 0, theta, lgMh_s15_mat, 0, 1)\n",
    "    lgMs_s30_mat = np.apply_along_axis(jsm_SHMR.general_old, 0, theta, lgMh_s30_mat, 0, 1)\n",
    "    Rp_s0 = []\n",
    "    Rp_s15 = []\n",
    "    Rp_s30 = []\n",
    "\n",
    "    for i in range(lgMs_s0_mat.shape[0]):\n",
    "        Rp_s0.append(jsm_stats.SatStats_D(lgMs_s0_mat[i], min_mass=min_mass, max_N=500).correlation)\n",
    "        Rp_s15.append(jsm_stats.SatStats_D(lgMs_s15_mat[i], min_mass=min_mass, max_N=500).correlation)\n",
    "        Rp_s30.append(jsm_stats.SatStats_D(lgMs_s30_mat[i], min_mass=min_mass, max_N=500).correlation)\n",
    "\n",
    "    bins = np.linspace(-0.2, 1, 25)\n",
    "    counts_s0, bincenters = jsm_stats.count(Rp_s0, bins, return_bins=True)\n",
    "    counts_s15 = jsm_stats.count(Rp_s15, bins, return_bins=False)\n",
    "    counts_s30 = jsm_stats.count(Rp_s30, bins, return_bins=False)\n",
    "\n",
    "    plt.figure(figsize=(single_textwidth, single_textwidth))\n",
    "    plt.hist(Rp_s0, bins, edgecolor=\"white\", alpha=0.4, color=\"green\", label=\"$S_0$\")\n",
    "    plt.step(bincenters, counts_s0, where=\"mid\", color=\"green\")\n",
    "    plt.axvline(np.average(Rp_s0), color=\"green\", ls='--')\n",
    "\n",
    "    plt.hist(Rp_s15, bins, edgecolor=\"white\", alpha=0.4, color=\"darkorange\", label=\"$S_{15}$\")\n",
    "    plt.step(bincenters, counts_s15, where=\"mid\", color=\"darkorange\")\n",
    "    plt.axvline(np.average(Rp_s15), color=\"darkorange\", ls='--')\n",
    "\n",
    "    plt.hist(Rp_s30, bins, edgecolor=\"white\", alpha=0.4, color=\"red\", label=\"$S_{30}$\")\n",
    "    plt.step(bincenters, counts_s30, where=\"mid\", color=\"red\")\n",
    "    plt.axvline(np.average(Rp_s30), color=\"red\", ls='--')\n",
    "\n",
    "    plt.ylim(0.05)\n",
    "    plt.axvline(0, color=\"grey\", ls=\"--\")\n",
    "    plt.text(-0.1, 10, s=\"Uncorrelated\", rotation=\"vertical\", fontsize=12)\n",
    "    plt.xlabel(\"Pearson R\")\n",
    "    plt.ylabel(\"frequency\")\n",
    "    plt.legend(framealpha=1)\n",
    "\n",
    "    if savefile != None:\n",
    "        plt.tight_layout()\n",
    "        plt.savefig(savefile, bbox_inches=\"tight\")\n",
    "\n",
    "    else:\n",
    "        plt.show()"
   ]
  },
  {
   "cell_type": "code",
   "execution_count": 6,
   "metadata": {},
   "outputs": [
    {
     "data": {
      "image/png": "[encoded data removed]",
      "text/plain": [
       "<Figure size 350x350 with 1 Axes>"
      ]
     },
     "metadata": {},
     "output_type": "display_data"
    }
   ],
   "source": [
    "correlation_hists([10.5, 2.0, 0.2, 0, 0, 0], 6.5, savefile=\"../../../paper_1/figures/updated/correlation.pdf\")"
   ]
  },
  {
   "cell_type": "code",
   "execution_count": 7,
   "metadata": {},
   "outputs": [],
   "source": [
    "# alphas = np.linspace(1.5, 3.5, 5)\n",
    "\n",
    "# sigmas = np.linspace(0.1, 0.5, 5)"
   ]
  },
  {
   "cell_type": "code",
   "execution_count": 8,
   "metadata": {},
   "outputs": [],
   "source": [
    "# for alpha in alphas:\n",
    "#     correlation_hists([10.5, alpha, 0.2, 0, 0, 0], 6.5)"
   ]
  }
 ],
 "metadata": {
  "kernelspec": {
   "display_name": "subhalos",
   "language": "python",
   "name": "python3"
  },
  "language_info": {
   "codemirror_mode": {
    "name": "ipython",
    "version": 3
   },
   "file_extension": ".py",
   "mimetype": "text/x-python",
   "name": "python",
   "nbconvert_exporter": "python",
   "pygments_lexer": "ipython3",
   "version": "3.10.9"
  }
 },
 "nbformat": 4,
 "nbformat_minor": 2
}
