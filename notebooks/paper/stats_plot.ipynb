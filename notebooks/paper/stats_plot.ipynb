{
 "cells": [
  {
   "cell_type": "code",
   "execution_count": 1,
   "metadata": {},
   "outputs": [],
   "source": [
    "import numpy as np\n",
    "import matplotlib.pyplot as plt\n",
    "import matplotlib.image as mpimg\n",
    "import warnings; warnings.simplefilter('ignore')\n",
    "import sys\n",
    "sys.path.insert(0, '/Users/jsmonzon/Research/SatGen/mcmc/src/')\n",
    "import jsm_halopull\n",
    "import jsm_SHMR\n",
    "import jsm_mcmc\n",
    "import jsm_stats\n",
    "import jsm_models"
   ]
  },
  {
   "cell_type": "code",
   "execution_count": 2,
   "metadata": {},
   "outputs": [],
   "source": [
    "# modelz_log = jsm_models.LOAD_MODELS(\"../../../data/cross_host/lognorm_psi3/\", Nsamples=10)\n",
    "\n",
    "# modelz_delta = jsm_models.LOAD_MODELS(\"../../../data/MW-analog/meta_data_psi3/\", Nsamples=10)\n"
   ]
  },
  {
   "cell_type": "code",
   "execution_count": 3,
   "metadata": {},
   "outputs": [
    {
     "ename": "NameError",
     "evalue": "name 'modelz_delta' is not defined",
     "output_type": "error",
     "traceback": [
      "\u001b[0;31m---------------------------------------------------------------------------\u001b[0m",
      "\u001b[0;31mNameError\u001b[0m                                 Traceback (most recent call last)",
      "Cell \u001b[0;32mIn[3], line 3\u001b[0m\n\u001b[1;32m      1\u001b[0m fid_theta \u001b[38;5;241m=\u001b[39m np\u001b[38;5;241m.\u001b[39marray([\u001b[38;5;241m10.5\u001b[39m, \u001b[38;5;241m2.0\u001b[39m, \u001b[38;5;241m0.2\u001b[39m, \u001b[38;5;241m0\u001b[39m, \u001b[38;5;241m0\u001b[39m, \u001b[38;5;241m0\u001b[39m])\n\u001b[0;32m----> 3\u001b[0m \u001b[43mmodelz_delta\u001b[49m\u001b[38;5;241m.\u001b[39mget_stats(fid_theta, \u001b[38;5;241m6.5\u001b[39m, jsm_SHMR\u001b[38;5;241m.\u001b[39mgeneral)\n\u001b[1;32m      5\u001b[0m modelz_log\u001b[38;5;241m.\u001b[39mget_stats(fid_theta, \u001b[38;5;241m6.5\u001b[39m, jsm_SHMR\u001b[38;5;241m.\u001b[39mgeneral)\n",
      "\u001b[0;31mNameError\u001b[0m: name 'modelz_delta' is not defined"
     ]
    }
   ],
   "source": [
    "fid_theta = np.array([10.5, 2.0, 0.2, 0, 0, 0])\n",
    "\n",
    "modelz_delta.get_stats(fid_theta, 6.5, jsm_SHMR.general)\n",
    "\n",
    "modelz_log.get_stats(fid_theta, 6.5, jsm_SHMR.general)"
   ]
  },
  {
   "cell_type": "code",
   "execution_count": null,
   "metadata": {},
   "outputs": [],
   "source": [
    "binz = np.linspace(6.5, 12, 60)"
   ]
  },
  {
   "cell_type": "code",
   "execution_count": null,
   "metadata": {},
   "outputs": [],
   "source": [
    "N = 8\n",
    "\n",
    "fig, axs = plt.subplots(nrows=1,ncols=2, sharey=True, figsize=(10,5))\n",
    "\n",
    "axs[0].set_title(f\"delta function \\n $\\\\theta$={fid_theta[1:3]}\")\n",
    "for i, dist in enumerate(modelz_delta.stat.max_split[1:N]):\n",
    "    axs[0].hist(dist, bins=binz, density=True, stacked=False, histtype='step', color=plt.cm.viridis_r(i/(N-1)), label=f\"Nsat = {i+1}\", lw=1.5)\n",
    "\n",
    "axs[1].set_title(f\"logormal distribution \\n $\\\\theta$={fid_theta[1:3]}\") \n",
    "for i, dist in enumerate(modelz_log.stat.max_split[1:N]):\n",
    "    axs[1].hist(dist, bins=binz, density=True, stacked=False, histtype='step', color=plt.cm.viridis_r(i/(N-1)), label=f\"Nsat = {i+1}\", lw=1.5)\n",
    "\n",
    "axs[0].set_xlabel(\"log [max($M_*$)]\")\n",
    "axs[1].set_xlabel(\"log [max($M_*$)]\")\n",
    "axs[0].set_ylabel(\"PDF\")\n",
    "axs[1].legend()\n",
    "plt.show()"
   ]
  },
  {
   "cell_type": "code",
   "execution_count": null,
   "metadata": {},
   "outputs": [],
   "source": [
    "test = np.load(\"../../../data/cross_host/lognorm_psi3/host_properties.npy\")"
   ]
  },
  {
   "cell_type": "code",
   "execution_count": null,
   "metadata": {},
   "outputs": [],
   "source": [
    "host_masses = test[:,0]\n",
    "\n",
    "from matplotlib.colors import Normalize\n",
    "from matplotlib.cm import ScalarMappable\n",
    "\n",
    "norm = Normalize(vmin=host_masses.min(), vmax=host_masses.max())\n",
    "cmap = plt.get_cmap('viridis_r')\n",
    "\n",
    "randind = np.random.randint(0,9999,20)\n"
   ]
  },
  {
   "cell_type": "code",
   "execution_count": null,
   "metadata": {},
   "outputs": [],
   "source": [
    "plt.figure(figsize=(10,8))\n",
    "\n",
    "plt.fill_between(modelz_log.stat.mass_bins, y1=modelz_log.stat.quant[0], y2=modelz_log.stat.quant[2], step=\"mid\", color=\"grey\", alpha=0.3)\n",
    "plt.step(modelz_log.stat.mass_bins, modelz_log.stat.quant[1], color=\"black\")\n",
    "\n",
    "for i in randind:\n",
    "    plt.step(modelz_log.stat.mass_bins, modelz_log.stat.CSMF_counts[i,:], color=cmap(norm(host_masses[i])), ls=\"-.\", lw=1.5, label=\"SMF realizations\", where=\"mid\")\n",
    "\n",
    "sm = ScalarMappable(cmap=cmap, norm=norm)\n",
    "sm.set_array([])\n",
    "cbar = plt.colorbar(sm, label='log Mhost')\n",
    "\n",
    "plt.xlabel(\"log $M_{*}$ (M$_\\odot$)\", fontsize=15)\n",
    "plt.ylabel(\"N (> $M_{*}$)\", fontsize=15)\n",
    "plt.yscale(\"log\")\n",
    "plt.xlim(5.5, 10.2)\n",
    "plt.ylim(0, 19)\n",
    "plt.show()"
   ]
  },
  {
   "cell_type": "code",
   "execution_count": null,
   "metadata": {},
   "outputs": [],
   "source": [
    "fid_theta = np.array([10.5, 3.0, 0.2, 0, 0, 0])\n",
    "\n",
    "modelz_delta.get_stats(fid_theta, 6.5, jsm_SHMR.general)\n",
    "\n",
    "modelz_log.get_stats(fid_theta, 6.5, jsm_SHMR.general)"
   ]
  },
  {
   "cell_type": "code",
   "execution_count": null,
   "metadata": {},
   "outputs": [],
   "source": [
    "N = 5\n",
    "\n",
    "fig, axs = plt.subplots(nrows=1,ncols=2, sharey=True, figsize=(10,5))\n",
    "\n",
    "axs[0].set_title(f\"delta function \\n $\\\\theta$={fid_theta[1:3]}\")\n",
    "for i, dist in enumerate(modelz_delta.stat.max_split[1:N]):\n",
    "    axs[0].hist(dist, bins=binz, density=True, stacked=False, histtype='step', color=plt.cm.viridis_r(i/(N-1)), label=f\"Nsat = {i+1}\", lw=1.5)\n",
    "\n",
    "axs[1].set_title(f\"logormal distribution \\n $\\\\theta$={fid_theta[1:3]}\") \n",
    "for i, dist in enumerate(modelz_log.stat.max_split[1:N]):\n",
    "    axs[1].hist(dist, bins=binz, density=True, stacked=False, histtype='step', color=plt.cm.viridis_r(i/(N-1)), label=f\"Nsat = {i+1}\", lw=1.5)\n",
    "\n",
    "axs[0].set_xlabel(\"log [max($M_*$)]\")\n",
    "axs[1].set_xlabel(\"log [max($M_*$)]\")\n",
    "axs[0].set_ylabel(\"PDF\")\n",
    "axs[1].legend()\n",
    "plt.show()"
   ]
  },
  {
   "cell_type": "code",
   "execution_count": null,
   "metadata": {},
   "outputs": [],
   "source": [
    "fid_theta = np.array([10.5, 1.75, 0.2, 0, 0, 0])\n",
    "\n",
    "modelz_delta.get_stats(fid_theta, 6.5, jsm_SHMR.general)\n",
    "\n",
    "modelz_log.get_stats(fid_theta, 6.5, jsm_SHMR.general)"
   ]
  },
  {
   "cell_type": "code",
   "execution_count": null,
   "metadata": {},
   "outputs": [],
   "source": [
    "N = 15\n",
    "start = 3\n",
    "\n",
    "fig, axs = plt.subplots(nrows=1,ncols=2, sharey=True, figsize=(10,5))\n",
    "\n",
    "axs[0].set_title(f\"delta function \\n $\\\\theta$={fid_theta[1:3]}\")\n",
    "for i, dist in enumerate(modelz_delta.stat.max_split[start:N]):\n",
    "    axs[0].hist(dist, bins=binz, density=True, stacked=False, histtype='step', color=plt.cm.viridis_r(i/(N-1)), label=f\"Nsat = {i+1+start}\", lw=1.5)\n",
    "\n",
    "axs[1].set_title(f\"logormal distribution \\n $\\\\theta$={fid_theta[1:3]}\") \n",
    "for i, dist in enumerate(modelz_log.stat.max_split[start:N]):\n",
    "    axs[1].hist(dist, bins=binz, density=True, stacked=False, histtype='step', color=plt.cm.viridis_r(i/(N-1)), label=f\"Nsat = {i+1+start}\", lw=1.5)\n",
    "\n",
    "axs[0].set_xlabel(\"log [max($M_*$)]\")\n",
    "axs[1].set_xlabel(\"log [max($M_*$)]\")\n",
    "axs[0].set_ylabel(\"PDF\")\n",
    "axs[1].legend()\n",
    "plt.show()"
   ]
  }
 ],
 "metadata": {
  "kernelspec": {
   "display_name": "subhalos",
   "language": "python",
   "name": "python3"
  },
  "language_info": {
   "codemirror_mode": {
    "name": "ipython",
    "version": 3
   },
   "file_extension": ".py",
   "mimetype": "text/x-python",
   "name": "python",
   "nbconvert_exporter": "python",
   "pygments_lexer": "ipython3",
   "version": "3.10.9"
  }
 },
 "nbformat": 4,
 "nbformat_minor": 2
}
