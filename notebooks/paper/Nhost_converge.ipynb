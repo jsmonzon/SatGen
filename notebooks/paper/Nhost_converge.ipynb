{
 "cells": [
  {
   "cell_type": "code",
   "execution_count": 1,
   "metadata": {},
   "outputs": [],
   "source": [
    "%load_ext autoreload\n",
    "%autoreload 2"
   ]
  },
  {
   "cell_type": "code",
   "execution_count": 2,
   "metadata": {},
   "outputs": [],
   "source": [
    "import numpy as np\n",
    "import matplotlib.pyplot as plt\n",
    "import matplotlib.image as mpimg\n",
    "import warnings; warnings.simplefilter('ignore')\n",
    "import sys\n",
    "sys.path.insert(0, '/Users/jsmonzon/Research/SatGen/mcmc/src/')\n",
    "import jsm_halopull\n",
    "import jsm_SHMR\n",
    "import jsm_mcmc\n",
    "import jsm_stats\n",
    "import jsm_models\n",
    "import seaborn as sns"
   ]
  },
  {
   "cell_type": "code",
   "execution_count": 3,
   "metadata": {},
   "outputs": [],
   "source": [
    "plt.style.use('../paper/paper.mplstyle')\n",
    "double_textwidth = 7.0 #inches\n",
    "single_textwidth = 3.5 #inches"
   ]
  },
  {
   "cell_type": "markdown",
   "metadata": {},
   "source": [
    "### calling in 10k merger tree realizations"
   ]
  },
  {
   "cell_type": "code",
   "execution_count": 4,
   "metadata": {},
   "outputs": [],
   "source": [
    "s0_mat = np.load(\"../../../data/MW-analog/meta_data_psi3/models.npz\")\n",
    "\n",
    "s15_mat = np.load(\"../../../data/cross_host/lognorm_015_psi3/models.npz\")\n",
    "\n",
    "s30_mat = np.load(\"../../../data/cross_host/lognorm_030_psi3/models.npz\")"
   ]
  },
  {
   "cell_type": "code",
   "execution_count": 5,
   "metadata": {},
   "outputs": [
    {
     "name": "stdout",
     "output_type": "stream",
     "text": [
      "(100, 100, 1749)\n",
      "(99, 100, 1749)\n"
     ]
    }
   ],
   "source": [
    "test_array = np.load(\"../../../data/MW-analog/meta_data_psi3/models.npz\")[\"mass\"]\n",
    "print(test_array.shape)\n",
    "test_array = np.delete(test_array, 0, axis=0)\n",
    "print(test_array.shape)"
   ]
  },
  {
   "cell_type": "code",
   "execution_count": 6,
   "metadata": {},
   "outputs": [],
   "source": [
    "hmm = test_array.reshape([990, 10, 1749])"
   ]
  },
  {
   "cell_type": "code",
   "execution_count": 7,
   "metadata": {},
   "outputs": [
    {
     "data": {
      "text/plain": [
       "(990, 10, 1749)"
      ]
     },
     "execution_count": 7,
     "metadata": {},
     "output_type": "execute_result"
    }
   ],
   "source": [
    "hmm.shape"
   ]
  },
  {
   "cell_type": "markdown",
   "metadata": {},
   "source": [
    "### first the variance in the data"
   ]
  },
  {
   "cell_type": "code",
   "execution_count": 8,
   "metadata": {},
   "outputs": [],
   "source": [
    "from scipy.stats import ks_2samp\n",
    "\n",
    "def lnL_PNsat(data, model):\n",
    "    lnL = np.sum(np.log(model.PNsat[data.Nsat_perhost]))\n",
    "    if np.isinf(lnL):\n",
    "        #print(\"index error in Pnsat\")\n",
    "        return -np.inf\n",
    "    else:\n",
    "        return lnL\n",
    "    \n",
    "def lnL_PNsat_test(data, model):\n",
    "    return model.PNsat[data.Nsat_perhost]\n",
    "\n",
    "def lnL_KS_max(data, model):\n",
    "    try:\n",
    "        clean_max_split = list(map(model.max_split.__getitem__, data.model_mask)) # this might yield an index error!\n",
    "        p_vals = np.array(list(map(lambda x, y: ks_2samp(x, y)[1], data.clean_max_split, clean_max_split)))\n",
    "        return np.sum(np.log(p_vals))\n",
    "    except IndexError:\n",
    "        #print(\"this model is not preferable!\")\n",
    "        return -np.inf"
   ]
  },
  {
   "cell_type": "code",
   "execution_count": 9,
   "metadata": {},
   "outputs": [],
   "source": [
    "def measure_lnL_dvar(meta_path):\n",
    "\n",
    "    fid_theta = [10.5, 2.0, 0,0,0.0, 0]\n",
    "    min_mass = 6.5\n",
    "\n",
    "    lnLs = []\n",
    "\n",
    "    for SAGA_ind in range(100):\n",
    "        class_i = jsm_models.SAMPLE_SAGA_MODELS(fid_theta, meta_path, SAGA_ind)\n",
    "        Dstat_i = jsm_stats.SatStats_D(class_i.lgMs_data, min_mass=min_mass, max_N=500)\n",
    "\n",
    "        lgMs_model = jsm_SHMR.general_new(fid_theta, class_i.lgMh_models, 0, 1)\n",
    "        Mstat_i = jsm_stats.SatStats_M(lgMs_model, min_mass, max_N=500)\n",
    "\n",
    "        lnL_Pnsat_i = lnL_PNsat(Dstat_i, Mstat_i)\n",
    "        lnL_KS_tot_i = lnL_KS_max(Dstat_i, Mstat_i)\n",
    "\n",
    "        lnL_i = lnL_Pnsat_i + lnL_KS_tot_i\n",
    "        lnLs.append(lnL_i)\n",
    "\n",
    "    lnLs  = np.array(lnLs)\n",
    "    lnLs_clean = lnLs[~np.isinf(lnLs)]\n",
    "\n",
    "    sns.kdeplot(lnLs_clean)\n",
    "    plt.xlabel(\"ln L\")\n",
    "    plt.title(f\"mean: {lnLs_clean.mean():.3f}, width: {lnLs_clean.std():.3f}\")\n",
    "    plt.show()\n",
    "\n",
    "    return lnLs_clean.std()"
   ]
  },
  {
   "cell_type": "code",
   "execution_count": 10,
   "metadata": {},
   "outputs": [],
   "source": [
    "#dvar = measure_lnL_dvar(\"../../../data/MW-analog/meta_data_psi3/\")\n",
    "\n",
    "dvar= 7.1"
   ]
  },
  {
   "cell_type": "markdown",
   "metadata": {},
   "source": [
    "### now the variance in the models Nhost = 10, 30, 100, 300, 1000"
   ]
  },
  {
   "cell_type": "code",
   "execution_count": 11,
   "metadata": {},
   "outputs": [],
   "source": [
    "def measure_lnL_mvar(meta_path, Nreal):\n",
    "\n",
    "    fid_theta = [10.5, 2.0, 0, 0, 0.0, 0]\n",
    "    min_mass = 6.5\n",
    "\n",
    "    lnLs = []\n",
    "\n",
    "    master = jsm_models.SAMPLE_SAGA_MODELS(fid_theta, meta_path, SAGA_ind=0, Nreal_per_model=Nreal)\n",
    "    Dstat = jsm_stats.SatStats_D(master.lgMs_data, min_mass=min_mass, max_N=500)\n",
    "\n",
    "    for model_ind in range(master.N_model_realizations):\n",
    "        lgMs_model = jsm_SHMR.general_new(fid_theta, master.lgMh_models[model_ind], 0, 1)\n",
    "        Mstat_i = jsm_stats.SatStats_M(lgMs_model, min_mass, max_N=500)\n",
    "\n",
    "        lnL_Pnsat_i = lnL_PNsat(Dstat, Mstat_i)\n",
    "        lnL_KS_tot_i = lnL_KS_max(Dstat, Mstat_i)\n",
    "\n",
    "        lnL_i = lnL_Pnsat_i + lnL_KS_tot_i\n",
    "        lnLs.append(lnL_i)\n",
    "\n",
    "    lnLs  = np.array(lnLs)\n",
    "    lnLs_clean = lnLs[~np.isinf(lnLs)]\n",
    "\n",
    "    # sns.kdeplot(lnLs_clean)\n",
    "    # plt.xlabel(\"ln L\")\n",
    "    # plt.title(f\"mean: {lnLs_clean.mean():.3f}, width: {lnLs_clean.std():.3f}\")\n",
    "    # plt.show()\n",
    "\n",
    "    return lnLs_clean.std()"
   ]
  },
  {
   "cell_type": "code",
   "execution_count": 16,
   "metadata": {},
   "outputs": [],
   "source": [
    "Nhost = np.logspace(1,3).astype(int)"
   ]
  },
  {
   "cell_type": "code",
   "execution_count": 17,
   "metadata": {},
   "outputs": [
    {
     "name": "stdout",
     "output_type": "stream",
     "text": [
      "selecting the 0  SAGA sample\n",
      "converting the subhalos to satellites and creating the mock data instance\n",
      "there are 990 unique model realizations, each made up of 10 merger trees\n",
      "there are 0 extra merger trees, deleting these unused trees\n",
      "selecting the 0  SAGA sample\n",
      "converting the subhalos to satellites and creating the mock data instance\n",
      "there are 990 unique model realizations, each made up of 10 merger trees\n",
      "there are 0 extra merger trees, deleting these unused trees\n",
      "selecting the 0  SAGA sample\n",
      "converting the subhalos to satellites and creating the mock data instance\n",
      "there are 825 unique model realizations, each made up of 12 merger trees\n",
      "there are 0 extra merger trees, deleting these unused trees\n",
      "selecting the 0  SAGA sample\n",
      "converting the subhalos to satellites and creating the mock data instance\n",
      "there are 761 unique model realizations, each made up of 13 merger trees\n",
      "there are 7 extra merger trees, deleting these unused trees\n",
      "selecting the 0  SAGA sample\n",
      "converting the subhalos to satellites and creating the mock data instance\n",
      "there are 707 unique model realizations, each made up of 14 merger trees\n",
      "there are 2 extra merger trees, deleting these unused trees\n",
      "selecting the 0  SAGA sample\n",
      "converting the subhalos to satellites and creating the mock data instance\n",
      "there are 660 unique model realizations, each made up of 15 merger trees\n",
      "there are 0 extra merger trees, deleting these unused trees\n",
      "selecting the 0  SAGA sample\n",
      "converting the subhalos to satellites and creating the mock data instance\n",
      "there are 582 unique model realizations, each made up of 17 merger trees\n",
      "there are 6 extra merger trees, deleting these unused trees\n",
      "selecting the 0  SAGA sample\n",
      "converting the subhalos to satellites and creating the mock data instance\n",
      "there are 521 unique model realizations, each made up of 19 merger trees\n",
      "there are 1 extra merger trees, deleting these unused trees\n",
      "selecting the 0  SAGA sample\n",
      "converting the subhalos to satellites and creating the mock data instance\n",
      "there are 471 unique model realizations, each made up of 21 merger trees\n",
      "there are 9 extra merger trees, deleting these unused trees\n",
      "selecting the 0  SAGA sample\n",
      "converting the subhalos to satellites and creating the mock data instance\n",
      "there are 430 unique model realizations, each made up of 23 merger trees\n",
      "there are 10 extra merger trees, deleting these unused trees\n",
      "selecting the 0  SAGA sample\n",
      "converting the subhalos to satellites and creating the mock data instance\n",
      "there are 396 unique model realizations, each made up of 25 merger trees\n",
      "there are 0 extra merger trees, deleting these unused trees\n",
      "selecting the 0  SAGA sample\n",
      "converting the subhalos to satellites and creating the mock data instance\n",
      "there are 353 unique model realizations, each made up of 28 merger trees\n",
      "there are 16 extra merger trees, deleting these unused trees\n",
      "selecting the 0  SAGA sample\n",
      "converting the subhalos to satellites and creating the mock data instance\n",
      "there are 330 unique model realizations, each made up of 30 merger trees\n",
      "there are 0 extra merger trees, deleting these unused trees\n",
      "selecting the 0  SAGA sample\n",
      "converting the subhalos to satellites and creating the mock data instance\n",
      "there are 300 unique model realizations, each made up of 33 merger trees\n",
      "there are 0 extra merger trees, deleting these unused trees\n",
      "selecting the 0  SAGA sample\n",
      "converting the subhalos to satellites and creating the mock data instance\n",
      "there are 267 unique model realizations, each made up of 37 merger trees\n",
      "there are 21 extra merger trees, deleting these unused trees\n",
      "selecting the 0  SAGA sample\n",
      "converting the subhalos to satellites and creating the mock data instance\n",
      "there are 247 unique model realizations, each made up of 40 merger trees\n",
      "there are 20 extra merger trees, deleting these unused trees\n",
      "selecting the 0  SAGA sample\n",
      "converting the subhalos to satellites and creating the mock data instance\n",
      "there are 225 unique model realizations, each made up of 44 merger trees\n",
      "there are 0 extra merger trees, deleting these unused trees\n",
      "selecting the 0  SAGA sample\n",
      "converting the subhalos to satellites and creating the mock data instance\n",
      "there are 202 unique model realizations, each made up of 49 merger trees\n",
      "there are 2 extra merger trees, deleting these unused trees\n",
      "selecting the 0  SAGA sample\n",
      "converting the subhalos to satellites and creating the mock data instance\n",
      "there are 183 unique model realizations, each made up of 54 merger trees\n",
      "there are 18 extra merger trees, deleting these unused trees\n",
      "selecting the 0  SAGA sample\n",
      "converting the subhalos to satellites and creating the mock data instance\n",
      "there are 167 unique model realizations, each made up of 59 merger trees\n",
      "there are 47 extra merger trees, deleting these unused trees\n",
      "selecting the 0  SAGA sample\n",
      "converting the subhalos to satellites and creating the mock data instance\n",
      "there are 152 unique model realizations, each made up of 65 merger trees\n",
      "there are 20 extra merger trees, deleting these unused trees\n",
      "selecting the 0  SAGA sample\n",
      "converting the subhalos to satellites and creating the mock data instance\n",
      "there are 139 unique model realizations, each made up of 71 merger trees\n",
      "there are 31 extra merger trees, deleting these unused trees\n",
      "selecting the 0  SAGA sample\n",
      "converting the subhalos to satellites and creating the mock data instance\n",
      "there are 125 unique model realizations, each made up of 79 merger trees\n",
      "there are 25 extra merger trees, deleting these unused trees\n",
      "selecting the 0  SAGA sample\n",
      "converting the subhalos to satellites and creating the mock data instance\n",
      "there are 115 unique model realizations, each made up of 86 merger trees\n",
      "there are 10 extra merger trees, deleting these unused trees\n",
      "selecting the 0  SAGA sample\n",
      "converting the subhalos to satellites and creating the mock data instance\n",
      "there are 104 unique model realizations, each made up of 95 merger trees\n",
      "there are 20 extra merger trees, deleting these unused trees\n",
      "selecting the 0  SAGA sample\n",
      "converting the subhalos to satellites and creating the mock data instance\n",
      "there are 95 unique model realizations, each made up of 104 merger trees\n",
      "there are 20 extra merger trees, deleting these unused trees\n",
      "selecting the 0  SAGA sample\n",
      "converting the subhalos to satellites and creating the mock data instance\n",
      "there are 86 unique model realizations, each made up of 115 merger trees\n",
      "there are 10 extra merger trees, deleting these unused trees\n",
      "selecting the 0  SAGA sample\n",
      "converting the subhalos to satellites and creating the mock data instance\n",
      "there are 78 unique model realizations, each made up of 126 merger trees\n",
      "there are 72 extra merger trees, deleting these unused trees\n",
      "selecting the 0  SAGA sample\n",
      "converting the subhalos to satellites and creating the mock data instance\n",
      "there are 71 unique model realizations, each made up of 138 merger trees\n",
      "there are 102 extra merger trees, deleting these unused trees\n",
      "selecting the 0  SAGA sample\n",
      "converting the subhalos to satellites and creating the mock data instance\n",
      "there are 65 unique model realizations, each made up of 152 merger trees\n",
      "there are 20 extra merger trees, deleting these unused trees\n",
      "selecting the 0  SAGA sample\n",
      "converting the subhalos to satellites and creating the mock data instance\n",
      "there are 59 unique model realizations, each made up of 167 merger trees\n",
      "there are 47 extra merger trees, deleting these unused trees\n",
      "selecting the 0  SAGA sample\n",
      "converting the subhalos to satellites and creating the mock data instance\n",
      "there are 53 unique model realizations, each made up of 184 merger trees\n",
      "there are 148 extra merger trees, deleting these unused trees\n",
      "selecting the 0  SAGA sample\n",
      "converting the subhalos to satellites and creating the mock data instance\n",
      "there are 49 unique model realizations, each made up of 202 merger trees\n",
      "there are 2 extra merger trees, deleting these unused trees\n",
      "selecting the 0  SAGA sample\n",
      "converting the subhalos to satellites and creating the mock data instance\n",
      "there are 44 unique model realizations, each made up of 222 merger trees\n",
      "there are 132 extra merger trees, deleting these unused trees\n",
      "selecting the 0  SAGA sample\n",
      "converting the subhalos to satellites and creating the mock data instance\n",
      "there are 40 unique model realizations, each made up of 244 merger trees\n",
      "there are 140 extra merger trees, deleting these unused trees\n",
      "selecting the 0  SAGA sample\n",
      "converting the subhalos to satellites and creating the mock data instance\n",
      "there are 36 unique model realizations, each made up of 268 merger trees\n",
      "there are 252 extra merger trees, deleting these unused trees\n",
      "selecting the 0  SAGA sample\n",
      "converting the subhalos to satellites and creating the mock data instance\n",
      "there are 33 unique model realizations, each made up of 294 merger trees\n",
      "there are 198 extra merger trees, deleting these unused trees\n",
      "selecting the 0  SAGA sample\n",
      "converting the subhalos to satellites and creating the mock data instance\n",
      "there are 30 unique model realizations, each made up of 323 merger trees\n",
      "there are 210 extra merger trees, deleting these unused trees\n",
      "selecting the 0  SAGA sample\n",
      "converting the subhalos to satellites and creating the mock data instance\n",
      "there are 27 unique model realizations, each made up of 355 merger trees\n",
      "there are 315 extra merger trees, deleting these unused trees\n",
      "selecting the 0  SAGA sample\n",
      "converting the subhalos to satellites and creating the mock data instance\n",
      "there are 25 unique model realizations, each made up of 390 merger trees\n",
      "there are 150 extra merger trees, deleting these unused trees\n",
      "selecting the 0  SAGA sample\n",
      "converting the subhalos to satellites and creating the mock data instance\n",
      "there are 23 unique model realizations, each made up of 429 merger trees\n",
      "there are 33 extra merger trees, deleting these unused trees\n",
      "selecting the 0  SAGA sample\n",
      "converting the subhalos to satellites and creating the mock data instance\n",
      "there are 21 unique model realizations, each made up of 471 merger trees\n",
      "there are 9 extra merger trees, deleting these unused trees\n",
      "selecting the 0  SAGA sample\n",
      "converting the subhalos to satellites and creating the mock data instance\n",
      "there are 19 unique model realizations, each made up of 517 merger trees\n",
      "there are 77 extra merger trees, deleting these unused trees\n",
      "selecting the 0  SAGA sample\n",
      "converting the subhalos to satellites and creating the mock data instance\n",
      "there are 17 unique model realizations, each made up of 568 merger trees\n",
      "there are 244 extra merger trees, deleting these unused trees\n",
      "selecting the 0  SAGA sample\n",
      "converting the subhalos to satellites and creating the mock data instance\n",
      "there are 15 unique model realizations, each made up of 625 merger trees\n",
      "there are 525 extra merger trees, deleting these unused trees\n",
      "selecting the 0  SAGA sample\n",
      "converting the subhalos to satellites and creating the mock data instance\n",
      "there are 14 unique model realizations, each made up of 686 merger trees\n",
      "there are 296 extra merger trees, deleting these unused trees\n",
      "selecting the 0  SAGA sample\n",
      "converting the subhalos to satellites and creating the mock data instance\n",
      "there are 13 unique model realizations, each made up of 754 merger trees\n",
      "there are 98 extra merger trees, deleting these unused trees\n",
      "selecting the 0  SAGA sample\n",
      "converting the subhalos to satellites and creating the mock data instance\n",
      "there are 11 unique model realizations, each made up of 828 merger trees\n",
      "there are 792 extra merger trees, deleting these unused trees\n",
      "selecting the 0  SAGA sample\n",
      "converting the subhalos to satellites and creating the mock data instance\n",
      "there are 10 unique model realizations, each made up of 910 merger trees\n",
      "there are 800 extra merger trees, deleting these unused trees\n",
      "selecting the 0  SAGA sample\n",
      "converting the subhalos to satellites and creating the mock data instance\n",
      "there are 9 unique model realizations, each made up of 1000 merger trees\n",
      "there are 900 extra merger trees, deleting these unused trees\n"
     ]
    }
   ],
   "source": [
    "Mvar = []\n",
    "for N in Nhost:\n",
    "    Mvar.append(measure_lnL_mvar(\"../../../data/MW-analog/meta_data_psi3/\", N))"
   ]
  },
  {
   "cell_type": "code",
   "execution_count": null,
   "metadata": {},
   "outputs": [],
   "source": [
    "plt.scatter(Nhost, Mvar, marker=\"+\")\n",
    "plt.axhline(dvar, ls=\"--\", color=\"k\")\n",
    "plt.axvline(1000, ls=\":\", color=\"grey\")\n",
    "plt.axvline(100, ls=\":\", color=\"grey\")\n",
    "plt.axvline(10, ls=\":\", color=\"grey\")\n",
    "plt.xscale(\"log\")\n",
    "plt.xlabel(\"$\\hat{N}_{\\mathrm{host}}$\")\n",
    "plt.ylabel(\"$\\sigma_{lnL}$\")\n",
    "plt.show()"
   ]
  },
  {
   "cell_type": "code",
   "execution_count": null,
   "metadata": {},
   "outputs": [],
   "source": []
  }
 ],
 "metadata": {
  "kernelspec": {
   "display_name": "subhalos",
   "language": "python",
   "name": "python3"
  },
  "language_info": {
   "codemirror_mode": {
    "name": "ipython",
    "version": 3
   },
   "file_extension": ".py",
   "mimetype": "text/x-python",
   "name": "python",
   "nbconvert_exporter": "python",
   "pygments_lexer": "ipython3",
   "version": "3.10.9"
  }
 },
 "nbformat": 4,
 "nbformat_minor": 2
}
