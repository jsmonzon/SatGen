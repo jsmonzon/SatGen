{
 "cells": [
  {
   "cell_type": "code",
   "execution_count": 1,
   "metadata": {},
   "outputs": [],
   "source": [
    "%load_ext autoreload\n",
    "%autoreload 2"
   ]
  },
  {
   "cell_type": "code",
   "execution_count": 2,
   "metadata": {},
   "outputs": [],
   "source": [
    "import numpy as np\n",
    "import matplotlib.pyplot as plt\n",
    "import matplotlib.image as mpimg\n",
    "import warnings; warnings.simplefilter('ignore')\n",
    "import sys\n",
    "sys.path.insert(0, '/Users/jsmonzon/Research/SatGen/mcmc/src/')\n",
    "import jsm_halopull\n",
    "import jsm_SHMR\n",
    "import jsm_mcmc\n",
    "import jsm_stats\n",
    "import jsm_models"
   ]
  },
  {
   "cell_type": "code",
   "execution_count": 3,
   "metadata": {},
   "outputs": [],
   "source": [
    "plt.style.use('../paper/paper.mplstyle')\n",
    "double_textwidth = 7.0 #inches\n",
    "single_textwidth = 3.5 #inches"
   ]
  },
  {
   "cell_type": "code",
   "execution_count": 4,
   "metadata": {},
   "outputs": [],
   "source": [
    "plabels =[\"$M_{*}$\", \"$\\\\alpha$\", \"$\\\\beta$\",\" $\\\\gamma$\", \"$\\\\sigma$\", \"$\\\\nu$\"]"
   ]
  },
  {
   "cell_type": "code",
   "execution_count": 5,
   "metadata": {},
   "outputs": [],
   "source": [
    "sigma_permutations = [0.0, 0.2, 0.4, 0.6]\n",
    "\n",
    "fixed_old = [False, True, True, False, False, False]\n"
   ]
  },
  {
   "cell_type": "markdown",
   "metadata": {},
   "source": [
    "### first the s0 permutations"
   ]
  },
  {
   "cell_type": "code",
   "execution_count": 6,
   "metadata": {},
   "outputs": [],
   "source": [
    "fixed = [False, True, False, False, True, False]\n",
    "\n",
    "sigma1_s0 = jsm_mcmc.Chain(\"../../mcmc/simple_power_law/s0/sigma_permutations/mock_0/chain.h5\", fixed=fixed, Nstack=500, Nburn=100, Nthin=15)\n",
    "\n",
    "sigma2_s0 = jsm_mcmc.Chain(\"../../mcmc/simple_power_law/s0/alpha_permutations/mock_1/chain.h5\", fixed=fixed_old, Nstack=500, Nburn=100, Nthin=15)\n",
    "\n",
    "sigma3_s0 = jsm_mcmc.Chain(\"../../mcmc/simple_power_law/s0/sigma_permutations/mock_2/chain.h5\", fixed=fixed, Nstack=500, Nburn=100, Nthin=15)\n",
    "\n",
    "sigma4_s0 = jsm_mcmc.Chain(\"../../mcmc/simple_power_law/s0/sigma_permutations/mock_3/chain.h5\", fixed=fixed, Nstack=500, Nburn=100, Nthin=15)\n",
    "\n",
    "datas_0 = [sigma1_s0.clean[:,1], sigma2_s0.clean[:,1],  sigma3_s0.clean[:,1], sigma4_s0.clean[:,1]]\n",
    "\n",
    "datas_0_alpha = [sigma1_s0.clean[:,0], sigma2_s0.clean[:,0],  sigma3_s0.clean[:,0], sigma4_s0.clean[:,0]]\n"
   ]
  },
  {
   "cell_type": "code",
   "execution_count": 7,
   "metadata": {},
   "outputs": [
    {
     "data": {
      "text/plain": [
       "['$2.00_{-0.031}^{+0.054}$', '$0.21_{-0.185}^{+0.265}$']"
      ]
     },
     "execution_count": 7,
     "metadata": {},
     "output_type": "execute_result"
    }
   ],
   "source": [
    "sigma1_s0.constraints"
   ]
  },
  {
   "cell_type": "markdown",
   "metadata": {},
   "source": [
    "### now the s15 permutations"
   ]
  },
  {
   "cell_type": "code",
   "execution_count": null,
   "metadata": {},
   "outputs": [],
   "source": [
    "fixed = [False, True, False, False, True, False]\n",
    "\n",
    "sigma1_s15 = jsm_mcmc.Chain(\"../../mcmc/simple_power_law/s15/sigma_permutations/mock_0/chain.h5\", fixed=fixed, Nstack=500, Nburn=100, Nthin=15)\n",
    "\n",
    "sigma2_s15 = jsm_mcmc.Chain(\"../../mcmc/simple_power_law/s15/alpha_permutations/mock_1/chain.h5\", fixed=fixed, Nstack=500, Nburn=100, Nthin=15)\n",
    "\n",
    "sigma3_s15 = jsm_mcmc.Chain(\"../../mcmc/simple_power_law/s15/sigma_permutations/mock_2/chain.h5\", fixed=fixed, Nstack=500, Nburn=100, Nthin=15)\n",
    "\n",
    "sigma4_s15 = jsm_mcmc.Chain(\"../../mcmc/simple_power_law/s15/sigma_permutations/mock_3/chain.h5\", fixed=fixed, Nstack=500, Nburn=100, Nthin=15)\n",
    "\n",
    "datas_15 = [sigma1_s15.clean[:,1], sigma2_s15.clean[:,1],  sigma3_s15.clean[:,1], sigma4_s15.clean[:,1]]\n",
    "\n",
    "datas_15_alpha = [sigma1_s15.clean[:,0], sigma2_s15.clean[:,0],  sigma3_s15.clean[:,0], sigma4_s15.clean[:,0]]"
   ]
  },
  {
   "cell_type": "markdown",
   "metadata": {},
   "source": [
    "### now the s30 permutations"
   ]
  },
  {
   "cell_type": "code",
   "execution_count": null,
   "metadata": {},
   "outputs": [],
   "source": [
    "fixed = [False, True, False, False, True, False]\n",
    "\n",
    "sigma1_s30 = jsm_mcmc.Chain(\"../../mcmc/simple_power_law/s30/sigma_permutations/mock_0/chain.h5\", fixed=fixed, Nstack=500, Nburn=100, Nthin=15)\n",
    "\n",
    "sigma2_s30 = jsm_mcmc.Chain(\"../../mcmc/simple_power_law/s30/alpha_permutations/mock_2/chain.h5\", fixed=fixed_old, Nstack=500, Nburn=100, Nthin=15)\n",
    "\n",
    "sigma3_s30 = jsm_mcmc.Chain(\"../../mcmc/simple_power_law/s30/sigma_permutations/mock_2/chain.h5\", fixed=fixed, Nstack=500, Nburn=100, Nthin=15)\n",
    "\n",
    "sigma4_s30 = jsm_mcmc.Chain(\"../../mcmc/simple_power_law/s30/sigma_permutations/mock_3/chain.h5\", fixed=fixed, Nstack=500, Nburn=100, Nthin=15)\n",
    "\n",
    "datas_30 = [sigma1_s30.clean[:,1], sigma2_s30.clean[:,1],  sigma3_s30.clean[:,1], sigma4_s30.clean[:,1]]\n",
    "\n",
    "datas_30_alpha = [sigma1_s30.clean[:,0], sigma2_s30.clean[:,0],  sigma3_s30.clean[:,0], sigma4_s30.clean[:,0]]"
   ]
  },
  {
   "cell_type": "code",
   "execution_count": null,
   "metadata": {},
   "outputs": [],
   "source": [
    "fig, axs = plt.subplots(ncols=3, nrows=2, sharex=True, sharey=\"row\", figsize=(double_textwidth, 5))\n",
    "\n",
    "qaunts = [[0.16, 0.5, 0.84], [0.16, 0.5, 0.84], [0.16, 0.5, 0.84], [0.16, 0.5, 0.84]]\n",
    "\n",
    "violins_s0 = axs[0, 0].violinplot(datas_0, positions=sigma_permutations, widths=0.18, showmedians=True, showextrema=True)#, quantiles = qaunts)\n",
    "violins_s15 = axs[0, 1].violinplot(datas_15, positions=sigma_permutations, widths=0.18, showmedians=True, showextrema=True)#, quantiles = qaunts)\n",
    "violins_s30 = axs[0, 2].violinplot(datas_30, positions=sigma_permutations, widths=0.18, showmedians=True, showextrema=True)#, quantiles = qaunts)\n",
    "\n",
    "violins_s0_sigma = axs[1, 0].violinplot(datas_0_alpha, positions=sigma_permutations, widths=0.18, showmedians=True, showextrema=True)#, quantiles = qaunts)\n",
    "violins_s15_sigma = axs[1, 1].violinplot(datas_15_alpha, positions=sigma_permutations, widths=0.18, showmedians=True, showextrema=True)#, quantiles = qaunts)\n",
    "violins_s30_sigma = axs[1, 2].violinplot(datas_30_alpha, positions=sigma_permutations, widths=0.18, showmedians=True, showextrema=True)#, quantiles = qaunts)\n",
    "\n",
    "violinz = [violins_s0, violins_s0_sigma, violins_s15, violins_s15_sigma, violins_s30, violins_s30_sigma]\n",
    "colors = [\"green\", \"green\", \"darkorange\", \"darkorange\", \"red\", \"red\"]\n",
    "\n",
    "for violin in violinz:\n",
    "    for pc in violin['bodies']:\n",
    "        pc.set_facecolor('grey')\n",
    "        pc.set_edgecolor('black')\n",
    "\n",
    "for ind, violin in enumerate(violinz):\n",
    "    vp = violin['cmedians']\n",
    "    vp.set_edgecolor(colors[ind])\n",
    "    vp.set_linewidth(2.5)\n",
    "\n",
    "for partname in ('cmins', 'cmaxes', 'cbars'):\n",
    "    for ind, violin in enumerate(violinz):\n",
    "        vp = violin[partname]\n",
    "        vp.set_edgecolor(\"grey\")\n",
    "        vp.set_linewidth(1)\n",
    "\n",
    "axs[0, 0].set_xticks(sigma_permutations, [\"0.0\", \"0.2\", \"0.4\", \"0.6\"])\n",
    "\n",
    "xpoints = ypoints = axs[0, 0].get_xlim()\n",
    "axs[0, 0].plot(xpoints, ypoints, ls='--', color='grey', scalex=False, scaley=False, zorder=0, alpha=0.7)\n",
    "axs[0, 1].plot(xpoints, ypoints, ls='--', color='grey', scalex=False, scaley=False, zorder=0, alpha=0.7)\n",
    "axs[0, 2].plot(xpoints, ypoints, ls='--', color='grey', scalex=False, scaley=False, zorder=0, alpha=0.7)\n",
    "\n",
    "axs[1, 0].axhline(2.0, ls='--', color='grey', alpha=0.7)\n",
    "axs[1, 1].axhline(2.0, ls='--', color='grey', alpha=0.7)\n",
    "axs[1, 2].axhline(2.0, ls='--', color='grey', alpha=0.7)\n",
    "\n",
    "\n",
    "axs[0, 0].set_ylabel('$\\\\sigma_{\\mathrm{inferred}}$')\n",
    "axs[1, 0].set_ylabel('$\\\\alpha_{\\mathrm{inferred}}$')\n",
    "\n",
    "axs[1, 0].set_xlabel(\"$\\\\sigma_{\\mathrm{assumed}}$\")\n",
    "axs[1, 1].set_xlabel(\"$\\\\sigma_{\\mathrm{assumed}}$\")\n",
    "axs[1, 2].set_xlabel(\"$\\\\sigma_{\\mathrm{assumed}}$\")\n",
    "\n",
    "axs[0, 0].text(0.1, 0.85, \"$S_0$\", transform=axs[0, 0].transAxes, fontweight='bold', bbox=dict(facecolor='white', alpha=1, edgecolor=\"green\"))\n",
    "axs[0, 1].text(0.1, 0.85, \"$S_{15}$\", transform=axs[0, 1].transAxes, fontweight='bold', bbox=dict(facecolor='white', alpha=1, edgecolor=\"darkorange\"))\n",
    "axs[0, 2].text(0.1, 0.85, \"$S_{30}$\", transform=axs[0, 2].transAxes, fontweight='bold', bbox=dict(facecolor='white', alpha=1, edgecolor=\"red\"))\n",
    "\n",
    "plt.tight_layout()\n",
    "plt.savefig(\"../../../paper_1/figures/feature_recovery/sigma_permuations.pdf\", bbox_inches=\"tight\")\n",
    "plt.show()"
   ]
  },
  {
   "cell_type": "code",
   "execution_count": null,
   "metadata": {},
   "outputs": [],
   "source": [
    "from astropy.table import QTable\n",
    "\n",
    "samples = [\"$S_0$\"]*4 + [\"$S_{15}$\"]*4 + [\"$S_{30}$\"]*4\n",
    "\n",
    "input_alphas = [\"2.0\"] * 12\n",
    "\n",
    "input_sigmas = [\"0.0\", \"0.2\", \"0.4\", \"0.6\"] * 3"
   ]
  },
  {
   "cell_type": "code",
   "execution_count": null,
   "metadata": {},
   "outputs": [],
   "source": [
    "\n",
    "out_alphas = [sigma1_s0.constraints[0], sigma2_s0.constraints[0], sigma3_s0.constraints[0], sigma4_s0.constraints[0],\n",
    "              sigma1_s15.constraints[0], sigma2_s15.constraints[0], sigma3_s15.constraints[0], sigma4_s15.constraints[0],\n",
    "              sigma1_s30.constraints[0], sigma2_s30.constraints[0], sigma3_s30.constraints[0], sigma4_s30.constraints[0]]\n",
    "\n",
    "out_sigmas = [sigma1_s0.constraints[1], sigma2_s0.constraints[1], sigma3_s0.constraints[1], sigma4_s0.constraints[1],\n",
    "              sigma1_s15.constraints[1], sigma2_s15.constraints[1], sigma3_s15.constraints[1], sigma4_s15.constraints[1],\n",
    "              sigma1_s30.constraints[1], sigma2_s30.constraints[1], sigma3_s30.constraints[1], sigma4_s30.constraints[1]]"
   ]
  },
  {
   "cell_type": "code",
   "execution_count": null,
   "metadata": {},
   "outputs": [],
   "source": [
    "tab = QTable([samples, input_alphas, input_sigmas, out_alphas, out_sigmas],\n",
    "           names=('sample', 'input $\\\\alpha$', 'input $\\\\sigma$', 'output $\\\\alpha$', 'output $\\\\sigma$'))\n",
    "\n",
    "tab.write(filename=\"../../../paper_1/test.txt\", format=\"latex\", overwrite=True)"
   ]
  },
  {
   "cell_type": "code",
   "execution_count": null,
   "metadata": {},
   "outputs": [],
   "source": [
    "# fig, axs = plt.subplots(ncols=3, sharex=True, sharey=True, figsize=(12,4))\n",
    "\n",
    "# violins_s0 = axs[0].violinplot(datas_0, showmeans=False, showmedians=True, positions=sigma_permutations, widths=0.2, showextrema=True)\n",
    "# violins_s15 = axs[1].violinplot(datas_15, showmeans=False, showmedians=True, positions=sigma_permutations, widths=0.2, showextrema=True)\n",
    "# violins_s30 = axs[2].violinplot(datas_30, showmeans=False, showmedians=True, positions=sigma_permutations, widths=0.2, showextrema=True)\n",
    "\n",
    "# for violin in [violins_s0, violins_s15, violins_s30]:\n",
    "#     for pc in violin['bodies']:\n",
    "#         pc.set_facecolor('grey')\n",
    "#         pc.set_edgecolor('black')\n",
    "\n",
    "# for partname in ('cbars', 'cmins', 'cmaxes', 'cmedians'):\n",
    "#     vp = violins_s0[partname]\n",
    "#     vp.set_edgecolor(\"green\")\n",
    "#     vp.set_linewidth(1)\n",
    "\n",
    "# for partname in ('cbars', 'cmins', 'cmaxes', 'cmedians'):\n",
    "#     vp = violins_s15[partname]\n",
    "#     vp.set_edgecolor(\"darkorange\")\n",
    "#     vp.set_linewidth(1)\n",
    "\n",
    "# for partname in ('cbars', 'cmins', 'cmaxes', 'cmedians'):\n",
    "#     vp = violins_s30[partname]\n",
    "#     vp.set_edgecolor(\"red\")\n",
    "#     vp.set_linewidth(1)\n",
    "\n",
    "\n",
    "# # violins_s0['cmedians'].set_color(\"green\")\n",
    "# # violins_s15['cmedians'].set_color(\"darkorange\")\n",
    "# # violins_s30['cmedians'].set_color(\"red\")\n",
    "\n",
    "# axs[0].set_xticks(sigma_permutations, [\"0.0\", \"0.2\", \"0.4\", \"0.6\"])\n",
    "\n",
    "# xpoints = ypoints = axs[0].get_xlim()\n",
    "# axs[0].plot(xpoints, ypoints, linestyle='--', color='k', scalex=False, scaley=False, zorder=0, alpha=0.7, lw=2)\n",
    "# axs[1].plot(xpoints, ypoints, linestyle='--', color='k', scalex=False, scaley=False, zorder=0, alpha=0.7, lw=2)\n",
    "# axs[2].plot(xpoints, ypoints, linestyle='--', color='k', scalex=False, scaley=False, zorder=0, alpha=0.7, lw=2)\n",
    "\n",
    "# axs[0].set_ylabel('$\\\\sigma_{\\mathrm{inferred}}$', fontsize=15)\n",
    "# axs[0].set_xlabel(\"$\\\\sigma_{\\mathrm{assumed}}$\", fontsize=15)\n",
    "# axs[1].set_xlabel(\"$\\\\sigma_{\\mathrm{assumed}}$\", fontsize=15)\n",
    "# axs[2].set_xlabel(\"$\\\\sigma_{\\mathrm{assumed}}$\", fontsize=15)\n",
    "\n",
    "# axs[0].text(0.1, 0.84, \"$S_0$\", transform=axs[0].transAxes, fontsize=20, fontweight='bold', bbox=dict(facecolor='white', alpha=1, edgecolor=\"green\"))\n",
    "# axs[1].text(0.1, 0.84, \"$S_{15}$\", transform=axs[1].transAxes, fontsize=20, fontweight='bold', bbox=dict(facecolor='white', alpha=1, edgecolor=\"darkorange\"))\n",
    "# axs[2].text(0.1, 0.84, \"$S_{30}$\", transform=axs[2].transAxes, fontsize=20, fontweight='bold', bbox=dict(facecolor='white', alpha=1, edgecolor=\"red\"))\n",
    "\n",
    "# plt.tight_layout()\n",
    "# plt.savefig(\"../../../paper_1/figures/feature_recovery/sigma_permuations.pdf\", bbox_inches=\"tight\")\n",
    "# plt.show()"
   ]
  },
  {
   "cell_type": "code",
   "execution_count": null,
   "metadata": {},
   "outputs": [],
   "source": []
  }
 ],
 "metadata": {
  "kernelspec": {
   "display_name": "subhalos",
   "language": "python",
   "name": "python3"
  },
  "language_info": {
   "codemirror_mode": {
    "name": "ipython",
    "version": 3
   },
   "file_extension": ".py",
   "mimetype": "text/x-python",
   "name": "python",
   "nbconvert_exporter": "python",
   "pygments_lexer": "ipython3",
   "version": "3.10.9"
  },
  "orig_nbformat": 4
 },
 "nbformat": 4,
 "nbformat_minor": 2
}
