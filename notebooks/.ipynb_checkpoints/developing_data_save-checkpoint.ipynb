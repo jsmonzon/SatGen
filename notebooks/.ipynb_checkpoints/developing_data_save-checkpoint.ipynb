{
 "cells": [
  {
   "cell_type": "code",
   "execution_count": 1,
   "id": "c97c96f4",
   "metadata": {
    "scrolled": true
   },
   "outputs": [],
   "source": [
    "import numpy as np\n",
    "import scipy\n",
    "import matplotlib.pyplot as plt\n",
    "\n",
    "import matplotlib.cm as cm\n",
    "    \n",
    "import sys  \n",
    "sys.path.insert(0, '../src/')\n",
    "\n",
    "from astropy.table import Table\n",
    "\n",
    "from jsm_routines import accretion_mass, surviving_mass, accretion_surviving_mass, SHMF\n",
    "import os"
   ]
  },
  {
   "cell_type": "code",
   "execution_count": 14,
   "id": "1a594d21",
   "metadata": {
    "scrolled": true
   },
   "outputs": [],
   "source": [
    "file = \"../data_test/12_5_0/tree_2.npz\""
   ]
  },
  {
   "cell_type": "code",
   "execution_count": 15,
   "id": "28aacb94",
   "metadata": {},
   "outputs": [],
   "source": [
    "numpy_test = np.load(file)"
   ]
  },
  {
   "cell_type": "code",
   "execution_count": 16,
   "id": "2ac109ef",
   "metadata": {},
   "outputs": [
    {
     "data": {
      "text/plain": [
       "(14024, 354)"
      ]
     },
     "execution_count": 16,
     "metadata": {},
     "output_type": "execute_result"
    }
   ],
   "source": [
    "numpy_test[\"mass\"].shape"
   ]
  },
  {
   "cell_type": "code",
   "execution_count": 20,
   "id": "390ee17d",
   "metadata": {},
   "outputs": [],
   "source": [
    "fiel = \"tree_2123.npz\""
   ]
  },
  {
   "cell_type": "code",
   "execution_count": 21,
   "id": "a651ccfc",
   "metadata": {},
   "outputs": [
    {
     "data": {
      "text/plain": [
       "'tree_2123'"
      ]
     },
     "execution_count": 21,
     "metadata": {},
     "output_type": "execute_result"
    }
   ],
   "source": [
    "fiel[0:-4]"
   ]
  },
  {
   "cell_type": "code",
   "execution_count": 5,
   "id": "23aa517d",
   "metadata": {},
   "outputs": [],
   "source": [
    "Nreal = 1\n",
    "Nhalo = 1700\n",
    "\n",
    "acc_mass = np.zeros(shape=(Nreal, Nhalo))\n",
    "\n",
    "acc_redshift = np.zeros(shape=(Nreal, Nhalo))"
   ]
  },
  {
   "cell_type": "code",
   "execution_count": 6,
   "id": "b4407b99",
   "metadata": {},
   "outputs": [
    {
     "name": "stdout",
     "output_type": "stream",
     "text": [
      "1610\n"
     ]
    }
   ],
   "source": [
    "mass_clean, red_clean = accretion_mass(file)\n",
    "\n",
    "print(len(mass_clean))\n",
    "\n",
    "mass = np.pad(mass_clean, (0,Nhalo-len(mass_clean)), mode=\"constant\", constant_values=0)\n",
    "\n",
    "red = np.pad(red_clean, (0,Nhalo-len(red_clean)), mode=\"constant\", constant_values=np.nan)\n",
    "\n",
    "acc_mass[0,:] = mass\n",
    "\n",
    "acc_redshift[0,:] = red"
   ]
  },
  {
   "cell_type": "code",
   "execution_count": null,
   "id": "6a1ce026",
   "metadata": {},
   "outputs": [],
   "source": [
    "mass_clean, red_clean = accretion_mass(file, plot_evo=True)"
   ]
  },
  {
   "cell_type": "markdown",
   "id": "a589983c",
   "metadata": {},
   "source": [
    "### unevolved"
   ]
  },
  {
   "cell_type": "code",
   "execution_count": null,
   "id": "1b2c74dc",
   "metadata": {
    "scrolled": true
   },
   "outputs": [],
   "source": [
    "datadir = \"../../prelim/output_tree/\""
   ]
  },
  {
   "cell_type": "code",
   "execution_count": null,
   "id": "ff9fe82e",
   "metadata": {},
   "outputs": [],
   "source": []
  },
  {
   "cell_type": "code",
   "execution_count": null,
   "id": "50fc6447",
   "metadata": {
    "scrolled": true
   },
   "outputs": [],
   "source": [
    "Nreal = len([entry for entry in os.listdir(datadir)])\n",
    "Nhalo = 200\n",
    "\n",
    "acc_mass = np.zeros(shape=(Nreal, Nhalo))\n",
    "\n",
    "acc_redshift = np.zeros(shape=(Nreal, Nhalo))"
   ]
  },
  {
   "cell_type": "code",
   "execution_count": null,
   "id": "e8f22e35",
   "metadata": {
    "scrolled": false
   },
   "outputs": [],
   "source": [
    "for i,filename in enumerate(os.listdir(datadir)):\n",
    "        \n",
    "    file = os.path.join(datadir, filename)\n",
    "        \n",
    "    mass_clean, red_clean = accretion_mass(file)\n",
    "    \n",
    "    mass = np.pad(mass_clean, (0,Nhalo-len(mass_clean)), mode=\"constant\", constant_values=0)\n",
    "    \n",
    "    red = np.pad(red_clean, (0,Nhalo-len(red_clean)), mode=\"constant\", constant_values=np.nan)\n",
    "    \n",
    "    acc_mass[i,:] = mass\n",
    "    \n",
    "    acc_redshift[i,:] = red"
   ]
  },
  {
   "cell_type": "code",
   "execution_count": null,
   "id": "97edb4c3",
   "metadata": {
    "scrolled": true
   },
   "outputs": [],
   "source": [
    "SHMF(acc_mass, acc_redshift)"
   ]
  },
  {
   "cell_type": "markdown",
   "id": "7e89bc0e",
   "metadata": {},
   "source": [
    "### surviving"
   ]
  },
  {
   "cell_type": "code",
   "execution_count": null,
   "id": "7eb3d0b8",
   "metadata": {
    "scrolled": true
   },
   "outputs": [],
   "source": [
    "datadir = \"../../prelim/output_evolve/\""
   ]
  },
  {
   "cell_type": "code",
   "execution_count": null,
   "id": "9caa071a",
   "metadata": {
    "scrolled": true
   },
   "outputs": [],
   "source": [
    "Nreal = len([entry for entry in os.listdir(datadir)])\n",
    "Nhalo = 200\n",
    "\n",
    "surv_mass = np.zeros(shape=(Nreal, Nhalo))\n",
    "\n",
    "surv_redshift = np.zeros(shape=(Nreal, Nhalo))"
   ]
  },
  {
   "cell_type": "code",
   "execution_count": null,
   "id": "2ede286c",
   "metadata": {
    "scrolled": false
   },
   "outputs": [],
   "source": [
    "for i,filename in enumerate(os.listdir(datadir)):\n",
    "        \n",
    "    file = os.path.join(datadir, filename)\n",
    "        \n",
    "    mass_clean = surviving_mass(file, 10**9)\n",
    "    \n",
    "    mass = np.pad(mass_clean, (0,Nhalo-len(mass_clean)), mode=\"constant\", constant_values=0)\n",
    "        \n",
    "    surv_mass[i,:] = mass"
   ]
  },
  {
   "cell_type": "code",
   "execution_count": null,
   "id": "ec657a30",
   "metadata": {},
   "outputs": [],
   "source": [
    "SHMF(surv_mass, 0)"
   ]
  },
  {
   "cell_type": "markdown",
   "id": "731d1230",
   "metadata": {},
   "source": [
    "### accreation mass of surviving"
   ]
  },
  {
   "cell_type": "code",
   "execution_count": null,
   "id": "a057a0ac",
   "metadata": {},
   "outputs": [],
   "source": [
    "Nreal = len([entry for entry in os.listdir(datadir)])\n",
    "Nhalo = 200\n",
    "\n",
    "surv_acc_mass = np.zeros(shape=(Nreal, Nhalo))\n",
    "\n",
    "surv_acc_redshift = np.zeros(shape=(Nreal, Nhalo))"
   ]
  },
  {
   "cell_type": "code",
   "execution_count": null,
   "id": "b1a980d2",
   "metadata": {},
   "outputs": [],
   "source": [
    "for i,filename in enumerate(os.listdir(datadir)):\n",
    "        \n",
    "    file = os.path.join(datadir, filename)\n",
    "        \n",
    "    mass_clean, red_clean = accretion_mass_surv(file, 10**9)\n",
    "    \n",
    "    mass = np.pad(mass_clean, (0,Nhalo-len(mass_clean)), mode=\"constant\", constant_values=0)\n",
    "    \n",
    "    red = np.pad(red_clean, (0,Nhalo-len(red_clean)), mode=\"constant\", constant_values=np.nan)\n",
    "    \n",
    "    surv_acc_mass[i,:] = mass\n",
    "    \n",
    "    surv_acc_redshift[i,:] = red"
   ]
  },
  {
   "cell_type": "code",
   "execution_count": null,
   "id": "9174e210",
   "metadata": {},
   "outputs": [],
   "source": [
    "SHMF(surv_acc_mass, 0)"
   ]
  },
  {
   "cell_type": "code",
   "execution_count": null,
   "id": "2b4c4d41",
   "metadata": {},
   "outputs": [],
   "source": []
  }
 ],
 "metadata": {
  "kernelspec": {
   "display_name": "Python 3 (ipykernel)",
   "language": "python",
   "name": "python3"
  },
  "language_info": {
   "codemirror_mode": {
    "name": "ipython",
    "version": 3
   },
   "file_extension": ".py",
   "mimetype": "text/x-python",
   "name": "python",
   "nbconvert_exporter": "python",
   "pygments_lexer": "ipython3",
   "version": "3.10.8"
  }
 },
 "nbformat": 4,
 "nbformat_minor": 5
}
