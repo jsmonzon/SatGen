{
 "cells": [
  {
   "cell_type": "code",
   "execution_count": 1,
   "id": "c2a659bc",
   "metadata": {},
   "outputs": [],
   "source": [
    "import numpy as np\n",
    "import scipy\n",
    "import matplotlib.pyplot as plt\n",
    "\n",
    "import matplotlib.cm as cm\n",
    "    \n",
    "import sys  \n",
    "sys.path.insert(0, '../src/')\n",
    "\n",
    "from astropy.table import Table\n",
    "\n",
    "from jsm_routines import data_save, SHMF\n",
    "import os"
   ]
  },
  {
   "cell_type": "code",
   "execution_count": 2,
   "id": "224adac9",
   "metadata": {},
   "outputs": [],
   "source": [
    "data_save(\"../../prelim/output_tree/\", \"../../prelim/output_tree/\", \"acc\")"
   ]
  },
  {
   "cell_type": "code",
   "execution_count": 3,
   "id": "80cbe758",
   "metadata": {},
   "outputs": [],
   "source": [
    "data_save(\"../../prelim/output_evolve/\", \"../../prelim/output_evolve/\", \"acc_surv\")"
   ]
  },
  {
   "cell_type": "code",
   "execution_count": 4,
   "id": "4079f2d4",
   "metadata": {},
   "outputs": [],
   "source": [
    "data_save(\"../../prelim/output_evolve/\", \"../../prelim/output_evolve/\", \"surv\")"
   ]
  },
  {
   "cell_type": "code",
   "execution_count": null,
   "id": "ddcb4daf",
   "metadata": {},
   "outputs": [],
   "source": [
    "mass = np.load(\"../../prelim/output_evolve/surv_mass.npy\")\n",
    "\n",
    "red = np.load(\"../../prelim/output_evolve/surv_redshift.npy\")"
   ]
  },
  {
   "cell_type": "code",
   "execution_count": null,
   "id": "d3936f56",
   "metadata": {},
   "outputs": [],
   "source": [
    "SHMF(mass, red)"
   ]
  },
  {
   "cell_type": "code",
   "execution_count": null,
   "id": "7061d3ca",
   "metadata": {},
   "outputs": [],
   "source": []
  }
 ],
 "metadata": {
  "kernelspec": {
   "display_name": "Python 3 (ipykernel)",
   "language": "python",
   "name": "python3"
  },
  "language_info": {
   "codemirror_mode": {
    "name": "ipython",
    "version": 3
   },
   "file_extension": ".py",
   "mimetype": "text/x-python",
   "name": "python",
   "nbconvert_exporter": "python",
   "pygments_lexer": "ipython3",
   "version": "3.9.12"
  }
 },
 "nbformat": 4,
 "nbformat_minor": 5
}
