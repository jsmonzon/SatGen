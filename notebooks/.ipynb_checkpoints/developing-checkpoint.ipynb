{
 "cells": [
  {
   "cell_type": "code",
   "execution_count": 1,
   "id": "be34450b",
   "metadata": {
    "scrolled": true
   },
   "outputs": [
    {
     "name": "stdout",
     "output_type": "stream",
     "text": [
      ">>> Normalizing primordial power spectrum P(k)=(k/k_0)^n_s ...\n",
      "    such that sigma(R=8Mpc/h) =   0.8000.\n",
      ">>> Tabulating sigma(M,z=0) ...\n",
      "    From now on, sigma(M,z) is computed by interpolation.\n",
      ">>> Tabulating z(W) and z(t_lkbk)...\n",
      ">>> Preparing output redshifts for merger trees ...\n",
      "    Number of output redshifts =  354, up to z = 20.06\n",
      ">>> Tabulating Parkinson+08 J(u_res) ...\n",
      ">>> Building interpolation grid for Green+19 M(<r|f_b,c)...\n",
      ">>> Building interpolation grid for Green+19 sigma(r|f_b,c)...\n",
      ">>> Building interpolation grid for Green+19 d2Phidr2(r|f_b,c)...\n",
      ">>> Building interpolator for Jiang+15 orbit sampler...\n"
     ]
    }
   ],
   "source": [
    "import numpy as np\n",
    "import scipy\n",
    "import matplotlib.pyplot as plt\n",
    "\n",
    "import matplotlib.cm as cm\n",
    "    \n",
    "import sys  \n",
    "sys.path.insert(0, '../src/')\n",
    "\n",
    "from astropy.table import Table\n",
    "\n",
    "import jsm_routines\n",
    "import galhalo\n",
    "import os"
   ]
  },
  {
   "cell_type": "markdown",
   "id": "12470aa7",
   "metadata": {},
   "source": [
    "### SOME MISC apps"
   ]
  },
  {
   "cell_type": "code",
   "execution_count": null,
   "id": "834075b6",
   "metadata": {},
   "outputs": [],
   "source": [
    "Nreal = 1\n",
    "Nhalo = 1700\n",
    "\n",
    "acc_mass = np.zeros(shape=(Nreal, Nhalo))\n",
    "\n",
    "acc_redshift = np.zeros(shape=(Nreal, Nhalo))"
   ]
  },
  {
   "cell_type": "code",
   "execution_count": null,
   "id": "27a5ca38",
   "metadata": {},
   "outputs": [],
   "source": [
    "mass_clean, red_clean = accretion_mass(file)\n",
    "\n",
    "print(len(mass_clean))\n",
    "\n",
    "mass = np.pad(mass_clean, (0,Nhalo-len(mass_clean)), mode=\"constant\", constant_values=0)\n",
    "\n",
    "red = np.pad(red_clean, (0,Nhalo-len(red_clean)), mode=\"constant\", constant_values=np.nan)\n",
    "\n",
    "acc_mass[0,:] = mass\n",
    "\n",
    "acc_redshift[0,:] = red"
   ]
  },
  {
   "cell_type": "code",
   "execution_count": null,
   "id": "3bf27d18",
   "metadata": {},
   "outputs": [],
   "source": [
    "mass_clean, red_clean = accretion_mass(file, plot_evo=True)"
   ]
  },
  {
   "cell_type": "markdown",
   "id": "74cfd50f",
   "metadata": {},
   "source": [
    "### unevolved"
   ]
  },
  {
   "cell_type": "code",
   "execution_count": null,
   "id": "01ab73fa",
   "metadata": {
    "scrolled": true
   },
   "outputs": [],
   "source": [
    "datadir = \"../../prelim/output_tree/\""
   ]
  },
  {
   "cell_type": "code",
   "execution_count": null,
   "id": "5c94887f",
   "metadata": {
    "scrolled": true
   },
   "outputs": [],
   "source": [
    "Nreal = len([entry for entry in os.listdir(datadir)])\n",
    "Nhalo = 200\n",
    "\n",
    "acc_mass = np.zeros(shape=(Nreal, Nhalo))\n",
    "\n",
    "acc_redshift = np.zeros(shape=(Nreal, Nhalo))"
   ]
  },
  {
   "cell_type": "code",
   "execution_count": null,
   "id": "fe8a6879",
   "metadata": {
    "scrolled": false
   },
   "outputs": [],
   "source": [
    "for i,filename in enumerate(os.listdir(datadir)):\n",
    "        \n",
    "    file = os.path.join(datadir, filename)\n",
    "        \n",
    "    mass_clean, red_clean = accretion_mass(file)\n",
    "    \n",
    "    mass = np.pad(mass_clean, (0,Nhalo-len(mass_clean)), mode=\"constant\", constant_values=0)\n",
    "    \n",
    "    red = np.pad(red_clean, (0,Nhalo-len(red_clean)), mode=\"constant\", constant_values=np.nan)\n",
    "    \n",
    "    acc_mass[i,:] = mass\n",
    "    \n",
    "    acc_redshift[i,:] = red"
   ]
  },
  {
   "cell_type": "code",
   "execution_count": null,
   "id": "e763c23b",
   "metadata": {
    "scrolled": true
   },
   "outputs": [],
   "source": [
    "SHMF(acc_mass, acc_redshift)"
   ]
  },
  {
   "cell_type": "markdown",
   "id": "06159b39",
   "metadata": {},
   "source": [
    "### surviving"
   ]
  },
  {
   "cell_type": "code",
   "execution_count": null,
   "id": "c339e340",
   "metadata": {
    "scrolled": true
   },
   "outputs": [],
   "source": [
    "datadir = \"../../prelim/output_evolve/\""
   ]
  },
  {
   "cell_type": "code",
   "execution_count": null,
   "id": "b574f079",
   "metadata": {
    "scrolled": true
   },
   "outputs": [],
   "source": [
    "Nreal = len([entry for entry in os.listdir(datadir)])\n",
    "Nhalo = 200\n",
    "\n",
    "surv_mass = np.zeros(shape=(Nreal, Nhalo))\n",
    "\n",
    "surv_redshift = np.zeros(shape=(Nreal, Nhalo))"
   ]
  },
  {
   "cell_type": "code",
   "execution_count": null,
   "id": "b319168a",
   "metadata": {
    "scrolled": false
   },
   "outputs": [],
   "source": [
    "for i,filename in enumerate(os.listdir(datadir)):\n",
    "        \n",
    "    file = os.path.join(datadir, filename)\n",
    "        \n",
    "    mass_clean = surviving_mass(file, 10**9)\n",
    "    \n",
    "    mass = np.pad(mass_clean, (0,Nhalo-len(mass_clean)), mode=\"constant\", constant_values=0)\n",
    "        \n",
    "    surv_mass[i,:] = mass"
   ]
  },
  {
   "cell_type": "code",
   "execution_count": null,
   "id": "daaa4cf5",
   "metadata": {},
   "outputs": [],
   "source": [
    "SHMF(surv_mass, 0)"
   ]
  },
  {
   "cell_type": "markdown",
   "id": "788e56be",
   "metadata": {},
   "source": [
    "### accreation mass of surviving"
   ]
  },
  {
   "cell_type": "code",
   "execution_count": null,
   "id": "08f26525",
   "metadata": {},
   "outputs": [],
   "source": [
    "Nreal = len([entry for entry in os.listdir(datadir)])\n",
    "Nhalo = 200\n",
    "\n",
    "surv_acc_mass = np.zeros(shape=(Nreal, Nhalo))\n",
    "\n",
    "surv_acc_redshift = np.zeros(shape=(Nreal, Nhalo))"
   ]
  },
  {
   "cell_type": "code",
   "execution_count": null,
   "id": "3d718fb3",
   "metadata": {},
   "outputs": [],
   "source": [
    "for i,filename in enumerate(os.listdir(datadir)):\n",
    "        \n",
    "    file = os.path.join(datadir, filename)\n",
    "        \n",
    "    mass_clean, red_clean = accretion_mass_surv(file, 10**9)\n",
    "    \n",
    "    mass = np.pad(mass_clean, (0,Nhalo-len(mass_clean)), mode=\"constant\", constant_values=0)\n",
    "    \n",
    "    red = np.pad(red_clean, (0,Nhalo-len(red_clean)), mode=\"constant\", constant_values=np.nan)\n",
    "    \n",
    "    surv_acc_mass[i,:] = mass\n",
    "    \n",
    "    surv_acc_redshift[i,:] = red"
   ]
  },
  {
   "cell_type": "markdown",
   "id": "43f239be",
   "metadata": {},
   "source": [
    "### trying to recreate the SatGen plot"
   ]
  },
  {
   "cell_type": "code",
   "execution_count": null,
   "id": "f03c0879",
   "metadata": {},
   "outputs": [],
   "source": [
    "data = np.load(\"../../data/12_4_0/numpy/surv_mass.npy\")"
   ]
  },
  {
   "cell_type": "code",
   "execution_count": null,
   "id": "fdb5729e",
   "metadata": {},
   "outputs": [],
   "source": [
    "mass_frac = data\n",
    "mass_frac[:, 0] = 0.0  # removing the host mass from the matrix\n",
    "zero_mask = mass_frac != 0.0 \n",
    "ana_mass = np.log10(np.where(zero_mask, mass_frac, np.nan))  # up until here the stats are good"
   ]
  },
  {
   "cell_type": "code",
   "execution_count": null,
   "id": "50eb65e5",
   "metadata": {},
   "outputs": [],
   "source": [
    "for i in range(200):\n",
    "    test = ana_mass[i]\n",
    "\n",
    "    counts, bins = np.histogram(test, bins=15, range=(-4, -0.1))\n",
    "\n",
    "    binsize = (bins[1] - bins[0])\n",
    "    bincenters = 0.5 * (bins[1:] + bins[:-1])\n",
    "\n",
    "    plt.plot(bincenters, np.log10(counts))\n",
    "plt.xlabel(\"halo mass m/M\")\n",
    "plt.show()"
   ]
  },
  {
   "cell_type": "code",
   "execution_count": null,
   "id": "2540cd72",
   "metadata": {},
   "outputs": [],
   "source": [
    "# for a single host! (or realization)\n",
    "\n",
    "for i in range(200):\n",
    "    test = data[i]\n",
    "    test[0] = 0.0\n",
    "    new = np.log10(test[test != 0.0])\n",
    "    \n",
    "    counts, bins = np.histogram(new, bins=15, range=(8,12))\n",
    "\n",
    "    binsize = (bins[1] - bins[0])\n",
    "    bincenters = 0.5 * (bins[1:] + bins[:-1])\n",
    "\n",
    "    plt.plot(bincenters, np.log10(counts))\n",
    "plt.xlabel(\"halo mass\")\n",
    "plt.show()"
   ]
  },
  {
   "cell_type": "markdown",
   "id": "543fe49e",
   "metadata": {},
   "source": [
    "### working out CMF"
   ]
  },
  {
   "cell_type": "code",
   "execution_count": 2,
   "id": "39595bab",
   "metadata": {},
   "outputs": [],
   "source": [
    "data = np.load(\"../../data/12_4_0/numpy/surv_mass.npy\")"
   ]
  },
  {
   "cell_type": "code",
   "execution_count": 3,
   "id": "c9c4153a",
   "metadata": {},
   "outputs": [],
   "source": [
    "data[:, 0] = 0.0  # removing the host mass from the matrix\n",
    "zero_mask = data != 0.0 \n",
    "data_c = np.log10(np.where(zero_mask, data, np.nan))  # up until here the stats are good"
   ]
  },
  {
   "cell_type": "code",
   "execution_count": 4,
   "id": "dd61eb13",
   "metadata": {},
   "outputs": [
    {
     "data": {
      "text/plain": [
       "11.847647957800385"
      ]
     },
     "execution_count": 4,
     "metadata": {},
     "output_type": "execute_result"
    }
   ],
   "source": [
    "np.nanmax(data_c)"
   ]
  },
  {
   "cell_type": "code",
   "execution_count": 5,
   "id": "fa86ca75",
   "metadata": {},
   "outputs": [],
   "source": [
    "np.nanmin(data_c)\n",
    "\n",
    "N =100"
   ]
  },
  {
   "cell_type": "code",
   "execution_count": 6,
   "id": "ab992147",
   "metadata": {},
   "outputs": [],
   "source": [
    "mass_range = np.linspace(np.nanmin(data_c), np.nanmax(data_c), N)"
   ]
  },
  {
   "cell_type": "code",
   "execution_count": 7,
   "id": "e6bf2163",
   "metadata": {},
   "outputs": [
    {
     "data": {
      "text/plain": [
       "array([       nan, 8.21560196, 8.74453663, ...,        nan,        nan,\n",
       "              nan])"
      ]
     },
     "execution_count": 7,
     "metadata": {},
     "output_type": "execute_result"
    }
   ],
   "source": [
    "data_c[0,:]"
   ]
  },
  {
   "cell_type": "code",
   "execution_count": 8,
   "id": "e8667e7d",
   "metadata": {},
   "outputs": [],
   "source": [
    "mat = np.zeros((data_c.shape[0], N))\n",
    "\n",
    "for i,realization in enumerate(data_c):\n",
    "    \n",
    "    for j,mass in enumerate(mass_range):\n",
    "\n",
    "        mat[i,j] = np.sum(realization > mass)"
   ]
  },
  {
   "cell_type": "code",
   "execution_count": 9,
   "id": "571c9e24",
   "metadata": {},
   "outputs": [],
   "source": [
    "SMF_quant = np.percentile(mat, [15, 50, 85], axis=0)\n",
    "\n",
    "ave = np.average(mat, axis=0)"
   ]
  },
  {
   "cell_type": "code",
   "execution_count": 10,
   "id": "b076ce23",
   "metadata": {},
   "outputs": [
    {
     "data": {
      "text/plain": [
       "array([222. , 209. , 196. , 181.2, 168. , 154. , 142. , 130. , 120. ,\n",
       "       110. , 101. ,  93. ,  86. ,  79. ,  72. ,  66. ,  61. ,  56. ,\n",
       "        51. ,  47. ,  43. ,  39. ,  36. ,  33. ,  30. ,  27. ,  25. ,\n",
       "        23. ,  21. ,  19. ,  17. ,  16. ,  14. ,  13. ,  12. ,  10. ,\n",
       "        10. ,   9. ,   8. ,   7. ,   6. ,   6. ,   5. ,   5. ,   4. ,\n",
       "         4. ,   3. ,   3. ,   3. ,   2. ,   2. ,   2. ,   2. ,   1. ,\n",
       "         1. ,   1. ,   1. ,   1. ,   1. ,   0. ,   0. ,   0. ,   0. ,\n",
       "         0. ,   0. ,   0. ,   0. ,   0. ,   0. ,   0. ,   0. ,   0. ,\n",
       "         0. ,   0. ,   0. ,   0. ,   0. ,   0. ,   0. ,   0. ,   0. ,\n",
       "         0. ,   0. ,   0. ,   0. ,   0. ,   0. ,   0. ,   0. ,   0. ,\n",
       "         0. ,   0. ,   0. ,   0. ,   0. ,   0. ,   0. ,   0. ,   0. ,\n",
       "         0. ])"
      ]
     },
     "execution_count": 10,
     "metadata": {},
     "output_type": "execute_result"
    }
   ],
   "source": [
    "SMF_quant[0]"
   ]
  },
  {
   "cell_type": "code",
   "execution_count": 32,
   "id": "f875d7b1",
   "metadata": {},
   "outputs": [],
   "source": [
    "sat_range = galhalo.lgMs_D22_det(10**mass_range)"
   ]
  },
  {
   "cell_type": "code",
   "execution_count": 53,
   "id": "4d09695f",
   "metadata": {},
   "outputs": [
    {
     "data": {
      "text/plain": [
       "8.27"
      ]
     },
     "execution_count": 53,
     "metadata": {},
     "output_type": "execute_result"
    }
   ],
   "source": [
    "galhalo.lgMs_D22_det(1e11)"
   ]
  },
  {
   "cell_type": "code",
   "execution_count": 33,
   "id": "65fcf805",
   "metadata": {},
   "outputs": [
    {
     "name": "stderr",
     "output_type": "stream",
     "text": [
      "/var/folders/91/ygwd64w5659_623tzhx80kbc0000gn/T/ipykernel_7474/2504629843.py:1: RuntimeWarning: divide by zero encountered in log10\n",
      "  plt.plot(sat_range, np.log10(SMF_quant[1]))\n",
      "/var/folders/91/ygwd64w5659_623tzhx80kbc0000gn/T/ipykernel_7474/2504629843.py:2: RuntimeWarning: divide by zero encountered in log10\n",
      "  plt.fill_between(sat_range, np.log10(SMF_quant[0]), np.log10(SMF_quant[2]), alpha=0.1)\n"
     ]
    },
    {
     "data": {
      "image/png": "[encoded data removed]",
      "text/plain": [
       "<Figure size 640x480 with 1 Axes>"
      ]
     },
     "metadata": {},
     "output_type": "display_data"
    }
   ],
   "source": [
    "plt.plot(sat_range, np.log10(SMF_quant[1]))\n",
    "plt.fill_between(sat_range, np.log10(SMF_quant[0]), np.log10(SMF_quant[2]), alpha=0.1)\n",
    "#plt.plot(sat_range, np.log10(ave))\n",
    "plt.grid(alpha=0.4)\n",
    "plt.show()"
   ]
  },
  {
   "cell_type": "code",
   "execution_count": 34,
   "id": "226fd573",
   "metadata": {},
   "outputs": [
    {
     "name": "stderr",
     "output_type": "stream",
     "text": [
      "/var/folders/91/ygwd64w5659_623tzhx80kbc0000gn/T/ipykernel_7474/2456930723.py:1: RuntimeWarning: divide by zero encountered in log10\n",
      "  plt.plot(mass_range, np.log10(SMF_quant[1]))\n",
      "/var/folders/91/ygwd64w5659_623tzhx80kbc0000gn/T/ipykernel_7474/2456930723.py:2: RuntimeWarning: divide by zero encountered in log10\n",
      "  plt.fill_between(mass_range, np.log10(SMF_quant[0]), np.log10(SMF_quant[2]), alpha=0.1)\n",
      "/var/folders/91/ygwd64w5659_623tzhx80kbc0000gn/T/ipykernel_7474/2456930723.py:3: RuntimeWarning: divide by zero encountered in log10\n",
      "  plt.plot(mass_range, np.log10(ave))\n"
     ]
    },
    {
     "data": {
      "image/png": "[encoded data removed]",
      "text/plain": [
       "<Figure size 640x480 with 1 Axes>"
      ]
     },
     "metadata": {},
     "output_type": "display_data"
    }
   ],
   "source": [
    "plt.plot(mass_range, np.log10(SMF_quant[1]))\n",
    "plt.fill_between(mass_range, np.log10(SMF_quant[0]), np.log10(SMF_quant[2]), alpha=0.1)\n",
    "plt.plot(mass_range, np.log10(ave))\n",
    "plt.grid(alpha=0.4)\n",
    "plt.show()"
   ]
  },
  {
   "cell_type": "markdown",
   "id": "c1deedd1",
   "metadata": {},
   "source": [
    "### Now trying to include a single value of sigma_SHMR"
   ]
  },
  {
   "cell_type": "code",
   "execution_count": 40,
   "id": "3e1fa95e",
   "metadata": {},
   "outputs": [],
   "source": [
    "test = galhalo.lgMs_D22_dex(10**data_c, dex=0.25)"
   ]
  },
  {
   "cell_type": "code",
   "execution_count": 41,
   "id": "4c8f4a72",
   "metadata": {},
   "outputs": [],
   "source": [
    "matt = np.zeros((data_c.shape[0], N))\n",
    "\n",
    "for i,realization in enumerate(test):\n",
    "    \n",
    "    for j,mass in enumerate(sat_range):\n",
    "\n",
    "        matt[i,j] = np.sum(realization > mass)"
   ]
  },
  {
   "cell_type": "code",
   "execution_count": 42,
   "id": "20917510",
   "metadata": {},
   "outputs": [],
   "source": [
    "SMF_quantt = np.percentile(matt, [15, 50, 85], axis=0)"
   ]
  },
  {
   "cell_type": "code",
   "execution_count": 43,
   "id": "0a9d4b89",
   "metadata": {},
   "outputs": [
    {
     "data": {
      "image/png": "[encoded data removed]",
      "text/plain": [
       "<Figure size 800x800 with 1 Axes>"
      ]
     },
     "metadata": {},
     "output_type": "display_data"
    }
   ],
   "source": [
    "plt.figure(figsize=(8, 8))\n",
    "\n",
    "plt.plot(sat_range, SMF_quantt[1])\n",
    "plt.fill_between(sat_range, SMF_quantt[0],SMF_quantt[2], alpha=0.1)\n",
    "plt.plot(sat_range,SMF_quant[1])\n",
    "plt.fill_between(sat_range, SMF_quant[0], SMF_quant[2], alpha=0.1)\n",
    "plt.yscale(\"log\")\n",
    "plt.grid(alpha=0.4)\n",
    "plt.show()"
   ]
  },
  {
   "cell_type": "code",
   "execution_count": null,
   "id": "31464064",
   "metadata": {},
   "outputs": [],
   "source": []
  }
 ],
 "metadata": {
  "kernelspec": {
   "display_name": "Python 3 (ipykernel)",
   "language": "python",
   "name": "python3"
  },
  "language_info": {
   "codemirror_mode": {
    "name": "ipython",
    "version": 3
   },
   "file_extension": ".py",
   "mimetype": "text/x-python",
   "name": "python",
   "nbconvert_exporter": "python",
   "pygments_lexer": "ipython3",
   "version": "3.10.8"
  }
 },
 "nbformat": 4,
 "nbformat_minor": 5
}
