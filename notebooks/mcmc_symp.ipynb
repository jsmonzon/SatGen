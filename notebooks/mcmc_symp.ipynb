{
 "cells": [
  {
   "cell_type": "code",
   "execution_count": 1,
   "metadata": {},
   "outputs": [],
   "source": [
    "import numpy as np\n",
    "import scipy\n",
    "import matplotlib.pyplot as plt\n",
    "\n",
    "import matplotlib.cm as cm\n",
    "    \n",
    "import sys \n",
    "sys.path.insert(0, '../src/')\n",
    "\n",
    "from astropy.table import Table\n",
    "import galhalo\n",
    "import anaclass\n",
    "import os\n",
    "import warnings; warnings.simplefilter('ignore')\n",
    "from multiprocessing import Pool\n",
    "import time\n",
    "\n",
    "import corner\n",
    "import sampyl as smp"
   ]
  },
  {
   "cell_type": "code",
   "execution_count": 7,
   "metadata": {},
   "outputs": [],
   "source": [
    "mass_bins = np.linspace(4,11,45)\n",
    "\n",
    "def SLFmodel(alpha, delta, sigma):\n",
    "\n",
    "    lgMhs = np.load(\"../../data/3000_12_8/truth_lgMh.npy\")\n",
    "\n",
    "    lgMs_mat = galhalo.master_SHMR_1D(lgMhs, alpha, delta, sigma) # will be a 3D array if sigma is non zero\n",
    "\n",
    "    count_mat = np.zeros(shape=(lgMs_mat.shape[1], lgMs_mat.shape[0], mass_bins.shape[0]))\n",
    "    for i in range(lgMs_mat.shape[1]): # to measure a cumulative mass function for each random sample\n",
    "        count_mat[i] = np.apply_along_axis(anaclass.cumulative, 1, lgMs_mat[:,i,:], mass_bins=mass_bins)\n",
    "\n",
    "    counts = np.average(count_mat, axis=0) # to average across all the random samples\n",
    "    quant = np.percentile(counts, np.array([5, 50, 95]), axis=0, method=\"closest_observation\") # median and scatter\n",
    "\n",
    "    S1 = quant[2, 18] - quant[0, 18] #18, 22, 26 corresponds to 6.5, 7, 7.5 Msol\n",
    "    S2 = quant[2, 22] - quant[0, 22]\n",
    "    S3 = quant[2, 26] - quant[0, 26]\n",
    "    N1 = quant[1, 18]\n",
    "    N2 = quant[1, 22]\n",
    "    N3 = quant[1, 26]\n",
    "\n",
    "    model = np.array([N1, N2, N3, S1, S2, S3])\n",
    "\n",
    "    return model"
   ]
  },
  {
   "cell_type": "code",
   "execution_count": 8,
   "metadata": {},
   "outputs": [],
   "source": [
    "def lnlike(alpha, delta, sigma):\n",
    "    model = SLFmodel(alpha, delta, sigma)\n",
    "\n",
    "    X_0 = np.array([6., 4., 2., 8., 4., 3.])\n",
    "    X_0_err = np.array([0.18850575, 0.09310345, 0.06436782, 0.7862069 , 0.60229885, 0.44712644])\n",
    "\n",
    "    chisquare = (X_0 - model)**2/X_0_err**2 \n",
    "    return -1/2*np.sum(chisquare)"
   ]
  },
  {
   "cell_type": "code",
   "execution_count": 9,
   "metadata": {},
   "outputs": [],
   "source": [
    "def lnprior(alpha, delta, sigma):\n",
    "    if 1.5 < alpha < 3.0 and -0.5 < delta < 1.5 and 0 < sigma < 2:\n",
    "        return 0.0\n",
    "    return -np.inf"
   ]
  },
  {
   "cell_type": "code",
   "execution_count": 10,
   "metadata": {},
   "outputs": [],
   "source": [
    "def lnprob(alpha, delta, sigma):\n",
    "    lp = lnprior(alpha, delta, sigma)\n",
    "    if not np.isfinite(lp):\n",
    "        return -np.inf\n",
    "    return lp + lnlike(alpha, delta, sigma)"
   ]
  },
  {
   "cell_type": "code",
   "execution_count": 11,
   "metadata": {},
   "outputs": [
    {
     "ename": "AttributeError",
     "evalue": "module 'collections' has no attribute 'Hashable'",
     "output_type": "error",
     "traceback": [
      "\u001b[0;31m---------------------------------------------------------------------------\u001b[0m",
      "\u001b[0;31mAttributeError\u001b[0m                            Traceback (most recent call last)",
      "Cell \u001b[0;32mIn[11], line 3\u001b[0m\n\u001b[1;32m      1\u001b[0m start \u001b[39m=\u001b[39m {\u001b[39m'\u001b[39m\u001b[39malpha\u001b[39m\u001b[39m'\u001b[39m: \u001b[39m1.8\u001b[39m, \u001b[39m'\u001b[39m\u001b[39mdelta\u001b[39m\u001b[39m'\u001b[39m: \u001b[39m0.2\u001b[39m, \u001b[39m'\u001b[39m\u001b[39msigma\u001b[39m\u001b[39m'\u001b[39m: \u001b[39m0.5\u001b[39m}\n\u001b[1;32m      2\u001b[0m metro \u001b[39m=\u001b[39m smp\u001b[39m.\u001b[39mMetropolis(lnprob, start)\n\u001b[0;32m----> 3\u001b[0m chain \u001b[39m=\u001b[39m metro\u001b[39m.\u001b[39;49msample(\u001b[39m200\u001b[39;49m, burn\u001b[39m=\u001b[39;49m\u001b[39m50\u001b[39;49m)\n",
      "File \u001b[0;32m/opt/homebrew/Caskroom/miniconda/base/envs/subhalos/lib/python3.10/site-packages/sampyl/samplers/base.py:131\u001b[0m, in \u001b[0;36mSampler.sample\u001b[0;34m(self, num, burn, thin, n_chains, progress_bar)\u001b[0m\n\u001b[1;32m    129\u001b[0m \u001b[39m# Start sampling, add each \u001b[39;00m\n\u001b[1;32m    130\u001b[0m \u001b[39mfor\u001b[39;00m i \u001b[39min\u001b[39;00m \u001b[39mrange\u001b[39m(num):\n\u001b[0;32m--> 131\u001b[0m     samples[i] \u001b[39m=\u001b[39m \u001b[39mtuple\u001b[39m(\u001b[39mnext\u001b[39;49m(\u001b[39mself\u001b[39;49m\u001b[39m.\u001b[39;49msampler)\u001b[39m.\u001b[39mvalues())\n\u001b[1;32m    133\u001b[0m     \u001b[39mif\u001b[39;00m progress_bar \u001b[39mand\u001b[39;00m time\u001b[39m.\u001b[39mtime() \u001b[39m-\u001b[39m start_time \u001b[39m>\u001b[39m \u001b[39m1\u001b[39m:\n\u001b[1;32m    134\u001b[0m         update_progress(i\u001b[39m+\u001b[39m\u001b[39m1\u001b[39m, num)\n",
      "File \u001b[0;32m/opt/homebrew/Caskroom/miniconda/base/envs/subhalos/lib/python3.10/site-packages/sampyl/samplers/base.py:125\u001b[0m, in \u001b[0;36m<genexpr>\u001b[0;34m(.0)\u001b[0m\n\u001b[1;32m    120\u001b[0m     \u001b[39mreturn\u001b[39;00m parallel(\u001b[39mself\u001b[39m, n_chains, samples,\n\u001b[1;32m    121\u001b[0m                     burn\u001b[39m=\u001b[39mburn, thin\u001b[39m=\u001b[39mthin,\n\u001b[1;32m    122\u001b[0m                     progress_bar\u001b[39m=\u001b[39mprogress_bar)\n\u001b[1;32m    124\u001b[0m \u001b[39mif\u001b[39;00m \u001b[39mself\u001b[39m\u001b[39m.\u001b[39msampler \u001b[39mis\u001b[39;00m \u001b[39mNone\u001b[39;00m:\n\u001b[0;32m--> 125\u001b[0m     \u001b[39mself\u001b[39m\u001b[39m.\u001b[39msampler \u001b[39m=\u001b[39m (\u001b[39mself\u001b[39;49m\u001b[39m.\u001b[39;49mstep() \u001b[39mfor\u001b[39;00m _ \u001b[39min\u001b[39;00m count(start\u001b[39m=\u001b[39m\u001b[39m0\u001b[39m, step\u001b[39m=\u001b[39m\u001b[39m1\u001b[39m))\n\u001b[1;32m    127\u001b[0m start_time \u001b[39m=\u001b[39m time\u001b[39m.\u001b[39mtime() \u001b[39m# For progress bar\u001b[39;00m\n\u001b[1;32m    129\u001b[0m \u001b[39m# Start sampling, add each \u001b[39;00m\n",
      "File \u001b[0;32m/opt/homebrew/Caskroom/miniconda/base/envs/subhalos/lib/python3.10/site-packages/sampyl/samplers/metropolis.py:62\u001b[0m, in \u001b[0;36mMetropolis.step\u001b[0;34m(self)\u001b[0m\n\u001b[1;32m     60\u001b[0m x \u001b[39m=\u001b[39m \u001b[39mself\u001b[39m\u001b[39m.\u001b[39mstate\n\u001b[1;32m     61\u001b[0m y \u001b[39m=\u001b[39m proposal(x, scale\u001b[39m=\u001b[39m\u001b[39mself\u001b[39m\u001b[39m.\u001b[39mscale)\n\u001b[0;32m---> 62\u001b[0m \u001b[39mif\u001b[39;00m accept(x, y, \u001b[39mself\u001b[39;49m\u001b[39m.\u001b[39;49mmodel\u001b[39m.\u001b[39;49mlogp):\n\u001b[1;32m     63\u001b[0m     \u001b[39mself\u001b[39m\u001b[39m.\u001b[39mstate \u001b[39m=\u001b[39m y\n\u001b[1;32m     64\u001b[0m     \u001b[39mself\u001b[39m\u001b[39m.\u001b[39m_accepted \u001b[39m+\u001b[39m\u001b[39m=\u001b[39m \u001b[39m1\u001b[39m\n",
      "File \u001b[0;32m/opt/homebrew/Caskroom/miniconda/base/envs/subhalos/lib/python3.10/site-packages/sampyl/samplers/metropolis.py:95\u001b[0m, in \u001b[0;36maccept\u001b[0;34m(x, y, logp)\u001b[0m\n\u001b[1;32m     91\u001b[0m \u001b[39mdef\u001b[39;00m \u001b[39maccept\u001b[39m(x, y, logp):\n\u001b[1;32m     92\u001b[0m     \u001b[39m\"\"\" Return a boolean indicating if the proposed sample should be accepted,\u001b[39;00m\n\u001b[1;32m     93\u001b[0m \u001b[39m        given the logp ratio logp(y)/logp(x).\u001b[39;00m\n\u001b[1;32m     94\u001b[0m \u001b[39m    \"\"\"\u001b[39;00m\n\u001b[0;32m---> 95\u001b[0m     delp \u001b[39m=\u001b[39m logp(y) \u001b[39m-\u001b[39m logp(x)\n\u001b[1;32m     96\u001b[0m     \u001b[39mif\u001b[39;00m np\u001b[39m.\u001b[39misfinite(delp) \u001b[39mand\u001b[39;00m np\u001b[39m.\u001b[39mlog(np\u001b[39m.\u001b[39mrandom\u001b[39m.\u001b[39muniform()) \u001b[39m<\u001b[39m delp:\n\u001b[1;32m     97\u001b[0m         \u001b[39mreturn\u001b[39;00m \u001b[39mTrue\u001b[39;00m\n",
      "File \u001b[0;32m/opt/homebrew/Caskroom/miniconda/base/envs/subhalos/lib/python3.10/site-packages/sampyl/posterior.py:115\u001b[0m, in \u001b[0;36mPosterior.logp\u001b[0;34m(self, state)\u001b[0m\n\u001b[1;32m    113\u001b[0m \u001b[39m# Freeze the state as a tuple so we can use it as a dictionary key\u001b[39;00m\n\u001b[1;32m    114\u001b[0m frozen_state \u001b[39m=\u001b[39m state\u001b[39m.\u001b[39mfreeze()\n\u001b[0;32m--> 115\u001b[0m \u001b[39mif\u001b[39;00m \u001b[39mnot\u001b[39;00m \u001b[39misinstance\u001b[39m(frozen_state, collections\u001b[39m.\u001b[39;49mHashable):\n\u001b[1;32m    116\u001b[0m     \u001b[39m# uncacheable. a list, for instance.\u001b[39;00m\n\u001b[1;32m    117\u001b[0m     \u001b[39m# better to not cache than blow up.\u001b[39;00m\n\u001b[1;32m    118\u001b[0m     logp_value \u001b[39m=\u001b[39m \u001b[39mself\u001b[39m\u001b[39m.\u001b[39mlogp_func(\u001b[39m*\u001b[39mstate\u001b[39m.\u001b[39mvalues())\n\u001b[1;32m    119\u001b[0m     \u001b[39mreturn\u001b[39;00m logp_value\n",
      "\u001b[0;31mAttributeError\u001b[0m: module 'collections' has no attribute 'Hashable'"
     ]
    }
   ],
   "source": [
    "\n",
    "start = {'alpha': 1.8, 'delta': 0.2, 'sigma': 0.5}\n",
    "metro = smp.Metropolis(lnprob, start)\n",
    "chain = metro.sample(200, burn=50)"
   ]
  },
  {
   "cell_type": "code",
   "execution_count": null,
   "metadata": {},
   "outputs": [],
   "source": []
  }
 ],
 "metadata": {
  "kernelspec": {
   "display_name": "subhalos",
   "language": "python",
   "name": "python3"
  },
  "language_info": {
   "codemirror_mode": {
    "name": "ipython",
    "version": 3
   },
   "file_extension": ".py",
   "mimetype": "text/x-python",
   "name": "python",
   "nbconvert_exporter": "python",
   "pygments_lexer": "ipython3",
   "version": "3.10.9"
  },
  "orig_nbformat": 4
 },
 "nbformat": 4,
 "nbformat_minor": 2
}
