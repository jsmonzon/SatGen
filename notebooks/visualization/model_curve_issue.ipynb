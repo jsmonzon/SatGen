{
 "cells": [
  {
   "cell_type": "code",
   "execution_count": 1,
   "metadata": {},
   "outputs": [],
   "source": [
    "%load_ext autoreload\n",
    "%autoreload 2"
   ]
  },
  {
   "cell_type": "code",
   "execution_count": 2,
   "metadata": {},
   "outputs": [],
   "source": [
    "import numpy as np\n",
    "import matplotlib.pyplot as plt\n",
    "import matplotlib as mpl\n",
    "import pygtc\n",
    "    \n",
    "import sys \n",
    "sys.path.insert(0, '../src/')\n",
    "import jsm_SHMR\n",
    "import jsm_stats\n",
    "\n",
    "import warnings; warnings.simplefilter('ignore')\n",
    "from IPython.display import display, Math\n"
   ]
  },
  {
   "cell_type": "code",
   "execution_count": null,
   "metadata": {},
   "outputs": [],
   "source": [
    "def SHMR_colored(sample, SHMR_model, labels, color_ind, plot_data=True):\n",
    "    halo_masses = np.log10(np.logspace(6, 13, 100))  # just for the model\n",
    "\n",
    "    SHMR_mat = np.zeros(shape=(sample.shape[0], halo_masses.shape[0]))\n",
    "\n",
    "    # Extract the color values for each data point\n",
    "    colors = sample[:, color_ind]\n",
    "\n",
    "    norm = mpl.colors.Normalize(vmin=colors.min(), vmax=colors.max())\n",
    "    cmap = mpl.cm.ScalarMappable(norm=norm, cmap=mpl.cm.magma_r)\n",
    "\n",
    "    if SHMR_model == \"simple\":\n",
    "        for i,val in enumerate(sample):  # now pushing all thetas through!\n",
    "            SHMR_mat[i] = jsm_SHMR.simple([val[0], 0], halo_masses)\n",
    "\n",
    "    elif SHMR_model ==\"anchor\":\n",
    "        for i,val in enumerate(sample):  # now pushing all thetas through!\n",
    "            SHMR_mat[i] = jsm_SHMR.anchor([val[0], 0, val[2]], halo_masses)\n",
    "\n",
    "    elif SHMR_model ==\"curve\":\n",
    "        for i,val in enumerate(sample):  # now pushing all thetas through!\n",
    "            SHMR_mat[i] = jsm_SHMR.curve([val[0], 0, val[2], val[3]], halo_masses)\n",
    "\n",
    "    elif SHMR_model ==\"sigma\":\n",
    "        for i,val in enumerate(sample):  # now pushing all thetas through!\n",
    "            SHMR_mat[i] = jsm_SHMR.sigma([val[0], 0, val[2], val[3], 0], halo_masses)\n",
    "\n",
    "    elif SHMR_model ==\"redshift\":\n",
    "        for i,val in enumerate(sample):  # now pushing all thetas through!\n",
    "            SHMR_mat[i] = jsm_SHMR.redshift([val[0], 0, val[2], val[3], 0, val[5]], halo_masses, np.zeros(shape=halo_masses.shape[0]))\n",
    "\n",
    "    plt.figure(figsize=(10, 8))\n",
    "    for i, val in enumerate(SHMR_mat):\n",
    "        plt.plot(halo_masses, val, color=cmap.to_rgba(colors[i]), alpha=0.3, lw=1)\n",
    "\n",
    "\n",
    "    if plot_data==True:\n",
    "        hmm = np.load(\"../../../data/remote/v2/mock_data.npy\")\n",
    "        plt.scatter(hmm[0], hmm[1], marker=\".\", color=\"grey\")\n",
    "        plt.axhline(6.5, label=\"mass limit\", lw=3, ls=\":\", color=\"black\")\n",
    "\n",
    "        \n",
    "    plt.ylim(4, 11)\n",
    "    plt.xlim(7.5, 12)\n",
    "    plt.ylabel(\"M$_{*}$ (M$_\\odot$)\", fontsize=15)\n",
    "    plt.xlabel(\"M$_{\\mathrm{vir}}$ (M$_\\odot$)\", fontsize=15)\n",
    "\n",
    "    # Create a colorbar using the ScalarMappable\n",
    "    cbar = plt.colorbar(cmap, label=labels[color_ind])\n",
    "    cbar.set_label(labels[color_ind])\n",
    "\n",
    "    plt.show()"
   ]
  },
  {
   "cell_type": "markdown",
   "metadata": {},
   "source": [
    "# the v2 pull\n",
    "### first the SHMRs from the final time step"
   ]
  },
  {
   "cell_type": "code",
   "execution_count": null,
   "metadata": {},
   "outputs": [],
   "source": [
    "fid_theta_total = [2, 0.2, 10.5, 0, 0, 0]\n",
    "priors_total = [[-1,7], [0,5], [9.8,11.2], [-3,2], [-2,2], [-1,1]]\n",
    "params_total = [\"slope\", \"sigma_0\", \"anchor\", \"curvature\", \"sigma\", \"redshift\"]"
   ]
  },
  {
   "cell_type": "code",
   "execution_count": null,
   "metadata": {},
   "outputs": [],
   "source": [
    "simple =  np.load(\"../../../data/remote/v2/simple/samples.npz\")[\"coords\"]\n",
    "\n",
    "anchor =  np.load(\"../../../data/remote/v2/anchor/samples.npz\")[\"coords\"]\n",
    "\n",
    "curve =  np.load(\"../../../data/remote/v2/curve/samples.npz\")[\"coords\"]\n",
    "\n",
    "sigma = np.load(\"../../../data/remote/v2/sigma/samples.npz\")[\"coords\"]\n",
    "\n",
    "redshift = np.load(\"../../../data/remote/v2/redshift/samples.npz\")[\"coords\"]"
   ]
  },
  {
   "cell_type": "code",
   "execution_count": null,
   "metadata": {},
   "outputs": [],
   "source": [
    "last_simple = simple[999,:,:]\n",
    "last_anchor = anchor[999,:,:]\n",
    "last_curve = curve[999,:,:]\n",
    "last_sigma = sigma[999,:,:]\n",
    "last_red = redshift[999,:,:]"
   ]
  },
  {
   "cell_type": "code",
   "execution_count": null,
   "metadata": {},
   "outputs": [],
   "source": [
    "SHMR_colored(last_simple, \"simple\", params_total[0:2], 1)"
   ]
  },
  {
   "cell_type": "code",
   "execution_count": null,
   "metadata": {},
   "outputs": [],
   "source": [
    "SHMR_colored(last_anchor, \"anchor\", params_total[0:3], 1)"
   ]
  },
  {
   "cell_type": "code",
   "execution_count": null,
   "metadata": {},
   "outputs": [],
   "source": [
    "SHMR_colored(last_curve, \"curve\", params_total[0:4], 1)"
   ]
  },
  {
   "cell_type": "code",
   "execution_count": null,
   "metadata": {},
   "outputs": [],
   "source": [
    "SHMR_colored(last_sigma, \"sigma\", params_total[0:5], 1)"
   ]
  },
  {
   "cell_type": "code",
   "execution_count": null,
   "metadata": {},
   "outputs": [],
   "source": [
    "SHMR_colored(last_red, \"redshift\", params_total[0:6], 1)"
   ]
  },
  {
   "cell_type": "markdown",
   "metadata": {},
   "source": [
    "### testing the CSMF with the curve function"
   ]
  },
  {
   "cell_type": "code",
   "execution_count": null,
   "metadata": {},
   "outputs": [],
   "source": [
    "curve_chisq =  np.load(\"../../../data/remote/v2/curve/samples.npz\")[\"chisq\"]\n",
    "ind = 1\n",
    "plt.scatter(last_curve[:,ind], curve_chisq[999], c=last_curve[:,3])\n",
    "plt.ylabel(\"chi sqared\")\n",
    "plt.xlabel(params_total[ind])\n",
    "\n",
    "cbar = plt.colorbar()\n",
    "cbar.set_label('curvature')"
   ]
  },
  {
   "cell_type": "code",
   "execution_count": null,
   "metadata": {},
   "outputs": [],
   "source": [
    "mat = SHMR_colored(last_curve, \"curve\", params_total[0:4], 1)"
   ]
  },
  {
   "cell_type": "code",
   "execution_count": null,
   "metadata": {},
   "outputs": [],
   "source": [
    "extreme_ind = np.where(last_curve[:,3] == np.max(last_curve[:,3]))[0][0]\n",
    "\n",
    "last_curve[extreme_ind]"
   ]
  },
  {
   "cell_type": "code",
   "execution_count": null,
   "metadata": {},
   "outputs": [],
   "source": [
    "# bin_lgMs = np.linspace(2,11,41)\n",
    "# bin_lgMh = np.linspace(8,11.9,41)\n",
    "# bincenters_lgMs = 0.5 * (bin_lgMs[1:] + bin_lgMs[:-1])\n",
    "# bincenters_lgMg = 0.5 * (bin_lgMh[1:] + bin_lgMh[:-1])\n",
    "\n",
    "# hist_acc, xedges, yedges = np.histogram2d(halo_mat.flatten(), lgMs_1.flatten(), (bin_lgMh, bin_lgMs))\n",
    "\n",
    "# wow = np.rot90(hist_acc)\n",
    "\n",
    "# fig,ax=plt.subplots(figsize=(9,5))\n",
    "# im = ax.imshow(wow, extent=[bin_lgMh.min(), bin_lgMh.max(), bin_lgMs.min(), bin_lgMs.max()])"
   ]
  },
  {
   "cell_type": "code",
   "execution_count": null,
   "metadata": {},
   "outputs": [],
   "source": [
    "data = np.load(\"../../../data/remote/v2/mock_data.npy\")\n",
    "\n",
    "halo_mat = np.load(\"../../../data/MW-analog/meta_data_psi3/models.npz\")[\"mass\"][92] #this was the data"
   ]
  },
  {
   "cell_type": "code",
   "execution_count": null,
   "metadata": {},
   "outputs": [],
   "source": [
    "lgMs_fid = jsm_SHMR.simple([2,0.2], halo_mat)\n",
    "lgMs_1 = jsm_SHMR.curve([ 6.86697658,  1.78081649, 10.30930539,  1.70276177], halo_mat) #207"
   ]
  },
  {
   "cell_type": "code",
   "execution_count": null,
   "metadata": {},
   "outputs": [],
   "source": [
    "stat_fid = jsm_stats.SatStats(lgMs_fid)\n",
    "stat_fid.CSMF()\n",
    "stat_1 = jsm_stats.SatStats(lgMs_1)\n",
    "stat_1.CSMF()"
   ]
  },
  {
   "cell_type": "code",
   "execution_count": null,
   "metadata": {},
   "outputs": [],
   "source": [
    "labelfid = \"$\\\\alpha, \\sigma_0, M_{*}, \\delta$ = [2.0, 0.2, 10.5, 0]\"\n",
    "\n",
    "label1 = \"$\\\\alpha, \\sigma_0, M_{*}, \\delta$ = [6.8, 1.7, 10.3, 1.7]\""
   ]
  },
  {
   "cell_type": "code",
   "execution_count": null,
   "metadata": {},
   "outputs": [],
   "source": [
    "plt.figure(figsize=(8, 6))\n",
    "\n",
    "plt.plot(stat_1.mass_bins, stat_1.quant[1], color=\"firebrick\")\n",
    "plt.fill_between(stat_1.mass_bins, y1=stat_1.quant[0], y2=stat_1.quant[2], alpha=0.2, label=label1, color=\"firebrick\")\n",
    "\n",
    "plt.plot(stat_fid.mass_bins, stat_fid.quant[1], color=\"cornflowerblue\")\n",
    "plt.fill_between(stat_fid.mass_bins, y1=stat_fid.quant[0], y2=stat_fid.quant[2], alpha=0.2, label=labelfid, color=\"cornflowerblue\")\n",
    "plt.axvline(6.5, ls=\"--\", color=\"black\", lw=2)\n",
    "\n",
    "plt.yscale(\"log\")\n",
    "\n",
    "plt.xlim(4.5, 11)\n",
    "plt.xlabel(\"log m$_{*}$ (M$_\\odot$)\", fontsize=15)\n",
    "plt.ylabel(\"log N (> m$_{*}$)\", fontsize=15)\n",
    "plt.legend()\n",
    "plt.show()"
   ]
  },
  {
   "cell_type": "code",
   "execution_count": null,
   "metadata": {},
   "outputs": [],
   "source": [
    "smooth_halo = np.linspace(7,12,100)"
   ]
  },
  {
   "cell_type": "code",
   "execution_count": null,
   "metadata": {},
   "outputs": [],
   "source": [
    "blue_mask = lgMs_fid.flatten() > 6.5\n",
    "red_mask = lgMs_1.flatten() > 6.5\n",
    "\n",
    "blue_halos = halo_mat.flatten()[blue_mask]\n",
    "red_halos = halo_mat.flatten()[red_mask]"
   ]
  },
  {
   "cell_type": "code",
   "execution_count": null,
   "metadata": {},
   "outputs": [],
   "source": [
    "blue_stars = lgMs_fid.flatten()[blue_mask]\n",
    "red_stars = lgMs_1.flatten()[red_mask]"
   ]
  },
  {
   "cell_type": "code",
   "execution_count": null,
   "metadata": {},
   "outputs": [],
   "source": [
    "plt.scatter(halo_mat.flatten(),lgMs_1.flatten(), color=\"firebrick\", alpha=0.3)\n",
    "plt.scatter(halo_mat.flatten(),  lgMs_fid.flatten(), color=\"cornflowerblue\", alpha=0.3)\n",
    "\n",
    "plt.plot(smooth_halo, jsm_SHMR.simple([2,0], smooth_halo), color=\"cornflowerblue\", label=labelfid, lw=2)\n",
    "plt.plot(smooth_halo, jsm_SHMR.curve([6.86697658,  0, 10.30930539,  1.70276177],smooth_halo), color=\"firebrick\", label=label1, lw=2)\n",
    "\n",
    "plt.ylim(2,11.5)\n",
    "plt.xlim(8.9,12)\n",
    "plt.show()"
   ]
  },
  {
   "cell_type": "code",
   "execution_count": null,
   "metadata": {},
   "outputs": [],
   "source": [
    "# Create scatter plot\n",
    "plt.figure(figsize=(10, 10))\n",
    "\n",
    "star_bins = np.linspace(5,11.5,20)\n",
    "halo_bins = np.linspace(8.5,12,20)\n",
    "# Distribution plot on the right\n",
    "ax_right = plt.subplot2grid((3, 3), (0, 0), rowspan=2)\n",
    "ax_right.hist(blue_stars, bins=star_bins, orientation='horizontal', color=\"cornflowerblue\", alpha=0.6, edgecolor=\"white\")\n",
    "ax_right.hist(red_stars, bins=star_bins, orientation='horizontal', color=\"firebrick\", alpha=0.6, edgecolor=\"white\")\n",
    "ax_right.invert_xaxis()\n",
    "ax_right.yaxis.tick_left()\n",
    "ax_right.set_ylim(5,11.5)\n",
    "\n",
    "\n",
    "# Scatter plot\n",
    "ax_main = plt.subplot2grid((3, 3), (0, 1), rowspan=2, colspan=2)\n",
    "ax_main.scatter(red_halos, red_stars, color=\"firebrick\", alpha=0.3)\n",
    "ax_main.scatter(blue_halos, blue_stars, color=\"cornflowerblue\", alpha=0.3)\n",
    "\n",
    "\n",
    "ax_main.plot(smooth_halo, jsm_SHMR.simple([2,0], smooth_halo), color=\"cornflowerblue\", label=labelfid, lw=2)\n",
    "ax_main.plot(smooth_halo, jsm_SHMR.curve([6.86697658,  0, 10.30930539,  1.70276177],smooth_halo), color=\"firebrick\", label=label1, lw=2)\n",
    "ax_main.axhline(6.5, ls=\"--\", lw=2, c=\"black\", label=\"magnitude limit\")\n",
    "ax_main.set_ylabel(\"log m$_{*}$ (M$_\\odot$)\", fontsize=15)\n",
    "ax_main.set_xlabel(\"log m$_{\\mathrm{peak}}$ (M$_\\odot$)\", fontsize=15)\n",
    "ax_main.legend()\n",
    "ax_main.set_ylim(5,11.5)\n",
    "ax_main.set_xlim(8.5,12)\n",
    "\n",
    "\n",
    "# Distribution plot at the bottom\n",
    "ax_bottom = plt.subplot2grid((3, 3), (2, 1), colspan=2)\n",
    "ax_bottom.hist(blue_halos, bins=halo_bins, orientation='vertical', color=\"cornflowerblue\", alpha=0.6, edgecolor=\"white\")\n",
    "ax_bottom.hist(red_halos, bins=halo_bins, orientation='vertical', color=\"firebrick\", alpha=0.6, edgecolor=\"white\")\n",
    "ax_bottom.set_xlim(8.5,12)\n",
    "\n",
    "# Adjust layout to prevent overlap\n",
    "plt.tight_layout()\n",
    "\n",
    "# Show the plot\n",
    "plt.show()\n"
   ]
  },
  {
   "cell_type": "code",
   "execution_count": 21,
   "metadata": {},
   "outputs": [
    {
     "name": "stdout",
     "output_type": "stream",
     "text": [
      "[10, 2, 30, 4, 50]\n"
     ]
    }
   ],
   "source": [
    "list1 = [1, 2, 3, 4, 5]\n",
    "list2 = [10, 20, 30, 40, 50]\n",
    "mask = [True, False, True, False, True]\n",
    "\n",
    "masked_list1 = [list2[i] if mask[i] else list1[i] for i in range(len(list1))]\n",
    "\n",
    "print(masked_list1)\n"
   ]
  },
  {
   "cell_type": "code",
   "execution_count": 22,
   "metadata": {},
   "outputs": [
    {
     "name": "stdout",
     "output_type": "stream",
     "text": [
      "[10, 2, 30, 4, 50]\n"
     ]
    }
   ],
   "source": [
    "import numpy as np\n",
    "\n",
    "list1 = [1, 2, 3, 4, 5]\n",
    "list2 = [10, 20, 30, 40, 50]\n",
    "mask = [True, False, True, False, True]\n",
    "\n",
    "list1 = np.array(list1)\n",
    "list2 = np.array(list2)\n",
    "mask = np.array(mask)\n",
    "\n",
    "masked_list1 = np.where(mask, list2, list1)\n",
    "\n",
    "print(masked_list1.tolist())\n"
   ]
  },
  {
   "cell_type": "code",
   "execution_count": null,
   "metadata": {},
   "outputs": [],
   "source": []
  }
 ],
 "metadata": {
  "kernelspec": {
   "display_name": "subhalos",
   "language": "python",
   "name": "python3"
  },
  "language_info": {
   "codemirror_mode": {
    "name": "ipython",
    "version": 3
   },
   "file_extension": ".py",
   "mimetype": "text/x-python",
   "name": "python",
   "nbconvert_exporter": "python",
   "pygments_lexer": "ipython3",
   "version": "3.10.9"
  },
  "orig_nbformat": 4
 },
 "nbformat": 4,
 "nbformat_minor": 2
}
