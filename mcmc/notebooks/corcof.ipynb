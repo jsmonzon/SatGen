{
 "cells": [
  {
   "cell_type": "code",
   "execution_count": 1,
   "metadata": {},
   "outputs": [],
   "source": [
    "%load_ext autoreload\n",
    "%autoreload 2"
   ]
  },
  {
   "cell_type": "code",
   "execution_count": 2,
   "metadata": {},
   "outputs": [],
   "source": [
    "import numpy as np\n",
    "import matplotlib.pyplot as plt\n",
    "import matplotlib.gridspec as gridspec\n",
    "import matplotlib.image as mpimg\n",
    "import warnings; warnings.simplefilter('ignore')\n",
    "import sys\n",
    "sys.path.insert(0, '/Users/jsmonzon/Research/SatGen/mcmc/src/')\n",
    "import jsm_halopull\n",
    "import jsm_SHMR\n",
    "import jsm_mcmc\n",
    "import jsm_stats\n",
    "import jsm_models\n"
   ]
  },
  {
   "cell_type": "code",
   "execution_count": 3,
   "metadata": {},
   "outputs": [],
   "source": [
    "mass_example = np.load(\"../../../data/MW-analog/meta_data_psi4/models.npz\")[\"mass\"]\n",
    "red_example = np.load(\"../../../data/MW-analog/meta_data_psi4/models.npz\")[\"redshift\"]"
   ]
  },
  {
   "cell_type": "code",
   "execution_count": null,
   "metadata": {},
   "outputs": [],
   "source": [
    "\n",
    "def SHMR_plot(theta, mass_mat, red_mat, model_color):    # Create scatter plot\n",
    "    plt.figure(figsize=(10, 8))\n",
    "\n",
    "    mock_ind = np.random.randint(0, 100)\n",
    "    halo_masses = np.linspace(8, 14, 100)\n",
    "    stellar_mat = jsm_SHMR.general(theta, mass_mat, red_mat)\n",
    "    theta_det = theta[:2] + [0, 0] + theta[4:]\n",
    "    det = jsm_SHMR.general(theta_det, halo_masses, 0)\n",
    "    sigma = theta[2] + theta[3] * (halo_masses - 12)\n",
    "    stat_mock = jsm_stats.SatStats(stellar_mat[mock_ind], min_mass=6.5)\n",
    "\n",
    "    # Distribution plot on the right\n",
    "\n",
    "    star_bins = np.linspace(6.5,11.5,30)\n",
    "\n",
    "    ax_right = plt.subplot2grid((3, 3), (0, 0), rowspan=2)\n",
    "    ax_right.hist(stellar_mat[mock_ind].flatten(), bins=star_bins, orientation='horizontal', alpha=0.6, edgecolor=\"white\", color=model_color)\n",
    "    ax_right.invert_xaxis()\n",
    "    ax_right.yaxis.tick_left()\n",
    "    ax_right.set_ylim(6.5, 10)\n",
    "    ax_right.set_xlim(600, 0)\n",
    "\n",
    "\n",
    "    # Scatter plot\n",
    "    ax_main = plt.subplot2grid((3, 3), (0, 1), rowspan=2, colspan=2)\n",
    "    ax_main.set_title(f\"$\\\\theta$ = {theta}\", fontsize=15)\n",
    "    ax_main.plot(halo_masses, det, color=model_color, label=\"deterministic\", lw=2, zorder=1)\n",
    "    ax_main.fill_between(halo_masses, det - sigma, det + sigma, color=model_color, alpha=0.6)\n",
    "    ax_main.fill_between(halo_masses, det - 2 * sigma, det + 2 * sigma, color=model_color, alpha=0.3)\n",
    "\n",
    "    ax_main.set_ylim(6.5, 10)\n",
    "    ax_main.set_xlim(9.0, 12)\n",
    "    ax_main.scatter(mass_mat[mock_ind], stellar_mat[mock_ind], marker=\".\", color=\"black\", label=f\"mock index: {mock_ind}\")\n",
    "    ax_main.legend()\n",
    "    ax_main.set_ylabel(\"log m$_{*}$ (M$_\\odot$)\", fontsize=15)\n",
    "    ax_main.set_xlabel(\"log m$_{\\mathrm{peak}}$ (M$_\\odot$)\", fontsize=15)\n",
    "\n",
    "    # Create four smaller panels on the bottom row\n",
    "    ax_bottom1 = plt.subplot2grid((3, 3), (2, 0))\n",
    "    ax_bottom2 = plt.subplot2grid((3, 3), (2, 1))\n",
    "    ax_bottom3 = plt.subplot2grid((3, 3), (2, 2))\n",
    "\n",
    "    ax_bottom1.plot(np.arange(stat_mock.Pnsat.shape[0]), stat_mock.Pnsat, color=\"black\", zorder=5)\n",
    "    ax_bottom1.set_xlim(0, 35)\n",
    "    ax_bottom1.set_xlabel(\"Nsat\")\n",
    "\n",
    "    ax_bottom2.plot(stat_mock.Msmax_sorted, stat_mock.ecdf_Msmax, color=\"black\", zorder=5, label=\"max\")\n",
    "    ax_bottom2.plot(stat_mock.Mstot_sorted, stat_mock.ecdf_Mstot, color=\"black\", ls=\"--\", zorder=5, label=\"total\")\n",
    "    ax_bottom2.plot(stat_mock.Msave_sorted, stat_mock.ecdf_Msave, color=\"black\", ls=\":\", zorder=5, label=\"mean\")\n",
    "    ax_bottom2.legend(loc=4)\n",
    "\n",
    "    #ax_bottom2.set_xlim(5, 11)\n",
    "    ax_bottom2.set_xlabel(\"log Ms\")\n",
    "\n",
    "    ax_bottom3.axvline(jsm_stats.correlation_coef(stat_mock.satfreq, stat_mock.Msmax), color=\"black\")\n",
    "    ax_bottom3.set_xlabel(\"r (Nsat | max(Ms))\")\n",
    "\n",
    "    coef = []\n",
    "    for i in stellar_mat:\n",
    "        stat = jsm_stats.SatStats(i, min_mass=6.5)\n",
    "        coef.append(jsm_stats.correlation_coef(stat.satfreq, stat.Msmax))\n",
    "        ax_bottom1.plot(np.arange(stat.Pnsat.shape[0]), stat.Pnsat, color=model_color, alpha=0.1)\n",
    "        ax_bottom2.plot(stat.Msmax_sorted, stat.ecdf_Msmax, color=model_color, alpha=0.1)\n",
    "\n",
    "    binz = np.linspace(-0.5,1,25)\n",
    "    ax_bottom3.hist(coef, bins=binz,alpha=0.7, edgecolor=\"white\", color=model_color)\n",
    "    # Adjust layout to prevent overlap\n",
    "    plt.tight_layout()\n",
    "\n",
    "    # Show the plot\n",
    "    plt.show()\n"
   ]
  },
  {
   "cell_type": "code",
   "execution_count": null,
   "metadata": {},
   "outputs": [],
   "source": [
    "# def SHMR_plot(theta, mass_mat, red_mat,model_color):\n",
    "#     # Create a figure with a grid layout\n",
    "#     fig = plt.figure(figsize=(15, 10))\n",
    "#     gs = gridspec.GridSpec(2, 5, height_ratios=[2, 1])\n",
    "\n",
    "#     mock_ind = np.random.randint(0, 100)\n",
    "#     halo_masses = np.linspace(8, 12, 100)\n",
    "#     stellar_mat = jsm_SHMR.general(theta, mass_mat, red_mat)\n",
    "#     theta_det = theta[:2] + [0, 0] + theta[4:]\n",
    "#     det = jsm_SHMR.general(theta_det, halo_masses, 0)\n",
    "#     sigma = theta[2] + theta[3] * (halo_masses - 12)\n",
    "#     stat_mock = jsm_stats.SatStats(stellar_mat[mock_ind], min_mass=6.5)\n",
    "\n",
    "#     # Create your long plot on top\n",
    "#     ax_top = plt.subplot(gs[0, :4])\n",
    "#     ax_top.set_title(f\"$\\\\theta$ = {theta}\", fontsize=15)\n",
    "#     ax_top.plot(halo_masses, det, color=model_color, label=\"deterministic\", lw=2, zorder=1)\n",
    "#     ax_top.fill_between(halo_masses, det - sigma, det + sigma, color=model_color, alpha=0.6)\n",
    "#     ax_top.fill_between(halo_masses, det - 2 * sigma, det + 2 * sigma, color=model_color, alpha=0.3)\n",
    "\n",
    "#     ax_top.set_ylim(6.5, 10)\n",
    "#     ax_top.set_xlim(9.0, 12)\n",
    "#     ax_top.scatter(mass_mat[mock_ind], stellar_mat[mock_ind], marker=\".\", color=\"black\", label=f\"mock index: {mock_ind}\")\n",
    "#     ax_top.legend()\n",
    "\n",
    "#     # Create three smaller plots on the bottom\n",
    "#     ax_bottom1 = plt.subplot(gs[1, 0])\n",
    "#     ax_bottom1.plot(np.arange(stat_mock.Pnsat.shape[0]), stat_mock.Pnsat, color=\"black\", zorder=5)\n",
    "#     ax_bottom1.set_xlim(0, 35)\n",
    "#     ax_bottom1.set_xlabel(\"Nsat\")\n",
    "\n",
    "#     ax_bottom2 = plt.subplot(gs[1, 1])\n",
    "#     ax_bottom2.plot(stat_mock.Msmax_sorted, stat_mock.ecdf_Msmax, color=\"black\", zorder=5)\n",
    "#     ax_bottom2.set_xlim(4, 11)\n",
    "#     ax_bottom2.set_xlabel(\"log max(Ms)\")\n",
    "\n",
    "#     ax_bottom3 = plt.subplot(gs[1, 2])\n",
    "#     ax_bottom3.plot(stat_mock.Mstot_sorted, stat_mock.ecdf_Mstot, color=\"black\", zorder=5)\n",
    "#     ax_bottom3.set_xlim(4, 11)\n",
    "#     ax_bottom3.set_xlabel(\"log total(Ms)\")\n",
    "\n",
    "#     ax_bottom4 = plt.subplot(gs[1, 3])\n",
    "#     ax_bottom4.axvline(jsm_stats.correlation_coef(stat_mock.satfreq, stat_mock.Msmax), color=\"black\")\n",
    "#     ax_bottom4.set_xlabel(\"r (Nsat | max(Ms))\")\n",
    "\n",
    "#     coef = []\n",
    "#     for i in stellar_mat:\n",
    "#         stat = jsm_stats.SatStats(i, min_mass=6.5)\n",
    "#         coef.append(jsm_stats.correlation_coef(stat.satfreq, stat.Msmax))\n",
    "#         ax_bottom1.plot(np.arange(stat.Pnsat.shape[0]), stat.Pnsat, color=model_color, alpha=0.1)\n",
    "#         ax_bottom2.plot(stat.Msmax_sorted, stat.ecdf_Msmax, color=model_color, alpha=0.1)\n",
    "#         ax_bottom3.plot(stat.Mstot_sorted, stat.ecdf_Mstot, color=model_color, alpha=0.1)\n",
    "\n",
    "\n",
    "#     binz = np.linspace(-0.5,1,25)\n",
    "#     ax_bottom4.hist(coef, bins=binz,alpha=0.7, edgecolor=\"white\", color=model_color)\n",
    "#     plt.show()"
   ]
  },
  {
   "cell_type": "markdown",
   "metadata": {},
   "source": [
    "### the statistics we use"
   ]
  },
  {
   "cell_type": "code",
   "execution_count": null,
   "metadata": {},
   "outputs": [],
   "source": [
    "theta1 = [10.5, 1.8, 0.3, 0, 0, 0]\n",
    "\n",
    "SHMR_plot(theta1, mass_example, red_example, model_color=\"lightcoral\")"
   ]
  },
  {
   "cell_type": "code",
   "execution_count": null,
   "metadata": {},
   "outputs": [],
   "source": [
    "theta2 = [10.5, 3, 0.3, 0, 0, 0]\n",
    "\n",
    "SHMR_plot(theta2, mass_example, red_example, model_color=\"olivedrab\")"
   ]
  },
  {
   "cell_type": "code",
   "execution_count": null,
   "metadata": {},
   "outputs": [],
   "source": [
    "theta3 = [10.5, 2, 0.1, -0.1, 0, 0]\n",
    "\n",
    "SHMR_plot(theta3, mass_example, red_example, model_color=\"darkorange\")"
   ]
  },
  {
   "cell_type": "code",
   "execution_count": null,
   "metadata": {},
   "outputs": [],
   "source": [
    "theta4 = [10.5, 2.5, 0.1, -0.1, 0.3, 0]\n",
    "\n",
    "SHMR_plot(theta4, mass_example, red_example, model_color=\"darkcyan\")"
   ]
  },
  {
   "cell_type": "markdown",
   "metadata": {},
   "source": [
    "### Level of correlation depends on theta! and maybe not so much on the specific mock survey"
   ]
  },
  {
   "cell_type": "code",
   "execution_count": null,
   "metadata": {},
   "outputs": [],
   "source": [
    "coef1 = []\n",
    "for i in range(99):\n",
    "    lgMs = jsm_SHMR.general(theta1, mass_example[i], red_example[i])\n",
    "    stat = jsm_stats.SatStats(lgMs, min_mass=6.5)\n",
    "    r = jsm_stats.correlation_coef(stat.satfreq, stat.Msave)\n",
    "    coef1.append(r)\n",
    "\n",
    "coef2 = []\n",
    "for i in range(99):\n",
    "    lgMs = jsm_SHMR.general(theta2, mass_example[i], red_example[i])\n",
    "    stat = jsm_stats.SatStats(lgMs, min_mass=6.5)\n",
    "    r = jsm_stats.correlation_coef(stat.satfreq, stat.Msave)\n",
    "    coef2.append(r)\n",
    "\n",
    "coef3 = []\n",
    "for i in range(99):\n",
    "    lgMs = jsm_SHMR.general(theta3, mass_example[i], red_example[i])\n",
    "    stat = jsm_stats.SatStats(lgMs, min_mass=6.5)\n",
    "    r = jsm_stats.correlation_coef(stat.satfreq, stat.Msave)\n",
    "    coef3.append(r)\n",
    "\n",
    "coef4 = []\n",
    "for i in range(99):\n",
    "    lgMs = jsm_SHMR.general(theta4, mass_example[i], red_example[i])\n",
    "    stat = jsm_stats.SatStats(lgMs, min_mass=6.5)\n",
    "    r = jsm_stats.correlation_coef(stat.satfreq, stat.Msave)\n",
    "    coef4.append(r)\n"
   ]
  },
  {
   "cell_type": "code",
   "execution_count": null,
   "metadata": {},
   "outputs": [],
   "source": [
    "binz = np.linspace(-0.5,1,25)\n",
    "\n",
    "plt.figure(figsize=(8,5))\n",
    "plt.title(\"different mock realizations\")\n",
    "plt.hist(coef1, bins=binz,alpha=0.7, edgecolor=\"white\", label=f\"$\\\\theta$ ={theta1}\", color=\"lightcoral\")\n",
    "plt.hist(coef2, bins=binz,alpha=0.7, edgecolor=\"white\", label=f\"$\\\\theta$ ={theta2}\", color=\"olivedrab\")\n",
    "plt.hist(coef3, bins=binz,alpha=0.7, edgecolor=\"white\", label=f\"$\\\\theta$ ={theta3}\", color=\"darkorange\")\n",
    "plt.hist(coef4, bins=binz,alpha=0.7, edgecolor=\"white\", label=f\"$\\\\theta$ ={theta4}\", color=\"darkcyan\")\n",
    "plt.xlabel(\"r (Nsat | ave(Ms))\")\n",
    "plt.legend(loc=2, framealpha=1)\n",
    "plt.show()"
   ]
  },
  {
   "cell_type": "code",
   "execution_count": null,
   "metadata": {},
   "outputs": [],
   "source": [
    "coef1 = []\n",
    "for i in range(99):\n",
    "    lgMs = jsm_SHMR.general(theta1, mass_example[i], red_example[i])\n",
    "    stat = jsm_stats.SatStats(lgMs, min_mass=6.5)\n",
    "    r = jsm_stats.correlation_coef(stat.satfreq, stat.Mstot)\n",
    "    coef1.append(r)\n",
    "\n",
    "coef2 = []\n",
    "for i in range(99):\n",
    "    lgMs = jsm_SHMR.general(theta2, mass_example[i], red_example[i])\n",
    "    stat = jsm_stats.SatStats(lgMs, min_mass=6.5)\n",
    "    r = jsm_stats.correlation_coef(stat.satfreq, stat.Mstot)\n",
    "    coef2.append(r)\n",
    "\n",
    "coef3 = []\n",
    "for i in range(99):\n",
    "    lgMs = jsm_SHMR.general(theta3, mass_example[i], red_example[i])\n",
    "    stat = jsm_stats.SatStats(lgMs, min_mass=6.5)\n",
    "    r = jsm_stats.correlation_coef(stat.satfreq, stat.Mstot)\n",
    "    coef3.append(r)\n",
    "\n",
    "coef4 = []\n",
    "for i in range(99):\n",
    "    lgMs = jsm_SHMR.general(theta4, mass_example[i], red_example[i])\n",
    "    stat = jsm_stats.SatStats(lgMs, min_mass=6.5)\n",
    "    r = jsm_stats.correlation_coef(stat.satfreq, stat.Mstot)\n",
    "    coef4.append(r)\n"
   ]
  },
  {
   "cell_type": "code",
   "execution_count": null,
   "metadata": {},
   "outputs": [],
   "source": [
    "binz = np.linspace(-0.5,1,25)\n",
    "\n",
    "plt.figure(figsize=(8,5))\n",
    "plt.title(\"different mock realizations\")\n",
    "plt.hist(coef1, bins=binz,alpha=0.7, edgecolor=\"white\", label=f\"$\\\\theta$ ={theta1}\", color=\"lightcoral\")\n",
    "plt.hist(coef2, bins=binz,alpha=0.7, edgecolor=\"white\", label=f\"$\\\\theta$ ={theta2}\", color=\"olivedrab\")\n",
    "plt.hist(coef3, bins=binz,alpha=0.7, edgecolor=\"white\", label=f\"$\\\\theta$ ={theta3}\", color=\"darkorange\")\n",
    "plt.hist(coef4, bins=binz,alpha=0.7, edgecolor=\"white\", label=f\"$\\\\theta$ ={theta4}\", color=\"darkcyan\")\n",
    "plt.xlabel(\"r (Nsat | total(Ms))\")\n",
    "plt.legend(loc=2, framealpha=1)\n",
    "plt.show()"
   ]
  },
  {
   "cell_type": "code",
   "execution_count": null,
   "metadata": {},
   "outputs": [],
   "source": [
    "coef1 = []\n",
    "for i in range(99):\n",
    "    lgMs = jsm_SHMR.general(theta1, mass_example[i], red_example[i])\n",
    "    stat = jsm_stats.SatStats(lgMs, min_mass=6.5)\n",
    "    r = jsm_stats.correlation_coef(stat.satfreq, stat.Msmax)\n",
    "    coef1.append(r)\n",
    "\n",
    "coef2 = []\n",
    "for i in range(99):\n",
    "    lgMs = jsm_SHMR.general(theta2, mass_example[i], red_example[i])\n",
    "    stat = jsm_stats.SatStats(lgMs, min_mass=6.5)\n",
    "    r = jsm_stats.correlation_coef(stat.satfreq, stat.Msmax)\n",
    "    coef2.append(r)\n",
    "\n",
    "coef3 = []\n",
    "for i in range(99):\n",
    "    lgMs = jsm_SHMR.general(theta3, mass_example[i], red_example[i])\n",
    "    stat = jsm_stats.SatStats(lgMs, min_mass=6.5)\n",
    "    r = jsm_stats.correlation_coef(stat.satfreq, stat.Msmax)\n",
    "    coef3.append(r)\n",
    "\n",
    "coef4 = []\n",
    "for i in range(99):\n",
    "    lgMs = jsm_SHMR.general(theta4, mass_example[i], red_example[i])\n",
    "    stat = jsm_stats.SatStats(lgMs, min_mass=6.5)\n",
    "    r = jsm_stats.correlation_coef(stat.satfreq, stat.Msmax)\n",
    "    coef4.append(r)\n"
   ]
  },
  {
   "cell_type": "code",
   "execution_count": null,
   "metadata": {},
   "outputs": [],
   "source": [
    "binz = np.linspace(-0.5,1,25)\n",
    "\n",
    "plt.figure(figsize=(8,5))\n",
    "plt.title(\"different mock realizations\")\n",
    "plt.hist(coef1, bins=binz,alpha=0.7, edgecolor=\"white\", label=f\"$\\\\theta$ ={theta1}\", color=\"lightcoral\")\n",
    "plt.hist(coef2, bins=binz,alpha=0.7, edgecolor=\"white\", label=f\"$\\\\theta$ ={theta2}\", color=\"olivedrab\")\n",
    "plt.hist(coef3, bins=binz,alpha=0.7, edgecolor=\"white\", label=f\"$\\\\theta$ ={theta3}\", color=\"darkorange\")\n",
    "plt.hist(coef4, bins=binz,alpha=0.7, edgecolor=\"white\", label=f\"$\\\\theta$ ={theta4}\", color=\"darkcyan\")\n",
    "plt.xlabel(\"r (Nsat | max(Ms))\")\n",
    "plt.legend(loc=2, framealpha=1)\n",
    "plt.show()"
   ]
  },
  {
   "cell_type": "code",
   "execution_count": null,
   "metadata": {},
   "outputs": [],
   "source": [
    "alpha1 = jsm_mcmc.single_chain(\"../../../data/paper/mock_permutations_a2/model_A/alpha/mock_1/chain.h5\", Nstack=1, Nburn=500, Nthin=25)\n",
    "\n",
    "theta_fid = [10.5, 2.0, 0.2, 0, 0, 0]\n",
    "\n",
    "data = jsm_models.init_data(theta_fid, \"../../../data/paper/mock_permutations_a2/model_A/alpha/mock_1/mock_data.npy\")"
   ]
  },
  {
   "cell_type": "code",
   "execution_count": null,
   "metadata": {},
   "outputs": [],
   "source": [
    "stat_fid = jsm_stats.SatStats(data.lgMs, min_mass=6.5)\n",
    "r_fid = jsm_stats.correlation_coef(stat_fid.satfreq, stat_fid.Msmax)"
   ]
  },
  {
   "cell_type": "code",
   "execution_count": null,
   "metadata": {},
   "outputs": [],
   "source": [
    "stat_fid.CSMF(plot=True)"
   ]
  },
  {
   "cell_type": "code",
   "execution_count": null,
   "metadata": {},
   "outputs": [],
   "source": [
    "def SHMR_plot_data(theta, mass_mat, red_mat, data, model_color):    # Create scatter plot\n",
    "    plt.figure(figsize=(10, 8))\n",
    "\n",
    "    halo_masses = np.linspace(8, 14, 100)\n",
    "    stellar_mat = jsm_SHMR.general(theta, mass_mat, red_mat)\n",
    "    theta_det = theta[:2] + [0, 0] + theta[4:]\n",
    "    det = jsm_SHMR.general(theta_det, halo_masses, 0)\n",
    "    sigma = theta[2] + theta[3] * (halo_masses - 12)\n",
    "    stat_mock = jsm_stats.SatStats(data.lgMs, min_mass=6.5)\n",
    "\n",
    "    # Distribution plot on the right\n",
    "\n",
    "    star_bins = np.linspace(6.5,11.5,30)\n",
    "\n",
    "    ax_right = plt.subplot2grid((3, 3), (0, 0), rowspan=2)\n",
    "    ax_right.hist(data.lgMs.flatten(), bins=star_bins, orientation='horizontal', alpha=0.6, edgecolor=\"white\", color=model_color)\n",
    "    ax_right.invert_xaxis()\n",
    "    ax_right.yaxis.tick_left()\n",
    "    ax_right.set_ylim(6.5, 10)\n",
    "    ax_right.set_xlim(600, 0)\n",
    "\n",
    "\n",
    "    # Scatter plot\n",
    "    ax_main = plt.subplot2grid((3, 3), (0, 1), rowspan=2, colspan=2)\n",
    "    ax_main.set_title(f\"$\\\\theta$ = {theta}\", fontsize=15)\n",
    "    ax_main.plot(halo_masses, det, color=model_color, label=\"deterministic\", lw=2, zorder=1)\n",
    "    ax_main.fill_between(halo_masses, det - sigma, det + sigma, color=model_color, alpha=0.6)\n",
    "    ax_main.fill_between(halo_masses, det - 2 * sigma, det + 2 * sigma, color=model_color, alpha=0.3)\n",
    "\n",
    "    ax_main.set_ylim(6.5, 10)\n",
    "    ax_main.set_xlim(9.0, 12)\n",
    "    ax_main.scatter(data.lgMh, data.lgMs, marker=\".\", color=\"black\", label=f\"mock survey\")\n",
    "    ax_main.legend()\n",
    "    ax_main.set_ylabel(\"log m$_{*}$ (M$_\\odot$)\", fontsize=15)\n",
    "    ax_main.set_xlabel(\"log m$_{\\mathrm{peak}}$ (M$_\\odot$)\", fontsize=15)\n",
    "\n",
    "    # Create four smaller panels on the bottom row\n",
    "    ax_bottom1 = plt.subplot2grid((3, 3), (2, 0))\n",
    "    ax_bottom2 = plt.subplot2grid((3, 3), (2, 1))\n",
    "    ax_bottom3 = plt.subplot2grid((3, 3), (2, 2))\n",
    "\n",
    "    ax_bottom1.plot(np.arange(stat_mock.Pnsat.shape[0]), stat_mock.Pnsat, color=\"black\", zorder=5)\n",
    "    ax_bottom1.set_xlim(0, 35)\n",
    "    ax_bottom1.set_xlabel(\"Nsat\")\n",
    "\n",
    "    ax_bottom2.plot(stat_mock.Msmax_sorted, stat_mock.ecdf_Msmax, color=\"black\", zorder=5, label=\"max\")\n",
    "    ax_bottom2.plot(stat_mock.Mstot_sorted, stat_mock.ecdf_Mstot, color=\"black\", ls=\"--\", zorder=5, label=\"total\")\n",
    "    ax_bottom2.plot(stat_mock.Msave_sorted, stat_mock.ecdf_Msave, color=\"black\", ls=\":\", zorder=5, label=\"mean\")\n",
    "    ax_bottom2.legend(loc=4)\n",
    "\n",
    "    #ax_bottom2.set_xlim(5, 11)\n",
    "    ax_bottom2.set_xlabel(\"log Ms\")\n",
    "\n",
    "    ax_bottom3.axvline(jsm_stats.correlation_coef(stat_mock.satfreq, stat_mock.Msmax), color=\"black\")\n",
    "    ax_bottom3.set_xlabel(\"r (Nsat | max(Ms))\")\n",
    "\n",
    "    coef = []\n",
    "    for i in stellar_mat:\n",
    "        stat = jsm_stats.SatStats(i, min_mass=6.5)\n",
    "        coef.append(jsm_stats.correlation_coef(stat.satfreq, stat.Msmax))\n",
    "        ax_bottom1.plot(np.arange(stat.Pnsat.shape[0]), stat.Pnsat, color=model_color, alpha=0.1)\n",
    "        ax_bottom2.plot(stat.Msmax_sorted, stat.ecdf_Msmax, color=model_color, alpha=0.1)\n",
    "\n",
    "    binz = np.linspace(-0.5,1,25)\n",
    "    ax_bottom3.hist(coef, bins=binz,alpha=0.7, edgecolor=\"white\", color=model_color)\n",
    "    # Adjust layout to prevent overlap\n",
    "    plt.tight_layout()\n",
    "\n",
    "    # Show the plot\n",
    "    plt.show()\n"
   ]
  },
  {
   "cell_type": "code",
   "execution_count": null,
   "metadata": {},
   "outputs": [],
   "source": [
    "SHMR_plot_data(theta_fid, mass_example, red_example, data, model_color=\"darkcyan\")"
   ]
  },
  {
   "cell_type": "code",
   "execution_count": null,
   "metadata": {},
   "outputs": [],
   "source": [
    "mass_example = np.vstack(mass_example)\n",
    "red_example = np.vstack(red_example)\n",
    "\n",
    "coef_models = []\n",
    "for theta in alpha1.end:\n",
    "    lgMs = jsm_SHMR.general(theta, mass_example, mass_example)\n",
    "    stat = jsm_stats.SatStats(lgMs, min_mass=6.5)\n",
    "    r = jsm_stats.correlation_coef(stat.satfreq, stat.Msmax)\n",
    "    coef_models.append(r)"
   ]
  },
  {
   "cell_type": "code",
   "execution_count": null,
   "metadata": {},
   "outputs": [],
   "source": [
    "binz = np.linspace(-0.5,1,50)\n",
    "\n",
    "plt.figure(figsize=(8,5))\n",
    "plt.title(\"different model realizations\")\n",
    "plt.hist(coef_models, bins=binz,alpha=0.7, edgecolor=\"white\", color=\"grey\", label=\"100 walkers\")\n",
    "plt.axvline(r_fid, color=\"black\", label=\"mock data\")\n",
    "plt.legend()\n",
    "plt.xlabel(\"r (Nsat | max(Ms))\")\n",
    "plt.show()"
   ]
  },
  {
   "cell_type": "markdown",
   "metadata": {},
   "source": [
    "#### the CHI2 test"
   ]
  },
  {
   "cell_type": "code",
   "execution_count": 20,
   "metadata": {},
   "outputs": [],
   "source": [
    "alpha1 = jsm_mcmc.single_chain(\"../../../data/paper/mock_permutations_a2/model_A/alpha/mock_2/chain.h5\", Nstack=1, Nburn=500, Nthin=25)\n",
    "\n",
    "theta_fid = [10.5, 1.5, 0.2, 0, 0, 0]\n",
    "\n",
    "data = jsm_models.init_data(theta_fid, \"../../../data/paper/mock_permutations_a2/model_A/alpha/mock_2/mock_data.npy\")"
   ]
  },
  {
   "cell_type": "code",
   "execution_count": 21,
   "metadata": {},
   "outputs": [],
   "source": [
    "mass_example = np.load(\"../../../data/MW-analog/meta_data_psi4/models.npz\")[\"mass\"]\n",
    "red_example = np.load(\"../../../data/MW-analog/meta_data_psi4/models.npz\")[\"redshift\"]\n",
    "\n",
    "mass_example = np.vstack(mass_example)\n",
    "red_example = np.vstack(red_example)"
   ]
  },
  {
   "cell_type": "code",
   "execution_count": 22,
   "metadata": {},
   "outputs": [
    {
     "data": {
      "text/plain": [
       "-0.17859592581482256"
      ]
     },
     "execution_count": 22,
     "metadata": {},
     "output_type": "execute_result"
    }
   ],
   "source": [
    "stat_fid = jsm_stats.SatStats(data.lgMs, min_mass=6.5)\n",
    "\n",
    "stat_fid.r"
   ]
  },
  {
   "cell_type": "code",
   "execution_count": 23,
   "metadata": {},
   "outputs": [],
   "source": [
    "lgMs_models = jsm_SHMR.general(alpha1.end[12], mass_example)"
   ]
  },
  {
   "cell_type": "code",
   "execution_count": 24,
   "metadata": {},
   "outputs": [],
   "source": [
    "lgMs_models_split = np.array(np.split(lgMs_models, 100, axis=0))"
   ]
  },
  {
   "cell_type": "code",
   "execution_count": 25,
   "metadata": {},
   "outputs": [],
   "source": [
    "test = []\n",
    "for i in lgMs_models_split:\n",
    "    i_stat = jsm_stats.SatStats(i, min_mass=6.5)\n",
    "    test.append(i_stat.r)"
   ]
  },
  {
   "cell_type": "code",
   "execution_count": 26,
   "metadata": {},
   "outputs": [],
   "source": [
    "chi2 = jsm_stats.lnL_chi2r(test, stat_fid.r)"
   ]
  },
  {
   "cell_type": "code",
   "execution_count": 11,
   "metadata": {},
   "outputs": [
    {
     "data": {
      "text/plain": [
       "Text(0.5, 0, 'correlation')"
      ]
     },
     "execution_count": 11,
     "metadata": {},
     "output_type": "execute_result"
    },
    {
     "data": {
      "image/png": "[encoded data removed]",
      "text/plain": [
       "<Figure size 640x480 with 1 Axes>"
      ]
     },
     "metadata": {},
     "output_type": "display_data"
    }
   ],
   "source": [
    "plt.title(f\"chi^2  = {chi2}\")\n",
    "plt.hist(test, alpha=0.3)\n",
    "plt.axvline(np.average(test))\n",
    "plt.axvline(np.average(test) + np.std(test), ls=\"--\")\n",
    "plt.axvline(np.average(test) - np.std(test), ls=\"--\")\n",
    "plt.axvline(stat_fid.r, color=\"red\", ls=\":\")\n",
    "plt.xlabel(\"correlation\")"
   ]
  },
  {
   "cell_type": "code",
   "execution_count": 27,
   "metadata": {},
   "outputs": [
    {
     "data": {
      "text/plain": [
       "Text(0.5, 0, 'correlation')"
      ]
     },
     "execution_count": 27,
     "metadata": {},
     "output_type": "execute_result"
    },
    {
     "data": {
      "image/png": "[encoded data removed]",
      "text/plain": [
       "<Figure size 640x480 with 1 Axes>"
      ]
     },
     "metadata": {},
     "output_type": "display_data"
    }
   ],
   "source": [
    "plt.title(f\"chi^2  = {chi2}\")\n",
    "plt.hist(test, alpha=0.3)\n",
    "plt.axvline(np.average(test))\n",
    "plt.axvline(np.average(test) + np.std(test), ls=\"--\")\n",
    "plt.axvline(np.average(test) - np.std(test), ls=\"--\")\n",
    "plt.axvline(stat_fid.r, color=\"red\", ls=\":\")\n",
    "plt.xlabel(\"correlation\")"
   ]
  },
  {
   "cell_type": "code",
   "execution_count": 19,
   "metadata": {},
   "outputs": [
    {
     "data": {
      "text/plain": [
       "Text(0.5, 0, 'correlation')"
      ]
     },
     "execution_count": 19,
     "metadata": {},
     "output_type": "execute_result"
    },
    {
     "data": {
      "image/png": "[encoded data removed]",
      "text/plain": [
       "<Figure size 640x480 with 1 Axes>"
      ]
     },
     "metadata": {},
     "output_type": "display_data"
    }
   ],
   "source": [
    "plt.title(f\"chi^2  = {chi2}\")\n",
    "plt.hist(test, alpha=0.3)\n",
    "plt.axvline(np.average(test))\n",
    "plt.axvline(np.average(test) + np.std(test), ls=\"--\")\n",
    "plt.axvline(np.average(test) - np.std(test), ls=\"--\")\n",
    "plt.axvline(stat_fid.r, color=\"red\", ls=\":\")\n",
    "plt.xlabel(\"correlation\")"
   ]
  },
  {
   "cell_type": "code",
   "execution_count": null,
   "metadata": {},
   "outputs": [],
   "source": []
  }
 ],
 "metadata": {
  "kernelspec": {
   "display_name": "subhalos",
   "language": "python",
   "name": "python3"
  },
  "language_info": {
   "codemirror_mode": {
    "name": "ipython",
    "version": 3
   },
   "file_extension": ".py",
   "mimetype": "text/x-python",
   "name": "python",
   "nbconvert_exporter": "python",
   "pygments_lexer": "ipython3",
   "version": "3.10.9"
  }
 },
 "nbformat": 4,
 "nbformat_minor": 2
}
