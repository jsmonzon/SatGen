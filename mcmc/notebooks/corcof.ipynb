{
 "cells": [
  {
   "cell_type": "code",
   "execution_count": 1,
   "metadata": {},
   "outputs": [],
   "source": [
    "%load_ext autoreload\n",
    "%autoreload 2"
   ]
  },
  {
   "cell_type": "code",
   "execution_count": 2,
   "metadata": {},
   "outputs": [],
   "source": [
    "import numpy as np\n",
    "import matplotlib.pyplot as plt\n",
    "import matplotlib.gridspec as gridspec\n",
    "import matplotlib.image as mpimg\n",
    "import warnings; warnings.simplefilter('ignore')\n",
    "import sys\n",
    "sys.path.insert(0, '/Users/jsmonzon/Research/SatGen/mcmc/src/')\n",
    "import jsm_halopull\n",
    "import jsm_SHMR\n",
    "import jsm_mcmc\n",
    "import jsm_stats\n",
    "import jsm_models"
   ]
  },
  {
   "cell_type": "code",
   "execution_count": null,
   "metadata": {},
   "outputs": [],
   "source": [
    "\n",
    "def SHMR_plot(theta, mass_mat, red_mat, model_color):    # Create scatter plot\n",
    "    plt.figure(figsize=(10, 8))\n",
    "\n",
    "    mock_ind = np.random.randint(0, 100)\n",
    "    halo_masses = np.linspace(8, 14, 100)\n",
    "    stellar_mat = jsm_SHMR.general(theta, mass_mat, red_mat)\n",
    "    theta_det = theta[:2] + [0, 0] + theta[4:]\n",
    "    det = jsm_SHMR.general(theta_det, halo_masses, 0)\n",
    "    sigma = theta[2] + theta[3] * (halo_masses - 12)\n",
    "    stat_mock = jsm_stats.SatStats(stellar_mat[mock_ind], min_mass=6.5)\n",
    "\n",
    "    # Distribution plot on the right\n",
    "\n",
    "    star_bins = np.linspace(6.5,11.5,30)\n",
    "\n",
    "    ax_right = plt.subplot2grid((3, 3), (0, 0), rowspan=2)\n",
    "    ax_right.hist(stellar_mat[mock_ind].flatten(), bins=star_bins, orientation='horizontal', alpha=0.6, edgecolor=\"white\", color=model_color)\n",
    "    ax_right.invert_xaxis()\n",
    "    ax_right.yaxis.tick_left()\n",
    "    ax_right.set_ylim(6.5, 10)\n",
    "    ax_right.set_xlim(600, 0)\n",
    "\n",
    "\n",
    "    # Scatter plot\n",
    "    ax_main = plt.subplot2grid((3, 3), (0, 1), rowspan=2, colspan=2)\n",
    "    ax_main.set_title(f\"$\\\\theta$ = {theta}\", fontsize=15)\n",
    "    ax_main.plot(halo_masses, det, color=model_color, label=\"deterministic\", lw=2, zorder=1)\n",
    "    ax_main.fill_between(halo_masses, det - sigma, det + sigma, color=model_color, alpha=0.6)\n",
    "    ax_main.fill_between(halo_masses, det - 2 * sigma, det + 2 * sigma, color=model_color, alpha=0.3)\n",
    "\n",
    "    ax_main.set_ylim(6.5, 10)\n",
    "    ax_main.set_xlim(9.0, 12)\n",
    "    ax_main.scatter(mass_mat[mock_ind], stellar_mat[mock_ind], marker=\".\", color=\"black\", label=f\"mock index: {mock_ind}\")\n",
    "    ax_main.legend()\n",
    "    ax_main.set_ylabel(\"log m$_{*}$ (M$_\\odot$)\", fontsize=15)\n",
    "    ax_main.set_xlabel(\"log m$_{\\mathrm{peak}}$ (M$_\\odot$)\", fontsize=15)\n",
    "\n",
    "    # Create four smaller panels on the bottom row\n",
    "    ax_bottom1 = plt.subplot2grid((3, 3), (2, 0))\n",
    "    ax_bottom2 = plt.subplot2grid((3, 3), (2, 1))\n",
    "    ax_bottom3 = plt.subplot2grid((3, 3), (2, 2))\n",
    "\n",
    "    ax_bottom1.plot(np.arange(stat_mock.Pnsat.shape[0]), stat_mock.Pnsat, color=\"black\", zorder=5)\n",
    "    ax_bottom1.set_xlim(0, 35)\n",
    "    ax_bottom1.set_xlabel(\"Nsat\")\n",
    "\n",
    "    ax_bottom2.plot(stat_mock.Msmax_sorted, stat_mock.ecdf_Msmax, color=\"black\", zorder=5, label=\"max\")\n",
    "    ax_bottom2.plot(stat_mock.Mstot_sorted, stat_mock.ecdf_Mstot, color=\"black\", ls=\"--\", zorder=5, label=\"total\")\n",
    "    ax_bottom2.plot(stat_mock.Msave_sorted, stat_mock.ecdf_Msave, color=\"black\", ls=\":\", zorder=5, label=\"mean\")\n",
    "    ax_bottom2.legend(loc=4)\n",
    "\n",
    "    #ax_bottom2.set_xlim(5, 11)\n",
    "    ax_bottom2.set_xlabel(\"log Ms\")\n",
    "\n",
    "    ax_bottom3.axvline(stat_mock.r, color=\"black\")\n",
    "    ax_bottom3.set_xlabel(\"r (Nsat | max(Ms))\")\n",
    "\n",
    "    coef = []\n",
    "    for i in stellar_mat:\n",
    "        stat = jsm_stats.SatStats(i, min_mass=6.5)\n",
    "        coef.append(stat.r)\n",
    "        ax_bottom1.plot(np.arange(stat.Pnsat.shape[0]), stat.Pnsat, color=model_color, alpha=0.1)\n",
    "        ax_bottom2.plot(stat.Msmax_sorted, stat.ecdf_Msmax, color=model_color, alpha=0.1)\n",
    "\n",
    "    binz = np.linspace(-0.5,1,25)\n",
    "    ax_bottom3.hist(coef, bins=binz,alpha=0.7, edgecolor=\"white\", color=model_color)\n",
    "    # Adjust layout to prevent overlap\n",
    "    plt.tight_layout()\n",
    "\n",
    "    # Show the plot\n",
    "    plt.show()\n"
   ]
  },
  {
   "cell_type": "code",
   "execution_count": null,
   "metadata": {},
   "outputs": [],
   "source": [
    "# def SHMR_plot(theta, mass_mat, red_mat,model_color):\n",
    "#     # Create a figure with a grid layout\n",
    "#     fig = plt.figure(figsize=(15, 10))\n",
    "#     gs = gridspec.GridSpec(2, 5, height_ratios=[2, 1])\n",
    "\n",
    "#     mock_ind = np.random.randint(0, 100)\n",
    "#     halo_masses = np.linspace(8, 12, 100)\n",
    "#     stellar_mat = jsm_SHMR.general(theta, mass_mat, red_mat)\n",
    "#     theta_det = theta[:2] + [0, 0] + theta[4:]\n",
    "#     det = jsm_SHMR.general(theta_det, halo_masses, 0)\n",
    "#     sigma = theta[2] + theta[3] * (halo_masses - 12)\n",
    "#     stat_mock = jsm_stats.SatStats(stellar_mat[mock_ind], min_mass=6.5)\n",
    "\n",
    "#     # Create your long plot on top\n",
    "#     ax_top = plt.subplot(gs[0, :4])\n",
    "#     ax_top.set_title(f\"$\\\\theta$ = {theta}\", fontsize=15)\n",
    "#     ax_top.plot(halo_masses, det, color=model_color, label=\"deterministic\", lw=2, zorder=1)\n",
    "#     ax_top.fill_between(halo_masses, det - sigma, det + sigma, color=model_color, alpha=0.6)\n",
    "#     ax_top.fill_between(halo_masses, det - 2 * sigma, det + 2 * sigma, color=model_color, alpha=0.3)\n",
    "\n",
    "#     ax_top.set_ylim(6.5, 10)\n",
    "#     ax_top.set_xlim(9.0, 12)\n",
    "#     ax_top.scatter(mass_mat[mock_ind], stellar_mat[mock_ind], marker=\".\", color=\"black\", label=f\"mock index: {mock_ind}\")\n",
    "#     ax_top.legend()\n",
    "\n",
    "#     # Create three smaller plots on the bottom\n",
    "#     ax_bottom1 = plt.subplot(gs[1, 0])\n",
    "#     ax_bottom1.plot(np.arange(stat_mock.Pnsat.shape[0]), stat_mock.Pnsat, color=\"black\", zorder=5)\n",
    "#     ax_bottom1.set_xlim(0, 35)\n",
    "#     ax_bottom1.set_xlabel(\"Nsat\")\n",
    "\n",
    "#     ax_bottom2 = plt.subplot(gs[1, 1])\n",
    "#     ax_bottom2.plot(stat_mock.Msmax_sorted, stat_mock.ecdf_Msmax, color=\"black\", zorder=5)\n",
    "#     ax_bottom2.set_xlim(4, 11)\n",
    "#     ax_bottom2.set_xlabel(\"log max(Ms)\")\n",
    "\n",
    "#     ax_bottom3 = plt.subplot(gs[1, 2])\n",
    "#     ax_bottom3.plot(stat_mock.Mstot_sorted, stat_mock.ecdf_Mstot, color=\"black\", zorder=5)\n",
    "#     ax_bottom3.set_xlim(4, 11)\n",
    "#     ax_bottom3.set_xlabel(\"log total(Ms)\")\n",
    "\n",
    "#     ax_bottom4 = plt.subplot(gs[1, 3])\n",
    "#     ax_bottom4.axvline(jsm_stats.correlation_coef(stat_mock.satfreq, stat_mock.Msmax), color=\"black\")\n",
    "#     ax_bottom4.set_xlabel(\"r (Nsat | max(Ms))\")\n",
    "\n",
    "#     coef = []\n",
    "#     for i in stellar_mat:\n",
    "#         stat = jsm_stats.SatStats(i, min_mass=6.5)\n",
    "#         coef.append(jsm_stats.correlation_coef(stat.satfreq, stat.Msmax))\n",
    "#         ax_bottom1.plot(np.arange(stat.Pnsat.shape[0]), stat.Pnsat, color=model_color, alpha=0.1)\n",
    "#         ax_bottom2.plot(stat.Msmax_sorted, stat.ecdf_Msmax, color=model_color, alpha=0.1)\n",
    "#         ax_bottom3.plot(stat.Mstot_sorted, stat.ecdf_Mstot, color=model_color, alpha=0.1)\n",
    "\n",
    "\n",
    "#     binz = np.linspace(-0.5,1,25)\n",
    "#     ax_bottom4.hist(coef, bins=binz,alpha=0.7, edgecolor=\"white\", color=model_color)\n",
    "#     plt.show()"
   ]
  },
  {
   "cell_type": "markdown",
   "metadata": {},
   "source": [
    "### the statistics we use"
   ]
  },
  {
   "cell_type": "code",
   "execution_count": null,
   "metadata": {},
   "outputs": [],
   "source": [
    "theta1 = [10.5, 1.8, 0.3, 0, 0, 0]\n",
    "\n",
    "SHMR_plot(theta1, mass_example, red_example, model_color=\"lightcoral\")"
   ]
  },
  {
   "cell_type": "code",
   "execution_count": null,
   "metadata": {},
   "outputs": [],
   "source": [
    "theta2 = [10.5, 3, 0.3, 0, 0, 0]\n",
    "\n",
    "SHMR_plot(theta2, mass_example, red_example, model_color=\"olivedrab\")"
   ]
  },
  {
   "cell_type": "code",
   "execution_count": null,
   "metadata": {},
   "outputs": [],
   "source": [
    "theta3 = [10.5, 2, 0.1, -0.1, 0, 0]\n",
    "\n",
    "SHMR_plot(theta3, mass_example, red_example, model_color=\"darkorange\")"
   ]
  },
  {
   "cell_type": "code",
   "execution_count": null,
   "metadata": {},
   "outputs": [],
   "source": [
    "theta4 = [10.5, 2.5, 0.1, -0.1, 0.3, 0]\n",
    "\n",
    "SHMR_plot(theta4, mass_example, red_example, model_color=\"darkcyan\")"
   ]
  },
  {
   "cell_type": "markdown",
   "metadata": {},
   "source": [
    "### Level of correlation depends on theta! and maybe not so much on the specific mock survey"
   ]
  },
  {
   "cell_type": "code",
   "execution_count": null,
   "metadata": {},
   "outputs": [],
   "source": [
    "coef1 = []\n",
    "for i in range(99):\n",
    "    lgMs = jsm_SHMR.general(theta1, mass_example[i], red_example[i])\n",
    "    stat = jsm_stats.SatStats(lgMs, min_mass=6.5)\n",
    "    coef1.append(stat.r)\n",
    "\n",
    "coef2 = []\n",
    "for i in range(99):\n",
    "    lgMs = jsm_SHMR.general(theta2, mass_example[i], red_example[i])\n",
    "    stat = jsm_stats.SatStats(lgMs, min_mass=6.5)\n",
    "    coef2.append(stat.r)\n",
    "\n",
    "coef3 = []\n",
    "for i in range(99):\n",
    "    lgMs = jsm_SHMR.general(theta3, mass_example[i], red_example[i])\n",
    "    stat = jsm_stats.SatStats(lgMs, min_mass=6.5)\n",
    "    coef3.append(stat.r)\n",
    "\n",
    "coef4 = []\n",
    "for i in range(99):\n",
    "    lgMs = jsm_SHMR.general(theta4, mass_example[i], red_example[i])\n",
    "    stat = jsm_stats.SatStats(lgMs, min_mass=6.5)\n",
    "    coef4.append(stat.r)\n"
   ]
  },
  {
   "cell_type": "code",
   "execution_count": null,
   "metadata": {},
   "outputs": [],
   "source": [
    "binz = np.linspace(-0.5,1,25)\n",
    "\n",
    "plt.figure(figsize=(8,5))\n",
    "plt.title(\"different mock realizations\")\n",
    "plt.hist(coef1, bins=binz,alpha=0.7, edgecolor=\"white\", label=f\"$\\\\theta$ ={theta1}\", color=\"lightcoral\")\n",
    "plt.hist(coef2, bins=binz,alpha=0.7, edgecolor=\"white\", label=f\"$\\\\theta$ ={theta2}\", color=\"olivedrab\")\n",
    "plt.hist(coef3, bins=binz,alpha=0.7, edgecolor=\"white\", label=f\"$\\\\theta$ ={theta3}\", color=\"darkorange\")\n",
    "plt.hist(coef4, bins=binz,alpha=0.7, edgecolor=\"white\", label=f\"$\\\\theta$ ={theta4}\", color=\"darkcyan\")\n",
    "plt.xlabel(\"r (Nsat | ave(Ms))\")\n",
    "plt.legend(loc=2, framealpha=1)\n",
    "plt.show()"
   ]
  },
  {
   "cell_type": "code",
   "execution_count": null,
   "metadata": {},
   "outputs": [],
   "source": [
    "alpha1 = jsm_mcmc.single_chain(\"../../../data/paper/mock_permutations_a2/model_A/alpha/mock_1/chain.h5\", Nstack=1, Nburn=500, Nthin=25)\n",
    "\n",
    "theta_fid = [10.5, 2.0, 0.2, 0, 0, 0]\n",
    "\n",
    "data = jsm_models.init_data(theta_fid, \"../../../data/paper/mock_permutations_a2/model_A/alpha/mock_1/mock_data.npy\")"
   ]
  },
  {
   "cell_type": "code",
   "execution_count": null,
   "metadata": {},
   "outputs": [],
   "source": [
    "stat_fid = jsm_stats.SatStats(data.lgMs, min_mass=6.5)"
   ]
  },
  {
   "cell_type": "code",
   "execution_count": null,
   "metadata": {},
   "outputs": [],
   "source": [
    "stat_fid.CSMF(plotmed=True)"
   ]
  },
  {
   "cell_type": "markdown",
   "metadata": {},
   "source": [
    "#### the CHI2 test"
   ]
  },
  {
   "cell_type": "code",
   "execution_count": null,
   "metadata": {},
   "outputs": [],
   "source": [
    "alpha1 = jsm_mcmc.single_chain(\"../../../data/paper/mock_permutations_a2/model_A/alpha/mock_2/chain.h5\", Nstack=1, Nburn=500, Nthin=25)\n",
    "\n",
    "theta_fid = [10.5, 1.5, 0.2, 0, 0, 0]\n",
    "\n",
    "data = jsm_models.init_data(theta_fid, \"../../../data/paper/mock_permutations_a2/model_A/alpha/mock_2/mock_data.npy\")"
   ]
  },
  {
   "cell_type": "code",
   "execution_count": null,
   "metadata": {},
   "outputs": [],
   "source": [
    "mass_example = np.load(\"../../../data/MW-analog/meta_data_psi3/models.npz\")[\"mass\"]\n",
    "red_example = np.load(\"../../../data/MW-analog/meta_data_psi3/models.npz\")[\"redshift\"]\n",
    "\n",
    "mass_example = np.vstack(mass_example)\n",
    "red_example = np.vstack(red_example)"
   ]
  },
  {
   "cell_type": "code",
   "execution_count": null,
   "metadata": {},
   "outputs": [],
   "source": [
    "stat_fid = jsm_stats.SatStats(data.lgMs, min_mass=6.5)\n",
    "\n",
    "stat_fid.r"
   ]
  },
  {
   "cell_type": "code",
   "execution_count": null,
   "metadata": {},
   "outputs": [],
   "source": [
    "lgMs_models = jsm_SHMR.general(alpha1.end[12], mass_example)"
   ]
  },
  {
   "cell_type": "code",
   "execution_count": null,
   "metadata": {},
   "outputs": [],
   "source": [
    "lgMs_models_split = np.array(np.split(lgMs_models, 100, axis=0))"
   ]
  },
  {
   "cell_type": "code",
   "execution_count": null,
   "metadata": {},
   "outputs": [],
   "source": [
    "test = []\n",
    "for i in lgMs_models_split:\n",
    "    i_stat = jsm_stats.SatStats(i, min_mass=6.5)\n",
    "    test.append(i_stat.r)"
   ]
  },
  {
   "cell_type": "code",
   "execution_count": null,
   "metadata": {},
   "outputs": [],
   "source": [
    "chi2 = jsm_stats.lnL_chi2r(test, stat_fid.r)"
   ]
  },
  {
   "cell_type": "code",
   "execution_count": null,
   "metadata": {},
   "outputs": [],
   "source": [
    "plt.title(f\"chi^2  = {chi2}\")\n",
    "plt.hist(test, alpha=0.3)\n",
    "plt.axvline(np.average(test))\n",
    "plt.axvline(np.average(test) + np.std(test), ls=\"--\")\n",
    "plt.axvline(np.average(test) - np.std(test), ls=\"--\")\n",
    "plt.axvline(stat_fid.r, color=\"red\", ls=\":\")\n",
    "plt.xlabel(\"correlation\")"
   ]
  },
  {
   "cell_type": "code",
   "execution_count": null,
   "metadata": {},
   "outputs": [],
   "source": [
    "plt.title(f\"chi^2  = {chi2}\")\n",
    "plt.hist(test, alpha=0.3)\n",
    "plt.axvline(np.average(test))\n",
    "plt.axvline(np.average(test) + np.std(test), ls=\"--\")\n",
    "plt.axvline(np.average(test) - np.std(test), ls=\"--\")\n",
    "plt.axvline(stat_fid.r, color=\"red\", ls=\":\")\n",
    "plt.xlabel(\"correlation\")"
   ]
  },
  {
   "cell_type": "code",
   "execution_count": null,
   "metadata": {},
   "outputs": [],
   "source": [
    "plt.title(f\"chi^2  = {chi2}\")\n",
    "plt.hist(test, alpha=0.3)\n",
    "plt.axvline(np.average(test))\n",
    "plt.axvline(np.average(test) + np.std(test), ls=\"--\")\n",
    "plt.axvline(np.average(test) - np.std(test), ls=\"--\")\n",
    "plt.axvline(stat_fid.r, color=\"red\", ls=\":\")\n",
    "plt.xlabel(\"correlation\")"
   ]
  },
  {
   "cell_type": "markdown",
   "metadata": {},
   "source": [
    "### trying the total CSMF!"
   ]
  },
  {
   "cell_type": "code",
   "execution_count": null,
   "metadata": {},
   "outputs": [],
   "source": [
    "mock_1 = jsm_models.init_data(theta_fid, \"../../../data/paper/mock_permutations_a2/model_A/alpha/mock_1/mock_data.npy\")\n",
    "\n",
    "mock_2 = jsm_models.init_data(theta_fid, \"../../../data/paper/mock_permutations_a2/model_A/alpha/mock_2/mock_data.npy\")\n",
    "\n",
    "mock_3 = jsm_models.init_data(theta_fid, \"../../../data/paper/mock_permutations_a2/model_A/alpha/mock_3/mock_data.npy\")\n",
    "\n",
    "mock_4 = jsm_models.init_data(theta_fid, \"../../../data/paper/mock_permutations_a2/model_A/alpha/mock_4/mock_data.npy\")\n",
    "\n",
    "mock_5 = jsm_models.init_data(theta_fid, \"../../../data/paper/mock_permutations_a2/model_A/alpha/mock_5/mock_data.npy\")"
   ]
  },
  {
   "cell_type": "code",
   "execution_count": null,
   "metadata": {},
   "outputs": [],
   "source": [
    "stat_1 = jsm_stats.SatStats(mock_1.lgMs, min_mass=6.5)\n",
    "\n",
    "stat_2 = jsm_stats.SatStats(mock_2.lgMs, min_mass=6.5)\n",
    "\n",
    "stat_3 = jsm_stats.SatStats(mock_3.lgMs, min_mass=6.5)\n",
    "\n",
    "stat_4 = jsm_stats.SatStats(mock_4.lgMs, min_mass=6.5)\n",
    "\n",
    "stat_5 = jsm_stats.SatStats(mock_5.lgMs, min_mass=6.5)"
   ]
  },
  {
   "cell_type": "code",
   "execution_count": null,
   "metadata": {},
   "outputs": [],
   "source": [
    "alphas = [1.5, 1.75, 2.0, 2.25, 2.5]"
   ]
  },
  {
   "cell_type": "code",
   "execution_count": null,
   "metadata": {},
   "outputs": [],
   "source": [
    "plt.figure(figsize=(8,8))\n",
    "plt.plot(stat_1.mass_bins, stat_2.total, label=\"$\\\\alpha = 1.5$\", ls=\"--\")\n",
    "plt.plot(stat_1.mass_bins, stat_3.total, label=\"$\\\\alpha = 1.75$\", ls=\"--\")\n",
    "\n",
    "plt.plot(stat_1.mass_bins, stat_1.total, label=\"$\\\\alpha = 2.0$\", color=\"black\")\n",
    "\n",
    "plt.plot(stat_1.mass_bins, stat_4.total, label=\"$\\\\alpha = 2.25$\", ls=\"--\")\n",
    "plt.plot(stat_1.mass_bins, stat_5.total, label=\"$\\\\alpha = 2.5$\", ls=\"--\")\n",
    "\n",
    "\n",
    "plt.xlim(4.5, 10.5)\n",
    "plt.xlabel(\"log m$_{*}$ (M$_\\odot$)\", fontsize=15)\n",
    "plt.ylabel(\"log N (> m$_{*}$)\", fontsize=15)\n",
    "plt.yscale(\"log\")\n",
    "plt.legend(fontsize=15)\n",
    "plt.show()"
   ]
  },
  {
   "cell_type": "code",
   "execution_count": null,
   "metadata": {},
   "outputs": [],
   "source": [
    "plt.figure(figsize=(8,8))\n",
    "plt.plot(stat_1.mass_bins, stat_2.quant[1], label=\"$\\\\alpha = 1.5$\", ls=\"--\")\n",
    "plt.plot(stat_1.mass_bins, stat_3.quant[1], label=\"$\\\\alpha = 1.75$\", ls=\"--\")\n",
    "\n",
    "plt.plot(stat_1.mass_bins, stat_1.quant[1], label=\"$\\\\alpha = 2.0$\", color=\"black\")\n",
    "plt.fill_between(stat_1.mass_bins, y1=stat_1.quant[0], y2=stat_1.quant[2], alpha=0.2, color=\"black\")\n",
    "\n",
    "plt.plot(stat_1.mass_bins, stat_4.quant[1], label=\"$\\\\alpha = 2.25$\", ls=\"--\")\n",
    "plt.plot(stat_1.mass_bins, stat_5.quant[1], label=\"$\\\\alpha = 2.5$\", ls=\"--\")\n",
    "\n",
    "\n",
    "plt.xlim(4.5, 10.5)\n",
    "plt.xlabel(\"log m$_{*}$ (M$_\\odot$)\", fontsize=15)\n",
    "plt.ylabel(\"log N (> m$_{*}$)\", fontsize=15)\n",
    "plt.yscale(\"log\")\n",
    "plt.legend(fontsize=15)\n",
    "plt.show()"
   ]
  },
  {
   "cell_type": "code",
   "execution_count": null,
   "metadata": {},
   "outputs": [],
   "source": [
    "mock_1 = jsm_models.init_data(theta_fid, \"../../../data/paper/mock_permutations_a2/model_A/alpha/mock_1/mock_data.npy\")\n",
    "\n",
    "mock_2 = jsm_models.init_data(theta_fid, \"../../../data/paper/mock_permutations_a2/model_A/sigma/mock_1/mock_data.npy\")\n",
    "\n",
    "mock_3 = jsm_models.init_data(theta_fid, \"../../../data/paper/mock_permutations_a2/model_A/sigma/mock_2/mock_data.npy\")\n",
    "\n",
    "mock_4 = jsm_models.init_data(theta_fid, \"../../../data/paper/mock_permutations_a2/model_A/sigma/mock_3/mock_data.npy\")\n",
    "\n",
    "mock_5 = jsm_models.init_data(theta_fid, \"../../../data/paper/mock_permutations_a2/model_A/sigma/mock_4/mock_data.npy\")"
   ]
  },
  {
   "cell_type": "code",
   "execution_count": null,
   "metadata": {},
   "outputs": [],
   "source": [
    "stat_1 = jsm_stats.SatStats(mock_1.lgMs, min_mass=6.5)\n",
    "\n",
    "stat_2 = jsm_stats.SatStats(mock_2.lgMs, min_mass=6.5)\n",
    "\n",
    "stat_3 = jsm_stats.SatStats(mock_3.lgMs, min_mass=6.5)\n",
    "\n",
    "stat_4 = jsm_stats.SatStats(mock_4.lgMs, min_mass=6.5)\n",
    "\n",
    "stat_5 = jsm_stats.SatStats(mock_5.lgMs, min_mass=6.5)"
   ]
  },
  {
   "cell_type": "code",
   "execution_count": null,
   "metadata": {},
   "outputs": [],
   "source": [
    "sigmas = [0.1, 0.2, 0.3, 0.4, 0.5]"
   ]
  },
  {
   "cell_type": "code",
   "execution_count": null,
   "metadata": {},
   "outputs": [],
   "source": [
    "plt.figure(figsize=(8,8))\n",
    "plt.plot(stat_1.mass_bins, stat_2.total, label=\"$\\\\sigma = 0.1$\", ls=\"--\")\n",
    "\n",
    "plt.plot(stat_1.mass_bins, stat_1.total, label=\"$\\\\sigma = 0.2$\", color=\"black\")\n",
    "\n",
    "plt.plot(stat_1.mass_bins, stat_3.total, label=\"$\\\\sigma = 0.3$\", ls=\"--\")\n",
    "plt.plot(stat_1.mass_bins, stat_4.total, label=\"$\\\\sigma = 0.4$\", ls=\"--\")\n",
    "plt.plot(stat_1.mass_bins, stat_5.total, label=\"$\\\\sigma = 0.5$\", ls=\"--\")\n",
    "\n",
    "\n",
    "plt.xlim(4.5, 10.5)\n",
    "plt.xlabel(\"log m$_{*}$ (M$_\\odot$)\", fontsize=15)\n",
    "plt.ylabel(\"log N (> m$_{*}$)\", fontsize=15)\n",
    "plt.yscale(\"log\")\n",
    "plt.legend(fontsize=15)\n",
    "plt.show()"
   ]
  },
  {
   "cell_type": "code",
   "execution_count": null,
   "metadata": {},
   "outputs": [],
   "source": [
    "plt.figure(figsize=(8,8))\n",
    "plt.plot(stat_1.mass_bins, stat_2.quant[1], label=\"$\\\\sigma = 0.1$\", ls=\"--\")\n",
    "\n",
    "plt.plot(stat_1.mass_bins, stat_1.quant[1], label=\"$\\\\sigma = 0.2$\", color=\"black\")\n",
    "plt.fill_between(stat_1.mass_bins, y1=stat_1.quant[0], y2=stat_1.quant[2], alpha=0.2, color=\"black\")\n",
    "\n",
    "plt.plot(stat_1.mass_bins, stat_3.quant[1], label=\"$\\\\sigma = 0.3$\", ls=\"--\")\n",
    "plt.plot(stat_1.mass_bins, stat_4.quant[1], label=\"$\\\\sigma = 0.4$\", ls=\"--\")\n",
    "plt.plot(stat_1.mass_bins, stat_5.quant[1], label=\"$\\\\sigma = 0.5$\", ls=\"--\")\n",
    "\n",
    "\n",
    "plt.xlim(4.5, 10.5)\n",
    "plt.xlabel(\"log m$_{*}$ (M$_\\odot$)\", fontsize=15)\n",
    "plt.ylabel(\"log N (> m$_{*}$)\", fontsize=15)\n",
    "plt.yscale(\"log\")\n",
    "plt.legend(fontsize=15)\n",
    "plt.show()"
   ]
  },
  {
   "cell_type": "code",
   "execution_count": null,
   "metadata": {},
   "outputs": [],
   "source": [
    "import corner"
   ]
  },
  {
   "cell_type": "code",
   "execution_count": null,
   "metadata": {},
   "outputs": [],
   "source": [
    "alpha1 = jsm_mcmc.single_chain(\"../../../data/paper/mock_permutations_a2/model_A/alpha/mock_1/chain.h5\", Nstack=500, Nburn=500, Nthin=25)"
   ]
  },
  {
   "cell_type": "code",
   "execution_count": null,
   "metadata": {},
   "outputs": [],
   "source": [
    "figure = corner.corner(\n",
    "    alpha1.end[:,1:3],\n",
    "    labels=[\n",
    "        r\"$\\alpha$\",\n",
    "        r\"$\\sigma$\",\n",
    "    ],\n",
    "    quantiles=[0.16, 0.5, 0.84],\n",
    "    show_titles=True,\n",
    "    truths = [2.0, 0.2],\n",
    "    title_kwargs={\"fontsize\": 15})"
   ]
  },
  {
   "cell_type": "code",
   "execution_count": null,
   "metadata": {},
   "outputs": [],
   "source": [
    "figure = corner.corner(\n",
    "    alpha1.end[:,1:3],\n",
    "    labels=[\n",
    "        r\"$\\alpha$\",\n",
    "        r\"$\\sigma$\",\n",
    "    ],\n",
    "    quantiles=[0.16, 0.5, 0.84],\n",
    "    show_titles=True,\n",
    "    truths = [2.0, 0.2],\n",
    "    range = [[2.06, 2.15], [0, 0.45]],\n",
    "    title_kwargs={\"fontsize\": 15})"
   ]
  },
  {
   "cell_type": "markdown",
   "metadata": {},
   "source": [
    "### adding in LnL analysis"
   ]
  },
  {
   "cell_type": "code",
   "execution_count": 13,
   "metadata": {},
   "outputs": [
    {
     "data": {
      "image/png": "[encoded data removed]",
      "text/plain": [
       "<Figure size 640x480 with 1 Axes>"
      ]
     },
     "metadata": {},
     "output_type": "display_data"
    }
   ],
   "source": [
    "fid_theta = np.array([10.5, 2.0, 0.2, 0, 0, 0])\n",
    "thetas = np.tile(fid_theta, (1000, 1))\n",
    "Ntree = 100\n",
    "min_mass = 6.5\n",
    "\n",
    "data = jsm_models.init_data(fid_theta, \"../../../SatGen/mcmc/correlation_test/alpha/mock_1/mock_data.npy\")\n",
    "data.get_stats(min_mass=min_mass)\n",
    "data.get_data_points(plot=True)"
   ]
  },
  {
   "cell_type": "code",
   "execution_count": 14,
   "metadata": {},
   "outputs": [],
   "source": [
    "models = jsm_models.load_models(\"../../../data/MW-analog/meta_data_psi3/\")\n",
    "\n",
    "def forward(theta):\n",
    "    models.push_theta(theta, jsm_SHMR.general, min_mass, Ntree)\n",
    "    return models.stat.satfreq_sorted, models.stat.ecdf_satfreq, models.stat.Msmax_sorted, models.stat.ecdf_Msmax\n",
    "\n",
    "def lnlike(theta):    \n",
    "    satfreq_sorted, ecdf_satfreq, Msmax_sorted, ecdf_Msmax = forward(theta)\n",
    "    chisquare_N = jsm_stats.lnL_KS(satfreq_sorted, data.stat.satfreq_sorted)\n",
    "    chisquare_M = jsm_stats.lnL_KS(Msmax_sorted, data.stat.Msmax_sorted)\n",
    "    return np.array([chisquare_N, chisquare_M])"
   ]
  },
  {
   "cell_type": "code",
   "execution_count": 15,
   "metadata": {},
   "outputs": [],
   "source": [
    "wow = np.apply_along_axis(lnlike, 1, thetas)"
   ]
  },
  {
   "cell_type": "code",
   "execution_count": 16,
   "metadata": {},
   "outputs": [
    {
     "data": {
      "image/png": "[encoded data removed]",
      "text/plain": [
       "<Figure size 600x600 with 1 Axes>"
      ]
     },
     "metadata": {},
     "output_type": "display_data"
    }
   ],
   "source": [
    "plt.figure(figsize=(6,6))\n",
    "plt.plot(models.stat.satfreq_sorted, models.stat.ecdf_satfreq, color=\"grey\", label=\"model\")\n",
    "plt.plot(data.stat.satfreq_sorted, data.stat.ecdf_satfreq, color=\"black\", label=\"data\")\n",
    "plt.xlabel(\"N satellites > $10^{\"+str(data.min_mass)+\"} \\mathrm{M_{\\odot}}$\", fontsize=15)\n",
    "plt.ylabel(\"CDF\", fontsize=15)\n",
    "plt.show()"
   ]
  },
  {
   "cell_type": "code",
   "execution_count": 17,
   "metadata": {},
   "outputs": [
    {
     "data": {
      "image/png": "[encoded data removed]",
      "text/plain": [
       "<Figure size 600x600 with 1 Axes>"
      ]
     },
     "metadata": {},
     "output_type": "display_data"
    }
   ],
   "source": [
    "plt.figure(figsize=(6,6))\n",
    "plt.plot(models.stat.Msmax_sorted, models.stat.ecdf_Msmax, color=\"grey\", label=\"model\")\n",
    "plt.plot(data.stat.Msmax_sorted, data.stat.ecdf_Msmax, color=\"black\", label=\"data\")\n",
    "plt.xlabel(\"max (Mstar) ($\\mathrm{log\\ M_{\\odot}}$)\", fontsize=15)\n",
    "plt.ylabel(\"CDF\", fontsize=15)\n",
    "plt.show()"
   ]
  },
  {
   "cell_type": "code",
   "execution_count": 18,
   "metadata": {},
   "outputs": [],
   "source": [
    "stat_Pnsat = np.percentile(wow[:,0], np.array([5, 50, 95]), method=\"closest_observation\")\n",
    "\n",
    "stat_KS = np.percentile(wow[:,1], np.array([5, 50, 95]), method=\"closest_observation\")"
   ]
  },
  {
   "cell_type": "code",
   "execution_count": 21,
   "metadata": {},
   "outputs": [
    {
     "data": {
      "image/png": "[encoded data removed]",
      "text/plain": [
       "<Figure size 640x480 with 1 Axes>"
      ]
     },
     "metadata": {},
     "output_type": "display_data"
    }
   ],
   "source": [
    "plt.title(f\"Nsat \\n $\\Delta \\chi^2$ = {stat_Pnsat[2]-stat_Pnsat[0]:.3g}\")\n",
    "plt.hist(wow[:,0], bins=25, edgecolor=\"white\")\n",
    "plt.axvline(stat_Pnsat[0], ls=\"--\", color=\"black\")\n",
    "plt.axvline(stat_Pnsat[1], color=\"black\")\n",
    "plt.axvline(stat_Pnsat[2], ls=\"--\", color=\"black\")\n",
    "plt.xlabel(\"$\\chi^2$\", fontsize=15)\n",
    "plt.show()"
   ]
  },
  {
   "cell_type": "code",
   "execution_count": 22,
   "metadata": {},
   "outputs": [
    {
     "data": {
      "image/png": "[encoded data removed]",
      "text/plain": [
       "<Figure size 640x480 with 1 Axes>"
      ]
     },
     "metadata": {},
     "output_type": "display_data"
    }
   ],
   "source": [
    "plt.title(f\"max (Mstar) \\n $\\Delta \\chi^2$ = {stat_KS[2]-stat_KS[0]:.3g}\")\n",
    "plt.hist(wow[:,1], bins=25, edgecolor=\"white\")\n",
    "plt.axvline(stat_KS[0], ls=\"--\", color=\"black\")\n",
    "plt.axvline(stat_KS[1], color=\"black\")\n",
    "plt.axvline(stat_KS[2], ls=\"--\", color=\"black\")\n",
    "plt.xlabel(\"$\\chi^2$\", fontsize=15)\n",
    "plt.show()"
   ]
  },
  {
   "cell_type": "code",
   "execution_count": null,
   "metadata": {},
   "outputs": [],
   "source": []
  }
 ],
 "metadata": {
  "kernelspec": {
   "display_name": "subhalos",
   "language": "python",
   "name": "python3"
  },
  "language_info": {
   "codemirror_mode": {
    "name": "ipython",
    "version": 3
   },
   "file_extension": ".py",
   "mimetype": "text/x-python",
   "name": "python",
   "nbconvert_exporter": "python",
   "pygments_lexer": "ipython3",
   "version": "3.10.9"
  }
 },
 "nbformat": 4,
 "nbformat_minor": 2
}
