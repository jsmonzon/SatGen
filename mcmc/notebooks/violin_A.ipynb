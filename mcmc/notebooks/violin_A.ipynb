{
 "cells": [
  {
   "cell_type": "code",
   "execution_count": 2,
   "metadata": {},
   "outputs": [],
   "source": [
    "%load_ext autoreload\n",
    "%autoreload 2"
   ]
  },
  {
   "cell_type": "code",
   "execution_count": 3,
   "metadata": {},
   "outputs": [],
   "source": [
    "import numpy as np\n",
    "import matplotlib.pyplot as plt\n",
    "import matplotlib.image as mpimg\n",
    "import warnings; warnings.simplefilter('ignore')\n",
    "import sys\n",
    "sys.path.insert(0, '/Users/jsmonzon/Research/SatGen/mcmc/src/')\n",
    "import jsm_halopull\n",
    "import jsm_SHMR\n",
    "import jsm_mcmc\n",
    "import jsm_stats\n",
    "import jsm_models"
   ]
  },
  {
   "cell_type": "code",
   "execution_count": 3,
   "metadata": {},
   "outputs": [],
   "source": [
    "plt.style.use('bmh')\n",
    "plt.rcParams['axes.facecolor'] = 'white'\n",
    "plt.rcParams['axes.grid'] = False\n",
    "plt.rcParams['xtick.labelsize'] = 10\n",
    "plt.rcParams['ytick.labelsize'] = 10\n",
    "plt.rcParams['axes.labelsize'] = 15\n",
    "plt.rc('legend',fontsize=15) # using a size in points\n",
    "import pygtc\n"
   ]
  },
  {
   "cell_type": "code",
   "execution_count": 4,
   "metadata": {},
   "outputs": [],
   "source": [
    "plabels = [\"$M_{*}$\", \"$\\\\alpha$\", \"$\\\\sigma$\",\" $\\\\gamma$\", \"$\\\\beta$\", \"$\\\\tau$\"]\n",
    "\n",
    "priors = [[9.5,11.5], [-1,7], [0,5], [-2,2], [-3,2], [-2,2]]"
   ]
  },
  {
   "cell_type": "markdown",
   "metadata": {},
   "source": [
    "### first the alpha permutations"
   ]
  },
  {
   "cell_type": "code",
   "execution_count": 5,
   "metadata": {},
   "outputs": [
    {
     "ename": "TypeError",
     "evalue": "single_chain.__init__() missing 1 required positional argument: 'Ncut'",
     "output_type": "error",
     "traceback": [
      "\u001b[0;31m---------------------------------------------------------------------------\u001b[0m",
      "\u001b[0;31mTypeError\u001b[0m                                 Traceback (most recent call last)",
      "Cell \u001b[0;32mIn[5], line 1\u001b[0m\n\u001b[0;32m----> 1\u001b[0m alpha1 \u001b[38;5;241m=\u001b[39m \u001b[43mjsm_mcmc\u001b[49m\u001b[38;5;241;43m.\u001b[39;49m\u001b[43msingle_chain\u001b[49m\u001b[43m(\u001b[49m\u001b[38;5;124;43m\"\u001b[39;49m\u001b[38;5;124;43m../../../data/paper/mock_permutations_a2/model_A/alpha/mock_1/chain.h5\u001b[39;49m\u001b[38;5;124;43m\"\u001b[39;49m\u001b[43m,\u001b[49m\u001b[43m \u001b[49m\u001b[43mNstack\u001b[49m\u001b[38;5;241;43m=\u001b[39;49m\u001b[38;5;241;43m500\u001b[39;49m\u001b[43m,\u001b[49m\u001b[43m \u001b[49m\u001b[43mNburn\u001b[49m\u001b[38;5;241;43m=\u001b[39;49m\u001b[38;5;241;43m500\u001b[39;49m\u001b[43m,\u001b[49m\u001b[43m \u001b[49m\u001b[43mNthin\u001b[49m\u001b[38;5;241;43m=\u001b[39;49m\u001b[38;5;241;43m25\u001b[39;49m\u001b[43m)\u001b[49m\n\u001b[1;32m      3\u001b[0m alpha2 \u001b[38;5;241m=\u001b[39m jsm_mcmc\u001b[38;5;241m.\u001b[39msingle_chain(\u001b[38;5;124m\"\u001b[39m\u001b[38;5;124m../../../data/paper/mock_permutations_a2/model_A/alpha/mock_2/chain.h5\u001b[39m\u001b[38;5;124m\"\u001b[39m, Nstack\u001b[38;5;241m=\u001b[39m\u001b[38;5;241m500\u001b[39m, Nburn\u001b[38;5;241m=\u001b[39m\u001b[38;5;241m500\u001b[39m, Nthin\u001b[38;5;241m=\u001b[39m\u001b[38;5;241m25\u001b[39m)\n\u001b[1;32m      5\u001b[0m alpha3 \u001b[38;5;241m=\u001b[39m jsm_mcmc\u001b[38;5;241m.\u001b[39msingle_chain(\u001b[38;5;124m\"\u001b[39m\u001b[38;5;124m../../../data/paper/mock_permutations_a2/model_A/alpha/mock_3/chain.h5\u001b[39m\u001b[38;5;124m\"\u001b[39m, Nstack\u001b[38;5;241m=\u001b[39m\u001b[38;5;241m500\u001b[39m, Nburn\u001b[38;5;241m=\u001b[39m\u001b[38;5;241m500\u001b[39m, Nthin\u001b[38;5;241m=\u001b[39m\u001b[38;5;241m25\u001b[39m)\n",
      "\u001b[0;31mTypeError\u001b[0m: single_chain.__init__() missing 1 required positional argument: 'Ncut'"
     ]
    }
   ],
   "source": [
    "alpha1 = jsm_mcmc.single_chain(\"../../../data/paper/mock_permutations_a2/model_A/alpha/mock_1/chain.h5\", Nstack=500, Nburn=500, Nthin=25)\n",
    "\n",
    "alpha2 = jsm_mcmc.single_chain(\"../../../data/paper/mock_permutations_a2/model_A/alpha/mock_2/chain.h5\", Nstack=500, Nburn=500, Nthin=25)\n",
    "\n",
    "alpha3 = jsm_mcmc.single_chain(\"../../../data/paper/mock_permutations_a2/model_A/alpha/mock_3/chain.h5\", Nstack=500, Nburn=500, Nthin=25)\n",
    "\n",
    "alpha4 = jsm_mcmc.single_chain(\"../../../data/paper/mock_permutations_a2/model_A/alpha/mock_4/chain.h5\", Nstack=500, Nburn=500, Nthin=25)\n",
    "\n",
    "alpha5 = jsm_mcmc.single_chain(\"../../../data/paper/mock_permutations_a2/model_A/alpha/mock_5/chain.h5\", Nstack=500, Nburn=500, Nthin=25)"
   ]
  },
  {
   "cell_type": "code",
   "execution_count": null,
   "metadata": {},
   "outputs": [],
   "source": [
    "save_file = \"../../../paper_1/figures/alpha_perm.pdf\"\n",
    "\n",
    "model_color = \"darkcyan\""
   ]
  },
  {
   "cell_type": "code",
   "execution_count": null,
   "metadata": {},
   "outputs": [],
   "source": [
    "alpha_permutations = [1.5, 1.75, 2.0, 2.25, 2.5]\n",
    "\n",
    "data = [alpha2.thin[:,1], alpha3.thin[:,1],  alpha1.thin[:,1], alpha4.thin[:,1], alpha5.thin[:,1]]\n",
    "\n",
    "# Create a violin plot\n",
    "plt.figure(figsize=(8, 8))\n",
    "plt.title(\"$\\\\alpha$ permutations [$M_{*}$ = 10.5, $\\\\sigma$=0.2]\", color=model_color)\n",
    "violins = plt.violinplot(data, showmeans=False, showmedians=True, positions=alpha_permutations, widths=0.2, showextrema=False)\n",
    "\n",
    "for i, violin in enumerate(violins['bodies']):\n",
    "    if i == 2:\n",
    "        violin.set_facecolor(\"grey\")\n",
    "    else:\n",
    "        violin.set_facecolor(model_color)\n",
    "\n",
    "violins['cmedians'].set_color(model_color)\n",
    "\n",
    "plt.xticks(alpha_permutations, ['1.5', '1.75', '2.0', '2.25', '2.5'])\n",
    "plt.ylabel('inferred $\\\\alpha$', fontsize=15)\n",
    "plt.xlabel(\"assumed $\\\\alpha$\", fontsize=15)\n",
    "\n",
    "xpoints = ypoints = plt.xlim()\n",
    "plt.plot(xpoints, ypoints, linestyle='--', color='black', scalex=False, scaley=False, zorder=0, alpha=0.5)\n",
    "\n",
    "#plt.savefig(save_file, bbox_inches='tight')\n",
    "\n",
    "plt.show()\n"
   ]
  },
  {
   "cell_type": "markdown",
   "metadata": {},
   "source": [
    "### now sigma"
   ]
  },
  {
   "cell_type": "code",
   "execution_count": null,
   "metadata": {},
   "outputs": [],
   "source": [
    "sigma1 = jsm_mcmc.single_chain(\"../../../data/paper/mock_permutations_a2/model_A/sigma/mock_1/chain.h5\", Nstack=500, Nburn=500, Nthin=25)\n",
    "\n",
    "sigma2 = jsm_mcmc.single_chain(\"../../../data/paper/mock_permutations_a2/model_A/sigma/mock_2/chain.h5\", Nstack=500, Nburn=500, Nthin=25)\n",
    "\n",
    "sigma3 = jsm_mcmc.single_chain(\"../../../data/paper/mock_permutations_a2/model_A/sigma/mock_3/chain.h5\", Nstack=500, Nburn=500, Nthin=25)\n",
    "\n",
    "sigma4 = jsm_mcmc.single_chain(\"../../../data/paper/mock_permutations_a2/model_A/sigma/mock_4/chain.h5\", Nstack=500, Nburn=500, Nthin=25)"
   ]
  },
  {
   "cell_type": "code",
   "execution_count": null,
   "metadata": {},
   "outputs": [],
   "source": [
    "save_file = \"../../../paper_1/figures/sigma_perm.pdf\"\n",
    "model_color = \"darkcyan\""
   ]
  },
  {
   "cell_type": "code",
   "execution_count": null,
   "metadata": {},
   "outputs": [],
   "source": [
    "sigma_permutations = [0.1, 0.2, 0.3, 0.4, 0.5]\n",
    "\n",
    "data = [sigma1.thin[:,2], alpha1.thin[:,2], sigma2.thin[:,2], sigma3.thin[:,2], sigma4.thin[:,2]]\n",
    "\n",
    "# Create a violin plot with custom x values and colors\n",
    "plt.figure(figsize=(8, 8))\n",
    "plt.title(\"$\\\\sigma$ permutations [$M_{*}$ = 10.5, $\\\\alpha$=2.0]\", color=model_color)\n",
    "violins = plt.violinplot(data, showmeans=False, showmedians=True, positions=sigma_permutations, widths=0.05, showextrema=False)\n",
    "\n",
    "for i, violin in enumerate(violins['bodies']):\n",
    "    if i == 1:\n",
    "        violin.set_facecolor(\"grey\")\n",
    "    else:\n",
    "        violin.set_facecolor(model_color)\n",
    "\n",
    "violins['cmedians'].set_color(model_color)\n",
    "\n",
    "plt.xticks(sigma_permutations, ['0.1', '0.2', '0.3', '0.4', '0.5'])\n",
    "plt.ylabel('inferred $\\\\sigma$', fontsize=15)\n",
    "plt.xlabel(\"assumed $\\\\sigma$\", fontsize=15)\n",
    "\n",
    "\n",
    "xpoints = ypoints = plt.xlim()\n",
    "plt.plot(xpoints, ypoints, linestyle='--', color='k', scalex=False, scaley=False, zorder=0, alpha=0.5)\n",
    "\n",
    "#plt.savefig(save_file, bbox_inches='tight')\n",
    "\n",
    "plt.show()\n"
   ]
  },
  {
   "cell_type": "code",
   "execution_count": null,
   "metadata": {},
   "outputs": [],
   "source": [
    "data = [alpha2.thin[:,1:3], alpha3.thin[:,1:3],  alpha1.thin[:,1:3], alpha4.thin[:,1:3], alpha5.thin[:,1:3]]"
   ]
  },
  {
   "cell_type": "code",
   "execution_count": null,
   "metadata": {},
   "outputs": [],
   "source": [
    "Ndim = 3\n",
    "GTC = pygtc.plotGTC(chains=data,\n",
    "                paramNames = plabels[1:3],\n",
    "                nContourLevels=3,\n",
    "                figureSize=int(8*Ndim/2),\n",
    "                smoothingKernel=1,\n",
    "                filledPlots=True,\n",
    "                customTickFont={'family':'Arial', 'size':12},\n",
    "                customLegendFont={'family':'Arial', 'size':15},\n",
    "                customLabelFont={'family':'Arial', 'size':12})"
   ]
  },
  {
   "cell_type": "code",
   "execution_count": 20,
   "metadata": {},
   "outputs": [],
   "source": [
    "host_halo_PDF = np.load(\"../../../SatGen/etc/halo_mass_PDF_full.npy\")\n",
    "samples = np.random.choice(host_halo_PDF[:,0], size=10000, p=host_halo_PDF[:,1]/np.sum(host_halo_PDF[:,1])) \n",
    "\n",
    "binz = np.linspace(11,14,40)\n",
    "normal = np.random.normal(loc=12, scale=0.15, size=(10000))"
   ]
  },
  {
   "cell_type": "code",
   "execution_count": 21,
   "metadata": {},
   "outputs": [
    {
     "data": {
      "image/png": "[encoded data removed]",
      "text/plain": [
       "<Figure size 640x480 with 1 Axes>"
      ]
     },
     "metadata": {},
     "output_type": "display_data"
    }
   ],
   "source": [
    "plt.hist(normal, bins=binz, edgecolor=\"white\", label=\"lognormal $\\\\sigma=0.15$\", alpha=0.5)\n",
    "plt.hist(samples, bins=binz, edgecolor=\"white\", label=\"CLF\", alpha=0.5)\n",
    "plt.xlabel(\"log $M_{host}$\")\n",
    "plt.legend()\n",
    "plt.show()"
   ]
  },
  {
   "cell_type": "code",
   "execution_count": null,
   "metadata": {},
   "outputs": [],
   "source": [
    "big = jsm_halopull.MassMat(\"../../../data/cross_host/meta_data_psi3/\", save=True)"
   ]
  }
 ],
 "metadata": {
  "kernelspec": {
   "display_name": "subhalos",
   "language": "python",
   "name": "python3"
  },
  "language_info": {
   "codemirror_mode": {
    "name": "ipython",
    "version": 3
   },
   "file_extension": ".py",
   "mimetype": "text/x-python",
   "name": "python",
   "nbconvert_exporter": "python",
   "pygments_lexer": "ipython3",
   "version": "3.10.9"
  },
  "orig_nbformat": 4
 },
 "nbformat": 4,
 "nbformat_minor": 2
}
