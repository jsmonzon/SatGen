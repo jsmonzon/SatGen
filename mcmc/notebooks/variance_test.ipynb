{
 "cells": [
  {
   "cell_type": "code",
   "execution_count": 2,
   "metadata": {},
   "outputs": [],
   "source": [
    "import numpy as np\n",
    "import matplotlib.pyplot as plt\n",
    "import matplotlib.image as mpimg\n",
    "import warnings; warnings.simplefilter('ignore')\n",
    "import sys\n",
    "sys.path.insert(0, '/Users/jsmonzon/Research/SatGen/mcmc/src/')\n",
    "import jsm_halopull\n",
    "import jsm_SHMR\n",
    "import jsm_mcmc\n",
    "import jsm_stats\n",
    "import jsm_models"
   ]
  },
  {
   "cell_type": "code",
   "execution_count": 1,
   "metadata": {},
   "outputs": [],
   "source": [
    "%load_ext autoreload\n",
    "%autoreload 2"
   ]
  },
  {
   "cell_type": "code",
   "execution_count": 3,
   "metadata": {},
   "outputs": [],
   "source": [
    "test = jsm_models.LOAD_MODELS(\"../../../data/MW-analog/meta_data_psi4/\")"
   ]
  },
  {
   "cell_type": "code",
   "execution_count": 4,
   "metadata": {},
   "outputs": [],
   "source": [
    "first_row_mass = test.lgMh_models[0, :]\n",
    "first_row_redshift = test.zacc_models[0, :]\n",
    "mass = np.tile(first_row_mass, (test.lgMh_models.shape[0], 1))\n",
    "redshift = np.tile(first_row_redshift, (test.lgMh_models.shape[0], 1))"
   ]
  },
  {
   "cell_type": "code",
   "execution_count": 5,
   "metadata": {},
   "outputs": [],
   "source": [
    "#np.savez(\"../../../data/MW-analog/meta_data_psi4/unifrom/models.npz\", mass = mass, redshift = redshift)"
   ]
  },
  {
   "cell_type": "code",
   "execution_count": 119,
   "metadata": {},
   "outputs": [],
   "source": [
    "models = jsm_models.LOAD_MODELS_UNIFORM(\"../../../data/MW-analog/meta_data_psi4/unifrom/models.npz\", Nsamples=1)\n",
    "\n",
    "models_real = jsm_models.LOAD_MODELS(\"../../../data/MW-analog/meta_data_psi3/\", Nsamples=1)"
   ]
  },
  {
   "cell_type": "code",
   "execution_count": 120,
   "metadata": {},
   "outputs": [
    {
     "data": {
      "text/plain": [
       "array([[8.03323793, 8.02432753, 8.41233274, ...,        nan,        nan,\n",
       "               nan],\n",
       "       [8.03323793, 8.02432753, 8.41233274, ...,        nan,        nan,\n",
       "               nan],\n",
       "       [8.03323793, 8.02432753, 8.41233274, ...,        nan,        nan,\n",
       "               nan],\n",
       "       ...,\n",
       "       [8.03323793, 8.02432753, 8.41233274, ...,        nan,        nan,\n",
       "               nan],\n",
       "       [8.03323793, 8.02432753, 8.41233274, ...,        nan,        nan,\n",
       "               nan],\n",
       "       [8.03323793, 8.02432753, 8.41233274, ...,        nan,        nan,\n",
       "               nan]])"
      ]
     },
     "execution_count": 120,
     "metadata": {},
     "output_type": "execute_result"
    }
   ],
   "source": [
    "models.lgMh_models"
   ]
  },
  {
   "cell_type": "code",
   "execution_count": 121,
   "metadata": {},
   "outputs": [
    {
     "data": {
      "text/plain": [
       "array([[ 9.17210591,  9.24761723,  9.33293581, ...,         nan,\n",
       "                nan,         nan],\n",
       "       [ 9.81565526, 10.90517689,  9.17634023, ...,         nan,\n",
       "                nan,         nan],\n",
       "       [10.22863356,  9.20585348,  9.06239223, ...,         nan,\n",
       "                nan,         nan],\n",
       "       ...,\n",
       "       [ 9.0835691 ,  9.68236066,  9.43068163, ...,         nan,\n",
       "                nan,         nan],\n",
       "       [10.48237619,  9.37173972,  9.44133688, ...,         nan,\n",
       "                nan,         nan],\n",
       "       [ 9.10543299, 10.75368299,  9.97359474, ...,         nan,\n",
       "                nan,         nan]])"
      ]
     },
     "execution_count": 121,
     "metadata": {},
     "output_type": "execute_result"
    }
   ],
   "source": [
    "models_real.lgMh_models"
   ]
  },
  {
   "cell_type": "code",
   "execution_count": 122,
   "metadata": {},
   "outputs": [],
   "source": [
    "theta = [10.5, 4.8, 0.2, 0, 0, 0]"
   ]
  },
  {
   "cell_type": "code",
   "execution_count": 126,
   "metadata": {},
   "outputs": [],
   "source": [
    "lgMs = jsm_SHMR.general(theta, models.lgMh_models, 0, 1)\n",
    "\n",
    "lgMs_real = jsm_SHMR.general(theta, models_real.lgMh_models, 0, 1)"
   ]
  },
  {
   "cell_type": "code",
   "execution_count": 127,
   "metadata": {},
   "outputs": [],
   "source": [
    "mass_rank = jsm_stats.N_rank(lgMs, threshold=6.5)\n",
    "\n",
    "mass_rank_real = jsm_stats.N_rank(lgMs_real, threshold=6.5)"
   ]
  },
  {
   "cell_type": "code",
   "execution_count": 131,
   "metadata": {},
   "outputs": [
    {
     "data": {
      "text/plain": [
       "(10000, 0)"
      ]
     },
     "execution_count": 131,
     "metadata": {},
     "output_type": "execute_result"
    }
   ],
   "source": [
    "mass_rank.shape"
   ]
  },
  {
   "cell_type": "code",
   "execution_count": 116,
   "metadata": {},
   "outputs": [],
   "source": [
    "models_real.get_stats(theta, 6.5, jsm_SHMR.general)"
   ]
  },
  {
   "cell_type": "code",
   "execution_count": 132,
   "metadata": {},
   "outputs": [
    {
     "data": {
      "text/plain": [
       "(10000, 3)"
      ]
     },
     "execution_count": 132,
     "metadata": {},
     "output_type": "execute_result"
    }
   ],
   "source": [
    "mass_rank_real.shape"
   ]
  },
  {
   "cell_type": "code",
   "execution_count": 50,
   "metadata": {},
   "outputs": [
    {
     "data": {
      "text/plain": [
       "array([[2.49829516, 2.58070872, 2.90802826, ...,        nan,        nan,\n",
       "               nan],\n",
       "       [2.32595426, 2.79670354, 3.17046366, ...,        nan,        nan,\n",
       "               nan],\n",
       "       [2.5730832 , 2.33208523, 3.69223459, ...,        nan,        nan,\n",
       "               nan],\n",
       "       ...,\n",
       "       [2.16003483, 2.68395516, 3.48076327, ...,        nan,        nan,\n",
       "               nan],\n",
       "       [2.45839471, 2.72027586, 3.101761  , ...,        nan,        nan,\n",
       "               nan],\n",
       "       [2.36393484, 2.69480903, 3.01688402, ...,        nan,        nan,\n",
       "               nan]])"
      ]
     },
     "execution_count": 50,
     "metadata": {},
     "output_type": "execute_result"
    }
   ],
   "source": [
    "models.stat.lgMs"
   ]
  },
  {
   "cell_type": "code",
   "execution_count": 41,
   "metadata": {},
   "outputs": [
    {
     "data": {
      "text/plain": [
       "array([[8.22660368, 7.65790979, 7.35979634, ...,        nan,        nan,\n",
       "               nan],\n",
       "       [8.058484  , 7.8496236 , 7.34777566, ...,        nan,        nan,\n",
       "               nan],\n",
       "       [7.85088832, 7.78818932, 7.31816334, ...,        nan,        nan,\n",
       "               nan],\n",
       "       ...,\n",
       "       [8.00645307, 7.88518854, 7.54750639, ...,        nan,        nan,\n",
       "               nan],\n",
       "       [7.83217922, 7.69889183, 7.46262573, ...,        nan,        nan,\n",
       "               nan],\n",
       "       [8.46323668, 8.22074116, 7.83285935, ...,        nan,        nan,\n",
       "               nan]])"
      ]
     },
     "execution_count": 41,
     "metadata": {},
     "output_type": "execute_result"
    }
   ],
   "source": [
    "models.stat.mass_rank"
   ]
  },
  {
   "cell_type": "code",
   "execution_count": 10,
   "metadata": {},
   "outputs": [],
   "source": [
    "plabels = [\"$M_{*}$\", \"$\\\\alpha$\", \"$\\\\sigma$\",\" $\\\\gamma$\", \"$\\\\beta$\", \"$\\\\tau$\"]\n",
    "\n",
    "priors = [[9.5,11.5], [-1,7], [0,5], [-2,2], [-3,2], [-2,2]]\n",
    "\n",
    "fixed = [False, True, True, False, False, False]"
   ]
  },
  {
   "cell_type": "code",
   "execution_count": 15,
   "metadata": {},
   "outputs": [],
   "source": [
    "alpha1 = jsm_mcmc.Chain(\"../../../data/alpha_permutations/mock_5/chain.h5\", fixed=fixed, Nstack=500, Nburn=500, Nthin=25)\n",
    "\n",
    "alpha2 = jsm_mcmc.Chain(\"../Feature_Recovery/alpha_permutations/mock_5/chain.h5\", fixed=fixed, Nstack=500, Nburn=500, Nthin=25)"
   ]
  },
  {
   "cell_type": "code",
   "execution_count": 22,
   "metadata": {},
   "outputs": [
    {
     "data": {
      "text/plain": [
       "(21, 100, 6)"
      ]
     },
     "execution_count": 22,
     "metadata": {},
     "output_type": "execute_result"
    }
   ],
   "source": [
    "alpha1.samples.shape"
   ]
  },
  {
   "cell_type": "code",
   "execution_count": 26,
   "metadata": {},
   "outputs": [
    {
     "data": {
      "text/plain": [
       "(array([ 1.,  0.,  1.,  0.,  2., 13., 41., 28.,  6.,  5.,  1.,  1.,  0.,\n",
       "         0.,  0.,  0.,  0.,  0.,  0.,  1.]),\n",
       " array([-0.59060108, -0.21191862,  0.16676384,  0.5454463 ,  0.92412876,\n",
       "         1.30281122,  1.68149368,  2.06017614,  2.4388586 ,  2.81754106,\n",
       "         3.19622352,  3.57490598,  3.95358844,  4.3322709 ,  4.71095336,\n",
       "         5.08963582,  5.46831828,  5.84700074,  6.2256832 ,  6.60436567,\n",
       "         6.98304813]),\n",
       " <BarContainer object of 20 artists>)"
      ]
     },
     "execution_count": 26,
     "metadata": {},
     "output_type": "execute_result"
    },
    {
     "data": {
      "image/png": "[encoded data removed]",
      "text/plain": [
       "<Figure size 640x480 with 1 Axes>"
      ]
     },
     "metadata": {},
     "output_type": "display_data"
    }
   ],
   "source": [
    "plt.hist(alpha1.samples[20, :, 1], bins=20)"
   ]
  },
  {
   "cell_type": "code",
   "execution_count": 28,
   "metadata": {},
   "outputs": [
    {
     "data": {
      "text/plain": [
       "array([1.75327704, 2.31723935, 1.82789479, 1.50202408, 3.79196256,\n",
       "       1.47684884, 1.91387292, 2.34709747, 2.5906504 , 2.18469437,\n",
       "       2.32795078, 1.56944316, 1.54392157, 1.94708357, 0.03288403])"
      ]
     },
     "execution_count": 28,
     "metadata": {},
     "output_type": "execute_result"
    }
   ],
   "source": [
    "alpha2.samples[29, :, 1]"
   ]
  },
  {
   "cell_type": "code",
   "execution_count": 29,
   "metadata": {},
   "outputs": [
    {
     "data": {
      "text/plain": [
       "array([1.59670696e-01, 1.13657260e-04, 5.70549437e-01, 1.91661950e-01,\n",
       "       3.56598346e-01, 2.29206224e-01, 3.71582791e-01, 1.85282760e-02,\n",
       "       1.61575597e-01, 2.20255902e-02, 8.22669304e-02, 8.07278840e-02,\n",
       "       7.03638978e-01, 1.71857818e-01, 9.63278880e-02])"
      ]
     },
     "execution_count": 29,
     "metadata": {},
     "output_type": "execute_result"
    }
   ],
   "source": [
    "alpha2.samples[29, :, 2]"
   ]
  },
  {
   "cell_type": "code",
   "execution_count": 27,
   "metadata": {},
   "outputs": [
    {
     "data": {
      "text/plain": [
       "(array([1., 0., 0., 0., 0., 0., 0., 2., 2., 2., 2., 1., 3., 1., 0., 0., 0.,\n",
       "        0., 0., 1.]),\n",
       " array([0.03288403, 0.22083796, 0.40879189, 0.59674581, 0.78469974,\n",
       "        0.97265367, 1.16060759, 1.34856152, 1.53651544, 1.72446937,\n",
       "        1.9124233 , 2.10037722, 2.28833115, 2.47628507, 2.664239  ,\n",
       "        2.85219293, 3.04014685, 3.22810078, 3.41605471, 3.60400863,\n",
       "        3.79196256]),\n",
       " <BarContainer object of 20 artists>)"
      ]
     },
     "execution_count": 27,
     "metadata": {},
     "output_type": "execute_result"
    },
    {
     "data": {
      "image/png": "[encoded data removed]",
      "text/plain": [
       "<Figure size 640x480 with 1 Axes>"
      ]
     },
     "metadata": {},
     "output_type": "display_data"
    }
   ],
   "source": [
    "plt.hist(alpha2.samples[29, :, 1], bins=20)"
   ]
  },
  {
   "cell_type": "code",
   "execution_count": 23,
   "metadata": {},
   "outputs": [
    {
     "name": "stdout",
     "output_type": "stream",
     "text": [
      "[10.5         2.53253182  0.07081302  0.          0.          0.        ]\n",
      "[1.05000000e+01 2.00146128e+00 3.59394893e-03 0.00000000e+00\n",
      " 0.00000000e+00 0.00000000e+00]\n",
      "[10.5         2.26041922  0.3778945   0.          0.          0.        ]\n",
      "[10.5         2.27514529  0.25978792  0.          0.          0.        ]\n",
      "[10.5         1.77206712  0.03731811  0.          0.          0.        ]\n",
      "[10.5         2.34941224  0.01840749  0.          0.          0.        ]\n",
      "[10.5         1.72772557  0.12435392  0.          0.          0.        ]\n",
      "[10.5        -0.59060108  0.36439482  0.          0.          0.        ]\n",
      "[10.5         2.15277493  0.444115    0.          0.          0.        ]\n",
      "[10.5         2.14422286  0.08611523  0.          0.          0.        ]\n",
      "[10.5         1.66275746  0.22427938  0.          0.          0.        ]\n",
      "[10.5         1.78704369  0.25377911  0.          0.          0.        ]\n",
      "[10.5         1.99596543  0.24103811  0.          0.          0.        ]\n",
      "[10.5         2.26402904  0.57308915  0.          0.          0.        ]\n",
      "[10.5         2.00756489  0.07186447  0.          0.          0.        ]\n",
      "[10.5         1.95097671  0.1000832   0.          0.          0.        ]\n",
      "[10.5         1.99889137  0.0449286   0.          0.          0.        ]\n",
      "[10.5         1.69916811  0.04661663  0.          0.          0.        ]\n",
      "[10.5         1.9129354   0.60138158  0.          0.          0.        ]\n",
      "[10.5         2.39881301  0.43749565  0.          0.          0.        ]\n",
      "[10.5         1.38064035  0.47195689  0.          0.          0.        ]\n",
      "[10.5         2.09219658  0.05071573  0.          0.          0.        ]\n",
      "[10.5         3.17819685  0.50884924  0.          0.          0.        ]\n",
      "[10.5         1.36590316  1.11541502  0.          0.          0.        ]\n",
      "[10.5         2.3767553   0.05804718  0.          0.          0.        ]\n",
      "[10.5         2.17275374  0.09784462  0.          0.          0.        ]\n",
      "[10.5         1.30895318  0.48160742  0.          0.          0.        ]\n",
      "[10.5         1.66435328  0.17102842  0.          0.          0.        ]\n",
      "[10.5         1.82469376  0.0390813   0.          0.          0.        ]\n",
      "[10.5         3.16947108  0.45220575  0.          0.          0.        ]\n",
      "[10.5         6.98304813  3.42989504  0.          0.          0.        ]\n",
      "[1.05000000e+01 2.22516703e+00 7.46717470e-03 0.00000000e+00\n",
      " 0.00000000e+00 0.00000000e+00]\n",
      "[10.5         2.70038225  0.04052096  0.          0.          0.        ]\n",
      "[10.5         2.88697716  0.01084586  0.          0.          0.        ]\n",
      "[1.05000000e+01 1.04442546e+00 8.22367166e-03 0.00000000e+00\n",
      " 0.00000000e+00 0.00000000e+00]\n",
      "[10.5         1.87746575  0.41615154  0.          0.          0.        ]\n",
      "[10.5         2.68459394  0.05392001  0.          0.          0.        ]\n",
      "[10.5         2.06866081  0.3891036   0.          0.          0.        ]\n",
      "[10.5         1.55030243  0.4871295   0.          0.          0.        ]\n",
      "[10.5         2.15115061  0.43795417  0.          0.          0.        ]\n",
      "[10.5         2.14041583  0.08888094  0.          0.          0.        ]\n",
      "[10.5         1.99581299  0.09320067  0.          0.          0.        ]\n",
      "[10.5         2.08507154  0.21654565  0.          0.          0.        ]\n",
      "[10.5         2.31027656  0.44257776  0.          0.          0.        ]\n",
      "[10.5         1.86623501  0.15513093  0.          0.          0.        ]\n",
      "[10.5         1.74200906  0.09395428  0.          0.          0.        ]\n",
      "[10.5         3.76813456  0.35783483  0.          0.          0.        ]\n",
      "[10.5         2.06115322  0.29264849  0.          0.          0.        ]\n",
      "[10.5         2.35839738  0.03627756  0.          0.          0.        ]\n",
      "[10.5         1.91770382  0.19864983  0.          0.          0.        ]\n",
      "[10.5         2.07888387  0.12439877  0.          0.          0.        ]\n",
      "[10.5         1.6753227   0.76410656  0.          0.          0.        ]\n",
      "[10.5         1.87459623  0.11644583  0.          0.          0.        ]\n",
      "[10.5         2.31285148  0.02967569  0.          0.          0.        ]\n",
      "[10.5         1.84902761  0.30274311  0.          0.          0.        ]\n",
      "[10.5         1.47729519  0.06016878  0.          0.          0.        ]\n",
      "[10.5         1.80804849  0.15306785  0.          0.          0.        ]\n",
      "[10.5         2.20459925  0.20584984  0.          0.          0.        ]\n",
      "[10.5         2.70590078  0.21506326  0.          0.          0.        ]\n",
      "[10.5         2.00892946  0.30590775  0.          0.          0.        ]\n",
      "[10.5         2.00216146  0.24810621  0.          0.          0.        ]\n",
      "[10.5         1.85698928  0.01292698  0.          0.          0.        ]\n",
      "[10.5         1.94045933  0.304623    0.          0.          0.        ]\n",
      "[10.5         1.79542051  0.12222804  0.          0.          0.        ]\n",
      "[10.5         1.98247293  0.1621444   0.          0.          0.        ]\n",
      "[10.5         1.60459505  0.7912619   0.          0.          0.        ]\n",
      "[10.5         1.983947    0.17034393  0.          0.          0.        ]\n",
      "[10.5         2.33709946  0.54368895  0.          0.          0.        ]\n",
      "[10.5         1.89531555  0.29640018  0.          0.          0.        ]\n",
      "[10.5         1.63164529  0.16383735  0.          0.          0.        ]\n",
      "[10.5         2.24656774  0.09550133  0.          0.          0.        ]\n",
      "[10.5         1.96225677  0.79447776  0.          0.          0.        ]\n",
      "[10.5         2.04207802  0.11962115  0.          0.          0.        ]\n",
      "[10.5         1.96587781  0.22069044  0.          0.          0.        ]\n",
      "[10.5         1.93192232  0.20405091  0.          0.          0.        ]\n",
      "[10.5         2.08180894  0.13914748  0.          0.          0.        ]\n",
      "[10.5         2.0154174   0.16385432  0.          0.          0.        ]\n",
      "[10.5         2.01881689  0.02991502  0.          0.          0.        ]\n",
      "[10.5         3.07406043  0.22774389  0.          0.          0.        ]\n",
      "[10.5         1.80004954  0.14877251  0.          0.          0.        ]\n",
      "[10.5         1.86703345  0.05472201  0.          0.          0.        ]\n",
      "[10.5         2.31243691  0.18345407  0.          0.          0.        ]\n",
      "[10.5         1.68648186  0.34502044  0.          0.          0.        ]\n",
      "[1.05000000e+01 1.99371501e+00 5.01570997e-03 0.00000000e+00\n",
      " 0.00000000e+00 0.00000000e+00]\n",
      "[10.5         2.44678405  0.03762056  0.          0.          0.        ]\n",
      "[10.5         1.42729258  0.02327202  0.          0.          0.        ]\n",
      "[10.5         1.64733423  0.36415876  0.          0.          0.        ]\n",
      "[10.5         1.49967052  0.14110473  0.          0.          0.        ]\n"
     ]
    },
    {
     "ename": "KeyboardInterrupt",
     "evalue": "",
     "output_type": "error",
     "traceback": [
      "\u001b[0;31m---------------------------------------------------------------------------\u001b[0m",
      "\u001b[0;31mKeyboardInterrupt\u001b[0m                         Traceback (most recent call last)",
      "Cell \u001b[0;32mIn[23], line 3\u001b[0m\n\u001b[1;32m      1\u001b[0m \u001b[38;5;28;01mfor\u001b[39;00m theta_i \u001b[38;5;129;01min\u001b[39;00m alpha1\u001b[38;5;241m.\u001b[39msamples[\u001b[38;5;241m20\u001b[39m]:\n\u001b[1;32m      2\u001b[0m     \u001b[38;5;28mprint\u001b[39m(theta_i)\n\u001b[0;32m----> 3\u001b[0m     \u001b[43mmodels\u001b[49m\u001b[38;5;241;43m.\u001b[39;49m\u001b[43mget_stats\u001b[49m\u001b[43m(\u001b[49m\u001b[43mtheta_i\u001b[49m\u001b[43m,\u001b[49m\u001b[43m \u001b[49m\u001b[38;5;241;43m6.5\u001b[39;49m\u001b[43m,\u001b[49m\u001b[43m \u001b[49m\u001b[43mjsm_SHMR\u001b[49m\u001b[38;5;241;43m.\u001b[39;49m\u001b[43mgeneral\u001b[49m\u001b[43m)\u001b[49m\n",
      "File \u001b[0;32m~/Research/SatGen/mcmc/src/jsm_models.py:125\u001b[0m, in \u001b[0;36mLOAD_MODELS_UNIFORM.get_stats\u001b[0;34m(self, theta, min_mass, SHMR)\u001b[0m\n\u001b[1;32m    122\u001b[0m \u001b[38;5;28;01melse\u001b[39;00m:\n\u001b[1;32m    123\u001b[0m     \u001b[38;5;28mself\u001b[39m\u001b[38;5;241m.\u001b[39mlgMs \u001b[38;5;241m=\u001b[39m SHMR(theta, \u001b[38;5;28mself\u001b[39m\u001b[38;5;241m.\u001b[39mlgMh_models, \u001b[38;5;28mself\u001b[39m\u001b[38;5;241m.\u001b[39mzacc_models, \u001b[38;5;28mself\u001b[39m\u001b[38;5;241m.\u001b[39mNsamples)\n\u001b[0;32m--> 125\u001b[0m \u001b[38;5;28mself\u001b[39m\u001b[38;5;241m.\u001b[39mstat \u001b[38;5;241m=\u001b[39m \u001b[43mjsm_stats\u001b[49m\u001b[38;5;241;43m.\u001b[39;49m\u001b[43mSatStats_M\u001b[49m\u001b[43m(\u001b[49m\u001b[38;5;28;43mself\u001b[39;49m\u001b[38;5;241;43m.\u001b[39;49m\u001b[43mlgMs\u001b[49m\u001b[43m,\u001b[49m\u001b[43m \u001b[49m\u001b[38;5;28;43mself\u001b[39;49m\u001b[38;5;241;43m.\u001b[39;49m\u001b[43mmin_mass\u001b[49m\u001b[43m)\u001b[49m\n",
      "File \u001b[0;32m~/Research/SatGen/mcmc/src/jsm_stats.py:158\u001b[0m, in \u001b[0;36mSatStats_M.__init__\u001b[0;34m(self, lgMs, min_mass)\u001b[0m\n\u001b[1;32m    155\u001b[0m \u001b[38;5;28mself\u001b[39m\u001b[38;5;241m.\u001b[39mtot_split \u001b[38;5;241m=\u001b[39m np\u001b[38;5;241m.\u001b[39msplit(\u001b[38;5;28mself\u001b[39m\u001b[38;5;241m.\u001b[39mtotmass[np\u001b[38;5;241m.\u001b[39margsort(\u001b[38;5;28mself\u001b[39m\u001b[38;5;241m.\u001b[39mNsat_perhost)], \u001b[38;5;28mself\u001b[39m\u001b[38;5;241m.\u001b[39mNsat_index)[\u001b[38;5;241m1\u001b[39m:\u001b[38;5;241m-\u001b[39m\u001b[38;5;241m1\u001b[39m]\n\u001b[1;32m    157\u001b[0m \u001b[38;5;28mself\u001b[39m\u001b[38;5;241m.\u001b[39mmass_bins \u001b[38;5;241m=\u001b[39m np\u001b[38;5;241m.\u001b[39mlinspace(\u001b[38;5;241m4.5\u001b[39m,\u001b[38;5;241m10.5\u001b[39m,\u001b[38;5;241m45\u001b[39m)\n\u001b[0;32m--> 158\u001b[0m \u001b[38;5;28mself\u001b[39m\u001b[38;5;241m.\u001b[39mCSMF_counts \u001b[38;5;241m=\u001b[39m \u001b[43mnp\u001b[49m\u001b[38;5;241;43m.\u001b[39;49m\u001b[43mapply_along_axis\u001b[49m\u001b[43m(\u001b[49m\u001b[43mcumulative\u001b[49m\u001b[43m,\u001b[49m\u001b[43m \u001b[49m\u001b[38;5;241;43m1\u001b[39;49m\u001b[43m,\u001b[49m\u001b[43m \u001b[49m\u001b[38;5;28;43mself\u001b[39;49m\u001b[38;5;241;43m.\u001b[39;49m\u001b[43mlgMs\u001b[49m\u001b[43m,\u001b[49m\u001b[43m \u001b[49m\u001b[43mmass_bins\u001b[49m\u001b[38;5;241;43m=\u001b[39;49m\u001b[38;5;28;43mself\u001b[39;49m\u001b[38;5;241;43m.\u001b[39;49m\u001b[43mmass_bins\u001b[49m\u001b[43m)\u001b[49m \n\u001b[1;32m    159\u001b[0m \u001b[38;5;28mself\u001b[39m\u001b[38;5;241m.\u001b[39mquant \u001b[38;5;241m=\u001b[39m np\u001b[38;5;241m.\u001b[39mpercentile(\u001b[38;5;28mself\u001b[39m\u001b[38;5;241m.\u001b[39mCSMF_counts, np\u001b[38;5;241m.\u001b[39marray([\u001b[38;5;241m5\u001b[39m, \u001b[38;5;241m50\u001b[39m, \u001b[38;5;241m95\u001b[39m]), axis\u001b[38;5;241m=\u001b[39m\u001b[38;5;241m0\u001b[39m, method\u001b[38;5;241m=\u001b[39m\u001b[38;5;124m\"\u001b[39m\u001b[38;5;124mclosest_observation\u001b[39m\u001b[38;5;124m\"\u001b[39m)\n\u001b[1;32m    160\u001b[0m \u001b[38;5;28mself\u001b[39m\u001b[38;5;241m.\u001b[39mD23_quant \u001b[38;5;241m=\u001b[39m np\u001b[38;5;241m.\u001b[39msum(\u001b[38;5;28mself\u001b[39m\u001b[38;5;241m.\u001b[39mCSMF_counts, axis\u001b[38;5;241m=\u001b[39m\u001b[38;5;241m0\u001b[39m)\n",
      "File \u001b[0;32m<__array_function__ internals>:180\u001b[0m, in \u001b[0;36mapply_along_axis\u001b[0;34m(*args, **kwargs)\u001b[0m\n",
      "File \u001b[0;32m/opt/homebrew/Caskroom/miniconda/base/envs/subhalos/lib/python3.10/site-packages/numpy/lib/shape_base.py:402\u001b[0m, in \u001b[0;36mapply_along_axis\u001b[0;34m(func1d, axis, arr, *args, **kwargs)\u001b[0m\n\u001b[1;32m    400\u001b[0m buff[ind0] \u001b[38;5;241m=\u001b[39m res\n\u001b[1;32m    401\u001b[0m \u001b[38;5;28;01mfor\u001b[39;00m ind \u001b[38;5;129;01min\u001b[39;00m inds:\n\u001b[0;32m--> 402\u001b[0m     buff[ind] \u001b[38;5;241m=\u001b[39m asanyarray(\u001b[43mfunc1d\u001b[49m\u001b[43m(\u001b[49m\u001b[43minarr_view\u001b[49m\u001b[43m[\u001b[49m\u001b[43mind\u001b[49m\u001b[43m]\u001b[49m\u001b[43m,\u001b[49m\u001b[43m \u001b[49m\u001b[38;5;241;43m*\u001b[39;49m\u001b[43margs\u001b[49m\u001b[43m,\u001b[49m\u001b[43m \u001b[49m\u001b[38;5;241;43m*\u001b[39;49m\u001b[38;5;241;43m*\u001b[39;49m\u001b[43mkwargs\u001b[49m\u001b[43m)\u001b[49m)\n\u001b[1;32m    404\u001b[0m \u001b[38;5;28;01mif\u001b[39;00m \u001b[38;5;129;01mnot\u001b[39;00m \u001b[38;5;28misinstance\u001b[39m(res, matrix):\n\u001b[1;32m    405\u001b[0m     \u001b[38;5;66;03m# wrap the array, to preserve subclasses\u001b[39;00m\n\u001b[1;32m    406\u001b[0m     buff \u001b[38;5;241m=\u001b[39m res\u001b[38;5;241m.\u001b[39m__array_wrap__(buff)\n",
      "File \u001b[0;32m~/Research/SatGen/mcmc/src/jsm_stats.py:20\u001b[0m, in \u001b[0;36mcumulative\u001b[0;34m(lgMs_1D, mass_bins)\u001b[0m\n\u001b[1;32m     19\u001b[0m \u001b[38;5;28;01mdef\u001b[39;00m \u001b[38;5;21mcumulative\u001b[39m(lgMs_1D:np\u001b[38;5;241m.\u001b[39mndarray, mass_bins):\n\u001b[0;32m---> 20\u001b[0m     N \u001b[38;5;241m=\u001b[39m \u001b[43mnp\u001b[49m\u001b[38;5;241;43m.\u001b[39;49m\u001b[43mhistogram\u001b[49m\u001b[43m(\u001b[49m\u001b[43mlgMs_1D\u001b[49m\u001b[43m,\u001b[49m\u001b[43m \u001b[49m\u001b[43mbins\u001b[49m\u001b[38;5;241;43m=\u001b[39;49m\u001b[43mmass_bins\u001b[49m\u001b[43m)\u001b[49m[\u001b[38;5;241m0\u001b[39m]\n\u001b[1;32m     21\u001b[0m     Nsub \u001b[38;5;241m=\u001b[39m np\u001b[38;5;241m.\u001b[39msum(N) \u001b[38;5;66;03m#the total number of satellites\u001b[39;00m\n\u001b[1;32m     22\u001b[0m     stat \u001b[38;5;241m=\u001b[39m Nsub\u001b[38;5;241m-\u001b[39mnp\u001b[38;5;241m.\u001b[39mcumsum(N) \u001b[38;5;66;03m# to flip the cumsum\u001b[39;00m\n",
      "File \u001b[0;32m<__array_function__ internals>:180\u001b[0m, in \u001b[0;36mhistogram\u001b[0;34m(*args, **kwargs)\u001b[0m\n",
      "File \u001b[0;32m/opt/homebrew/Caskroom/miniconda/base/envs/subhalos/lib/python3.10/site-packages/numpy/lib/histograms.py:878\u001b[0m, in \u001b[0;36mhistogram\u001b[0;34m(a, bins, range, normed, weights, density)\u001b[0m\n\u001b[1;32m    876\u001b[0m \u001b[38;5;28;01mif\u001b[39;00m weights \u001b[38;5;129;01mis\u001b[39;00m \u001b[38;5;28;01mNone\u001b[39;00m:\n\u001b[1;32m    877\u001b[0m     \u001b[38;5;28;01mfor\u001b[39;00m i \u001b[38;5;129;01min\u001b[39;00m _range(\u001b[38;5;241m0\u001b[39m, \u001b[38;5;28mlen\u001b[39m(a), BLOCK):\n\u001b[0;32m--> 878\u001b[0m         sa \u001b[38;5;241m=\u001b[39m \u001b[43mnp\u001b[49m\u001b[38;5;241;43m.\u001b[39;49m\u001b[43msort\u001b[49m\u001b[43m(\u001b[49m\u001b[43ma\u001b[49m\u001b[43m[\u001b[49m\u001b[43mi\u001b[49m\u001b[43m:\u001b[49m\u001b[43mi\u001b[49m\u001b[38;5;241;43m+\u001b[39;49m\u001b[43mBLOCK\u001b[49m\u001b[43m]\u001b[49m\u001b[43m)\u001b[49m\n\u001b[1;32m    879\u001b[0m         cum_n \u001b[38;5;241m+\u001b[39m\u001b[38;5;241m=\u001b[39m _search_sorted_inclusive(sa, bin_edges)\n\u001b[1;32m    880\u001b[0m \u001b[38;5;28;01melse\u001b[39;00m:\n",
      "File \u001b[0;32m<__array_function__ internals>:180\u001b[0m, in \u001b[0;36msort\u001b[0;34m(*args, **kwargs)\u001b[0m\n",
      "File \u001b[0;32m/opt/homebrew/Caskroom/miniconda/base/envs/subhalos/lib/python3.10/site-packages/numpy/core/fromnumeric.py:1004\u001b[0m, in \u001b[0;36msort\u001b[0;34m(a, axis, kind, order)\u001b[0m\n\u001b[1;32m   1002\u001b[0m \u001b[38;5;28;01melse\u001b[39;00m:\n\u001b[1;32m   1003\u001b[0m     a \u001b[38;5;241m=\u001b[39m asanyarray(a)\u001b[38;5;241m.\u001b[39mcopy(order\u001b[38;5;241m=\u001b[39m\u001b[38;5;124m\"\u001b[39m\u001b[38;5;124mK\u001b[39m\u001b[38;5;124m\"\u001b[39m)\n\u001b[0;32m-> 1004\u001b[0m \u001b[43ma\u001b[49m\u001b[38;5;241;43m.\u001b[39;49m\u001b[43msort\u001b[49m\u001b[43m(\u001b[49m\u001b[43maxis\u001b[49m\u001b[38;5;241;43m=\u001b[39;49m\u001b[43maxis\u001b[49m\u001b[43m,\u001b[49m\u001b[43m \u001b[49m\u001b[43mkind\u001b[49m\u001b[38;5;241;43m=\u001b[39;49m\u001b[43mkind\u001b[49m\u001b[43m,\u001b[49m\u001b[43m \u001b[49m\u001b[43morder\u001b[49m\u001b[38;5;241;43m=\u001b[39;49m\u001b[43morder\u001b[49m\u001b[43m)\u001b[49m\n\u001b[1;32m   1005\u001b[0m \u001b[38;5;28;01mreturn\u001b[39;00m a\n",
      "\u001b[0;31mKeyboardInterrupt\u001b[0m: "
     ]
    }
   ],
   "source": [
    "for theta_i in alpha1.samples[20]:\n",
    "    print(theta_i)\n",
    "    models.get_stats(theta_i, 6.5, jsm_SHMR.general)"
   ]
  },
  {
   "cell_type": "code",
   "execution_count": null,
   "metadata": {},
   "outputs": [],
   "source": []
  }
 ],
 "metadata": {
  "kernelspec": {
   "display_name": "subhalos",
   "language": "python",
   "name": "python3"
  },
  "language_info": {
   "codemirror_mode": {
    "name": "ipython",
    "version": 3
   },
   "file_extension": ".py",
   "mimetype": "text/x-python",
   "name": "python",
   "nbconvert_exporter": "python",
   "pygments_lexer": "ipython3",
   "version": "3.10.9"
  }
 },
 "nbformat": 4,
 "nbformat_minor": 2
}
