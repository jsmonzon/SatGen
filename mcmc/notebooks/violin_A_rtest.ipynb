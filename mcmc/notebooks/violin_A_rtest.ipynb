{
 "cells": [
  {
   "cell_type": "code",
   "execution_count": 1,
   "metadata": {},
   "outputs": [],
   "source": [
    "%load_ext autoreload\n",
    "%autoreload 2"
   ]
  },
  {
   "cell_type": "code",
   "execution_count": 2,
   "metadata": {},
   "outputs": [],
   "source": [
    "import numpy as np\n",
    "import matplotlib.pyplot as plt\n",
    "import matplotlib.image as mpimg\n",
    "import warnings; warnings.simplefilter('ignore')\n",
    "import sys\n",
    "sys.path.insert(0, '/Users/jsmonzon/Research/SatGen/mcmc/src/')\n",
    "import jsm_halopull\n",
    "import jsm_SHMR\n",
    "import jsm_mcmc\n",
    "import jsm_stats\n",
    "import jsm_models"
   ]
  },
  {
   "cell_type": "code",
   "execution_count": 3,
   "metadata": {},
   "outputs": [],
   "source": [
    "plt.style.use('bmh')\n",
    "plt.rcParams['axes.facecolor'] = 'white'\n",
    "plt.rcParams['axes.grid'] = False\n",
    "plt.rcParams['xtick.labelsize'] = 10\n",
    "plt.rcParams['ytick.labelsize'] = 10\n",
    "plt.rcParams['axes.labelsize'] = 15\n",
    "plt.rc('legend',fontsize=15) # using a size in points\n",
    "import pygtc\n"
   ]
  },
  {
   "cell_type": "code",
   "execution_count": 4,
   "metadata": {},
   "outputs": [],
   "source": [
    "plabels = [\"$M_{*}$\", \"$\\\\alpha$\", \"$\\\\sigma$\",\" $\\\\gamma$\", \"$\\\\beta$\", \"$\\\\tau$\"]\n",
    "\n",
    "priors = [[9.5,11.5], [-1,7], [0,5], [-2,2], [-3,2], [-2,2]]"
   ]
  },
  {
   "cell_type": "code",
   "execution_count": 5,
   "metadata": {},
   "outputs": [],
   "source": [
    "dir = \"../../mcmc/correlation_test/alpha/mock_1/chain.h5\""
   ]
  },
  {
   "cell_type": "code",
   "execution_count": 10,
   "metadata": {},
   "outputs": [],
   "source": [
    "import emcee\n",
    "reader = emcee.backends.HDFBackend(dir) \n",
    "samples = reader.get_chain()\n",
    "what = reader.get_blobs()"
   ]
  },
  {
   "cell_type": "code",
   "execution_count": 12,
   "metadata": {},
   "outputs": [
    {
     "data": {
      "text/plain": [
       "(80, 30)"
      ]
     },
     "execution_count": 12,
     "metadata": {},
     "output_type": "execute_result"
    }
   ],
   "source": [
    "what[\"lnL_M\"].shape"
   ]
  },
  {
   "cell_type": "markdown",
   "metadata": {},
   "source": [
    "### first the alpha permutations"
   ]
  },
  {
   "cell_type": "code",
   "execution_count": null,
   "metadata": {},
   "outputs": [],
   "source": [
    "alpha1r = jsm_mcmc.single_chain(\"../../../data/correlation_Nreduc/alpha/mock_1/chain.h5\", Nstack=500, Nburn=500, Nthin=25)\n",
    "\n",
    "alpha2r = jsm_mcmc.single_chain(\"../../../data/correlation_Nreduc/alpha/mock_2/chain.h5\", Nstack=500, Nburn=500, Nthin=25)\n",
    "\n",
    "alpha3r = jsm_mcmc.single_chain(\"../../../data/correlation_Nreduc/alpha/mock_3/chain.h5\", Nstack=500, Nburn=500, Nthin=25)\n",
    "\n",
    "alpha4r = jsm_mcmc.single_chain(\"../../../data/correlation_Nreduc/alpha/mock_4/chain.h5\", Nstack=500, Nburn=500, Nthin=25)\n",
    "\n",
    "alpha5r = jsm_mcmc.single_chain(\"../../../data/correlation_Nreduc/alpha/mock_5/chain.h5\", Nstack=500, Nburn=500, Nthin=25)"
   ]
  },
  {
   "cell_type": "code",
   "execution_count": null,
   "metadata": {},
   "outputs": [],
   "source": [
    "alpha1 = jsm_mcmc.single_chain(\"../../../data/paper/mock_permutations_a2/model_A/alpha/mock_1/chain.h5\", Nstack=500, Nburn=500, Nthin=25)\n",
    "\n",
    "alpha2 = jsm_mcmc.single_chain(\"../../../data/paper/mock_permutations_a2/model_A/alpha/mock_2/chain.h5\", Nstack=500, Nburn=500, Nthin=25)\n",
    "\n",
    "alpha3 = jsm_mcmc.single_chain(\"../../../data/paper/mock_permutations_a2/model_A/alpha/mock_3/chain.h5\", Nstack=500, Nburn=500, Nthin=25)\n",
    "\n",
    "alpha4 = jsm_mcmc.single_chain(\"../../../data/paper/mock_permutations_a2/model_A/alpha/mock_4/chain.h5\", Nstack=500, Nburn=500, Nthin=25)\n",
    "\n",
    "alpha5 = jsm_mcmc.single_chain(\"../../../data/paper/mock_permutations_a2/model_A/alpha/mock_5/chain.h5\", Nstack=500, Nburn=500, Nthin=25)"
   ]
  },
  {
   "cell_type": "code",
   "execution_count": null,
   "metadata": {},
   "outputs": [],
   "source": [
    "save_file = \"../../../paper_1/figures/alpha_perm.pdf\"\n",
    "\n",
    "model_color = \"orange\""
   ]
  },
  {
   "cell_type": "code",
   "execution_count": null,
   "metadata": {},
   "outputs": [],
   "source": [
    "alpha_permutations = [1.5, 1.75, 2.0, 2.25, 2.5, 1.5, 1.75, 2.0, 2.25, 2.5]\n",
    "\n",
    "data = [alpha2.thin[:,1], alpha3.thin[:,1],  alpha1.thin[:,1], alpha4.thin[:,1], alpha5.thin[:,1],\n",
    "        alpha2r.thin[:,1], alpha3r.thin[:,1],  alpha1r.thin[:,1], alpha4r.thin[:,1], alpha5r.thin[:,1] ]\n",
    "\n",
    "# Create a violin plot\n",
    "plt.figure(figsize=(8, 8))\n",
    "plt.title(\"$\\\\alpha$ permutations [$M_{*}$ = 10.5, $\\\\sigma$=0.2]\")\n",
    "violins = plt.violinplot(data, showmeans=False, showmedians=False, positions=alpha_permutations, widths=0.2, showextrema=False)\n",
    "\n",
    "for i, violin in enumerate(violins['bodies']):\n",
    "    if i > 4:\n",
    "        violin.set_facecolor(\"green\")\n",
    "        violin.set_edgecolor(\"green\")\n",
    "    else:\n",
    "        violin.set_facecolor(\"red\")\n",
    "        violin.set_edgecolor(\"red\")\n",
    "\n",
    "\n",
    "plt.xticks(alpha_permutations, ['1.5', '1.75', '2.0', '2.25', '2.5', '1.5', '1.75', '2.0', '2.25', '2.5'])\n",
    "plt.ylabel('inferred $\\\\alpha$', fontsize=15)\n",
    "plt.xlabel(\"assumed $\\\\alpha$\", fontsize=15)\n",
    "\n",
    "xpoints = ypoints = plt.xlim()\n",
    "plt.plot(xpoints, ypoints, linestyle='--', color='black', scalex=False, scaley=False, zorder=0, alpha=0.5)\n",
    "\n",
    "#plt.savefig(save_file, bbox_inches='tight')\n",
    "\n",
    "plt.show()\n"
   ]
  },
  {
   "cell_type": "code",
   "execution_count": null,
   "metadata": {},
   "outputs": [],
   "source": [
    "sigma1 = jsm_mcmc.single_chain(\"../../../data/paper/mock_permutations_a2/model_A/sigma/mock_1/chain.h5\", Nstack=500, Nburn=500, Nthin=25)\n",
    "\n",
    "sigma2 = jsm_mcmc.single_chain(\"../../../data/paper/mock_permutations_a2/model_A/sigma/mock_2/chain.h5\", Nstack=500, Nburn=500, Nthin=25)\n",
    "\n",
    "sigma3 = jsm_mcmc.single_chain(\"../../../data/paper/mock_permutations_a2/model_A/sigma/mock_3/chain.h5\", Nstack=500, Nburn=500, Nthin=25)\n",
    "\n",
    "sigma4 = jsm_mcmc.single_chain(\"../../../data/paper/mock_permutations_a2/model_A/sigma/mock_4/chain.h5\", Nstack=500, Nburn=500, Nthin=25)"
   ]
  },
  {
   "cell_type": "code",
   "execution_count": null,
   "metadata": {},
   "outputs": [],
   "source": [
    "sigma1r = jsm_mcmc.single_chain(\"../../../data/correlation_Nreduc/sigma/mock_1/chain.h5\", Nstack=500, Nburn=500, Nthin=25)\n",
    "\n",
    "sigma2r = jsm_mcmc.single_chain(\"../../../data/correlation_Nreduc/sigma/mock_2/chain.h5\", Nstack=500, Nburn=500, Nthin=25)\n",
    "\n",
    "sigma3r = jsm_mcmc.single_chain(\"../../../data/correlation_Nreduc/sigma/mock_3/chain.h5\", Nstack=500, Nburn=500, Nthin=25)\n",
    "\n",
    "sigma4r = jsm_mcmc.single_chain(\"../../../data/correlation_Nreduc/sigma/mock_4/chain.h5\", Nstack=500, Nburn=500, Nthin=25)"
   ]
  },
  {
   "cell_type": "code",
   "execution_count": null,
   "metadata": {},
   "outputs": [],
   "source": [
    "sigma_permutations = [0.1, 0.2, 0.3, 0.4, 0.5, 0.1, 0.2, 0.3, 0.4, 0.5]\n",
    "\n",
    "data = [sigma1.thin[:,2], alpha1.thin[:,2], sigma2.thin[:,2], sigma3.thin[:,2], sigma4.thin[:,2],\n",
    "        sigma1r.thin[:,2], alpha1r.thin[:,2], sigma2r.thin[:,2], sigma3r.thin[:,2], sigma4r.thin[:,2]]\n",
    "\n",
    "# Create a violin plot with custom x values and colors\n",
    "plt.figure(figsize=(8, 8))\n",
    "plt.title(\"$\\\\sigma$ permutations [$M_{*}$ = 10.5, $\\\\alpha$=2.0]\")\n",
    "violins = plt.violinplot(data, showmeans=False, showmedians=False, positions=sigma_permutations, widths=0.05, showextrema=False)\n",
    "\n",
    "for i, violin in enumerate(violins['bodies']):\n",
    "    if i > 4:\n",
    "        violin.set_facecolor(\"green\")\n",
    "        violin.set_edgecolor(\"green\")\n",
    "    else:\n",
    "        violin.set_facecolor(\"red\")\n",
    "        violin.set_edgecolor(\"red\")\n",
    "\n",
    "plt.xticks(sigma_permutations, ['0.1', '0.2', '0.3', '0.4', '0.5', '0.1', '0.2', '0.3', '0.4', '0.5'])\n",
    "plt.ylabel('inferred $\\\\sigma$', fontsize=15)\n",
    "plt.xlabel(\"assumed $\\\\sigma$\", fontsize=15)\n",
    "\n",
    "\n",
    "xpoints = ypoints = plt.xlim()\n",
    "plt.plot(xpoints, ypoints, linestyle='--', color='k', scalex=False, scaley=False, zorder=0, alpha=0.5)\n",
    "\n",
    "#plt.savefig(save_file, bbox_inches='tight')\n",
    "\n",
    "plt.show()\n"
   ]
  },
  {
   "cell_type": "markdown",
   "metadata": {},
   "source": [
    "### trying the normalization!"
   ]
  },
  {
   "cell_type": "code",
   "execution_count": null,
   "metadata": {},
   "outputs": [],
   "source": [
    "alpha1 = jsm_mcmc.single_chain(\"../../../data/paper/mock_permutations_a2/model_A/alpha/mock_1/chain.h5\", Nstack=10, Nburn=300, Nthin=25, Ncut=2000)\n",
    "\n",
    "alpha1r = jsm_mcmc.single_chain(\"../../../data/correlation/R/alpha/mock_1/chain.h5\", Nstack=10, Nburn=300, Nthin=25, Ncut=2000)\n",
    "\n",
    "alpha1r_n = jsm_mcmc.single_chain(\"../../../data/correlation/mock_1/chain.h5\", Nstack=10, Nburn=300, Nthin=25, Ncut=None)"
   ]
  },
  {
   "cell_type": "code",
   "execution_count": null,
   "metadata": {},
   "outputs": [],
   "source": [
    "data = [alpha1.thin[:,1:3], alpha1r_n.thin[:,1:3]]"
   ]
  },
  {
   "cell_type": "code",
   "execution_count": null,
   "metadata": {},
   "outputs": [],
   "source": [
    "GTC = pygtc.plotGTC(chains=data,\n",
    "                paramNames = plabels[1:3],\n",
    "                nContourLevels=3,\n",
    "                chainLabels=[\"P (Nsat) + KS (max M)\", \"KS (Nsat) + KS (max M)\"],\n",
    "                figureSize=int(8*2.2/2),\n",
    "                smoothingKernel=1,\n",
    "                filledPlots=True,\n",
    "                truths = [2.0, 0.2],\n",
    "                customTickFont={'family':'Arial', 'size':12},\n",
    "                customLegendFont={'family':'Arial', 'size':15},\n",
    "                customLabelFont={'family':'Arial', 'size':12})"
   ]
  },
  {
   "cell_type": "code",
   "execution_count": null,
   "metadata": {},
   "outputs": [],
   "source": []
  }
 ],
 "metadata": {
  "kernelspec": {
   "display_name": "subhalos",
   "language": "python",
   "name": "python3"
  },
  "language_info": {
   "codemirror_mode": {
    "name": "ipython",
    "version": 3
   },
   "file_extension": ".py",
   "mimetype": "text/x-python",
   "name": "python",
   "nbconvert_exporter": "python",
   "pygments_lexer": "ipython3",
   "version": "3.10.9"
  },
  "orig_nbformat": 4
 },
 "nbformat": 4,
 "nbformat_minor": 2
}
