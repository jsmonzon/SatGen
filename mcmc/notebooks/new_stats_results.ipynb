{
 "cells": [
  {
   "cell_type": "code",
   "execution_count": null,
   "metadata": {},
   "outputs": [],
   "source": [
    "%load_ext autoreload\n",
    "%autoreload 2"
   ]
  },
  {
   "cell_type": "code",
   "execution_count": null,
   "metadata": {},
   "outputs": [],
   "source": [
    "import numpy as np\n",
    "import matplotlib.pyplot as plt\n",
    "import matplotlib.image as mpimg\n",
    "import warnings; warnings.simplefilter('ignore')\n",
    "import sys\n",
    "sys.path.insert(0, '/Users/jsmonzon/Research/SatGen/mcmc/src/')\n",
    "import jsm_halopull\n",
    "import jsm_SHMR\n",
    "import jsm_mcmc\n",
    "import jsm_stats\n",
    "import jsm_models"
   ]
  },
  {
   "cell_type": "code",
   "execution_count": null,
   "metadata": {},
   "outputs": [],
   "source": [
    "plt.style.use('bmh')\n",
    "plt.rcParams['axes.facecolor'] = 'white'\n",
    "plt.rcParams['axes.grid'] = False\n",
    "plt.rcParams['xtick.labelsize'] = 10\n",
    "plt.rcParams['ytick.labelsize'] = 10\n",
    "plt.rcParams['axes.labelsize'] = 15\n",
    "plt.rc('legend',fontsize=15) # using a size in points\n",
    "import pygtc\n"
   ]
  },
  {
   "cell_type": "code",
   "execution_count": null,
   "metadata": {},
   "outputs": [],
   "source": [
    "plabels = [\"$M_{*}$\", \"$\\\\alpha$\", \"$\\\\sigma$\",\" $\\\\gamma$\", \"$\\\\beta$\", \"$\\\\tau$\"]\n",
    "\n",
    "priors = [[9.5,11.5], [-1,7], [0,5], [-2,2], [-3,2], [-2,2]]"
   ]
  },
  {
   "cell_type": "markdown",
   "metadata": {},
   "source": [
    "### first the alpha permutations"
   ]
  },
  {
   "cell_type": "code",
   "execution_count": null,
   "metadata": {},
   "outputs": [],
   "source": [
    "alpha1 = jsm_mcmc.single_chain(\"../../../data/paper/mock_permutations_a2/model_A/alpha/mock_1/chain.h5\", Nstack=500, Nburn=500, Nthin=25)\n",
    "\n",
    "alpha2 = jsm_mcmc.single_chain(\"../../../data/paper/mock_permutations_a2/model_A/alpha/mock_2/chain.h5\", Nstack=500, Nburn=500, Nthin=25)\n",
    "\n",
    "alpha3 = jsm_mcmc.single_chain(\"../../../data/paper/mock_permutations_a2/model_A/alpha/mock_3/chain.h5\", Nstack=500, Nburn=500, Nthin=25)\n",
    "\n",
    "alpha4 = jsm_mcmc.single_chain(\"../../../data/paper/mock_permutations_a2/model_A/alpha/mock_4/chain.h5\", Nstack=500, Nburn=500, Nthin=25)\n",
    "\n",
    "alpha5 = jsm_mcmc.single_chain(\"../../../data/paper/mock_permutations_a2/model_A/alpha/mock_5/chain.h5\", Nstack=500, Nburn=500, Nthin=25)"
   ]
  },
  {
   "cell_type": "code",
   "execution_count": null,
   "metadata": {},
   "outputs": [],
   "source": [
    "save_file = \"../../../paper_1/figures/alpha_perm.pdf\"\n",
    "\n",
    "model_color = \"darkcyan\""
   ]
  },
  {
   "cell_type": "code",
   "execution_count": null,
   "metadata": {},
   "outputs": [],
   "source": [
    "alpha_permutations = [1.5, 1.75, 2.0, 2.25, 2.5]\n",
    "\n",
    "data = [alpha2.thin[:,1], alpha3.thin[:,1],  alpha1.thin[:,1], alpha4.thin[:,1], alpha5.thin[:,1]]\n",
    "\n",
    "# Create a violin plot\n",
    "plt.figure(figsize=(8, 8))\n",
    "plt.title(\"$\\\\alpha$ permutations [$M_{*}$ = 10.5, $\\\\sigma$=0.2]\", color=model_color)\n",
    "violins = plt.violinplot(data, showmeans=False, showmedians=True, positions=alpha_permutations, widths=0.2, showextrema=False)\n",
    "\n",
    "for i, violin in enumerate(violins['bodies']):\n",
    "    if i == 2:\n",
    "        violin.set_facecolor(\"grey\")\n",
    "    else:\n",
    "        violin.set_facecolor(model_color)\n",
    "\n",
    "violins['cmedians'].set_color(model_color)\n",
    "\n",
    "plt.xticks(alpha_permutations, ['1.5', '1.75', '2.0', '2.25', '2.5'])\n",
    "plt.ylabel('inferred $\\\\alpha$', fontsize=15)\n",
    "plt.xlabel(\"assumed $\\\\alpha$\", fontsize=15)\n",
    "\n",
    "xpoints = ypoints = plt.xlim()\n",
    "plt.plot(xpoints, ypoints, linestyle='--', color='black', scalex=False, scaley=False, zorder=0, alpha=0.5)\n",
    "\n",
    "#plt.savefig(save_file, bbox_inches='tight')\n",
    "\n",
    "plt.show()\n"
   ]
  },
  {
   "cell_type": "markdown",
   "metadata": {},
   "source": [
    "### now sigma"
   ]
  },
  {
   "cell_type": "code",
   "execution_count": null,
   "metadata": {},
   "outputs": [],
   "source": [
    "sigma1 = jsm_mcmc.single_chain(\"../../../data/paper/mock_permutations_a2/model_A/sigma/mock_1/chain.h5\", Nstack=500, Nburn=500, Nthin=25)\n",
    "\n",
    "sigma2 = jsm_mcmc.single_chain(\"../../../data/paper/mock_permutations_a2/model_A/sigma/mock_2/chain.h5\", Nstack=500, Nburn=500, Nthin=25)\n",
    "\n",
    "sigma3 = jsm_mcmc.single_chain(\"../../../data/paper/mock_permutations_a2/model_A/sigma/mock_3/chain.h5\", Nstack=500, Nburn=500, Nthin=25)\n",
    "\n",
    "sigma4 = jsm_mcmc.single_chain(\"../../../data/paper/mock_permutations_a2/model_A/sigma/mock_4/chain.h5\", Nstack=500, Nburn=500, Nthin=25)"
   ]
  },
  {
   "cell_type": "code",
   "execution_count": null,
   "metadata": {},
   "outputs": [],
   "source": [
    "save_file = \"../../../paper_1/figures/sigma_perm.pdf\"\n",
    "model_color = \"darkcyan\""
   ]
  },
  {
   "cell_type": "code",
   "execution_count": null,
   "metadata": {},
   "outputs": [],
   "source": [
    "sigma_permutations = [0.1, 0.2, 0.3, 0.4, 0.5]\n",
    "\n",
    "data = [sigma1.thin[:,2], alpha1.thin[:,2], sigma2.thin[:,2], sigma3.thin[:,2], sigma4.thin[:,2]]\n",
    "\n",
    "# Create a violin plot with custom x values and colors\n",
    "plt.figure(figsize=(8, 8))\n",
    "plt.title(\"$\\\\sigma$ permutations [$M_{*}$ = 10.5, $\\\\alpha$=2.0]\", color=model_color)\n",
    "violins = plt.violinplot(data, showmeans=False, showmedians=True, positions=sigma_permutations, widths=0.05, showextrema=False)\n",
    "\n",
    "for i, violin in enumerate(violins['bodies']):\n",
    "    if i == 1:\n",
    "        violin.set_facecolor(\"grey\")\n",
    "    else:\n",
    "        violin.set_facecolor(model_color)\n",
    "\n",
    "violins['cmedians'].set_color(model_color)\n",
    "\n",
    "plt.xticks(sigma_permutations, ['0.1', '0.2', '0.3', '0.4', '0.5'])\n",
    "plt.ylabel('inferred $\\\\sigma$', fontsize=15)\n",
    "plt.xlabel(\"assumed $\\\\sigma$\", fontsize=15)\n",
    "\n",
    "\n",
    "xpoints = ypoints = plt.xlim()\n",
    "plt.plot(xpoints, ypoints, linestyle='--', color='k', scalex=False, scaley=False, zorder=0, alpha=0.5)\n",
    "\n",
    "#plt.savefig(save_file, bbox_inches='tight')\n",
    "\n",
    "plt.show()\n"
   ]
  },
  {
   "cell_type": "code",
   "execution_count": null,
   "metadata": {},
   "outputs": [],
   "source": [
    "data = [alpha2.thin[:,1:3], alpha3.thin[:,1:3],  alpha1.thin[:,1:3], alpha4.thin[:,1:3], alpha5.thin[:,1:3]]"
   ]
  },
  {
   "cell_type": "code",
   "execution_count": null,
   "metadata": {},
   "outputs": [],
   "source": [
    "Ndim = 3\n",
    "GTC = pygtc.plotGTC(chains=data,\n",
    "                paramNames = plabels[1:3],\n",
    "                nContourLevels=3,\n",
    "                figureSize=int(8*Ndim/2),\n",
    "                smoothingKernel=1,\n",
    "                filledPlots=True,\n",
    "                customTickFont={'family':'Arial', 'size':12},\n",
    "                customLegendFont={'family':'Arial', 'size':15},\n",
    "                customLabelFont={'family':'Arial', 'size':12})"
   ]
  },
  {
   "cell_type": "code",
   "execution_count": null,
   "metadata": {},
   "outputs": [],
   "source": [
    "data_OG = jsm_mcmc.single_chain(\"../../../data/paper/mock_permutations_a2/model_A/alpha/mock_1/chain.h5\", Nstack=500, Nburn=200, Ncut=1500, Nthin=15)\n",
    "\n",
    "data_r = jsm_mcmc.single_chain(\"../../../data/correlation/mock_1/chain.h5\", Nstack=500, Nburn=200, Ncut=1500, Nthin=15)\n",
    "\n",
    "data_new = jsm_mcmc.single_chain(\"../../../data/new_stats/mock_1/chain.h5\", Nstack=500, Nburn=200, Ncut=None, Nthin=15)"
   ]
  },
  {
   "cell_type": "code",
   "execution_count": null,
   "metadata": {},
   "outputs": [],
   "source": [
    "data = [data_OG.thin[:,1:3], data_r.thin[:,1:3], data_new.thin[:,1:3]]\n",
    "Ndim = 3"
   ]
  },
  {
   "cell_type": "code",
   "execution_count": null,
   "metadata": {},
   "outputs": [],
   "source": [
    "def error_bars(sample):\n",
    "    post = np.percentile(sample, [16, 50, 84])\n",
    "    q = np.diff(post)\n",
    "    return f\"${post[0]:.3f}_{{{q[0]:.3f}}}^{{{q[1]:.3f}}}$\""
   ]
  },
  {
   "cell_type": "code",
   "execution_count": null,
   "metadata": {},
   "outputs": [],
   "source": [
    "alpha_OG = error_bars(data_OG.thin[:,1])\n",
    "sigma_OG = error_bars(data_OG.thin[:,2])\n",
    "\n",
    "alpha_r = error_bars(data_r.thin[:,1])\n",
    "sigma_r = error_bars(data_r.thin[:,2])\n",
    "\n",
    "alpha_new = error_bars(data_new.thin[:,1])\n",
    "sigma_new = error_bars(data_new.thin[:,2])\n",
    "\n",
    "labels = [\"original\" + \"\\n $\\\\alpha = $\" + alpha_OG + \"\\n $\\\\sigma = $\" + sigma_OG,\n",
    "          \"pearson R\" + \"\\n $\\\\alpha = $\" + alpha_r + \"\\n $\\\\sigma = $\" + sigma_r,\n",
    "          \"new\" + \"\\n $\\\\alpha = $\" + alpha_new + \"\\n $\\\\sigma = $\" + sigma_new,]"
   ]
  },
  {
   "cell_type": "code",
   "execution_count": null,
   "metadata": {},
   "outputs": [],
   "source": [
    "GTC = pygtc.plotGTC(chains=data,\n",
    "                paramNames = plabels[1:3],\n",
    "                nContourLevels=3,\n",
    "                chainLabels = labels\n",
    "                figureSize=int(8*Ndim/2),\n",
    "                smoothingKernel=1,\n",
    "                filledPlots=False,\n",
    "                truths=[2.0, 0.2],\n",
    "                customTickFont={'family':'Arial', 'size':12},\n",
    "                customLegendFont={'family':'Arial', 'size':15},\n",
    "                customLabelFont={'family':'Arial', 'size':12})"
   ]
  },
  {
   "cell_type": "code",
   "execution_count": null,
   "metadata": {},
   "outputs": [],
   "source": [
    "# host_halo_PDF = np.load(\"../../../SatGen/etc/halo_mass_PDF_full.npy\")\n",
    "# samples = np.random.choice(host_halo_PDF[:,0], size=10000, p=host_halo_PDF[:,1]/np.sum(host_halo_PDF[:,1])) \n",
    "# plt.hist(samples, bins=25, edgecolor=\"white\")"
   ]
  },
  {
   "cell_type": "code",
   "execution_count": null,
   "metadata": {},
   "outputs": [],
   "source": []
  }
 ],
 "metadata": {
  "kernelspec": {
   "display_name": "subhalos",
   "language": "python",
   "name": "python3"
  },
  "language_info": {
   "codemirror_mode": {
    "name": "ipython",
    "version": 3
   },
   "file_extension": ".py",
   "mimetype": "text/x-python",
   "name": "python",
   "nbconvert_exporter": "python",
   "pygments_lexer": "ipython3",
   "version": "3.10.9"
  },
  "orig_nbformat": 4
 },
 "nbformat": 4,
 "nbformat_minor": 2
}
